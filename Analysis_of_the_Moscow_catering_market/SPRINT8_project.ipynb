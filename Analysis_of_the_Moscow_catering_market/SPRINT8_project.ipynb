{
 "cells": [
  {
   "cell_type": "markdown",
   "id": "e06910dd",
   "metadata": {
    "id": "e06910dd"
   },
   "source": [
    "# Анализ рынка заведений общественного питания Москвы\n",
    "\n",
    "- Автор: Смирнов Александр Викторович\n",
    "- Дата: 10.03.2025"
   ]
  },
  {
   "cell_type": "markdown",
   "id": "4149134c",
   "metadata": {
    "id": "4149134c"
   },
   "source": [
    "### Цели и задачи проекта\n",
    "\n",
    "<font color='#777778'>Основная цель проекта заключается в проведении комплексного анализа рынка заведений общественного питания Москвы для инвесторов из фонда Shut Up and Take My Money. Это поможет определить наиболее перспективную нишу и стратегию развития нового бизнеса, учитывая такие факторы, как конкуренция, расположение, целевая аудитория и потенциальная прибыль.\n",
    "\n",
    "\n",
    "\n",
    "</font>"
   ]
  },
  {
   "cell_type": "markdown",
   "id": "728986ea",
   "metadata": {
    "id": "728986ea"
   },
   "source": [
    "### Описание данных\n",
    "\n",
    "<font color='#777778'>Файл `Датасет удален` содержит информацию о заведениях общественного питания:\n",
    "- `name` — название заведения;\n",
    "- `address` — адрес заведения;\n",
    "- `district` — административный район, в котором находится заведение, например Центральный административный округ;\n",
    "- `category` — категория заведения, например «кафе», «пиццерия» или «кофейня»;\n",
    "- `hours` — информация о днях и часах работы;\n",
    "- `rating` — рейтинг заведения по оценкам пользователей в Яндекс Картах (высшая оценка — 5.0);\n",
    "- `chain` — число, выраженное 0 или 1, которое показывает, является ли заведение сетевым (для маленьких сетей могут встречаться ошибки):\n",
    "  - `0` — заведение не является сетевым;\n",
    "  - `1` — заведение является сетевым.\n",
    "- `seats` — количество посадочных мест.\n",
    "\n",
    "Файл `Датасет удален` содержит информацию о среднем чеке в заведениях общественного питания:\n",
    "- `price` — категория цен в заведении, например «средние», «ниже среднего», «выше среднего» и так далее;\n",
    "- `avg_bill` — строка, которая хранит среднюю стоимость заказа в виде диапазона, например:\n",
    "  - «Средний счёт: 1000–1500 ₽»;\n",
    "  - «Цена чашки капучино: 130–220 ₽»;\n",
    "  - «Цена бокала пива: 400–600 ₽».\n",
    "    и так далее;\n",
    "- `middle_avg_bill` — число с оценкой среднего чека, которое указано только для значений из столбца `avg_bill`, начинающихся с подстроки «Средний счёт»:\n",
    "  - Если в строке указан ценовой диапазон из двух значений, в столбец войдёт медиана этих двух значений.\n",
    "  - Если в строке указано одно число — цена без диапазона, то в столбец войдёт это число.\n",
    "  - Если значения нет или оно не начинается с подстроки «Средний счёт», то в столбец ничего не войдёт.\n",
    "- `middle_coffee_cup` — число с оценкой одной чашки капучино, которое указано только для значений из столбца `avg_bill`, начинающихся с подстроки «Цена одной чашки капучино»:\n",
    "  - Если в строке указан ценовой диапазон из двух значений, в столбец войдёт медиана этих двух значений.\n",
    "  - Если в строке указано одно число — цена без диапазона, то в столбец войдёт это число.\n",
    "  - Если значения нет или оно не начинается с подстроки «Цена одной чашки капучино», то в столбец ничего не войдёт.</font>"
   ]
  },
  {
   "cell_type": "markdown",
   "id": "4fecaf95",
   "metadata": {
    "id": "4fecaf95"
   },
   "source": [
    "### Содержимое проекта\n",
    "\n",
    "<font color='#777778'>Основные шаги по выполнению аналитического проекта, связанного с исследованием данных о заведениях общественного питания в Москве. Он включает четыре основных этапа:\n",
    "\n",
    "1. Загрузка и изучение данных: Описаны шаги по загрузке файлов с информацией о ресторанах и кафе, а также начальное ознакомление с этими данными. Важно проверить объем данных, их структуру, наличие пропусков и правильность типов данных.\n",
    "\n",
    "2. Предобработка данных: Этапы подготовки данных перед анализом. Включают проверку типов данных, обработку пропущенных значений, удаление дубликатов и нормализацию текста для упрощения анализа. Также рекомендуется создать новый столбец is_24_7, который будет указывать, работают ли заведения круглосуточно.\n",
    "\n",
    "3. Исследовательский анализ: Основная часть проекта, включающая исследование различных характеристик данных, таких как категории заведений, их географическое расположение, соотношение сетевых и несетевых ресторанов, количество посадочных мест, средний рейтинг и средний чек. Здесь активно используется визуализация данных для лучшего понимания результатов.\n",
    "\n",
    "4. Итоговые выводы и рекомендации: После проведения всех анализов формулируются ключевые выводы и даются рекомендации для потенциальных заказчиков. Например, можно рекомендовать развивать бизнес в центральных районах города, ориентироваться на сетевые заведения и поддерживать высокие стандарты сервиса.</font>\n",
    "\n",
    "---"
   ]
  },
  {
   "cell_type": "markdown",
   "id": "6f7d21d6",
   "metadata": {
    "id": "6f7d21d6"
   },
   "source": [
    "## 1. Загрузка данных и знакомство с ними\n",
    "\n",
    "- Загрузите данные о заведениях общественного питания Москвы."
   ]
  },
  {
   "cell_type": "code",
   "execution_count": 1,
   "id": "05faf34b",
   "metadata": {
    "id": "05faf34b"
   },
   "outputs": [],
   "source": [
    "# Импортируем библиотеки\n",
    "import pandas as pd\n",
    "\n",
    "import matplotlib.pyplot as plt\n",
    "import seaborn as sns\n",
    "\n",
    "from phik import phik_matrix\n",
    "\n",
    "import warnings\n",
    "warnings.filterwarnings('ignore')"
   ]
  },
  {
   "cell_type": "markdown",
   "id": "18b5dfff",
   "metadata": {
    "id": "18b5dfff"
   },
   "source": [
    "- Познакомьтесь с данными и изучите общую информацию о них."
   ]
  },
  {
   "cell_type": "code",
   "execution_count": 3,
   "id": "f68a7419",
   "metadata": {
    "id": "f68a7419"
   },
   "outputs": [
    {
     "data": {
      "text/html": [
       "<div>\n",
       "<style scoped>\n",
       "    .dataframe tbody tr th:only-of-type {\n",
       "        vertical-align: middle;\n",
       "    }\n",
       "\n",
       "    .dataframe tbody tr th {\n",
       "        vertical-align: top;\n",
       "    }\n",
       "\n",
       "    .dataframe thead th {\n",
       "        text-align: right;\n",
       "    }\n",
       "</style>\n",
       "<table border=\"1\" class=\"dataframe\">\n",
       "  <thead>\n",
       "    <tr style=\"text-align: right;\">\n",
       "      <th></th>\n",
       "      <th>id</th>\n",
       "      <th>name</th>\n",
       "      <th>category</th>\n",
       "      <th>address</th>\n",
       "      <th>district</th>\n",
       "      <th>hours</th>\n",
       "      <th>rating</th>\n",
       "      <th>chain</th>\n",
       "      <th>seats</th>\n",
       "    </tr>\n",
       "  </thead>\n",
       "  <tbody>\n",
       "    <tr>\n",
       "      <th>0</th>\n",
       "      <td>0c3e3439a8c64ea5bf6ecd6ca6ae19f0</td>\n",
       "      <td>WoWфли</td>\n",
       "      <td>кафе</td>\n",
       "      <td>Москва, улица Дыбенко, 7/1</td>\n",
       "      <td>Северный административный округ</td>\n",
       "      <td>ежедневно, 10:00–22:00</td>\n",
       "      <td>5.0</td>\n",
       "      <td>0</td>\n",
       "      <td>NaN</td>\n",
       "    </tr>\n",
       "    <tr>\n",
       "      <th>1</th>\n",
       "      <td>045780ada3474c57a2112e505d74b633</td>\n",
       "      <td>Четыре комнаты</td>\n",
       "      <td>ресторан</td>\n",
       "      <td>Москва, улица Дыбенко, 36, корп. 1</td>\n",
       "      <td>Северный административный округ</td>\n",
       "      <td>ежедневно, 10:00–22:00</td>\n",
       "      <td>4.5</td>\n",
       "      <td>0</td>\n",
       "      <td>4.0</td>\n",
       "    </tr>\n",
       "    <tr>\n",
       "      <th>2</th>\n",
       "      <td>1070b6b59144425896c65889347fcff6</td>\n",
       "      <td>Хазри</td>\n",
       "      <td>кафе</td>\n",
       "      <td>Москва, Клязьминская улица, 15</td>\n",
       "      <td>Северный административный округ</td>\n",
       "      <td>пн-чт 11:00–02:00; пт,сб 11:00–05:00; вс 11:00...</td>\n",
       "      <td>4.6</td>\n",
       "      <td>0</td>\n",
       "      <td>45.0</td>\n",
       "    </tr>\n",
       "    <tr>\n",
       "      <th>3</th>\n",
       "      <td>03ac7cd772104f65b58b349dc59f03ee</td>\n",
       "      <td>Dormouse Coffee Shop</td>\n",
       "      <td>кофейня</td>\n",
       "      <td>Москва, улица Маршала Федоренко, 12</td>\n",
       "      <td>Северный административный округ</td>\n",
       "      <td>ежедневно, 09:00–22:00</td>\n",
       "      <td>5.0</td>\n",
       "      <td>0</td>\n",
       "      <td>NaN</td>\n",
       "    </tr>\n",
       "    <tr>\n",
       "      <th>4</th>\n",
       "      <td>a163aada139c4c7f87b0b1c0b466a50f</td>\n",
       "      <td>Иль Марко</td>\n",
       "      <td>пиццерия</td>\n",
       "      <td>Москва, Правобережная улица, 1Б</td>\n",
       "      <td>Северный административный округ</td>\n",
       "      <td>ежедневно, 10:00–22:00</td>\n",
       "      <td>5.0</td>\n",
       "      <td>1</td>\n",
       "      <td>148.0</td>\n",
       "    </tr>\n",
       "  </tbody>\n",
       "</table>\n",
       "</div>"
      ],
      "text/plain": [
       "                                 id                  name  category  \\\n",
       "0  0c3e3439a8c64ea5bf6ecd6ca6ae19f0                WoWфли      кафе   \n",
       "1  045780ada3474c57a2112e505d74b633        Четыре комнаты  ресторан   \n",
       "2  1070b6b59144425896c65889347fcff6                 Хазри      кафе   \n",
       "3  03ac7cd772104f65b58b349dc59f03ee  Dormouse Coffee Shop   кофейня   \n",
       "4  a163aada139c4c7f87b0b1c0b466a50f             Иль Марко  пиццерия   \n",
       "\n",
       "                               address                         district  \\\n",
       "0           Москва, улица Дыбенко, 7/1  Северный административный округ   \n",
       "1   Москва, улица Дыбенко, 36, корп. 1  Северный административный округ   \n",
       "2       Москва, Клязьминская улица, 15  Северный административный округ   \n",
       "3  Москва, улица Маршала Федоренко, 12  Северный административный округ   \n",
       "4      Москва, Правобережная улица, 1Б  Северный административный округ   \n",
       "\n",
       "                                               hours  rating  chain  seats  \n",
       "0                             ежедневно, 10:00–22:00     5.0      0    NaN  \n",
       "1                             ежедневно, 10:00–22:00     4.5      0    4.0  \n",
       "2  пн-чт 11:00–02:00; пт,сб 11:00–05:00; вс 11:00...     4.6      0   45.0  \n",
       "3                             ежедневно, 09:00–22:00     5.0      0    NaN  \n",
       "4                             ежедневно, 10:00–22:00     5.0      1  148.0  "
      ]
     },
     "execution_count": 3,
     "metadata": {},
     "output_type": "execute_result"
    }
   ],
   "source": [
    "df_rest_info.head()"
   ]
  },
  {
   "cell_type": "code",
   "execution_count": 4,
   "id": "dd415c80",
   "metadata": {
    "id": "dd415c80"
   },
   "outputs": [
    {
     "name": "stdout",
     "output_type": "stream",
     "text": [
      "<class 'pandas.core.frame.DataFrame'>\n",
      "RangeIndex: 8406 entries, 0 to 8405\n",
      "Data columns (total 9 columns):\n",
      " #   Column    Non-Null Count  Dtype  \n",
      "---  ------    --------------  -----  \n",
      " 0   id        8406 non-null   object \n",
      " 1   name      8406 non-null   object \n",
      " 2   category  8406 non-null   object \n",
      " 3   address   8406 non-null   object \n",
      " 4   district  8406 non-null   object \n",
      " 5   hours     7870 non-null   object \n",
      " 6   rating    8406 non-null   float64\n",
      " 7   chain     8406 non-null   int64  \n",
      " 8   seats     4795 non-null   float64\n",
      "dtypes: float64(2), int64(1), object(6)\n",
      "memory usage: 591.2+ KB\n"
     ]
    }
   ],
   "source": [
    "df_rest_info.info()"
   ]
  },
  {
   "cell_type": "markdown",
   "id": "33efeb8f",
   "metadata": {},
   "source": [
    "<font color='#777778'>Датасет `Датасет удален` содержит 9 столбцов и 8406 строк, в которых содержится информация о заведениях общественного питания.\n",
    "\n",
    "После первичного анализа данных можно сделать следующие выводы:\n",
    "- Названия столбцов уже приведены к одному виду, snake case.\n",
    "- Данные содержат числовые и строковые значения, они хранятся в типах данных `float64(2)`, `int64(1)`, `object(6).\n",
    "- Пропуски содержатся только в двух столбцах `hours` и `seats`. Однако следует проверить и другие столбцы: в них могут встречаться значения-индикаторы, которые будут говорить об отсутствии данных.\n",
    "- Судя по первому знакомству с данными, значения в столбцах соответствуют своему описанию.\n",
    "\n",
    "</font>"
   ]
  },
  {
   "cell_type": "code",
   "execution_count": 5,
   "id": "3158ad37",
   "metadata": {
    "id": "3158ad37"
   },
   "outputs": [
    {
     "data": {
      "text/html": [
       "<div>\n",
       "<style scoped>\n",
       "    .dataframe tbody tr th:only-of-type {\n",
       "        vertical-align: middle;\n",
       "    }\n",
       "\n",
       "    .dataframe tbody tr th {\n",
       "        vertical-align: top;\n",
       "    }\n",
       "\n",
       "    .dataframe thead th {\n",
       "        text-align: right;\n",
       "    }\n",
       "</style>\n",
       "<table border=\"1\" class=\"dataframe\">\n",
       "  <thead>\n",
       "    <tr style=\"text-align: right;\">\n",
       "      <th></th>\n",
       "      <th>id</th>\n",
       "      <th>price</th>\n",
       "      <th>avg_bill</th>\n",
       "      <th>middle_avg_bill</th>\n",
       "      <th>middle_coffee_cup</th>\n",
       "    </tr>\n",
       "  </thead>\n",
       "  <tbody>\n",
       "    <tr>\n",
       "      <th>0</th>\n",
       "      <td>045780ada3474c57a2112e505d74b633</td>\n",
       "      <td>выше среднего</td>\n",
       "      <td>Средний счёт:1500–1600 ₽</td>\n",
       "      <td>1550.0</td>\n",
       "      <td>NaN</td>\n",
       "    </tr>\n",
       "    <tr>\n",
       "      <th>1</th>\n",
       "      <td>1070b6b59144425896c65889347fcff6</td>\n",
       "      <td>средние</td>\n",
       "      <td>Средний счёт:от 1000 ₽</td>\n",
       "      <td>1000.0</td>\n",
       "      <td>NaN</td>\n",
       "    </tr>\n",
       "    <tr>\n",
       "      <th>2</th>\n",
       "      <td>03ac7cd772104f65b58b349dc59f03ee</td>\n",
       "      <td>NaN</td>\n",
       "      <td>Цена чашки капучино:155–185 ₽</td>\n",
       "      <td>NaN</td>\n",
       "      <td>170.0</td>\n",
       "    </tr>\n",
       "    <tr>\n",
       "      <th>3</th>\n",
       "      <td>a163aada139c4c7f87b0b1c0b466a50f</td>\n",
       "      <td>средние</td>\n",
       "      <td>Средний счёт:400–600 ₽</td>\n",
       "      <td>500.0</td>\n",
       "      <td>NaN</td>\n",
       "    </tr>\n",
       "    <tr>\n",
       "      <th>4</th>\n",
       "      <td>8a343546b24e4a499ad96eb7d0797a8a</td>\n",
       "      <td>средние</td>\n",
       "      <td>NaN</td>\n",
       "      <td>NaN</td>\n",
       "      <td>NaN</td>\n",
       "    </tr>\n",
       "  </tbody>\n",
       "</table>\n",
       "</div>"
      ],
      "text/plain": [
       "                                 id          price  \\\n",
       "0  045780ada3474c57a2112e505d74b633  выше среднего   \n",
       "1  1070b6b59144425896c65889347fcff6        средние   \n",
       "2  03ac7cd772104f65b58b349dc59f03ee            NaN   \n",
       "3  a163aada139c4c7f87b0b1c0b466a50f        средние   \n",
       "4  8a343546b24e4a499ad96eb7d0797a8a        средние   \n",
       "\n",
       "                        avg_bill  middle_avg_bill  middle_coffee_cup  \n",
       "0       Средний счёт:1500–1600 ₽           1550.0                NaN  \n",
       "1         Средний счёт:от 1000 ₽           1000.0                NaN  \n",
       "2  Цена чашки капучино:155–185 ₽              NaN              170.0  \n",
       "3         Средний счёт:400–600 ₽            500.0                NaN  \n",
       "4                            NaN              NaN                NaN  "
      ]
     },
     "execution_count": 5,
     "metadata": {},
     "output_type": "execute_result"
    }
   ],
   "source": [
    "df_rest_price.head()"
   ]
  },
  {
   "cell_type": "code",
   "execution_count": 6,
   "id": "761c60cc",
   "metadata": {},
   "outputs": [
    {
     "name": "stdout",
     "output_type": "stream",
     "text": [
      "<class 'pandas.core.frame.DataFrame'>\n",
      "RangeIndex: 4058 entries, 0 to 4057\n",
      "Data columns (total 5 columns):\n",
      " #   Column             Non-Null Count  Dtype  \n",
      "---  ------             --------------  -----  \n",
      " 0   id                 4058 non-null   object \n",
      " 1   price              3315 non-null   object \n",
      " 2   avg_bill           3816 non-null   object \n",
      " 3   middle_avg_bill    3149 non-null   float64\n",
      " 4   middle_coffee_cup  535 non-null    float64\n",
      "dtypes: float64(2), object(3)\n",
      "memory usage: 158.6+ KB\n"
     ]
    }
   ],
   "source": [
    "df_rest_price.info()"
   ]
  },
  {
   "cell_type": "markdown",
   "id": "9cadc725",
   "metadata": {},
   "source": [
    "<font color='#777778'>Датасет `Датасет удален` содержит 5 столбцов и 4058 строк, в которых содержится информация о среднем чеке в заведениях общественного питания. По аналогии с предыдущим датасетом можно отметить, что:\n",
    "\n",
    "- Названия столбцов уже приведены к единому виду, snake case.\n",
    "- Типы данных соответствуют содержимому.\n",
    "- Пропусков на первый взгляд достаточно много, особенно в столбце `middle_coffee_cup`.\n",
    "- Значения в столбцах соответствуют описанию.</font>"
   ]
  },
  {
   "cell_type": "markdown",
   "id": "2c614a62",
   "metadata": {
    "id": "2c614a62"
   },
   "source": [
    "---\n",
    "\n",
    "### Промежуточный вывод\n",
    "\n",
    "Сделайте промежуточный вывод о полученных данных: данные какого объёма вам предоставили, соответствуют ли данные описанию, встречаются ли в них пропуски, используются ли верные типы данных. Отметьте другие особенности данных, которые вы обнаружите на этой стадии и на которые стоит обратить внимание при предобработке."
   ]
  },
  {
   "cell_type": "markdown",
   "id": "c881dd06",
   "metadata": {},
   "source": [
    "<font color='#777778'>Первичное знакомство показывает, что данные `Датасет удален` хорошего качества — в них практически нет пропущенных значений, а сами данные соответствуют описанию и выглядят корректными. А вот про данные `Датасет удален`, нельзя сказать, что они хорошего качества, в них много пропусков. Столбец `price` представлен как категория цен в заведении, например «средние», «ниже среднего», «выше среднего» и так далее. `avg_bill`, хранит средний чек как диапазон стоимости в заказе.\n",
    "\n",
    "\n",
    "Настало время следующего этапа — предобработки данных.</font>\n"
   ]
  },
  {
   "cell_type": "markdown",
   "id": "8a8d1491",
   "metadata": {
    "id": "8a8d1491"
   },
   "source": [
    "### Подготовка единого датафрейма\n",
    "\n",
    "- Объедините данные двух датасетов в один, с которым вы и продолжите работу."
   ]
  },
  {
   "cell_type": "code",
   "execution_count": 7,
   "id": "3408e303",
   "metadata": {
    "id": "3408e303"
   },
   "outputs": [],
   "source": [
    "df = pd.merge(df_rest_info, df_rest_price, on= 'id', how= 'left')\n",
    "\n",
    "df_old = df.copy()"
   ]
  },
  {
   "cell_type": "code",
   "execution_count": 8,
   "id": "5695950b",
   "metadata": {
    "id": "5695950b"
   },
   "outputs": [
    {
     "data": {
      "text/html": [
       "<div>\n",
       "<style scoped>\n",
       "    .dataframe tbody tr th:only-of-type {\n",
       "        vertical-align: middle;\n",
       "    }\n",
       "\n",
       "    .dataframe tbody tr th {\n",
       "        vertical-align: top;\n",
       "    }\n",
       "\n",
       "    .dataframe thead th {\n",
       "        text-align: right;\n",
       "    }\n",
       "</style>\n",
       "<table border=\"1\" class=\"dataframe\">\n",
       "  <thead>\n",
       "    <tr style=\"text-align: right;\">\n",
       "      <th></th>\n",
       "      <th>id</th>\n",
       "      <th>name</th>\n",
       "      <th>category</th>\n",
       "      <th>address</th>\n",
       "      <th>district</th>\n",
       "      <th>hours</th>\n",
       "      <th>rating</th>\n",
       "      <th>chain</th>\n",
       "      <th>seats</th>\n",
       "      <th>price</th>\n",
       "      <th>avg_bill</th>\n",
       "      <th>middle_avg_bill</th>\n",
       "      <th>middle_coffee_cup</th>\n",
       "    </tr>\n",
       "  </thead>\n",
       "  <tbody>\n",
       "    <tr>\n",
       "      <th>0</th>\n",
       "      <td>0c3e3439a8c64ea5bf6ecd6ca6ae19f0</td>\n",
       "      <td>WoWфли</td>\n",
       "      <td>кафе</td>\n",
       "      <td>Москва, улица Дыбенко, 7/1</td>\n",
       "      <td>Северный административный округ</td>\n",
       "      <td>ежедневно, 10:00–22:00</td>\n",
       "      <td>5.0</td>\n",
       "      <td>0</td>\n",
       "      <td>NaN</td>\n",
       "      <td>NaN</td>\n",
       "      <td>NaN</td>\n",
       "      <td>NaN</td>\n",
       "      <td>NaN</td>\n",
       "    </tr>\n",
       "    <tr>\n",
       "      <th>1</th>\n",
       "      <td>045780ada3474c57a2112e505d74b633</td>\n",
       "      <td>Четыре комнаты</td>\n",
       "      <td>ресторан</td>\n",
       "      <td>Москва, улица Дыбенко, 36, корп. 1</td>\n",
       "      <td>Северный административный округ</td>\n",
       "      <td>ежедневно, 10:00–22:00</td>\n",
       "      <td>4.5</td>\n",
       "      <td>0</td>\n",
       "      <td>4.0</td>\n",
       "      <td>выше среднего</td>\n",
       "      <td>Средний счёт:1500–1600 ₽</td>\n",
       "      <td>1550.0</td>\n",
       "      <td>NaN</td>\n",
       "    </tr>\n",
       "    <tr>\n",
       "      <th>2</th>\n",
       "      <td>1070b6b59144425896c65889347fcff6</td>\n",
       "      <td>Хазри</td>\n",
       "      <td>кафе</td>\n",
       "      <td>Москва, Клязьминская улица, 15</td>\n",
       "      <td>Северный административный округ</td>\n",
       "      <td>пн-чт 11:00–02:00; пт,сб 11:00–05:00; вс 11:00...</td>\n",
       "      <td>4.6</td>\n",
       "      <td>0</td>\n",
       "      <td>45.0</td>\n",
       "      <td>средние</td>\n",
       "      <td>Средний счёт:от 1000 ₽</td>\n",
       "      <td>1000.0</td>\n",
       "      <td>NaN</td>\n",
       "    </tr>\n",
       "    <tr>\n",
       "      <th>3</th>\n",
       "      <td>03ac7cd772104f65b58b349dc59f03ee</td>\n",
       "      <td>Dormouse Coffee Shop</td>\n",
       "      <td>кофейня</td>\n",
       "      <td>Москва, улица Маршала Федоренко, 12</td>\n",
       "      <td>Северный административный округ</td>\n",
       "      <td>ежедневно, 09:00–22:00</td>\n",
       "      <td>5.0</td>\n",
       "      <td>0</td>\n",
       "      <td>NaN</td>\n",
       "      <td>NaN</td>\n",
       "      <td>Цена чашки капучино:155–185 ₽</td>\n",
       "      <td>NaN</td>\n",
       "      <td>170.0</td>\n",
       "    </tr>\n",
       "    <tr>\n",
       "      <th>4</th>\n",
       "      <td>a163aada139c4c7f87b0b1c0b466a50f</td>\n",
       "      <td>Иль Марко</td>\n",
       "      <td>пиццерия</td>\n",
       "      <td>Москва, Правобережная улица, 1Б</td>\n",
       "      <td>Северный административный округ</td>\n",
       "      <td>ежедневно, 10:00–22:00</td>\n",
       "      <td>5.0</td>\n",
       "      <td>1</td>\n",
       "      <td>148.0</td>\n",
       "      <td>средние</td>\n",
       "      <td>Средний счёт:400–600 ₽</td>\n",
       "      <td>500.0</td>\n",
       "      <td>NaN</td>\n",
       "    </tr>\n",
       "  </tbody>\n",
       "</table>\n",
       "</div>"
      ],
      "text/plain": [
       "                                 id                  name  category  \\\n",
       "0  0c3e3439a8c64ea5bf6ecd6ca6ae19f0                WoWфли      кафе   \n",
       "1  045780ada3474c57a2112e505d74b633        Четыре комнаты  ресторан   \n",
       "2  1070b6b59144425896c65889347fcff6                 Хазри      кафе   \n",
       "3  03ac7cd772104f65b58b349dc59f03ee  Dormouse Coffee Shop   кофейня   \n",
       "4  a163aada139c4c7f87b0b1c0b466a50f             Иль Марко  пиццерия   \n",
       "\n",
       "                               address                         district  \\\n",
       "0           Москва, улица Дыбенко, 7/1  Северный административный округ   \n",
       "1   Москва, улица Дыбенко, 36, корп. 1  Северный административный округ   \n",
       "2       Москва, Клязьминская улица, 15  Северный административный округ   \n",
       "3  Москва, улица Маршала Федоренко, 12  Северный административный округ   \n",
       "4      Москва, Правобережная улица, 1Б  Северный административный округ   \n",
       "\n",
       "                                               hours  rating  chain  seats  \\\n",
       "0                             ежедневно, 10:00–22:00     5.0      0    NaN   \n",
       "1                             ежедневно, 10:00–22:00     4.5      0    4.0   \n",
       "2  пн-чт 11:00–02:00; пт,сб 11:00–05:00; вс 11:00...     4.6      0   45.0   \n",
       "3                             ежедневно, 09:00–22:00     5.0      0    NaN   \n",
       "4                             ежедневно, 10:00–22:00     5.0      1  148.0   \n",
       "\n",
       "           price                       avg_bill  middle_avg_bill  \\\n",
       "0            NaN                            NaN              NaN   \n",
       "1  выше среднего       Средний счёт:1500–1600 ₽           1550.0   \n",
       "2        средние         Средний счёт:от 1000 ₽           1000.0   \n",
       "3            NaN  Цена чашки капучино:155–185 ₽              NaN   \n",
       "4        средние         Средний счёт:400–600 ₽            500.0   \n",
       "\n",
       "   middle_coffee_cup  \n",
       "0                NaN  \n",
       "1                NaN  \n",
       "2                NaN  \n",
       "3              170.0  \n",
       "4                NaN  "
      ]
     },
     "execution_count": 8,
     "metadata": {},
     "output_type": "execute_result"
    }
   ],
   "source": [
    "df.head()"
   ]
  },
  {
   "cell_type": "code",
   "execution_count": 9,
   "id": "6577c71c",
   "metadata": {
    "id": "6577c71c"
   },
   "outputs": [
    {
     "name": "stdout",
     "output_type": "stream",
     "text": [
      "<class 'pandas.core.frame.DataFrame'>\n",
      "Int64Index: 8406 entries, 0 to 8405\n",
      "Data columns (total 13 columns):\n",
      " #   Column             Non-Null Count  Dtype  \n",
      "---  ------             --------------  -----  \n",
      " 0   id                 8406 non-null   object \n",
      " 1   name               8406 non-null   object \n",
      " 2   category           8406 non-null   object \n",
      " 3   address            8406 non-null   object \n",
      " 4   district           8406 non-null   object \n",
      " 5   hours              7870 non-null   object \n",
      " 6   rating             8406 non-null   float64\n",
      " 7   chain              8406 non-null   int64  \n",
      " 8   seats              4795 non-null   float64\n",
      " 9   price              3315 non-null   object \n",
      " 10  avg_bill           3816 non-null   object \n",
      " 11  middle_avg_bill    3149 non-null   float64\n",
      " 12  middle_coffee_cup  535 non-null    float64\n",
      "dtypes: float64(4), int64(1), object(8)\n",
      "memory usage: 919.4+ KB\n"
     ]
    }
   ],
   "source": [
    "df.info()"
   ]
  },
  {
   "cell_type": "markdown",
   "id": "7b657ee0",
   "metadata": {},
   "source": [
    "<font color='#777778'>Данные соединены, и информация обо всех пользователях сохранилась.</font>\n"
   ]
  },
  {
   "cell_type": "markdown",
   "id": "956e82e2",
   "metadata": {
    "id": "956e82e2"
   },
   "source": [
    "## 2. Предобработка данных\n",
    "\n",
    "Подготовьте данные к исследовательскому анализу:\n",
    "\n",
    "- Изучите корректность типов данных и при необходимости проведите их преобразование."
   ]
  },
  {
   "cell_type": "code",
   "execution_count": 10,
   "id": "67956690",
   "metadata": {
    "id": "67956690"
   },
   "outputs": [
    {
     "data": {
      "text/plain": [
       "Index(['id', 'name', 'category', 'address', 'district', 'hours', 'rating',\n",
       "       'chain', 'seats', 'price', 'avg_bill', 'middle_avg_bill',\n",
       "       'middle_coffee_cup'],\n",
       "      dtype='object')"
      ]
     },
     "execution_count": 10,
     "metadata": {},
     "output_type": "execute_result"
    }
   ],
   "source": [
    "df.columns"
   ]
  },
  {
   "cell_type": "code",
   "execution_count": 11,
   "id": "b5f2a94d",
   "metadata": {
    "id": "b5f2a94d"
   },
   "outputs": [
    {
     "data": {
      "text/plain": [
       "id                    object\n",
       "name                  object\n",
       "category              object\n",
       "address               object\n",
       "district              object\n",
       "hours                 object\n",
       "rating               float64\n",
       "chain                  int64\n",
       "seats                float64\n",
       "price                 object\n",
       "avg_bill              object\n",
       "middle_avg_bill      float64\n",
       "middle_coffee_cup    float64\n",
       "dtype: object"
      ]
     },
     "execution_count": 11,
     "metadata": {},
     "output_type": "execute_result"
    }
   ],
   "source": [
    "df.dtypes"
   ]
  },
  {
   "cell_type": "markdown",
   "id": "1afdb625",
   "metadata": {},
   "source": [
    "<font color='#777778'>На первый взгляд с типами данных все в порядке, если отталкиваться от их значений в столбцах. С названиями тоже все хорошо.</font>"
   ]
  },
  {
   "cell_type": "markdown",
   "id": "4b7ee469",
   "metadata": {
    "id": "4b7ee469"
   },
   "source": [
    "- Изучите пропущенные значения в данных: посчитайте их количество в каждом столбце датафрейме, изучите данные с пропущенными значениями и предположите гипотезы их появления. Проведите обработку пропущенных значений: вы можете заменить пропуски на определённое значение, удалить строки с пропусками или оставить их как есть."
   ]
  },
  {
   "cell_type": "code",
   "execution_count": 12,
   "id": "3d8840ca",
   "metadata": {
    "id": "3d8840ca"
   },
   "outputs": [
    {
     "name": "stdout",
     "output_type": "stream",
     "text": [
      "Количество пропусков в столбце id: 0\n",
      "Количество пропусков в столбце name: 0\n",
      "Количество пропусков в столбце category: 0\n",
      "Количество пропусков в столбце address: 0\n",
      "Количество пропусков в столбце district: 0\n",
      "Количество пропусков в столбце hours: 536\n",
      "Количество пропусков в столбце rating: 0\n",
      "Количество пропусков в столбце chain: 0\n",
      "Количество пропусков в столбце seats: 3611\n",
      "Количество пропусков в столбце price: 5091\n",
      "Количество пропусков в столбце avg_bill: 4590\n",
      "Количество пропусков в столбце middle_avg_bill: 5257\n",
      "Количество пропусков в столбце middle_coffee_cup: 7871\n"
     ]
    }
   ],
   "source": [
    "for i in df.columns:\n",
    "  print(f'Количество пропусков в столбце {i}: {df.shape[0] - df[i].count()}')"
   ]
  },
  {
   "cell_type": "code",
   "execution_count": 13,
   "id": "2ea145ca",
   "metadata": {
    "id": "2ea145ca"
   },
   "outputs": [
    {
     "data": {
      "text/html": [
       "<style  type=\"text/css\" >\n",
       "#T_9e83f_row0_col0,#T_9e83f_row0_col1,#T_9e83f_row1_col0,#T_9e83f_row1_col1,#T_9e83f_row2_col0,#T_9e83f_row2_col1,#T_9e83f_row3_col0,#T_9e83f_row3_col1,#T_9e83f_row4_col0,#T_9e83f_row4_col1,#T_9e83f_row6_col0,#T_9e83f_row6_col1,#T_9e83f_row7_col0,#T_9e83f_row7_col1{\n",
       "            background-color:  #3b4cc0;\n",
       "            color:  #f1f1f1;\n",
       "        }#T_9e83f_row5_col0,#T_9e83f_row5_col1{\n",
       "            background-color:  #4f69d9;\n",
       "            color:  #000000;\n",
       "        }#T_9e83f_row8_col0,#T_9e83f_row8_col1{\n",
       "            background-color:  #d2dbe8;\n",
       "            color:  #000000;\n",
       "        }#T_9e83f_row9_col0,#T_9e83f_row9_col1{\n",
       "            background-color:  #f6bea4;\n",
       "            color:  #000000;\n",
       "        }#T_9e83f_row10_col0,#T_9e83f_row10_col1{\n",
       "            background-color:  #efcebd;\n",
       "            color:  #000000;\n",
       "        }#T_9e83f_row11_col0,#T_9e83f_row11_col1{\n",
       "            background-color:  #f7b89c;\n",
       "            color:  #000000;\n",
       "        }#T_9e83f_row12_col0,#T_9e83f_row12_col1{\n",
       "            background-color:  #b40426;\n",
       "            color:  #f1f1f1;\n",
       "        }</style><table id=\"T_9e83f_\" ><thead>    <tr>        <th class=\"blank level0\" ></th>        <th class=\"col_heading level0 col0\" >Количество пропусков</th>        <th class=\"col_heading level0 col1\" >Доля пропусков</th>    </tr></thead><tbody>\n",
       "                <tr>\n",
       "                        <th id=\"T_9e83f_level0_row0\" class=\"row_heading level0 row0\" >id</th>\n",
       "                        <td id=\"T_9e83f_row0_col0\" class=\"data row0 col0\" >0</td>\n",
       "                        <td id=\"T_9e83f_row0_col1\" class=\"data row0 col1\" >0.000000</td>\n",
       "            </tr>\n",
       "            <tr>\n",
       "                        <th id=\"T_9e83f_level0_row1\" class=\"row_heading level0 row1\" >name</th>\n",
       "                        <td id=\"T_9e83f_row1_col0\" class=\"data row1 col0\" >0</td>\n",
       "                        <td id=\"T_9e83f_row1_col1\" class=\"data row1 col1\" >0.000000</td>\n",
       "            </tr>\n",
       "            <tr>\n",
       "                        <th id=\"T_9e83f_level0_row2\" class=\"row_heading level0 row2\" >category</th>\n",
       "                        <td id=\"T_9e83f_row2_col0\" class=\"data row2 col0\" >0</td>\n",
       "                        <td id=\"T_9e83f_row2_col1\" class=\"data row2 col1\" >0.000000</td>\n",
       "            </tr>\n",
       "            <tr>\n",
       "                        <th id=\"T_9e83f_level0_row3\" class=\"row_heading level0 row3\" >address</th>\n",
       "                        <td id=\"T_9e83f_row3_col0\" class=\"data row3 col0\" >0</td>\n",
       "                        <td id=\"T_9e83f_row3_col1\" class=\"data row3 col1\" >0.000000</td>\n",
       "            </tr>\n",
       "            <tr>\n",
       "                        <th id=\"T_9e83f_level0_row4\" class=\"row_heading level0 row4\" >district</th>\n",
       "                        <td id=\"T_9e83f_row4_col0\" class=\"data row4 col0\" >0</td>\n",
       "                        <td id=\"T_9e83f_row4_col1\" class=\"data row4 col1\" >0.000000</td>\n",
       "            </tr>\n",
       "            <tr>\n",
       "                        <th id=\"T_9e83f_level0_row5\" class=\"row_heading level0 row5\" >hours</th>\n",
       "                        <td id=\"T_9e83f_row5_col0\" class=\"data row5 col0\" >536</td>\n",
       "                        <td id=\"T_9e83f_row5_col1\" class=\"data row5 col1\" >0.063800</td>\n",
       "            </tr>\n",
       "            <tr>\n",
       "                        <th id=\"T_9e83f_level0_row6\" class=\"row_heading level0 row6\" >rating</th>\n",
       "                        <td id=\"T_9e83f_row6_col0\" class=\"data row6 col0\" >0</td>\n",
       "                        <td id=\"T_9e83f_row6_col1\" class=\"data row6 col1\" >0.000000</td>\n",
       "            </tr>\n",
       "            <tr>\n",
       "                        <th id=\"T_9e83f_level0_row7\" class=\"row_heading level0 row7\" >chain</th>\n",
       "                        <td id=\"T_9e83f_row7_col0\" class=\"data row7 col0\" >0</td>\n",
       "                        <td id=\"T_9e83f_row7_col1\" class=\"data row7 col1\" >0.000000</td>\n",
       "            </tr>\n",
       "            <tr>\n",
       "                        <th id=\"T_9e83f_level0_row8\" class=\"row_heading level0 row8\" >seats</th>\n",
       "                        <td id=\"T_9e83f_row8_col0\" class=\"data row8 col0\" >3611</td>\n",
       "                        <td id=\"T_9e83f_row8_col1\" class=\"data row8 col1\" >0.429600</td>\n",
       "            </tr>\n",
       "            <tr>\n",
       "                        <th id=\"T_9e83f_level0_row9\" class=\"row_heading level0 row9\" >price</th>\n",
       "                        <td id=\"T_9e83f_row9_col0\" class=\"data row9 col0\" >5091</td>\n",
       "                        <td id=\"T_9e83f_row9_col1\" class=\"data row9 col1\" >0.605600</td>\n",
       "            </tr>\n",
       "            <tr>\n",
       "                        <th id=\"T_9e83f_level0_row10\" class=\"row_heading level0 row10\" >avg_bill</th>\n",
       "                        <td id=\"T_9e83f_row10_col0\" class=\"data row10 col0\" >4590</td>\n",
       "                        <td id=\"T_9e83f_row10_col1\" class=\"data row10 col1\" >0.546000</td>\n",
       "            </tr>\n",
       "            <tr>\n",
       "                        <th id=\"T_9e83f_level0_row11\" class=\"row_heading level0 row11\" >middle_avg_bill</th>\n",
       "                        <td id=\"T_9e83f_row11_col0\" class=\"data row11 col0\" >5257</td>\n",
       "                        <td id=\"T_9e83f_row11_col1\" class=\"data row11 col1\" >0.625400</td>\n",
       "            </tr>\n",
       "            <tr>\n",
       "                        <th id=\"T_9e83f_level0_row12\" class=\"row_heading level0 row12\" >middle_coffee_cup</th>\n",
       "                        <td id=\"T_9e83f_row12_col0\" class=\"data row12 col0\" >7871</td>\n",
       "                        <td id=\"T_9e83f_row12_col1\" class=\"data row12 col1\" >0.936400</td>\n",
       "            </tr>\n",
       "    </tbody></table>"
      ],
      "text/plain": [
       "<pandas.io.formats.style.Styler at 0x7f2a69419550>"
      ]
     },
     "execution_count": 13,
     "metadata": {},
     "output_type": "execute_result"
    }
   ],
   "source": [
    "missing = (pd.DataFrame({'Количество пропусков': df_old.isnull().sum(), 'Доля пропусков': df_old.isnull().mean().round(4)}).style.background_gradient(cmap='coolwarm'))\n",
    "\n",
    "missing"
   ]
  },
  {
   "cell_type": "markdown",
   "id": "d4c0a570",
   "metadata": {},
   "source": [
    "<font color='#777778'>В датафрейме `df` обнаружено много пропусков в столбце:\n",
    "- `seats` — это 43% данных, столбец содержит информацию о количестве мест в заведении. Пропуски могут быть обусловлены несколькими причинами:\n",
    "  - Количество посадочных мест может меняться в зависимости от сезона, ремонта или других факторов, и данные могли устареть или просто отсутствует на этапе сбора данных.\n",
    "  - В процессе обновления информации о заведениях могут пропускать этот параметр, особенно если он не считается приоритетным.\n",
    "\n",
    "- `price` — это 60% данных, в столбце содержится информация о категории цен заведения (например, «средняя», «высокая»). Причины пропуска могут включать:\n",
    "  - Информация о цене заведения может обновляться реже, чем другая информация, поскольку заведение не меняет свою категорию часто.\n",
    "  - Заведение может предлагать блюда разного уровня стоимости, что затрудняет однозначную оценку его категории.\n",
    "\n",
    "- `avg_bill` — это 55% данных, столбец хранит строку с указанием средней стоимости заказа. Причина пропуска может заключаться в следующем:\n",
    "  - Средняя стоимость может отсутствовать, если заведение не предоставляет такую информацию.\n",
    "  - Возможно, данные были неправильно обработаны, и средняя стоимость не была извлечена корректно.\n",
    "\n",
    "- `middle_avg_bill` — это 63% данных, столбец содержит числовое значение средней стоимости заказа, рассчитанное на основе данных из столбца `avg_bill`. Пропуски могут возникать по следующим причинам:\n",
    "  - Поскольку расчет производится на основе `avg_bill`, пустые значения в этом столбце приводят к пропускам в middle_avg_bill.\n",
    "  - Отсутствие точного диапазона цен в avg_bill может препятствовать правильному вычислению медианного значения.\n",
    "\n",
    "- `middle_coffee_cup` — это 94% данных, столбец содержит цену одной чашки капучино, рассчитываемую на основе данных из столбца `avg_bill`. Основная причина таких больших пропусков заключается в следующем:\n",
    "  - Столбец заполняется только для записей, где указана цена капучино. Многие заведения могут не указывать эту конкретную информацию, что объясняет высокий процент пропусков.\n",
    "  - Если в исходных данных отсутствуют конкретные сведения о цене капучино, то в результате будут пропуски.\n",
    "\n",
    " Количество пропусков достаточно большое, чтобы их просто удалить.</font>"
   ]
  },
  {
   "cell_type": "markdown",
   "id": "c4d5f04d",
   "metadata": {
    "id": "c4d5f04d"
   },
   "source": [
    "- Проверьте данные на явные и неявные дубликаты, например поля с названием и адресом заведения. Для оптимизации проверки нормализуйте данные в текстовых столбцах, например с названием заведения."
   ]
  },
  {
   "cell_type": "code",
   "execution_count": 14,
   "id": "43e58afc",
   "metadata": {},
   "outputs": [
    {
     "data": {
      "text/plain": [
       "0"
      ]
     },
     "execution_count": 14,
     "metadata": {},
     "output_type": "execute_result"
    }
   ],
   "source": [
    "df.duplicated().sum()"
   ]
  },
  {
   "cell_type": "markdown",
   "id": "5456cc5f",
   "metadata": {},
   "source": [
    "<font color='#777778'>В датафреймах нет полных дубликатов строк. Проверим неявные дубликаты — значения по `id` клиентов должны быть уникальными, то есть каждая строка в данных — уникальный клиент: </font>"
   ]
  },
  {
   "cell_type": "code",
   "execution_count": 15,
   "id": "6b74bedd",
   "metadata": {},
   "outputs": [],
   "source": [
    "df['name'] = df['name'].str.lower()"
   ]
  },
  {
   "cell_type": "code",
   "execution_count": 16,
   "id": "9250976b",
   "metadata": {},
   "outputs": [
    {
     "data": {
      "text/plain": [
       "0"
      ]
     },
     "execution_count": 16,
     "metadata": {},
     "output_type": "execute_result"
    }
   ],
   "source": [
    "df.duplicated(subset= 'id').sum()"
   ]
  },
  {
   "cell_type": "code",
   "execution_count": 17,
   "id": "7598dd03",
   "metadata": {},
   "outputs": [
    {
     "name": "stdout",
     "output_type": "stream",
     "text": [
      "Найдено: 3 дубликата\n",
      "Найдено: 0 дубликатов, после удаления\n"
     ]
    }
   ],
   "source": [
    "print(f\"Найдено: {df.duplicated(subset= ['name', 'address']).sum()} дубликата\")\n",
    "\n",
    "df = df.drop_duplicates(subset= ['name', 'address'])\n",
    "\n",
    "print(f\"Найдено: {df.duplicated(subset= ['name', 'address']).sum()} дубликатов, после удаления\")\n"
   ]
  },
  {
   "cell_type": "code",
   "execution_count": 18,
   "id": "ed2a2241",
   "metadata": {},
   "outputs": [
    {
     "data": {
      "text/plain": [
       "array([nan, 'выше среднего', 'средние', 'высокие', 'низкие'], dtype=object)"
      ]
     },
     "execution_count": 18,
     "metadata": {},
     "output_type": "execute_result"
    }
   ],
   "source": [
    "df['price'].unique()"
   ]
  },
  {
   "cell_type": "markdown",
   "id": "3de1e583",
   "metadata": {},
   "source": [
    "<font color='#777778'>Тут тоже всё хорошо — каждая строка соответствует уникальному клиенту. </font>"
   ]
  },
  {
   "cell_type": "markdown",
   "id": "4c0563f2",
   "metadata": {
    "id": "4c0563f2"
   },
   "source": [
    "- Для дальнейшей работы создайте столбец `is_24_7` с обозначением того, что заведение работает ежедневно и круглосуточно, то есть 24/7:\n",
    "  - логическое значение `True` — если заведение работает ежедневно и круглосуточно;\n",
    "  - логическое значение `False` — в противоположном случае."
   ]
  },
  {
   "cell_type": "code",
   "execution_count": 19,
   "id": "d8a8a963",
   "metadata": {
    "id": "d8a8a963"
   },
   "outputs": [
    {
     "data": {
      "text/plain": [
       "False    7673\n",
       "True      730\n",
       "Name: is_24_7, dtype: int64"
      ]
     },
     "execution_count": 19,
     "metadata": {},
     "output_type": "execute_result"
    }
   ],
   "source": [
    "df['is_24_7'] = (df['hours'].str.contains('ежедневно') & df['hours'].str.contains('круглосуточно'))\n",
    "\n",
    "df['is_24_7'].value_counts()"
   ]
  },
  {
   "cell_type": "code",
   "execution_count": 20,
   "id": "61304e83",
   "metadata": {
    "id": "61304e83"
   },
   "outputs": [
    {
     "data": {
      "text/plain": [
       "avg_bill           0\n",
       "middle_avg_bill    0\n",
       "avg_bool           0\n",
       "dtype: int64"
      ]
     },
     "execution_count": 20,
     "metadata": {},
     "output_type": "execute_result"
    }
   ],
   "source": [
    "df_test = df[['avg_bill', 'middle_avg_bill']]\n",
    "\n",
    "df_test['avg_bool'] = df['avg_bill'].str.contains('Средний счёт')\n",
    "\n",
    "df_test[df_test['avg_bool'] == True].isna().sum()"
   ]
  },
  {
   "cell_type": "markdown",
   "id": "447b4688",
   "metadata": {},
   "source": [
    "<font color='#777778'>Решил проверить, заполнение столбца по условию из задания, все верно. `middle_avg_bill` — число с оценкой среднего чека, которое указано только для значений из столбца `avg_bill`, начинающихся с подстроки «Средний счёт»</font>"
   ]
  },
  {
   "cell_type": "markdown",
   "id": "562f30ab",
   "metadata": {
    "id": "562f30ab"
   },
   "source": [
    "---\n",
    "\n",
    "### Промежуточный вывод\n",
    "\n",
    "После предобработки данных напишите промежуточный вывод о проведённой работе. Отразите количество или долю отфильтрованных данных, если вы что-то удаляли."
   ]
  },
  {
   "cell_type": "markdown",
   "id": "2d06e03b",
   "metadata": {},
   "source": [
    "<font color='#777778'>\n",
    "После анализа данных было выявлено значительное количество пропусков в нескольких столбцах и сделал промежуточные выводы.\n",
    "\n",
    "Пропущенные данные:\n",
    "- `seats`: 43% данных пропущено. Это может быть связано с изменениями количества посадочных мест или отсутствием актуальных данных на момент сбора.\n",
    "- `price`: 60% данных пропущено. Категория цен заведений может обновляться редко или не предоставляться в явной форме.\n",
    "- `avg_bill`: 55% данных пропущено. Средняя стоимость заказа может отсутствовать, если заведение не предоставляет такие данные.\n",
    "- `middle_avg_bill`: 63% данных пропущено. Эти пропуски зависят от наличия данных в столбце `avg_bill`.\n",
    "- `middle_coffee_cup`: 94% данных пропущено. Высокая доля пропусков обусловлена отсутствием конкретных сведений о цене капучино.\n",
    "\n",
    "Дубликаты:\n",
    "- Датафрейм не содержит полных дубликатов строк.\n",
    "- Уникальность идентификаторов клиентов (id) проверена и подтвердилась, что каждая строка представляет собой  уникальные записи.\n",
    "\n",
    "Заполнение столбцов:\n",
    "- Проведена проверка заполнения столбца `middle_avg_bill` по условию задания, результаты соответствуют ожиданиям.  Этот столбец содержит числовые оценки среднего чека, указанные только для значений из столбца avg_bill, начинающихся с подстроки «Средний счёт».\n",
    "\n",
    "Учитывая высокую долю пропусков, удаление данных может существенно повлиять на объем выборки.\n",
    "</font>"
   ]
  },
  {
   "cell_type": "markdown",
   "id": "6953e84c",
   "metadata": {
    "id": "6953e84c"
   },
   "source": [
    "## 3. Исследовательский анализ данных\n",
    "Проведите исследовательский анализ исходных данных.\n",
    "\n",
    "При исследовании данных используйте визуализации. Проверьте, что для каждого случая подобран оптимальный тип визуализации с корректным оформлением. У графика должен быть заголовок, понятные подписи по осям, при необходимости легенда, а его размер является оптимальным для изучения.\n",
    "\n",
    "После исследования каждого пункта оставляйте небольшой комментарий с выводом или обсуждением результата. В конце шага обобщите результаты, выделив, по вашему мнению, самые важные."
   ]
  },
  {
   "cell_type": "markdown",
   "id": "8555d840",
   "metadata": {
    "id": "8555d840"
   },
   "source": [
    "---\n",
    "\n",
    "### Задача 1\n",
    "\n",
    "Какие категории заведений представлены в данных? Исследуйте количество объектов общественного питания по каждой категории. Результат сопроводите подходящей визуализацией."
   ]
  },
  {
   "cell_type": "code",
   "execution_count": 21,
   "id": "ef2bffe9",
   "metadata": {
    "id": "ef2bffe9"
   },
   "outputs": [
    {
     "data": {
      "text/plain": [
       "кафе               2377\n",
       "ресторан           2042\n",
       "кофейня            1413\n",
       "бар,паб             764\n",
       "пиццерия            633\n",
       "быстрое питание     603\n",
       "столовая            315\n",
       "булочная            256\n",
       "Name: category, dtype: int64"
      ]
     },
     "execution_count": 21,
     "metadata": {},
     "output_type": "execute_result"
    }
   ],
   "source": [
    "df['category'].value_counts()"
   ]
  },
  {
   "cell_type": "code",
   "execution_count": 22,
   "id": "71ab5e91",
   "metadata": {
    "id": "71ab5e91"
   },
   "outputs": [
    {
     "data": {
      "image/png": "[encoded data removed]",
      "text/plain": [
       "<Figure size 720x432 with 1 Axes>"
      ]
     },
     "metadata": {
      "needs_background": "light"
     },
     "output_type": "display_data"
    }
   ],
   "source": [
    "df['category'].value_counts().plot(kind= 'barh',\n",
    "                                   title= 'Количество объектов общественного питания по каждой категории',\n",
    "                                   ylabel= 'Категория',\n",
    "                                   color= 'skyblue',\n",
    "                                   figsize= (10, 6))\n",
    "plt.xlabel('Количество')\n",
    "plt.show()"
   ]
  },
  {
   "cell_type": "markdown",
   "id": "ad4a0c73",
   "metadata": {},
   "source": [
    "<font color='#777778'>Выводы:\n",
    "- Рестораны, кофейни и кафе занимают лидирующие позиции, составляя основу рынка общественного питания.\n",
    "- Бары и пиццерии также востребованы, но их доля меньше.\n",
    "- Заведения типа столовых, фаст-фуда и булочных встречаются значительно реже, что отражает меньшую популярность этих форматов.</font>"
   ]
  },
  {
   "cell_type": "markdown",
   "id": "6821e1d0",
   "metadata": {
    "id": "6821e1d0"
   },
   "source": [
    "---\n",
    "\n",
    "### Задача 2\n",
    "\n",
    "Какие административные районы Москвы присутствуют в данных? Исследуйте распределение количества заведений по административным районам Москвы, а также отдельно распределение заведений каждой категории в Центральном административном округе Москвы. Результат сопроводите подходящими визуализациями."
   ]
  },
  {
   "cell_type": "code",
   "execution_count": 23,
   "id": "e62f31be",
   "metadata": {
    "id": "e62f31be"
   },
   "outputs": [
    {
     "data": {
      "text/plain": [
       "Центральный административный округ         2242\n",
       "Северный административный округ             899\n",
       "Южный административный округ                892\n",
       "Северо-Восточный административный округ     890\n",
       "Западный административный округ             850\n",
       "Восточный административный округ            798\n",
       "Юго-Восточный административный округ        714\n",
       "Юго-Западный административный округ         709\n",
       "Северо-Западный административный округ      409\n",
       "Name: district, dtype: int64"
      ]
     },
     "execution_count": 23,
     "metadata": {},
     "output_type": "execute_result"
    }
   ],
   "source": [
    "df['district'].value_counts()"
   ]
  },
  {
   "cell_type": "code",
   "execution_count": 24,
   "id": "0a290cd1",
   "metadata": {
    "id": "0a290cd1"
   },
   "outputs": [
    {
     "data": {
      "image/png": "[encoded data removed]",
      "text/plain": [
       "<Figure size 720x432 with 1 Axes>"
      ]
     },
     "metadata": {
      "needs_background": "light"
     },
     "output_type": "display_data"
    }
   ],
   "source": [
    "df['district'].value_counts().plot(kind= 'barh',\n",
    "                                   title= 'Количество заведений по административным районам Москвы',\n",
    "                                   ylabel= 'Административный район',\n",
    "                                   color= 'skyblue',\n",
    "                                   figsize= (10, 6))\n",
    "plt.xlabel('Количество')\n",
    "plt.show()"
   ]
  },
  {
   "cell_type": "markdown",
   "id": "9b75536f",
   "metadata": {},
   "source": [
    "<font color='#777778'>Выводы:\n",
    "- Центральный административный округ имеет наибольшее количество заведений, что связано с его ролью делового и культурного центра города.\n",
    "- Северные, Южный и Северо-Восточный округа также демонстрируют значительное количество заведений, что может быть обусловлено плотностью населения и развитой инфраструктурой.\n",
    "- Западный, Восточный, Юго-Западный и Юго-Восточный округа имеют еще более меньшее количество.\n",
    "- Северо-Западный округ имеет наименьшее количество заведений, что может быть связано с менее развитой инфраструктурой.\n",
    "</font>"
   ]
  },
  {
   "cell_type": "code",
   "execution_count": 25,
   "id": "41f1654a",
   "metadata": {
    "id": "41f1654a"
   },
   "outputs": [
    {
     "data": {
      "text/plain": [
       "ресторан           670\n",
       "кафе               464\n",
       "кофейня            428\n",
       "бар,паб            364\n",
       "пиццерия           113\n",
       "быстрое питание     87\n",
       "столовая            66\n",
       "булочная            50\n",
       "Name: category, dtype: int64"
      ]
     },
     "execution_count": 25,
     "metadata": {},
     "output_type": "execute_result"
    }
   ],
   "source": [
    "df_central = df[df['district'] == 'Центральный административный округ']\n",
    "\n",
    "df_central['category'].value_counts()"
   ]
  },
  {
   "cell_type": "code",
   "execution_count": 26,
   "id": "9c75e55f",
   "metadata": {},
   "outputs": [
    {
     "data": {
      "image/png": "[encoded data removed]",
      "text/plain": [
       "<Figure size 720x432 with 1 Axes>"
      ]
     },
     "metadata": {
      "needs_background": "light"
     },
     "output_type": "display_data"
    }
   ],
   "source": [
    "df_central['category'].value_counts().plot(kind= 'barh',\n",
    "                                   title= 'Распределение заведений в Центральном административном округе Москвы',\n",
    "                                   ylabel= 'Категория',\n",
    "                                   color= 'skyblue',\n",
    "                                   figsize= (10, 6))\n",
    "plt.xlabel('Количество')\n",
    "plt.show()"
   ]
  },
  {
   "cell_type": "markdown",
   "id": "fe0340c1",
   "metadata": {},
   "source": [
    "<font color='#777778'>Выводы:\n",
    "- Рестораны, бары/пабы и кофейни занимают лидирующие позиции по количеству заведений.\n",
    "- Кафе и пиццерии также достаточно распространены, что подтверждает интерес потребителей к легкому питанию и итальянской кухне.\n",
    "- Заведения быстрого питания, столовые и булочные занимают меньшую долю рынка, что может отражать их более специализированный характер и ограниченный круг клиентов.</font>"
   ]
  },
  {
   "cell_type": "markdown",
   "id": "7c824f58",
   "metadata": {
    "id": "7c824f58"
   },
   "source": [
    "---\n",
    "\n",
    "### Задача 3\n",
    "\n",
    "Изучите соотношение сетевых и несетевых заведений в целом по всем данным и в разрезе категорий заведения. Каких заведений больше — сетевых или несетевых? Какие категории заведений чаще являются сетевыми? Исследуйте данные, ответьте на вопросы и постройте необходимые визуализации."
   ]
  },
  {
   "cell_type": "code",
   "execution_count": 27,
   "id": "ef442d1a",
   "metadata": {
    "id": "ef442d1a"
   },
   "outputs": [
    {
     "data": {
      "text/plain": [
       "несетевое    5200\n",
       "сетевое      3203\n",
       "Name: chain_str, dtype: int64"
      ]
     },
     "execution_count": 27,
     "metadata": {},
     "output_type": "execute_result"
    }
   ],
   "source": [
    "df['chain_str'] = df['chain'].replace({0: 'несетевое', 1: 'сетевое'})\n",
    "\n",
    "df['chain_str'].value_counts()"
   ]
  },
  {
   "cell_type": "code",
   "execution_count": 28,
   "id": "91fb6186",
   "metadata": {},
   "outputs": [
    {
     "data": {
      "image/png": "[encoded data removed]",
      "text/plain": [
       "<Figure size 720x432 with 1 Axes>"
      ]
     },
     "metadata": {},
     "output_type": "display_data"
    }
   ],
   "source": [
    "values = df['chain_str'].value_counts()\n",
    "labels = values.index\n",
    "\n",
    "plt.figure(figsize=(10, 6)) \n",
    "\n",
    "plt.pie(values,\n",
    "        labels=labels,\n",
    "        autopct='%1.1f%%',\n",
    "        startangle=90)      \n",
    "\n",
    "plt.title('Соотношение сетевых и несетевых заведений')\n",
    "\n",
    "plt.show()"
   ]
  },
  {
   "cell_type": "markdown",
   "id": "048a1f74",
   "metadata": {},
   "source": [
    "<font color='#777778'>Вывод:\n",
    "Несетевые заведения преобладают над сетевыми, имея значительное преимущество по численности. Несетевых магазинов насчитывается 5200, тогда как сетевых — 3203.\n",
    "</font>"
   ]
  },
  {
   "cell_type": "code",
   "execution_count": 29,
   "id": "0de29fa2",
   "metadata": {
    "id": "0de29fa2"
   },
   "outputs": [],
   "source": [
    "df_chain = df[df['chain_str'] == 'сетевое']"
   ]
  },
  {
   "cell_type": "code",
   "execution_count": 30,
   "id": "6341c727",
   "metadata": {},
   "outputs": [
    {
     "data": {
      "text/html": [
       "<div>\n",
       "<style scoped>\n",
       "    .dataframe tbody tr th:only-of-type {\n",
       "        vertical-align: middle;\n",
       "    }\n",
       "\n",
       "    .dataframe tbody tr th {\n",
       "        vertical-align: top;\n",
       "    }\n",
       "\n",
       "    .dataframe thead th {\n",
       "        text-align: right;\n",
       "    }\n",
       "</style>\n",
       "<table border=\"1\" class=\"dataframe\">\n",
       "  <thead>\n",
       "    <tr style=\"text-align: right;\">\n",
       "      <th></th>\n",
       "      <th>category</th>\n",
       "      <th>chain_str</th>\n",
       "    </tr>\n",
       "  </thead>\n",
       "  <tbody>\n",
       "    <tr>\n",
       "      <th>1</th>\n",
       "      <td>булочная</td>\n",
       "      <td>0.61</td>\n",
       "    </tr>\n",
       "    <tr>\n",
       "      <th>5</th>\n",
       "      <td>пиццерия</td>\n",
       "      <td>0.52</td>\n",
       "    </tr>\n",
       "    <tr>\n",
       "      <th>4</th>\n",
       "      <td>кофейня</td>\n",
       "      <td>0.51</td>\n",
       "    </tr>\n",
       "    <tr>\n",
       "      <th>2</th>\n",
       "      <td>быстрое питание</td>\n",
       "      <td>0.38</td>\n",
       "    </tr>\n",
       "    <tr>\n",
       "      <th>6</th>\n",
       "      <td>ресторан</td>\n",
       "      <td>0.36</td>\n",
       "    </tr>\n",
       "    <tr>\n",
       "      <th>3</th>\n",
       "      <td>кафе</td>\n",
       "      <td>0.33</td>\n",
       "    </tr>\n",
       "    <tr>\n",
       "      <th>7</th>\n",
       "      <td>столовая</td>\n",
       "      <td>0.28</td>\n",
       "    </tr>\n",
       "    <tr>\n",
       "      <th>0</th>\n",
       "      <td>бар,паб</td>\n",
       "      <td>0.22</td>\n",
       "    </tr>\n",
       "  </tbody>\n",
       "</table>\n",
       "</div>"
      ],
      "text/plain": [
       "          category  chain_str\n",
       "1         булочная       0.61\n",
       "5         пиццерия       0.52\n",
       "4          кофейня       0.51\n",
       "2  быстрое питание       0.38\n",
       "6         ресторан       0.36\n",
       "3             кафе       0.33\n",
       "7         столовая       0.28\n",
       "0          бар,паб       0.22"
      ]
     },
     "execution_count": 30,
     "metadata": {},
     "output_type": "execute_result"
    }
   ],
   "source": [
    "df_chain_share = (df_chain.groupby('category')['chain_str'].count() / df.groupby('category')['chain_str'].count()).round(2).reset_index().sort_values(by= 'chain_str', ascending= False)\n",
    "\n",
    "df_chain_share"
   ]
  },
  {
   "cell_type": "code",
   "execution_count": 31,
   "id": "a139bd72",
   "metadata": {
    "id": "a139bd72"
   },
   "outputs": [
    {
     "data": {
      "image/png": "[encoded data removed]",
      "text/plain": [
       "<Figure size 720x432 with 1 Axes>"
      ]
     },
     "metadata": {
      "needs_background": "light"
     },
     "output_type": "display_data"
    }
   ],
   "source": [
    "fig, ax = plt.subplots(figsize=(10, 6))\n",
    "\n",
    "ax.bar(df_chain_share['category'], df_chain_share['chain_str'], color= 'skyblue')\n",
    "\n",
    "ax.set_xticklabels(df_chain_share['category'], rotation=75, ha='right', va='top')\n",
    "ax.set_xlabel('Категория')\n",
    "ax.set_ylabel('Доля сетевых заведений')\n",
    "\n",
    "ax.set_title('Доля сетевых заведений внутри категорий')\n",
    "\n",
    "plt.show()"
   ]
  },
  {
   "cell_type": "markdown",
   "id": "aa23c6c5",
   "metadata": {},
   "source": [
    "<font color='#777778'>Вывод:\n",
    "- В большинстве категорий количество несетевых заведений превышает сетевые. \n",
    "- Однако есть категории, где сетевые заведения либо доминируют, либо близки по количеству к несетевым.\n",
    "</font>"
   ]
  },
  {
   "cell_type": "markdown",
   "id": "5913c3e3",
   "metadata": {
    "id": "5913c3e3"
   },
   "source": [
    "---\n",
    "\n",
    "### Задача 4\n",
    "\n",
    "Исследуйте количество посадочных мест в заведениях. Встречаются ли в данных аномальные значения или выбросы? Если да, то с чем они могут быть связаны? Приведите для каждой категории заведений наиболее типичное для него количество посадочных мест. Результат сопроводите подходящими визуализациями.\n"
   ]
  },
  {
   "cell_type": "code",
   "execution_count": 32,
   "id": "7939cfbf",
   "metadata": {},
   "outputs": [
    {
     "data": {
      "text/plain": [
       "count    4792.000000\n",
       "mean      108.361436\n",
       "std       122.841130\n",
       "min         0.000000\n",
       "25%        40.000000\n",
       "50%        75.000000\n",
       "75%       140.000000\n",
       "max      1288.000000\n",
       "Name: seats, dtype: float64"
      ]
     },
     "execution_count": 32,
     "metadata": {},
     "output_type": "execute_result"
    }
   ],
   "source": [
    "df['seats'].describe()"
   ]
  },
  {
   "cell_type": "markdown",
   "id": "b13ae355",
   "metadata": {},
   "source": [
    "<font color='#777778'>Для начала, посмотрим на значения, которые мы имеем:\n",
    "- Среднее значение (mean) = 109.42\n",
    "- Стандартное отклонение (std) = 114.7\n",
    "- Максимальное значение (max) = 1288\n",
    "\n",
    "Максимальное значение в данных — 1288. Это значение значительно превышает верхнюю границу в 95 и 99 процентиля, что указывает на наличие выброса.\n",
    "\n",
    "</font>"
   ]
  },
  {
   "cell_type": "code",
   "execution_count": 33,
   "id": "f5120509",
   "metadata": {},
   "outputs": [
    {
     "data": {
      "text/plain": [
       "count    4550.000000\n",
       "mean       88.127692\n",
       "std        70.859617\n",
       "min         0.000000\n",
       "25%        40.000000\n",
       "50%        70.000000\n",
       "75%       120.000000\n",
       "max       306.000000\n",
       "Name: seats, dtype: float64"
      ]
     },
     "execution_count": 33,
     "metadata": {},
     "output_type": "execute_result"
    }
   ],
   "source": [
    "outliers = df['seats'].quantile(0.95)\n",
    "\n",
    "# Отбираем данные, оставляя значения меньше найденного порога выбросов\n",
    "new_df = df.loc[df['seats'] < outliers]\n",
    "\n",
    "new_df['seats'].describe()"
   ]
  },
  {
   "cell_type": "markdown",
   "id": "a547a7ce",
   "metadata": {},
   "source": [
    "<font color='#777778'>Отбираем данные, оставляя значения меньше найденного порога выбросов:\n",
    "- Среднее значение (mean) = 90.61\n",
    "- Стандартное отклонение (std) = 70.37\n",
    "- Максимальное значение (max) = 310\n",
    "\n",
    "Поскольку минимальное значение равно 0, оно находится внутри допустимого диапазона, так как отрицательные значения в данном контексте недопустимы. Однако максимальное значение (310), следовательно, выбросов среди данных нет.\n",
    "\n",
    "</front>"
   ]
  },
  {
   "cell_type": "code",
   "execution_count": 34,
   "id": "9ebebbdc",
   "metadata": {},
   "outputs": [
    {
     "data": {
      "image/png": "[encoded data removed]",
      "text/plain": [
       "<Figure size 720x432 with 1 Axes>"
      ]
     },
     "metadata": {
      "needs_background": "light"
     },
     "output_type": "display_data"
    }
   ],
   "source": [
    "new_df['seats'].plot(kind= 'hist',\n",
    "                 bins= 30,\n",
    "                 title= 'Количество посадочных мест в заведениях',\n",
    "                 color= 'skyblue',\n",
    "                 figsize= (10, 6))\n",
    "\n",
    "plt.grid(axis= 'y')\n",
    "plt.show()"
   ]
  },
  {
   "cell_type": "code",
   "execution_count": 35,
   "id": "6cb238d2",
   "metadata": {
    "id": "6cb238d2"
   },
   "outputs": [
    {
     "data": {
      "image/png": "[encoded data removed]",
      "text/plain": [
       "<Figure size 720x432 with 1 Axes>"
      ]
     },
     "metadata": {
      "needs_background": "light"
     },
     "output_type": "display_data"
    }
   ],
   "source": [
    "new_df['seats'].plot(kind= 'box',\n",
    "                 vert= False,\n",
    "                 title= 'Распределение количества посадочных мест в заведениях',\n",
    "                 figsize= (10, 6))\n",
    "\n",
    "plt.show()"
   ]
  },
  {
   "cell_type": "markdown",
   "id": "b5b04d2c",
   "metadata": {},
   "source": [
    "Приведите для каждой категории заведений наиболее типичное для него количество посадочных мест"
   ]
  },
  {
   "cell_type": "code",
   "execution_count": 36,
   "id": "ceadf25b",
   "metadata": {
    "id": "ceadf25b"
   },
   "outputs": [
    {
     "data": {
      "text/html": [
       "<div>\n",
       "<style scoped>\n",
       "    .dataframe tbody tr th:only-of-type {\n",
       "        vertical-align: middle;\n",
       "    }\n",
       "\n",
       "    .dataframe tbody tr th {\n",
       "        vertical-align: top;\n",
       "    }\n",
       "\n",
       "    .dataframe thead th {\n",
       "        text-align: right;\n",
       "    }\n",
       "</style>\n",
       "<table border=\"1\" class=\"dataframe\">\n",
       "  <thead>\n",
       "    <tr style=\"text-align: right;\">\n",
       "      <th></th>\n",
       "      <th>category</th>\n",
       "      <th>seats</th>\n",
       "    </tr>\n",
       "  </thead>\n",
       "  <tbody>\n",
       "    <tr>\n",
       "      <th>0</th>\n",
       "      <td>бар,паб</td>\n",
       "      <td>80.0</td>\n",
       "    </tr>\n",
       "    <tr>\n",
       "      <th>6</th>\n",
       "      <td>ресторан</td>\n",
       "      <td>80.0</td>\n",
       "    </tr>\n",
       "    <tr>\n",
       "      <th>7</th>\n",
       "      <td>столовая</td>\n",
       "      <td>72.0</td>\n",
       "    </tr>\n",
       "    <tr>\n",
       "      <th>4</th>\n",
       "      <td>кофейня</td>\n",
       "      <td>70.0</td>\n",
       "    </tr>\n",
       "    <tr>\n",
       "      <th>2</th>\n",
       "      <td>быстрое питание</td>\n",
       "      <td>60.0</td>\n",
       "    </tr>\n",
       "    <tr>\n",
       "      <th>3</th>\n",
       "      <td>кафе</td>\n",
       "      <td>55.5</td>\n",
       "    </tr>\n",
       "    <tr>\n",
       "      <th>5</th>\n",
       "      <td>пиццерия</td>\n",
       "      <td>50.0</td>\n",
       "    </tr>\n",
       "    <tr>\n",
       "      <th>1</th>\n",
       "      <td>булочная</td>\n",
       "      <td>48.5</td>\n",
       "    </tr>\n",
       "  </tbody>\n",
       "</table>\n",
       "</div>"
      ],
      "text/plain": [
       "          category  seats\n",
       "0          бар,паб   80.0\n",
       "6         ресторан   80.0\n",
       "7         столовая   72.0\n",
       "4          кофейня   70.0\n",
       "2  быстрое питание   60.0\n",
       "3             кафе   55.5\n",
       "5         пиццерия   50.0\n",
       "1         булочная   48.5"
      ]
     },
     "execution_count": 36,
     "metadata": {},
     "output_type": "execute_result"
    }
   ],
   "source": [
    "cat_se = new_df.groupby('category', as_index= False)['seats'].median().sort_values(by= 'seats', ascending= False)\n",
    "\n",
    "cat_se"
   ]
  },
  {
   "cell_type": "code",
   "execution_count": 37,
   "id": "054efb66",
   "metadata": {},
   "outputs": [
    {
     "data": {
      "image/png": "[encoded data removed]",
      "text/plain": [
       "<Figure size 720x432 with 1 Axes>"
      ]
     },
     "metadata": {
      "needs_background": "light"
     },
     "output_type": "display_data"
    }
   ],
   "source": [
    "cat_se.plot(kind= 'barh',\n",
    "            x= 'category',\n",
    "            title= 'Количество посадочных мест по категории заведений',\n",
    "            xlabel= 'Категория',\n",
    "            color= 'skyblue',\n",
    "            figsize= (10, 6))\n",
    "\n",
    "plt.xlabel('Количество')\n",
    "plt.grid(axis= 'x')\n",
    "plt.show()"
   ]
  },
  {
   "cell_type": "markdown",
   "id": "d1ac0083",
   "metadata": {},
   "source": [
    "<font color='#777778'>Вывод:<br>\n",
    "Если убрать аномальные значения и выбросы.\n",
    "- Максимальное количество мест — в категории \"ресторан\" (80 места).\n",
    "- Минимальное количество мест — в категории \"булочная\" (48 мест).\n",
    "\n",
    "В заведениях типа \"бар, паб\" и \"быстрое питание\" количество мест примерно одинаковое (около 80), что делает эти заведения одними из самых вместительных после ресторанов.\n",
    "\n",
    "Заведения вроде \"булочной\", \"кофейни\" и \"столовой\" имеют схожее среднее количество мест (около 48-55).\n",
    "</font>"
   ]
  },
  {
   "cell_type": "markdown",
   "id": "8ed065ea",
   "metadata": {
    "id": "8ed065ea"
   },
   "source": [
    "---\n",
    "\n",
    "### Задача 5\n",
    "\n",
    "Исследуйте рейтинг заведений. Визуализируйте распределение средних рейтингов по категориям заведений. Сильно ли различаются усреднённые рейтинги для разных типов общепита?"
   ]
  },
  {
   "cell_type": "code",
   "execution_count": 38,
   "id": "cc5206f8",
   "metadata": {
    "id": "cc5206f8"
   },
   "outputs": [
    {
     "data": {
      "text/html": [
       "<div>\n",
       "<style scoped>\n",
       "    .dataframe tbody tr th:only-of-type {\n",
       "        vertical-align: middle;\n",
       "    }\n",
       "\n",
       "    .dataframe tbody tr th {\n",
       "        vertical-align: top;\n",
       "    }\n",
       "\n",
       "    .dataframe thead th {\n",
       "        text-align: right;\n",
       "    }\n",
       "</style>\n",
       "<table border=\"1\" class=\"dataframe\">\n",
       "  <thead>\n",
       "    <tr style=\"text-align: right;\">\n",
       "      <th></th>\n",
       "      <th>category</th>\n",
       "      <th>rating</th>\n",
       "    </tr>\n",
       "  </thead>\n",
       "  <tbody>\n",
       "    <tr>\n",
       "      <th>0</th>\n",
       "      <td>бар,паб</td>\n",
       "      <td>4.39</td>\n",
       "    </tr>\n",
       "    <tr>\n",
       "      <th>5</th>\n",
       "      <td>пиццерия</td>\n",
       "      <td>4.30</td>\n",
       "    </tr>\n",
       "    <tr>\n",
       "      <th>6</th>\n",
       "      <td>ресторан</td>\n",
       "      <td>4.29</td>\n",
       "    </tr>\n",
       "    <tr>\n",
       "      <th>4</th>\n",
       "      <td>кофейня</td>\n",
       "      <td>4.28</td>\n",
       "    </tr>\n",
       "    <tr>\n",
       "      <th>1</th>\n",
       "      <td>булочная</td>\n",
       "      <td>4.27</td>\n",
       "    </tr>\n",
       "    <tr>\n",
       "      <th>7</th>\n",
       "      <td>столовая</td>\n",
       "      <td>4.21</td>\n",
       "    </tr>\n",
       "    <tr>\n",
       "      <th>3</th>\n",
       "      <td>кафе</td>\n",
       "      <td>4.12</td>\n",
       "    </tr>\n",
       "    <tr>\n",
       "      <th>2</th>\n",
       "      <td>быстрое питание</td>\n",
       "      <td>4.05</td>\n",
       "    </tr>\n",
       "  </tbody>\n",
       "</table>\n",
       "</div>"
      ],
      "text/plain": [
       "          category  rating\n",
       "0          бар,паб    4.39\n",
       "5         пиццерия    4.30\n",
       "6         ресторан    4.29\n",
       "4          кофейня    4.28\n",
       "1         булочная    4.27\n",
       "7         столовая    4.21\n",
       "3             кафе    4.12\n",
       "2  быстрое питание    4.05"
      ]
     },
     "execution_count": 38,
     "metadata": {},
     "output_type": "execute_result"
    }
   ],
   "source": [
    "df_rating = df.groupby('category', as_index= False)['rating'].mean().round(2).sort_values(by= 'rating', ascending= False)\n",
    "\n",
    "df_rating"
   ]
  },
  {
   "cell_type": "code",
   "execution_count": 39,
   "id": "3e0ec5d7",
   "metadata": {
    "id": "3e0ec5d7"
   },
   "outputs": [
    {
     "data": {
      "image/png": "[encoded data removed]",
      "text/plain": [
       "<Figure size 720x432 with 1 Axes>"
      ]
     },
     "metadata": {
      "needs_background": "light"
     },
     "output_type": "display_data"
    }
   ],
   "source": [
    "df_rating.plot(kind= 'bar',\n",
    "              title= 'Распределение среднего рейтинга по категориям заведений',\n",
    "              ylabel= 'Средний рейтинг',\n",
    "              xlabel= 'Категория',\n",
    "              color= 'skyblue',\n",
    "              rot= 75,\n",
    "              figsize= (10, 6),\n",
    "              x= 'category')\n",
    "\n",
    "plt.grid(axis= 'y')\n",
    "plt.show()"
   ]
  },
  {
   "cell_type": "markdown",
   "id": "080ac562",
   "metadata": {},
   "source": [
    "<font color='#777778'>Вывод:<br>\n",
    "Усреднённые рейтинги для разных типов заведений варьируются незначительно. Разница между максимальным рейтингом (ресторан — 4.37) и минимальным (булочная — 4.17) составляет всего 0.20 балла. \n",
    "</font>"
   ]
  },
  {
   "cell_type": "markdown",
   "id": "dd9702d9",
   "metadata": {
    "id": "dd9702d9"
   },
   "source": [
    "---\n",
    "\n",
    "### Задача 6\n",
    "\n",
    "Изучите, с какими данными показывают самую сильную корреляцию рейтинги заведений? Постройте и визуализируйте матрицу корреляции рейтинга заведения с разными данными: его категория, положение (административный район Москвы), статус сетевого заведения, количество мест, ценовая категория и признак, является ли заведения круглосуточным. Выберите самую сильную связь и проверьте её."
   ]
  },
  {
   "cell_type": "code",
   "execution_count": 40,
   "id": "15400eb9",
   "metadata": {
    "id": "15400eb9"
   },
   "outputs": [
    {
     "name": "stdout",
     "output_type": "stream",
     "text": [
      "interval columns not set, guessing: ['chain', 'seats', 'rating']\n",
      "Корреляционная матрица с коэффициентом phi_k для переменной rating\n"
     ]
    },
    {
     "data": {
      "text/html": [
       "<div>\n",
       "<style scoped>\n",
       "    .dataframe tbody tr th:only-of-type {\n",
       "        vertical-align: middle;\n",
       "    }\n",
       "\n",
       "    .dataframe tbody tr th {\n",
       "        vertical-align: top;\n",
       "    }\n",
       "\n",
       "    .dataframe thead th {\n",
       "        text-align: right;\n",
       "    }\n",
       "</style>\n",
       "<table border=\"1\" class=\"dataframe\">\n",
       "  <thead>\n",
       "    <tr style=\"text-align: right;\">\n",
       "      <th></th>\n",
       "      <th>rating</th>\n",
       "    </tr>\n",
       "  </thead>\n",
       "  <tbody>\n",
       "    <tr>\n",
       "      <th>price</th>\n",
       "      <td>0.220295</td>\n",
       "    </tr>\n",
       "    <tr>\n",
       "      <th>district</th>\n",
       "      <td>0.200701</td>\n",
       "    </tr>\n",
       "    <tr>\n",
       "      <th>category</th>\n",
       "      <td>0.189904</td>\n",
       "    </tr>\n",
       "    <tr>\n",
       "      <th>is_24_7</th>\n",
       "      <td>0.150210</td>\n",
       "    </tr>\n",
       "    <tr>\n",
       "      <th>chain</th>\n",
       "      <td>0.108060</td>\n",
       "    </tr>\n",
       "    <tr>\n",
       "      <th>seats</th>\n",
       "      <td>0.000000</td>\n",
       "    </tr>\n",
       "  </tbody>\n",
       "</table>\n",
       "</div>"
      ],
      "text/plain": [
       "            rating\n",
       "price     0.220295\n",
       "district  0.200701\n",
       "category  0.189904\n",
       "is_24_7   0.150210\n",
       "chain     0.108060\n",
       "seats     0.000000"
      ]
     },
     "execution_count": 40,
     "metadata": {},
     "output_type": "execute_result"
    }
   ],
   "source": [
    "# Вычисляем корреляционную матрицу с использованием phi_k\n",
    "corr_matrix = df[['category', 'district', 'chain', 'seats', 'price',\n",
    "                         'is_24_7', 'rating']].phik_matrix()\n",
    "\n",
    "# Выводим результат\n",
    "print('Корреляционная матрица с коэффициентом phi_k для переменной rating')\n",
    "corr_matrix.loc[corr_matrix.index != 'rating'][['rating']].sort_values(by='rating', ascending=False)"
   ]
  },
  {
   "cell_type": "code",
   "execution_count": 41,
   "id": "8f0379af",
   "metadata": {
    "id": "8f0379af"
   },
   "outputs": [
    {
     "data": {
      "image/png": "[encoded data removed]",
      "text/plain": [
       "<Figure size 144x432 with 1 Axes>"
      ]
     },
     "metadata": {
      "needs_background": "light"
     },
     "output_type": "display_data"
    }
   ],
   "source": [
    "plt.figure(figsize=(2, 6))\n",
    "\n",
    "# Сохраняем матрицу корреляции признака churn с другими признаками клиента\n",
    "data_heatmap = corr_matrix.loc[corr_matrix.index != 'rating'][['rating']].sort_values(by='rating', ascending=False)\n",
    "sns.heatmap(data_heatmap,\n",
    "            annot=True, # Отображаем численные значения в ячейках карты\n",
    "            fmt='.2f', # Форматируем значения корреляции: два знака после точки\n",
    "            cmap='coolwarm', # Устанавливаем цветовую гамму от красного (макс. значение) к синему\n",
    "            linewidths=0.5, # Форматируем линию между ячейками карты\n",
    "            cbar=False # Отключаем цветовую шкалу\n",
    "           )\n",
    "\n",
    "# Добавляем заголовок и подпись по оси Х\n",
    "plt.title('Тепловая карта коэффициента phi_k \\n для данных rating')\n",
    "\n",
    "# Выводим график\n",
    "plt.show()"
   ]
  },
  {
   "cell_type": "markdown",
   "id": "435c911e",
   "metadata": {},
   "source": [
    "<font color='#777778'>Вывод:\n",
    "- Цена» (коэффициент корреляции равен 0.220295) -  наиболее сильная корреляция.\n",
    "- Категория (коэффициент корреляции 0.208056) — также показывает заметную корреляцию с рейтингом.\n",
    "- Район (коэффициент корреляции 0.185866) — корреляция чуть меньше, но тоже существенна. \n",
    "- Сеть (коэффициент корреляции 0.151431),\n",
    "- Работа круглосуточно (коэффициент корреляции 0.124523),\n",
    "- Количество мест (коэффициент корреляции 0.000000) — судя по всему, практически не коррелируют с рейтингом.\n",
    "\n",
    "Самые сильные корреляции с рейтингом заведения наблюдаются с переменными «цена» и «категория». Эти факторы оказывают наибольшее влияние на формирование рейтинга заведения.\n",
    "</font>"
   ]
  },
  {
   "cell_type": "markdown",
   "id": "370de703",
   "metadata": {
    "id": "370de703"
   },
   "source": [
    "---\n",
    "\n",
    "### Задача 7\n",
    "\n",
    "Сгруппируйте данные по названиям заведений и найдите топ-15 популярных сетей в Москве. Для них посчитайте значения среднего рейтинга. Под популярностью понимается количество заведений этой сети в регионе. К какой категории заведений они относятся? Результат сопроводите подходящими визуализациями."
   ]
  },
  {
   "cell_type": "code",
   "execution_count": 43,
   "id": "5d828a9a",
   "metadata": {
    "id": "5d828a9a"
   },
   "outputs": [
    {
     "data": {
      "text/html": [
       "<div>\n",
       "<style scoped>\n",
       "    .dataframe tbody tr th:only-of-type {\n",
       "        vertical-align: middle;\n",
       "    }\n",
       "\n",
       "    .dataframe tbody tr th {\n",
       "        vertical-align: top;\n",
       "    }\n",
       "\n",
       "    .dataframe thead th {\n",
       "        text-align: right;\n",
       "    }\n",
       "</style>\n",
       "<table border=\"1\" class=\"dataframe\">\n",
       "  <thead>\n",
       "    <tr style=\"text-align: right;\">\n",
       "      <th></th>\n",
       "      <th>name</th>\n",
       "      <th>category</th>\n",
       "      <th>id</th>\n",
       "      <th>rating</th>\n",
       "    </tr>\n",
       "  </thead>\n",
       "  <tbody>\n",
       "    <tr>\n",
       "      <th>3038</th>\n",
       "      <td>кафе</td>\n",
       "      <td>кафе</td>\n",
       "      <td>159</td>\n",
       "      <td>3.85</td>\n",
       "    </tr>\n",
       "    <tr>\n",
       "      <th>5869</th>\n",
       "      <td>шоколадница</td>\n",
       "      <td>кофейня</td>\n",
       "      <td>119</td>\n",
       "      <td>4.18</td>\n",
       "    </tr>\n",
       "    <tr>\n",
       "      <th>2713</th>\n",
       "      <td>домино'с пицца</td>\n",
       "      <td>пиццерия</td>\n",
       "      <td>77</td>\n",
       "      <td>4.17</td>\n",
       "    </tr>\n",
       "    <tr>\n",
       "      <th>2678</th>\n",
       "      <td>додо пицца</td>\n",
       "      <td>пиццерия</td>\n",
       "      <td>74</td>\n",
       "      <td>4.29</td>\n",
       "    </tr>\n",
       "    <tr>\n",
       "      <th>1202</th>\n",
       "      <td>one price coffee</td>\n",
       "      <td>кофейня</td>\n",
       "      <td>72</td>\n",
       "      <td>4.07</td>\n",
       "    </tr>\n",
       "    <tr>\n",
       "      <th>5945</th>\n",
       "      <td>яндекс лавка</td>\n",
       "      <td>ресторан</td>\n",
       "      <td>69</td>\n",
       "      <td>3.87</td>\n",
       "    </tr>\n",
       "    <tr>\n",
       "      <th>427</th>\n",
       "      <td>cofix</td>\n",
       "      <td>кофейня</td>\n",
       "      <td>65</td>\n",
       "      <td>4.08</td>\n",
       "    </tr>\n",
       "    <tr>\n",
       "      <th>1343</th>\n",
       "      <td>prime</td>\n",
       "      <td>ресторан</td>\n",
       "      <td>49</td>\n",
       "      <td>4.11</td>\n",
       "    </tr>\n",
       "    <tr>\n",
       "      <th>3415</th>\n",
       "      <td>кофепорт</td>\n",
       "      <td>кофейня</td>\n",
       "      <td>42</td>\n",
       "      <td>4.15</td>\n",
       "    </tr>\n",
       "    <tr>\n",
       "      <th>3479</th>\n",
       "      <td>кулинарная лавка братьев караваевых</td>\n",
       "      <td>кафе</td>\n",
       "      <td>39</td>\n",
       "      <td>4.39</td>\n",
       "    </tr>\n",
       "    <tr>\n",
       "      <th>5076</th>\n",
       "      <td>теремок</td>\n",
       "      <td>ресторан</td>\n",
       "      <td>36</td>\n",
       "      <td>4.11</td>\n",
       "    </tr>\n",
       "    <tr>\n",
       "      <th>4508</th>\n",
       "      <td>ресторан</td>\n",
       "      <td>ресторан</td>\n",
       "      <td>33</td>\n",
       "      <td>4.32</td>\n",
       "    </tr>\n",
       "    <tr>\n",
       "      <th>5754</th>\n",
       "      <td>шаурма</td>\n",
       "      <td>быстрое питание</td>\n",
       "      <td>32</td>\n",
       "      <td>3.85</td>\n",
       "    </tr>\n",
       "    <tr>\n",
       "      <th>355</th>\n",
       "      <td>cofefest</td>\n",
       "      <td>кофейня</td>\n",
       "      <td>31</td>\n",
       "      <td>3.98</td>\n",
       "    </tr>\n",
       "    <tr>\n",
       "      <th>5525</th>\n",
       "      <td>чайхана</td>\n",
       "      <td>кафе</td>\n",
       "      <td>26</td>\n",
       "      <td>3.95</td>\n",
       "    </tr>\n",
       "  </tbody>\n",
       "</table>\n",
       "</div>"
      ],
      "text/plain": [
       "                                     name         category   id  rating\n",
       "3038                                 кафе             кафе  159    3.85\n",
       "5869                          шоколадница          кофейня  119    4.18\n",
       "2713                       домино'с пицца         пиццерия   77    4.17\n",
       "2678                           додо пицца         пиццерия   74    4.29\n",
       "1202                     one price coffee          кофейня   72    4.07\n",
       "5945                         яндекс лавка         ресторан   69    3.87\n",
       "427                                 cofix          кофейня   65    4.08\n",
       "1343                                prime         ресторан   49    4.11\n",
       "3415                             кофепорт          кофейня   42    4.15\n",
       "3479  кулинарная лавка братьев караваевых             кафе   39    4.39\n",
       "5076                              теремок         ресторан   36    4.11\n",
       "4508                             ресторан         ресторан   33    4.32\n",
       "5754                               шаурма  быстрое питание   32    3.85\n",
       "355                              cofefest          кофейня   31    3.98\n",
       "5525                              чайхана             кафе   26    3.95"
      ]
     },
     "execution_count": 43,
     "metadata": {},
     "output_type": "execute_result"
    }
   ],
   "source": [
    "df.groupby(['name', 'category'], \n",
    "           as_index= False).agg({'id': 'count', \n",
    "                                 'rating': 'mean'},).sort_values(by= 'id', \n",
    "                                                                 ascending= False).head(15).round(2)\n"
   ]
  },
  {
   "cell_type": "code",
   "execution_count": 44,
   "id": "d013c598",
   "metadata": {
    "id": "d013c598"
   },
   "outputs": [
    {
     "data": {
      "image/png": "[encoded data removed]",
      "text/plain": [
       "<Figure size 720x432 with 1 Axes>"
      ]
     },
     "metadata": {
      "needs_background": "light"
     },
     "output_type": "display_data"
    }
   ],
   "source": [
    "df.groupby(['name', 'category'])['id'].count().sort_values(ascending= False).head(15).plot(kind= 'barh',\n",
    "                                                               title= 'Топ-15 популярных сетей в Москве',\n",
    "                                                               xlabel= 'Название',\n",
    "                                                               figsize= (10, 6),\n",
    "                                                               color= 'skyblue')\n",
    "plt.grid(axis= 'x')\n",
    "plt.show()"
   ]
  },
  {
   "cell_type": "code",
   "execution_count": 45,
   "id": "0d8f625b",
   "metadata": {},
   "outputs": [],
   "source": [
    "name_cat_rating = df.groupby(['name', 'category'], \n",
    "           as_index= False).agg({'id': 'count', \n",
    "                                 'rating': 'mean'},).sort_values(by= 'id', \n",
    "                                                                 ascending= False).head(15).round(2)"
   ]
  },
  {
   "cell_type": "code",
   "execution_count": 46,
   "id": "90688b9a",
   "metadata": {},
   "outputs": [
    {
     "data": {
      "image/png": "[encoded data removed]",
      "text/plain": [
       "<Figure size 720x432 with 1 Axes>"
      ]
     },
     "metadata": {
      "needs_background": "light"
     },
     "output_type": "display_data"
    }
   ],
   "source": [
    "name_cat_rating.plot(kind= 'barh',\n",
    "                    y= 'rating',\n",
    "                    x= 'name',\n",
    "                    title= 'Рейтинг топ-15 популярных сетей в Москве',\n",
    "                    figsize= (10, 6),\n",
    "                    color= 'skyblue')\n",
    "\n",
    "plt.ylabel('Название')\n",
    "plt.xlabel('Рейтинг')\n",
    "plt.grid(axis= 'x')\n",
    "plt.show()"
   ]
  },
  {
   "cell_type": "markdown",
   "id": "fd6840cc",
   "metadata": {},
   "source": [
    "<font color='#777778'>Вывод:<br>\n",
    "Наиболее распространенными являются кофейни и пиццерии, такие как \"Шоколадница\", \"Додо Пицца\" и \"Домино'с Пицца\". Рестораны также занимают значительную долю рынка, особенно такие сети, как \"Теремок\" и \"Тануки\". Бар/пабы представлены в меньшей степени, но также имеют свою аудиторию.\n",
    "</font>"
   ]
  },
  {
   "cell_type": "markdown",
   "id": "85a90a94",
   "metadata": {
    "id": "85a90a94"
   },
   "source": [
    "---\n",
    "\n",
    "### Задача 8\n",
    "\n",
    "Изучите вариацию среднего чека заведения (столбец `middle_avg_bill`) в зависимости от района Москвы. Проанализируйте цены в Центральном административном округе и других. Как удалённость от центра влияет на цены в заведениях? Результат сопроводите подходящими визуализациями.\n"
   ]
  },
  {
   "cell_type": "code",
   "execution_count": 47,
   "id": "5fb4ffc6",
   "metadata": {
    "id": "5fb4ffc6"
   },
   "outputs": [
    {
     "data": {
      "text/html": [
       "<div>\n",
       "<style scoped>\n",
       "    .dataframe tbody tr th:only-of-type {\n",
       "        vertical-align: middle;\n",
       "    }\n",
       "\n",
       "    .dataframe tbody tr th {\n",
       "        vertical-align: top;\n",
       "    }\n",
       "\n",
       "    .dataframe thead th {\n",
       "        text-align: right;\n",
       "    }\n",
       "</style>\n",
       "<table border=\"1\" class=\"dataframe\">\n",
       "  <thead>\n",
       "    <tr style=\"text-align: right;\">\n",
       "      <th></th>\n",
       "      <th>district</th>\n",
       "      <th>middle_avg_bill</th>\n",
       "    </tr>\n",
       "  </thead>\n",
       "  <tbody>\n",
       "    <tr>\n",
       "      <th>5</th>\n",
       "      <td>Центральный административный округ</td>\n",
       "      <td>1191.06</td>\n",
       "    </tr>\n",
       "    <tr>\n",
       "      <th>1</th>\n",
       "      <td>Западный административный округ</td>\n",
       "      <td>1053.23</td>\n",
       "    </tr>\n",
       "    <tr>\n",
       "      <th>2</th>\n",
       "      <td>Северный административный округ</td>\n",
       "      <td>927.96</td>\n",
       "    </tr>\n",
       "    <tr>\n",
       "      <th>8</th>\n",
       "      <td>Южный административный округ</td>\n",
       "      <td>834.40</td>\n",
       "    </tr>\n",
       "    <tr>\n",
       "      <th>4</th>\n",
       "      <td>Северо-Западный административный округ</td>\n",
       "      <td>822.22</td>\n",
       "    </tr>\n",
       "    <tr>\n",
       "      <th>0</th>\n",
       "      <td>Восточный административный округ</td>\n",
       "      <td>820.63</td>\n",
       "    </tr>\n",
       "    <tr>\n",
       "      <th>7</th>\n",
       "      <td>Юго-Западный административный округ</td>\n",
       "      <td>792.56</td>\n",
       "    </tr>\n",
       "    <tr>\n",
       "      <th>3</th>\n",
       "      <td>Северо-Восточный административный округ</td>\n",
       "      <td>716.61</td>\n",
       "    </tr>\n",
       "    <tr>\n",
       "      <th>6</th>\n",
       "      <td>Юго-Восточный административный округ</td>\n",
       "      <td>654.10</td>\n",
       "    </tr>\n",
       "  </tbody>\n",
       "</table>\n",
       "</div>"
      ],
      "text/plain": [
       "                                  district  middle_avg_bill\n",
       "5       Центральный административный округ          1191.06\n",
       "1          Западный административный округ          1053.23\n",
       "2          Северный административный округ           927.96\n",
       "8             Южный административный округ           834.40\n",
       "4   Северо-Западный административный округ           822.22\n",
       "0         Восточный административный округ           820.63\n",
       "7      Юго-Западный административный округ           792.56\n",
       "3  Северо-Восточный административный округ           716.61\n",
       "6     Юго-Восточный административный округ           654.10"
      ]
     },
     "execution_count": 47,
     "metadata": {},
     "output_type": "execute_result"
    }
   ],
   "source": [
    "df_dist = df.groupby('district', \n",
    "                     as_index= False)['middle_avg_bill'].mean().round(2).sort_values(by= 'middle_avg_bill',\n",
    "                                                                                     ascending= False)\n",
    "\n",
    "df_dist"
   ]
  },
  {
   "cell_type": "code",
   "execution_count": 48,
   "id": "b98066c1",
   "metadata": {
    "id": "b98066c1"
   },
   "outputs": [
    {
     "data": {
      "image/png": "[encoded data removed]",
      "text/plain": [
       "<Figure size 720x432 with 1 Axes>"
      ]
     },
     "metadata": {
      "needs_background": "light"
     },
     "output_type": "display_data"
    }
   ],
   "source": [
    "df_dist.plot(kind= 'barh',\n",
    "            title= 'Средний чек заведения в зависимости от района Москвы',\n",
    "            figsize= (10, 6),\n",
    "            color= 'skyblue',\n",
    "            x= 'district')\n",
    "\n",
    "plt.ylabel('Административный округ')\n",
    "plt.xlabel('Количество')\n",
    "plt.grid(axis= 'x')\n",
    "plt.show()"
   ]
  },
  {
   "cell_type": "markdown",
   "id": "8fcb1685",
   "metadata": {},
   "source": [
    "<font color='#777778'>Вывод:<br>\n",
    "Цены в Центральном административном округе (ЦАО) значительно выше, чем в остальных административных округах Москвы. ЦАО имеет цену 1191.06, что заметно больше всех остальных округов. \n",
    "\n",
    "- ЦАО vs Юго-Восточный АО — разница составляет около 537 единиц (1191.06 - 654.10). Это самое большое падение цен среди представленных округов.\n",
    "- ЦАО vs Западный АО — цена в ЦАО почти на 138 единиц выше, чем в ЗАО (1191.06 - 1053.23).\n",
    "</font>"
   ]
  },
  {
   "cell_type": "code",
   "execution_count": 49,
   "id": "a09176ad",
   "metadata": {},
   "outputs": [
    {
     "data": {
      "text/html": [
       "<div>\n",
       "<style scoped>\n",
       "    .dataframe tbody tr th:only-of-type {\n",
       "        vertical-align: middle;\n",
       "    }\n",
       "\n",
       "    .dataframe tbody tr th {\n",
       "        vertical-align: top;\n",
       "    }\n",
       "\n",
       "    .dataframe thead th {\n",
       "        text-align: right;\n",
       "    }\n",
       "</style>\n",
       "<table border=\"1\" class=\"dataframe\">\n",
       "  <thead>\n",
       "    <tr style=\"text-align: right;\">\n",
       "      <th></th>\n",
       "      <th>mean</th>\n",
       "      <th>median</th>\n",
       "    </tr>\n",
       "    <tr>\n",
       "      <th>district</th>\n",
       "      <th></th>\n",
       "      <th></th>\n",
       "    </tr>\n",
       "  </thead>\n",
       "  <tbody>\n",
       "    <tr>\n",
       "      <th>Центральный административный округ</th>\n",
       "      <td>1191.06</td>\n",
       "      <td>1000.0</td>\n",
       "    </tr>\n",
       "    <tr>\n",
       "      <th>Западный административный округ</th>\n",
       "      <td>1053.23</td>\n",
       "      <td>1000.0</td>\n",
       "    </tr>\n",
       "    <tr>\n",
       "      <th>Северный административный округ</th>\n",
       "      <td>927.96</td>\n",
       "      <td>650.0</td>\n",
       "    </tr>\n",
       "    <tr>\n",
       "      <th>Южный административный округ</th>\n",
       "      <td>834.40</td>\n",
       "      <td>500.0</td>\n",
       "    </tr>\n",
       "    <tr>\n",
       "      <th>Северо-Западный административный округ</th>\n",
       "      <td>822.22</td>\n",
       "      <td>700.0</td>\n",
       "    </tr>\n",
       "    <tr>\n",
       "      <th>Восточный административный округ</th>\n",
       "      <td>820.63</td>\n",
       "      <td>575.0</td>\n",
       "    </tr>\n",
       "    <tr>\n",
       "      <th>Юго-Западный административный округ</th>\n",
       "      <td>792.56</td>\n",
       "      <td>600.0</td>\n",
       "    </tr>\n",
       "    <tr>\n",
       "      <th>Северо-Восточный административный округ</th>\n",
       "      <td>716.61</td>\n",
       "      <td>500.0</td>\n",
       "    </tr>\n",
       "    <tr>\n",
       "      <th>Юго-Восточный административный округ</th>\n",
       "      <td>654.10</td>\n",
       "      <td>450.0</td>\n",
       "    </tr>\n",
       "  </tbody>\n",
       "</table>\n",
       "</div>"
      ],
      "text/plain": [
       "                                            mean  median\n",
       "district                                                \n",
       "Центральный административный округ       1191.06  1000.0\n",
       "Западный административный округ          1053.23  1000.0\n",
       "Северный административный округ           927.96   650.0\n",
       "Южный административный округ              834.40   500.0\n",
       "Северо-Западный административный округ    822.22   700.0\n",
       "Восточный административный округ          820.63   575.0\n",
       "Юго-Западный административный округ       792.56   600.0\n",
       "Северо-Восточный административный округ   716.61   500.0\n",
       "Юго-Восточный административный округ      654.10   450.0"
      ]
     },
     "execution_count": 49,
     "metadata": {},
     "output_type": "execute_result"
    }
   ],
   "source": [
    "df_middle_avg_bill = df.groupby('district', \n",
    "                                as_index= False)['middle_avg_bill'].agg(['mean', \n",
    "                                                                         'median']).round(2).sort_values(by= 'mean', ascending= False)\n",
    "\n",
    "df_middle_avg_bill.sort_values(by= 'mean', ascending= False)"
   ]
  },
  {
   "cell_type": "code",
   "execution_count": 50,
   "id": "95f3fe95",
   "metadata": {},
   "outputs": [
    {
     "data": {
      "image/png": "[encoded data removed]",
      "text/plain": [
       "<Figure size 720x432 with 1 Axes>"
      ]
     },
     "metadata": {
      "needs_background": "light"
     },
     "output_type": "display_data"
    }
   ],
   "source": [
    "df_middle_avg_bill.plot(kind= 'barh',\n",
    "                        figsize= (10, 6),\n",
    "                        title= 'Цены внутри округа со средней и медианной')\n",
    "\n",
    "plt.ylabel('Административный округ')\n",
    "plt.xlabel('Количество')\n",
    "plt.grid(axis= 'x')\n",
    "plt.show()"
   ]
  },
  {
   "cell_type": "markdown",
   "id": "f2c54e9a",
   "metadata": {
    "id": "f2c54e9a"
   },
   "source": [
    "---\n",
    "\n",
    "### Промежуточный вывод\n",
    "\n",
    "Обобщите полученные результаты, выделив, по вашему мнению, самые важные."
   ]
  },
  {
   "cell_type": "markdown",
   "id": "31a11bba",
   "metadata": {},
   "source": [
    "<font color='#777778'> \n",
    "Полученные данные позволяют сделать несколько важных выводов о состоянии рынка общественного питания:\n",
    "\n",
    "1. Популярность основных форматов\n",
    "  - Рестораны, кофейни и кафе являются самыми многочисленными типами заведений. Это отражает широкий спрос на различные варианты досуга и перекуса.\n",
    "  - Специализированные заведения, такие как бары/пабы и пиццерии, также пользуются спросом, хотя их число меньше.\n",
    "  - Менее популярные форматы, такие как столовые и заведения быстрого питания, присутствуют, но их доля значительно ниже.\n",
    "2. Преобладание несетевых заведений\n",
    "  - Несетевые заведения заметно превосходят сетевые по числу представленных точек. Это говорит о высокой конкуренции и разнообразии предложений на рынке.\n",
    "  - Тем не менее, сетевые заведения играют важную роль, особенно в сегменте пиццерий, где они доминируют благодаря таким известным брендам, как \"Додо Пицца\" и \"Домино'с Пицца\".\n",
    "3. Уровень удовлетворённости клиентов\n",
    "  - Средний рейтинг заведений практически одинаков для всех категорий, разница составляет лишь 0.20 баллов. Это значит, что клиенты одинаково довольны услугами независимо от формата заведения.\n",
    "  - Небольшие отличия в рейтинге связаны скорее с субъективностью оценок, чем с существенными различиями в качестве обслуживания.\n",
    "4. Количество посадочных мест\n",
    "  - Рестораны лидируют по среднему количеству мест, предлагая наибольшую вместимость.\n",
    "  - Заведения типа баров и быстрого питания также предлагают достаточно пространства для посетителей, что важно для их формата.\n",
    "  - Кафе, кофейни и булочные имеют меньшее количество мест, что соответствует их концепции уютных и компактных пространств.\n",
    "  \n",
    "5. Географическая зависимость цен:\n",
    "  - Стоимость услуг снижается по мере удаления от центра города.\n",
    "  - Сильные корреляции с рейтингом заведения наблюдаются с факторами цены и категории. Таким образом, цена является одним из ключевых факторов, влияющих на восприятие заведения клиентами.\n",
    "\n",
    "Основные выводы:\n",
    "- Потребители стремятся к разнообразию, выбирая между ресторанами, кофейнями, кафе и специализированными заведениями.\n",
    "- Несмотря на преобладание последних, сетевые заведения остаются значимыми игроками, особенно в сегментах пиццерий и ресторанов.\n",
    "- Клиенты оценивают разные типы заведений почти одинаково, что говорит о высоком общем уровне сервиса.\n",
    "- Чем дальше заведение расположено от центра, тем ниже его средняя цена, что создает возможность для более демократичных вариантов питания.\n",
    "</font>"
   ]
  },
  {
   "cell_type": "markdown",
   "id": "480f3422",
   "metadata": {
    "id": "480f3422"
   },
   "source": [
    "## 4. Итоговый вывод и рекомендации\n",
    "\n",
    "По результатам проведённого исследовательского анализа данных сформулируйте итоговый вывод и рекомендации для заказчика. Старайтесь акцентировать внимание на ключевых моментах исследования.\n",
    "\n",
    "При составлении вывода придерживайтесь такой структуры:\n",
    "\n",
    "1. Общий обзор проделанной работы.\n",
    "2. Ответы на исследовательские вопросы, или главные выводы.\n",
    "3. Рекомендации на основе анализа данных."
   ]
  },
  {
   "cell_type": "markdown",
   "id": "29999970",
   "metadata": {},
   "source": [
    "<font color='#777778'> \n",
    "1. Общий обзор проделанной работы:\n",
    "Проведен детальный анализ двух наборов данных: `/datasets/rest_info.csv` и `/datasets/rest_price.csv`. Данные были исследованы на предмет качества, наличие пропусков, дубликатов, распределения категорий заведений и особенностей заполнения отдельных столбцов. Особое внимание уделялось пропускам в значениях, поскольку это могло оказать существенное влияние на интерпретацию результатов.\n",
    "\n",
    "Основные моменты анализа включают:\n",
    "\n",
    "- Высокое количество пропусков в некоторых столбцах (`seats`, `price`, `avg_bill`, `middle_avg_bill`), что требует аккуратного подхода к обработке данных.\n",
    "- Отсутствие полных дубликатов строк и уникальных идентификаторов, подтверждающих корректность записей.\n",
    "- Проверка соответствия значений в столбце `middle_avg_bill` заданному условию показала соответствие ожиданий.\n",
    "\n",
    "Также была проведена оценка популярности различных типов заведений, что позволило выявить наиболее распространенные категории, такие как `рестораны`, `кофейни` и `кафе`, а также зависимость средней стоимости услуги от удалённости от центра города.\n",
    "\n",
    "2. Ответы на исследовательские вопросы, или главные выводы:\n",
    "- Набор данных `Датасет удален` обладает высоким качеством, однако `Датасет удален` имеет значительные пропуски, особенно в столбцах `seats (43%)`, `price (60%)` и `middle_coffee_cup (94%)`. Это снижает точность анализа и требует осторожного подхода при интерпретации результатов.\n",
    "- Рестораны, кофейни и кафе составляют основную массу представленных заведений, демонстрируя высокий спрос на различные типы общественного питания. Заведения быстрого питания и пиццерии также пользуются спросом, хотя их доли меньше.\n",
    "- Средний рейтинг различных типов заведений варьируется незначительно, разница между максимальным и минимальным значением составляет всего 0.2 балла. Это указывает на общий высокий уровень удовлетворенности клиентов независимо от типа заведения.\n",
    "- Сильные корреляции с рейтингом заведения наблюдаются с переменными `«цена»` и `«категория»`, что подчеркивает важность этих факторов в формировании общего впечатления клиента.\n",
    "- Стоимость снижается с увеличением расстояния от центрального административного округа (ЦАО) до периферийных районов Москвы.\n",
    "\n",
    "3. Рекомендации на основе анализа данных:\n",
    "Обработка пропусков:\n",
    "- Для столбцов с большим количеством пропусков рекомендуется использовать методы заполнения (например, медианное значение или интерполяция) либо исключение данных, чтобы избежать искажений в анализе.\n",
    "- Важно учесть контекст каждого пропуска и принять решение о методике обработки индивидуально для каждой колонки.\n",
    "\n",
    "Улучшение данных:\n",
    "- Рекомендуется собирать дополнительные данные для заполнения пропусков, особенно для критически важных столбцов, таких как `seats`, `price` и `middle_coffee_cup`.\n",
    "- Регулярно обновлять данные, чтобы поддерживать актуальность информации и минимизировать риск появления новых пропусков.\n",
    "\n",
    "Маркетинговая стратегия:\n",
    "- Учитывая сильную корреляцию между ценой и категорией заведения с рейтингом, стоит уделять особое внимание ценовой политике и позиционированию заведения на рынке.\n",
    "- Продвигать сеть ресторанов и кофеен, учитывая их популярность среди потребителей, а также развивать предложения для специфичных ниш (например, пиццерии и булочные).\n",
    "\n",
    "Анализ влияния местоположения:\n",
    "- Рассмотреть возможность открытия новых точек в районах с низкой конкуренцией, где затраты на аренду помещений могут быть ниже, а потенциальная аудитория достаточно велика.\n",
    "- Учитывать локальные предпочтения жителей разных округов при разработке маркетинговых стратегий.\n",
    "\n",
    "Мониторинг удовлетворенности клиентов:\n",
    "-Постоянный сбор отзывов и рейтингов позволит оперативно реагировать на изменения в предпочтениях клиентов и улучшать качество предоставляемых услуг.\n",
    "\n",
    "Этот анализ позволяет заказчику получить полное представление о состоянии данных и потенциальных направлениях развития бизнеса в сфере общественного питания.\n",
    "</font> "
   ]
  }
 ],
 "metadata": {
  "ExecuteTimeLog": [
   {
    "duration": 1407,
    "start_time": "2025-03-11T17:37:26.165Z"
   },
   {
    "duration": 171,
    "start_time": "2025-03-11T17:37:27.574Z"
   },
   {
    "duration": 14,
    "start_time": "2025-03-11T17:37:27.747Z"
   },
   {
    "duration": 18,
    "start_time": "2025-03-11T17:37:27.764Z"
   },
   {
    "duration": 21,
    "start_time": "2025-03-11T17:37:27.783Z"
   },
   {
    "duration": 10,
    "start_time": "2025-03-11T17:37:27.806Z"
   },
   {
    "duration": 10,
    "start_time": "2025-03-11T17:37:27.818Z"
   },
   {
    "duration": 17,
    "start_time": "2025-03-11T17:37:27.830Z"
   },
   {
    "duration": 21,
    "start_time": "2025-03-11T17:37:27.849Z"
   },
   {
    "duration": 4,
    "start_time": "2025-03-11T17:37:27.873Z"
   },
   {
    "duration": 7,
    "start_time": "2025-03-11T17:37:27.879Z"
   },
   {
    "duration": 18,
    "start_time": "2025-03-11T17:37:27.888Z"
   },
   {
    "duration": 72,
    "start_time": "2025-03-11T17:37:27.908Z"
   },
   {
    "duration": 12,
    "start_time": "2025-03-11T17:37:27.981Z"
   },
   {
    "duration": 5,
    "start_time": "2025-03-11T17:37:27.994Z"
   },
   {
    "duration": 32,
    "start_time": "2025-03-11T17:37:28.001Z"
   },
   {
    "duration": 13,
    "start_time": "2025-03-11T17:37:28.035Z"
   },
   {
    "duration": 24,
    "start_time": "2025-03-11T17:37:28.050Z"
   },
   {
    "duration": 6,
    "start_time": "2025-03-11T17:37:28.075Z"
   },
   {
    "duration": 181,
    "start_time": "2025-03-11T17:37:28.082Z"
   },
   {
    "duration": 6,
    "start_time": "2025-03-11T17:37:28.265Z"
   },
   {
    "duration": 235,
    "start_time": "2025-03-11T17:37:28.272Z"
   },
   {
    "duration": 8,
    "start_time": "2025-03-11T17:37:28.508Z"
   },
   {
    "duration": 169,
    "start_time": "2025-03-11T17:37:28.517Z"
   },
   {
    "duration": 8,
    "start_time": "2025-03-11T17:37:28.687Z"
   },
   {
    "duration": 166,
    "start_time": "2025-03-11T17:37:28.696Z"
   },
   {
    "duration": 17,
    "start_time": "2025-03-11T17:37:28.864Z"
   },
   {
    "duration": 217,
    "start_time": "2025-03-11T17:37:28.884Z"
   },
   {
    "duration": 9,
    "start_time": "2025-03-11T17:37:29.102Z"
   },
   {
    "duration": 19,
    "start_time": "2025-03-11T17:37:29.112Z"
   },
   {
    "duration": 178,
    "start_time": "2025-03-11T17:37:29.133Z"
   },
   {
    "duration": 194,
    "start_time": "2025-03-11T17:37:29.312Z"
   },
   {
    "duration": 12,
    "start_time": "2025-03-11T17:37:29.507Z"
   },
   {
    "duration": 160,
    "start_time": "2025-03-11T17:37:29.521Z"
   },
   {
    "duration": 7,
    "start_time": "2025-03-11T17:37:29.682Z"
   },
   {
    "duration": 170,
    "start_time": "2025-03-11T17:37:29.691Z"
   },
   {
    "duration": 156,
    "start_time": "2025-03-11T17:37:29.862Z"
   },
   {
    "duration": 197,
    "start_time": "2025-03-11T17:37:30.020Z"
   },
   {
    "duration": 56,
    "start_time": "2025-03-11T17:37:30.219Z"
   },
   {
    "duration": 243,
    "start_time": "2025-03-11T17:37:30.277Z"
   },
   {
    "duration": 7,
    "start_time": "2025-03-11T17:37:30.522Z"
   },
   {
    "duration": 230,
    "start_time": "2025-03-11T17:37:30.531Z"
   },
   {
    "duration": 2236,
    "start_time": "2025-03-13T08:07:58.563Z"
   },
   {
    "duration": 309,
    "start_time": "2025-03-13T08:08:00.802Z"
   },
   {
    "duration": 53,
    "start_time": "2025-03-13T08:08:01.112Z"
   },
   {
    "duration": 13,
    "start_time": "2025-03-13T08:08:01.167Z"
   },
   {
    "duration": 9,
    "start_time": "2025-03-13T08:08:01.183Z"
   },
   {
    "duration": 73,
    "start_time": "2025-03-13T08:08:01.194Z"
   },
   {
    "duration": 50,
    "start_time": "2025-03-13T08:08:01.269Z"
   },
   {
    "duration": 53,
    "start_time": "2025-03-13T08:08:01.321Z"
   },
   {
    "duration": 42,
    "start_time": "2025-03-13T08:08:01.376Z"
   },
   {
    "duration": 53,
    "start_time": "2025-03-13T08:08:01.420Z"
   },
   {
    "duration": 39,
    "start_time": "2025-03-13T08:08:01.475Z"
   },
   {
    "duration": 53,
    "start_time": "2025-03-13T08:08:01.516Z"
   },
   {
    "duration": 117,
    "start_time": "2025-03-13T08:08:01.570Z"
   },
   {
    "duration": 17,
    "start_time": "2025-03-13T08:08:01.690Z"
   },
   {
    "duration": 7,
    "start_time": "2025-03-13T08:08:01.763Z"
   },
   {
    "duration": 191,
    "start_time": "2025-03-13T08:08:01.772Z"
   },
   {
    "duration": 28,
    "start_time": "2025-03-13T08:08:01.965Z"
   },
   {
    "duration": 183,
    "start_time": "2025-03-13T08:08:01.994Z"
   },
   {
    "duration": 94,
    "start_time": "2025-03-13T08:08:02.178Z"
   },
   {
    "duration": 79,
    "start_time": "2025-03-13T08:08:02.274Z"
   },
   {
    "duration": 8,
    "start_time": "2025-03-13T08:08:02.355Z"
   },
   {
    "duration": 221,
    "start_time": "2025-03-13T08:08:02.365Z"
   },
   {
    "duration": 9,
    "start_time": "2025-03-13T08:08:02.588Z"
   },
   {
    "duration": 255,
    "start_time": "2025-03-13T08:08:02.599Z"
   },
   {
    "duration": 13,
    "start_time": "2025-03-13T08:08:02.856Z"
   },
   {
    "duration": 197,
    "start_time": "2025-03-13T08:08:02.871Z"
   },
   {
    "duration": 8,
    "start_time": "2025-03-13T08:08:03.070Z"
   },
   {
    "duration": 166,
    "start_time": "2025-03-13T08:08:03.080Z"
   },
   {
    "duration": 15,
    "start_time": "2025-03-13T08:08:03.248Z"
   },
   {
    "duration": 29,
    "start_time": "2025-03-13T08:08:03.265Z"
   },
   {
    "duration": 200,
    "start_time": "2025-03-13T08:08:03.296Z"
   },
   {
    "duration": 10,
    "start_time": "2025-03-13T08:08:03.499Z"
   },
   {
    "duration": 82,
    "start_time": "2025-03-13T08:08:03.511Z"
   },
   {
    "duration": 237,
    "start_time": "2025-03-13T08:08:03.595Z"
   },
   {
    "duration": 217,
    "start_time": "2025-03-13T08:08:03.834Z"
   },
   {
    "duration": 15,
    "start_time": "2025-03-13T08:08:04.054Z"
   },
   {
    "duration": 325,
    "start_time": "2025-03-13T08:08:04.070Z"
   },
   {
    "duration": 14,
    "start_time": "2025-03-13T08:08:04.396Z"
   },
   {
    "duration": 195,
    "start_time": "2025-03-13T08:08:04.411Z"
   },
   {
    "duration": 208,
    "start_time": "2025-03-13T08:08:04.608Z"
   },
   {
    "duration": 192,
    "start_time": "2025-03-13T08:08:04.820Z"
   },
   {
    "duration": 195,
    "start_time": "2025-03-13T08:08:05.014Z"
   },
   {
    "duration": 27,
    "start_time": "2025-03-13T08:08:05.211Z"
   },
   {
    "duration": 327,
    "start_time": "2025-03-13T08:08:05.263Z"
   },
   {
    "duration": 83,
    "start_time": "2025-03-13T08:08:05.592Z"
   },
   {
    "duration": 501,
    "start_time": "2025-03-13T08:08:05.677Z"
   },
   {
    "duration": 14,
    "start_time": "2025-03-13T08:08:06.180Z"
   },
   {
    "duration": 392,
    "start_time": "2025-03-13T08:08:06.195Z"
   },
   {
    "duration": 16,
    "start_time": "2025-03-13T08:08:06.589Z"
   },
   {
    "duration": 282,
    "start_time": "2025-03-13T08:08:06.663Z"
   }
  ],
  "colab": {
   "provenance": []
  },
  "kernelspec": {
   "display_name": "Python 3 (ipykernel)",
   "language": "python",
   "name": "python3"
  },
  "language_info": {
   "codemirror_mode": {
    "name": "ipython",
    "version": 3
   },
   "file_extension": ".py",
   "mimetype": "text/x-python",
   "name": "python",
   "nbconvert_exporter": "python",
   "pygments_lexer": "ipython3",
   "version": "3.9.5"
  },
  "toc": {
   "base_numbering": 1,
   "nav_menu": {},
   "number_sections": true,
   "sideBar": true,
   "skip_h1_title": true,
   "title_cell": "Table of Contents",
   "title_sidebar": "Contents",
   "toc_cell": false,
   "toc_position": {},
   "toc_section_display": true,
   "toc_window_display": false
  }
 },
 "nbformat": 4,
 "nbformat_minor": 5
}

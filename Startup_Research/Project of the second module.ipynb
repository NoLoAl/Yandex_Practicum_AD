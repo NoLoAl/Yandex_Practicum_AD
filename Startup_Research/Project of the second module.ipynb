{
 "cells": [
  {
   "cell_type": "markdown",
   "metadata": {
    "id": "4mJbK1knrJgz"
   },
   "source": [
    "# Проект: Исследование стартапов"
   ]
  },
  {
   "cell_type": "markdown",
   "metadata": {
    "id": "P6j0r3worJg0"
   },
   "source": [
    "## Введение"
   ]
  },
  {
   "cell_type": "markdown",
   "metadata": {
    "id": "8lQtbsIUyFG6"
   },
   "source": [
    "Поле для вашего введения: описания контекста и цели проекта целом. Чтобы изменить содержимое ячейки, дважды нажмите на неё (или нажмите «Ввод»).\n",
    "\n",
    "Чтобы ваше исследование шло оптимальным путём, рекомендуем чётко следовать предложенным дальше шагам. Углублённая предобработка и исследование неприоритетных для проекта вопросов может потребовать много дополнительного времени.\n",
    "\n",
    "В процессе работы старайтесь записывать свои рассуждения — это полезная привычка во время обучения. Пользуйтесь общими правилами:\n",
    "\n",
    "- начните с введения, в котором опишите контекст и цели проекта в целом;\n",
    "- записывайте в комментариях к коду всё, что относится к нему или алгоритму;\n",
    "- основания совершаемых в проекте действий и выводы, которые касаются предмета исследования, — записывайте в ячейках типа Markdown;\n",
    "- после каждого крупного раздела — шага проекта — обязательно формулируйте промежуточные выводы."
   ]
  },
  {
   "cell_type": "markdown",
   "metadata": {},
   "source": [
    "# Описание проекта\n",
    "В данном проекте проводилось исследование распределения финансовых показателей различных стартапов, особенно тех, которые относятся к категориям `Automotive`, `Nanotech` и `Cleantech`. Основные этапы работы включали:\n",
    "\n",
    "1. Анализ статистик: Для оценки центральных тенденций использовались такие меры, как среднее значение, медиана и процентили. Было установлено, что распределение значений сильно смещено вправо, что свидетельствует о наличии выбросов.\n",
    "\n",
    "2. Идентификация выбросов: Были определены верхняя и нижняя границы выброса. Выявлено, что большинство значений выше 50 млн рублей можно считать выбросами.\n",
    "\n",
    "3. Выбор категорий: В результате анализа выделены три ключевые категории по средним размерам финансирования:\n",
    "  - `Automotive`\n",
    "  - `Nanotech`\n",
    "  - `Cleantech`\n",
    "\n",
    "4. Оценка разброса: Определены категории с наибольшим разбросом цен, что важно для выявления потенциальных рисков и возможностей высоких доходов:\n",
    "  - `Automotive`\n",
    "  - `Social`\n",
    "  - `Nanotech`\n",
    "\n",
    "5. Фокус на `Automotive` и `Nanotech`: Исходя из сочетания высокой средней суммы финансирования и значительного разброса цен, эти категории стали основными объектами исследования.\n",
    "\n",
    "6. Анализ количества раундов финансирования: Исследованы различия в количестве раундов финансирования для разных типов компаний:\n",
    "  - `Acquired` (приобретённые): Среднее число раундов = 0.52.\n",
    "  - `Closed` (закрытые): Среднее число раундов = 1.38.\n",
    "  - `IPO` (вышедшие на IPO): Среднее число раундов = 1.93.\n",
    "  - `Operating` (операционные): Среднее число раундов = 1.52.\n"
   ]
  },
  {
   "cell_type": "code",
   "execution_count": 1,
   "metadata": {},
   "outputs": [],
   "source": [
    "# Импортируем библиотеки\n",
    "import pandas as pd\n",
    "\n",
    "import matplotlib.pyplot as plt\n",
    "import seaborn as sns\n",
    "\n",
    "import warnings\n",
    "warnings.filterwarnings('ignore')"
   ]
  },
  {
   "cell_type": "markdown",
   "metadata": {},
   "source": [
    "Проверьте названия столбцов.\n"
   ]
  },
  {
   "cell_type": "code",
   "execution_count": 3,
   "metadata": {
    "id": "2Tm4Pk__Felf"
   },
   "outputs": [
    {
     "data": {
      "text/plain": [
       "Index(['company  ID', 'name', 'category  code', 'status', 'founded  at',\n",
       "       'closed  at', 'domain', 'network  username', 'country  code',\n",
       "       'investment  rounds', 'funding  rounds', 'funding  total', 'milestones',\n",
       "       'funding  round  id', 'company  id', 'funded  at',\n",
       "       'funding  round  type', 'raised  amount', 'pre  money  valuation',\n",
       "       'participants', 'is  first  round', 'is  last  round'],\n",
       "      dtype='object')"
      ]
     },
     "execution_count": 3,
     "metadata": {},
     "output_type": "execute_result"
    }
   ],
   "source": [
    "df_company_and_rounds.columns"
   ]
  },
  {
   "cell_type": "code",
   "execution_count": 4,
   "metadata": {
    "id": "oNqJ2qpRFebv"
   },
   "outputs": [
    {
     "data": {
      "text/plain": [
       "Index(['id', 'acquiring_company_id', 'acquired_company_id', 'term_code',\n",
       "       'price_amount', 'acquired_at'],\n",
       "      dtype='object')"
      ]
     },
     "execution_count": 4,
     "metadata": {},
     "output_type": "execute_result"
    }
   ],
   "source": [
    "df_acquisition.columns"
   ]
  },
  {
   "cell_type": "code",
   "execution_count": 5,
   "metadata": {},
   "outputs": [
    {
     "data": {
      "text/plain": [
       "Index(['id', 'first_name', 'last_name', 'company_id', 'network_username'], dtype='object')"
      ]
     },
     "execution_count": 5,
     "metadata": {},
     "output_type": "execute_result"
    }
   ],
   "source": [
    "df_people.columns"
   ]
  },
  {
   "cell_type": "code",
   "execution_count": 6,
   "metadata": {},
   "outputs": [
    {
     "data": {
      "text/plain": [
       "Index(['id', 'person_id', 'instituition', 'graduated_at'], dtype='object')"
      ]
     },
     "execution_count": 6,
     "metadata": {},
     "output_type": "execute_result"
    }
   ],
   "source": [
    "df_education.columns"
   ]
  },
  {
   "cell_type": "code",
   "execution_count": 7,
   "metadata": {},
   "outputs": [
    {
     "data": {
      "text/plain": [
       "Index(['id', 'object_id', 'degree_type', 'subject'], dtype='object')"
      ]
     },
     "execution_count": 7,
     "metadata": {},
     "output_type": "execute_result"
    }
   ],
   "source": [
    "df_degrees.columns"
   ]
  },
  {
   "cell_type": "markdown",
   "metadata": {},
   "source": [
    "Выведите информацию, которая необходима вам для принятия решений о предобработке, для каждого из датасетов.\n"
   ]
  },
  {
   "cell_type": "code",
   "execution_count": 8,
   "metadata": {},
   "outputs": [],
   "source": [
    "df_company_and_rounds.columns = df_company_and_rounds.columns.str.replace('  ', '_')"
   ]
  },
  {
   "cell_type": "markdown",
   "metadata": {},
   "source": [
    "<font color='#777778'>После проверки, выяснилось, что названия столбцов у датасетов `df_acquisition`, `df_people`, `df_education`,`df_degrees`в порядке и не требуют изменений. А вот датасет `df_company_and_rounds`, названия столбцов нужно было привести к одному виду, snake case.</font>"
   ]
  },
  {
   "cell_type": "markdown",
   "metadata": {
    "id": "mg2gEwh0rJg0"
   },
   "source": [
    "### 1.2. Смена типов и анализ пропусков\n",
    "\n",
    "- Обработайте типы данных в столбцах, которые хранят значения даты и времени, если это необходимо.\n",
    "- Оцените полноту данных — сделайте предварительный вывод, достаточно ли данных для решения задач проекта."
   ]
  },
  {
   "cell_type": "code",
   "execution_count": 9,
   "metadata": {},
   "outputs": [],
   "source": [
    "df_company_and_rounds['founded_at'] = pd.to_datetime(df_company_and_rounds['founded_at'])\n",
    "df_company_and_rounds['closed_at'] = pd.to_datetime(df_company_and_rounds['closed_at'])\n",
    "df_company_and_rounds['funded_at'] = pd.to_datetime(df_company_and_rounds['funded_at'])"
   ]
  },
  {
   "cell_type": "code",
   "execution_count": 10,
   "metadata": {
    "id": "46VskrGyFeJ-"
   },
   "outputs": [
    {
     "name": "stdout",
     "output_type": "stream",
     "text": [
      "<class 'pandas.core.frame.DataFrame'>\n",
      "RangeIndex: 217774 entries, 0 to 217773\n",
      "Data columns (total 22 columns):\n",
      " #   Column               Non-Null Count   Dtype         \n",
      "---  ------               --------------   -----         \n",
      " 0   company_ID           217472 non-null  float64       \n",
      " 1   name                 217472 non-null  object        \n",
      " 2   category_code        143886 non-null  object        \n",
      " 3   status               217472 non-null  object        \n",
      " 4   founded_at           109956 non-null  datetime64[ns]\n",
      " 5   closed_at            3449 non-null    datetime64[ns]\n",
      " 6   domain               147159 non-null  object        \n",
      " 7   network_username     95534 non-null   object        \n",
      " 8   country_code         108607 non-null  object        \n",
      " 9   investment_rounds    217472 non-null  float64       \n",
      " 10  funding_rounds       217472 non-null  float64       \n",
      " 11  funding_total        217472 non-null  float64       \n",
      " 12  milestones           217472 non-null  float64       \n",
      " 13  funding_round_id     52928 non-null   float64       \n",
      " 14  company_id           52928 non-null   float64       \n",
      " 15  funded_at            52680 non-null   datetime64[ns]\n",
      " 16  funding_round_type   52928 non-null   object        \n",
      " 17  raised_amount        52928 non-null   float64       \n",
      " 18  pre_money_valuation  52928 non-null   float64       \n",
      " 19  participants         52928 non-null   float64       \n",
      " 20  is_first_round       52928 non-null   float64       \n",
      " 21  is_last_round        52928 non-null   float64       \n",
      "dtypes: datetime64[ns](3), float64(12), object(7)\n",
      "memory usage: 36.6+ MB\n"
     ]
    }
   ],
   "source": [
    "df_company_and_rounds.info()"
   ]
  },
  {
   "cell_type": "code",
   "execution_count": 11,
   "metadata": {},
   "outputs": [
    {
     "data": {
      "text/plain": [
       "0"
      ]
     },
     "execution_count": 11,
     "metadata": {},
     "output_type": "execute_result"
    }
   ],
   "source": [
    "df_company_and_rounds.duplicated().sum()"
   ]
  },
  {
   "cell_type": "code",
   "execution_count": 12,
   "metadata": {},
   "outputs": [
    {
     "data": {
      "text/html": [
       "<style  type=\"text/css\" >\n",
       "#T_b43ff_row0_col0,#T_b43ff_row0_col1,#T_b43ff_row1_col0,#T_b43ff_row1_col1,#T_b43ff_row3_col0,#T_b43ff_row3_col1,#T_b43ff_row9_col0,#T_b43ff_row9_col1,#T_b43ff_row10_col0,#T_b43ff_row10_col1,#T_b43ff_row11_col0,#T_b43ff_row11_col1,#T_b43ff_row12_col0,#T_b43ff_row12_col1{\n",
       "            background-color:  #3b4cc0;\n",
       "            color:  #f1f1f1;\n",
       "        }#T_b43ff_row2_col0,#T_b43ff_row2_col1{\n",
       "            background-color:  #aec9fc;\n",
       "            color:  #000000;\n",
       "        }#T_b43ff_row4_col0,#T_b43ff_row4_col1{\n",
       "            background-color:  #dddcdc;\n",
       "            color:  #000000;\n",
       "        }#T_b43ff_row5_col0,#T_b43ff_row5_col1{\n",
       "            background-color:  #b40426;\n",
       "            color:  #f1f1f1;\n",
       "        }#T_b43ff_row6_col0,#T_b43ff_row6_col1{\n",
       "            background-color:  #a9c6fd;\n",
       "            color:  #000000;\n",
       "        }#T_b43ff_row7_col0,#T_b43ff_row7_col1{\n",
       "            background-color:  #edd2c3;\n",
       "            color:  #000000;\n",
       "        }#T_b43ff_row8_col0,#T_b43ff_row8_col1{\n",
       "            background-color:  #dfdbd9;\n",
       "            color:  #000000;\n",
       "        }#T_b43ff_row13_col0,#T_b43ff_row13_col1,#T_b43ff_row14_col0,#T_b43ff_row14_col1,#T_b43ff_row16_col0,#T_b43ff_row16_col1,#T_b43ff_row17_col0,#T_b43ff_row17_col1,#T_b43ff_row18_col0,#T_b43ff_row18_col1,#T_b43ff_row19_col0,#T_b43ff_row19_col1,#T_b43ff_row20_col0,#T_b43ff_row20_col1,#T_b43ff_row21_col0,#T_b43ff_row21_col1{\n",
       "            background-color:  #f29274;\n",
       "            color:  #000000;\n",
       "        }#T_b43ff_row15_col0,#T_b43ff_row15_col1{\n",
       "            background-color:  #f29072;\n",
       "            color:  #000000;\n",
       "        }</style><table id=\"T_b43ff_\" ><thead>    <tr>        <th class=\"blank level0\" ></th>        <th class=\"col_heading level0 col0\" >Количество пропусков</th>        <th class=\"col_heading level0 col1\" >Доля пропусков</th>    </tr></thead><tbody>\n",
       "                <tr>\n",
       "                        <th id=\"T_b43ff_level0_row0\" class=\"row_heading level0 row0\" >company_ID</th>\n",
       "                        <td id=\"T_b43ff_row0_col0\" class=\"data row0 col0\" >302</td>\n",
       "                        <td id=\"T_b43ff_row0_col1\" class=\"data row0 col1\" >0.001400</td>\n",
       "            </tr>\n",
       "            <tr>\n",
       "                        <th id=\"T_b43ff_level0_row1\" class=\"row_heading level0 row1\" >name</th>\n",
       "                        <td id=\"T_b43ff_row1_col0\" class=\"data row1 col0\" >302</td>\n",
       "                        <td id=\"T_b43ff_row1_col1\" class=\"data row1 col1\" >0.001400</td>\n",
       "            </tr>\n",
       "            <tr>\n",
       "                        <th id=\"T_b43ff_level0_row2\" class=\"row_heading level0 row2\" >category_code</th>\n",
       "                        <td id=\"T_b43ff_row2_col0\" class=\"data row2 col0\" >73888</td>\n",
       "                        <td id=\"T_b43ff_row2_col1\" class=\"data row2 col1\" >0.339300</td>\n",
       "            </tr>\n",
       "            <tr>\n",
       "                        <th id=\"T_b43ff_level0_row3\" class=\"row_heading level0 row3\" >status</th>\n",
       "                        <td id=\"T_b43ff_row3_col0\" class=\"data row3 col0\" >302</td>\n",
       "                        <td id=\"T_b43ff_row3_col1\" class=\"data row3 col1\" >0.001400</td>\n",
       "            </tr>\n",
       "            <tr>\n",
       "                        <th id=\"T_b43ff_level0_row4\" class=\"row_heading level0 row4\" >founded_at</th>\n",
       "                        <td id=\"T_b43ff_row4_col0\" class=\"data row4 col0\" >107818</td>\n",
       "                        <td id=\"T_b43ff_row4_col1\" class=\"data row4 col1\" >0.495100</td>\n",
       "            </tr>\n",
       "            <tr>\n",
       "                        <th id=\"T_b43ff_level0_row5\" class=\"row_heading level0 row5\" >closed_at</th>\n",
       "                        <td id=\"T_b43ff_row5_col0\" class=\"data row5 col0\" >214325</td>\n",
       "                        <td id=\"T_b43ff_row5_col1\" class=\"data row5 col1\" >0.984200</td>\n",
       "            </tr>\n",
       "            <tr>\n",
       "                        <th id=\"T_b43ff_level0_row6\" class=\"row_heading level0 row6\" >domain</th>\n",
       "                        <td id=\"T_b43ff_row6_col0\" class=\"data row6 col0\" >70615</td>\n",
       "                        <td id=\"T_b43ff_row6_col1\" class=\"data row6 col1\" >0.324300</td>\n",
       "            </tr>\n",
       "            <tr>\n",
       "                        <th id=\"T_b43ff_level0_row7\" class=\"row_heading level0 row7\" >network_username</th>\n",
       "                        <td id=\"T_b43ff_row7_col0\" class=\"data row7 col0\" >122240</td>\n",
       "                        <td id=\"T_b43ff_row7_col1\" class=\"data row7 col1\" >0.561300</td>\n",
       "            </tr>\n",
       "            <tr>\n",
       "                        <th id=\"T_b43ff_level0_row8\" class=\"row_heading level0 row8\" >country_code</th>\n",
       "                        <td id=\"T_b43ff_row8_col0\" class=\"data row8 col0\" >109167</td>\n",
       "                        <td id=\"T_b43ff_row8_col1\" class=\"data row8 col1\" >0.501300</td>\n",
       "            </tr>\n",
       "            <tr>\n",
       "                        <th id=\"T_b43ff_level0_row9\" class=\"row_heading level0 row9\" >investment_rounds</th>\n",
       "                        <td id=\"T_b43ff_row9_col0\" class=\"data row9 col0\" >302</td>\n",
       "                        <td id=\"T_b43ff_row9_col1\" class=\"data row9 col1\" >0.001400</td>\n",
       "            </tr>\n",
       "            <tr>\n",
       "                        <th id=\"T_b43ff_level0_row10\" class=\"row_heading level0 row10\" >funding_rounds</th>\n",
       "                        <td id=\"T_b43ff_row10_col0\" class=\"data row10 col0\" >302</td>\n",
       "                        <td id=\"T_b43ff_row10_col1\" class=\"data row10 col1\" >0.001400</td>\n",
       "            </tr>\n",
       "            <tr>\n",
       "                        <th id=\"T_b43ff_level0_row11\" class=\"row_heading level0 row11\" >funding_total</th>\n",
       "                        <td id=\"T_b43ff_row11_col0\" class=\"data row11 col0\" >302</td>\n",
       "                        <td id=\"T_b43ff_row11_col1\" class=\"data row11 col1\" >0.001400</td>\n",
       "            </tr>\n",
       "            <tr>\n",
       "                        <th id=\"T_b43ff_level0_row12\" class=\"row_heading level0 row12\" >milestones</th>\n",
       "                        <td id=\"T_b43ff_row12_col0\" class=\"data row12 col0\" >302</td>\n",
       "                        <td id=\"T_b43ff_row12_col1\" class=\"data row12 col1\" >0.001400</td>\n",
       "            </tr>\n",
       "            <tr>\n",
       "                        <th id=\"T_b43ff_level0_row13\" class=\"row_heading level0 row13\" >funding_round_id</th>\n",
       "                        <td id=\"T_b43ff_row13_col0\" class=\"data row13 col0\" >164846</td>\n",
       "                        <td id=\"T_b43ff_row13_col1\" class=\"data row13 col1\" >0.757000</td>\n",
       "            </tr>\n",
       "            <tr>\n",
       "                        <th id=\"T_b43ff_level0_row14\" class=\"row_heading level0 row14\" >company_id</th>\n",
       "                        <td id=\"T_b43ff_row14_col0\" class=\"data row14 col0\" >164846</td>\n",
       "                        <td id=\"T_b43ff_row14_col1\" class=\"data row14 col1\" >0.757000</td>\n",
       "            </tr>\n",
       "            <tr>\n",
       "                        <th id=\"T_b43ff_level0_row15\" class=\"row_heading level0 row15\" >funded_at</th>\n",
       "                        <td id=\"T_b43ff_row15_col0\" class=\"data row15 col0\" >165094</td>\n",
       "                        <td id=\"T_b43ff_row15_col1\" class=\"data row15 col1\" >0.758100</td>\n",
       "            </tr>\n",
       "            <tr>\n",
       "                        <th id=\"T_b43ff_level0_row16\" class=\"row_heading level0 row16\" >funding_round_type</th>\n",
       "                        <td id=\"T_b43ff_row16_col0\" class=\"data row16 col0\" >164846</td>\n",
       "                        <td id=\"T_b43ff_row16_col1\" class=\"data row16 col1\" >0.757000</td>\n",
       "            </tr>\n",
       "            <tr>\n",
       "                        <th id=\"T_b43ff_level0_row17\" class=\"row_heading level0 row17\" >raised_amount</th>\n",
       "                        <td id=\"T_b43ff_row17_col0\" class=\"data row17 col0\" >164846</td>\n",
       "                        <td id=\"T_b43ff_row17_col1\" class=\"data row17 col1\" >0.757000</td>\n",
       "            </tr>\n",
       "            <tr>\n",
       "                        <th id=\"T_b43ff_level0_row18\" class=\"row_heading level0 row18\" >pre_money_valuation</th>\n",
       "                        <td id=\"T_b43ff_row18_col0\" class=\"data row18 col0\" >164846</td>\n",
       "                        <td id=\"T_b43ff_row18_col1\" class=\"data row18 col1\" >0.757000</td>\n",
       "            </tr>\n",
       "            <tr>\n",
       "                        <th id=\"T_b43ff_level0_row19\" class=\"row_heading level0 row19\" >participants</th>\n",
       "                        <td id=\"T_b43ff_row19_col0\" class=\"data row19 col0\" >164846</td>\n",
       "                        <td id=\"T_b43ff_row19_col1\" class=\"data row19 col1\" >0.757000</td>\n",
       "            </tr>\n",
       "            <tr>\n",
       "                        <th id=\"T_b43ff_level0_row20\" class=\"row_heading level0 row20\" >is_first_round</th>\n",
       "                        <td id=\"T_b43ff_row20_col0\" class=\"data row20 col0\" >164846</td>\n",
       "                        <td id=\"T_b43ff_row20_col1\" class=\"data row20 col1\" >0.757000</td>\n",
       "            </tr>\n",
       "            <tr>\n",
       "                        <th id=\"T_b43ff_level0_row21\" class=\"row_heading level0 row21\" >is_last_round</th>\n",
       "                        <td id=\"T_b43ff_row21_col0\" class=\"data row21 col0\" >164846</td>\n",
       "                        <td id=\"T_b43ff_row21_col1\" class=\"data row21 col1\" >0.757000</td>\n",
       "            </tr>\n",
       "    </tbody></table>"
      ],
      "text/plain": [
       "<pandas.io.formats.style.Styler at 0x192ab9f1760>"
      ]
     },
     "execution_count": 12,
     "metadata": {},
     "output_type": "execute_result"
    }
   ],
   "source": [
    "missing_company_and_rounds = (pd.DataFrame({'Количество пропусков': df_company_and_rounds.isnull().sum(), \n",
    "                                            'Доля пропусков': df_company_and_rounds.isnull().mean().round(4)}).style.background_gradient(cmap='coolwarm'))\n",
    "\n",
    "missing_company_and_rounds"
   ]
  },
  {
   "cell_type": "markdown",
   "metadata": {},
   "source": [
    "<font color='#777778'>Датасет содержит 22 столбца и 217774 строк, в которых содержится информацию о компаниях и раундах финансирования.\n",
    "\n",
    "После первичного анализа данных можно сделать следующие выводы:\n",
    "- Названия столбцов уже приведены к одному виду, snake case.\n",
    "- Данные содержат числовые и строковые значения, они хранятся в типах данных `float64(12)`, `object(10)`.\n",
    "- Пропуски содержатся во многих столбцах. Изменен тип столбцов на дату: `founded_at`, `closed_at`, `funded_at`. \n",
    "- Судя по первому знакомству с данными, значения в столбцах соответствуют своему описанию.</font>"
   ]
  },
  {
   "cell_type": "code",
   "execution_count": 13,
   "metadata": {},
   "outputs": [],
   "source": [
    "df_acquisition['acquired_at'] = pd.to_datetime(df_acquisition['acquired_at'])"
   ]
  },
  {
   "cell_type": "code",
   "execution_count": 14,
   "metadata": {
    "id": "DEg1tl8DFeBn"
   },
   "outputs": [
    {
     "name": "stdout",
     "output_type": "stream",
     "text": [
      "<class 'pandas.core.frame.DataFrame'>\n",
      "RangeIndex: 9407 entries, 0 to 9406\n",
      "Data columns (total 6 columns):\n",
      " #   Column                Non-Null Count  Dtype         \n",
      "---  ------                --------------  -----         \n",
      " 0   id                    9407 non-null   int64         \n",
      " 1   acquiring_company_id  9407 non-null   int64         \n",
      " 2   acquired_company_id   9407 non-null   int64         \n",
      " 3   term_code             1831 non-null   object        \n",
      " 4   price_amount          9407 non-null   int64         \n",
      " 5   acquired_at           9378 non-null   datetime64[ns]\n",
      "dtypes: datetime64[ns](1), int64(4), object(1)\n",
      "memory usage: 441.1+ KB\n"
     ]
    }
   ],
   "source": [
    "df_acquisition.info()"
   ]
  },
  {
   "cell_type": "code",
   "execution_count": 15,
   "metadata": {},
   "outputs": [
    {
     "data": {
      "text/plain": [
       "0"
      ]
     },
     "execution_count": 15,
     "metadata": {},
     "output_type": "execute_result"
    }
   ],
   "source": [
    "df_acquisition.duplicated().sum()"
   ]
  },
  {
   "cell_type": "code",
   "execution_count": 16,
   "metadata": {},
   "outputs": [
    {
     "data": {
      "text/html": [
       "<style  type=\"text/css\" >\n",
       "#T_912fd_row0_col0,#T_912fd_row0_col1,#T_912fd_row1_col0,#T_912fd_row1_col1,#T_912fd_row2_col0,#T_912fd_row2_col1,#T_912fd_row4_col0,#T_912fd_row4_col1,#T_912fd_row5_col0,#T_912fd_row5_col1{\n",
       "            background-color:  #3b4cc0;\n",
       "            color:  #f1f1f1;\n",
       "        }#T_912fd_row3_col0,#T_912fd_row3_col1{\n",
       "            background-color:  #b40426;\n",
       "            color:  #f1f1f1;\n",
       "        }</style><table id=\"T_912fd_\" ><thead>    <tr>        <th class=\"blank level0\" ></th>        <th class=\"col_heading level0 col0\" >Количество пропусков</th>        <th class=\"col_heading level0 col1\" >Доля пропусков</th>    </tr></thead><tbody>\n",
       "                <tr>\n",
       "                        <th id=\"T_912fd_level0_row0\" class=\"row_heading level0 row0\" >id</th>\n",
       "                        <td id=\"T_912fd_row0_col0\" class=\"data row0 col0\" >0</td>\n",
       "                        <td id=\"T_912fd_row0_col1\" class=\"data row0 col1\" >0.000000</td>\n",
       "            </tr>\n",
       "            <tr>\n",
       "                        <th id=\"T_912fd_level0_row1\" class=\"row_heading level0 row1\" >acquiring_company_id</th>\n",
       "                        <td id=\"T_912fd_row1_col0\" class=\"data row1 col0\" >0</td>\n",
       "                        <td id=\"T_912fd_row1_col1\" class=\"data row1 col1\" >0.000000</td>\n",
       "            </tr>\n",
       "            <tr>\n",
       "                        <th id=\"T_912fd_level0_row2\" class=\"row_heading level0 row2\" >acquired_company_id</th>\n",
       "                        <td id=\"T_912fd_row2_col0\" class=\"data row2 col0\" >0</td>\n",
       "                        <td id=\"T_912fd_row2_col1\" class=\"data row2 col1\" >0.000000</td>\n",
       "            </tr>\n",
       "            <tr>\n",
       "                        <th id=\"T_912fd_level0_row3\" class=\"row_heading level0 row3\" >term_code</th>\n",
       "                        <td id=\"T_912fd_row3_col0\" class=\"data row3 col0\" >7576</td>\n",
       "                        <td id=\"T_912fd_row3_col1\" class=\"data row3 col1\" >0.805400</td>\n",
       "            </tr>\n",
       "            <tr>\n",
       "                        <th id=\"T_912fd_level0_row4\" class=\"row_heading level0 row4\" >price_amount</th>\n",
       "                        <td id=\"T_912fd_row4_col0\" class=\"data row4 col0\" >0</td>\n",
       "                        <td id=\"T_912fd_row4_col1\" class=\"data row4 col1\" >0.000000</td>\n",
       "            </tr>\n",
       "            <tr>\n",
       "                        <th id=\"T_912fd_level0_row5\" class=\"row_heading level0 row5\" >acquired_at</th>\n",
       "                        <td id=\"T_912fd_row5_col0\" class=\"data row5 col0\" >29</td>\n",
       "                        <td id=\"T_912fd_row5_col1\" class=\"data row5 col1\" >0.003100</td>\n",
       "            </tr>\n",
       "    </tbody></table>"
      ],
      "text/plain": [
       "<pandas.io.formats.style.Styler at 0x192bd5237c0>"
      ]
     },
     "execution_count": 16,
     "metadata": {},
     "output_type": "execute_result"
    }
   ],
   "source": [
    "missing_acquisition = (pd.DataFrame({'Количество пропусков': df_acquisition.isnull().sum(), \n",
    "                                            'Доля пропусков': df_acquisition.isnull().mean().round(4)}).style.background_gradient(cmap='coolwarm'))\n",
    "\n",
    "missing_acquisition"
   ]
  },
  {
   "cell_type": "markdown",
   "metadata": {},
   "source": [
    "<font color='#777778'>Датасет  содержит 6 столбца и 9407 строк, в которых содержится информацию о покупках одними компаниями других компаний.\n",
    "\n",
    "После первичного анализа данных можно сделать следующие выводы:\n",
    "- Названия столбцов уже приведены к одному виду, snake case.\n",
    "- Данные содержат числовые и строковые значения, они хранятся в типах данных `int64(4)`, `object(1)`.\n",
    "- Пропуски содержатся в столбце `term_code` и немного `acquired_at`. Изменен тип столбцов на дату: `acquired_at`. \n",
    "- Судя по первому знакомству с данными, значения в столбцах соответствуют своему описанию.</font>"
   ]
  },
  {
   "cell_type": "code",
   "execution_count": 17,
   "metadata": {},
   "outputs": [
    {
     "name": "stdout",
     "output_type": "stream",
     "text": [
      "<class 'pandas.core.frame.DataFrame'>\n",
      "RangeIndex: 226709 entries, 0 to 226708\n",
      "Data columns (total 5 columns):\n",
      " #   Column            Non-Null Count   Dtype  \n",
      "---  ------            --------------   -----  \n",
      " 0   id                226709 non-null  int64  \n",
      " 1   first_name        226704 non-null  object \n",
      " 2   last_name         226708 non-null  object \n",
      " 3   company_id        34615 non-null   float64\n",
      " 4   network_username  38867 non-null   object \n",
      "dtypes: float64(1), int64(1), object(3)\n",
      "memory usage: 8.6+ MB\n"
     ]
    }
   ],
   "source": [
    "df_people.info()"
   ]
  },
  {
   "cell_type": "code",
   "execution_count": 18,
   "metadata": {},
   "outputs": [
    {
     "data": {
      "text/plain": [
       "0"
      ]
     },
     "execution_count": 18,
     "metadata": {},
     "output_type": "execute_result"
    }
   ],
   "source": [
    "df_people.duplicated().sum()"
   ]
  },
  {
   "cell_type": "code",
   "execution_count": 19,
   "metadata": {},
   "outputs": [
    {
     "data": {
      "text/html": [
       "<style  type=\"text/css\" >\n",
       "#T_17b56_row0_col0,#T_17b56_row0_col1,#T_17b56_row1_col0,#T_17b56_row1_col1,#T_17b56_row2_col0,#T_17b56_row2_col1{\n",
       "            background-color:  #3b4cc0;\n",
       "            color:  #f1f1f1;\n",
       "        }#T_17b56_row3_col0,#T_17b56_row3_col1{\n",
       "            background-color:  #b40426;\n",
       "            color:  #f1f1f1;\n",
       "        }#T_17b56_row4_col0,#T_17b56_row4_col1{\n",
       "            background-color:  #bb1b2c;\n",
       "            color:  #f1f1f1;\n",
       "        }</style><table id=\"T_17b56_\" ><thead>    <tr>        <th class=\"blank level0\" ></th>        <th class=\"col_heading level0 col0\" >Количество пропусков</th>        <th class=\"col_heading level0 col1\" >Доля пропусков</th>    </tr></thead><tbody>\n",
       "                <tr>\n",
       "                        <th id=\"T_17b56_level0_row0\" class=\"row_heading level0 row0\" >id</th>\n",
       "                        <td id=\"T_17b56_row0_col0\" class=\"data row0 col0\" >0</td>\n",
       "                        <td id=\"T_17b56_row0_col1\" class=\"data row0 col1\" >0.000000</td>\n",
       "            </tr>\n",
       "            <tr>\n",
       "                        <th id=\"T_17b56_level0_row1\" class=\"row_heading level0 row1\" >first_name</th>\n",
       "                        <td id=\"T_17b56_row1_col0\" class=\"data row1 col0\" >5</td>\n",
       "                        <td id=\"T_17b56_row1_col1\" class=\"data row1 col1\" >0.000000</td>\n",
       "            </tr>\n",
       "            <tr>\n",
       "                        <th id=\"T_17b56_level0_row2\" class=\"row_heading level0 row2\" >last_name</th>\n",
       "                        <td id=\"T_17b56_row2_col0\" class=\"data row2 col0\" >1</td>\n",
       "                        <td id=\"T_17b56_row2_col1\" class=\"data row2 col1\" >0.000000</td>\n",
       "            </tr>\n",
       "            <tr>\n",
       "                        <th id=\"T_17b56_level0_row3\" class=\"row_heading level0 row3\" >company_id</th>\n",
       "                        <td id=\"T_17b56_row3_col0\" class=\"data row3 col0\" >192094</td>\n",
       "                        <td id=\"T_17b56_row3_col1\" class=\"data row3 col1\" >0.847300</td>\n",
       "            </tr>\n",
       "            <tr>\n",
       "                        <th id=\"T_17b56_level0_row4\" class=\"row_heading level0 row4\" >network_username</th>\n",
       "                        <td id=\"T_17b56_row4_col0\" class=\"data row4 col0\" >187842</td>\n",
       "                        <td id=\"T_17b56_row4_col1\" class=\"data row4 col1\" >0.828600</td>\n",
       "            </tr>\n",
       "    </tbody></table>"
      ],
      "text/plain": [
       "<pandas.io.formats.style.Styler at 0x192bc3dcdc0>"
      ]
     },
     "execution_count": 19,
     "metadata": {},
     "output_type": "execute_result"
    }
   ],
   "source": [
    "missing_people = (pd.DataFrame({'Количество пропусков': df_people.isnull().sum(), \n",
    "                                'Доля пропусков': df_people.isnull().mean().round(4)}).style.background_gradient(cmap='coolwarm'))\n",
    "\n",
    "missing_people"
   ]
  },
  {
   "cell_type": "markdown",
   "metadata": {},
   "source": [
    "<font color='#777778'>Датасет  содержит 5 столбца и 226709 строк, в которых содержится информацию о сотрудниках.\n",
    "\n",
    "После первичного анализа данных можно сделать следующие выводы:\n",
    "- Названия столбцов уже приведены к одному виду, snake case.\n",
    "- Данные содержат числовые и строковые значения, они хранятся в типах данных `float(1)`, `int64(4)`, `object(3)`.\n",
    "- Пропуски содержатся в столбце `company_id` и немного `network_username`.\n",
    "- Судя по первому знакомству с данными, значения в столбцах соответствуют своему описанию.</font>"
   ]
  },
  {
   "cell_type": "code",
   "execution_count": 20,
   "metadata": {},
   "outputs": [],
   "source": [
    "df_education['graduated_at'] = pd.to_datetime(df_education['graduated_at'])"
   ]
  },
  {
   "cell_type": "code",
   "execution_count": 21,
   "metadata": {},
   "outputs": [
    {
     "name": "stdout",
     "output_type": "stream",
     "text": [
      "<class 'pandas.core.frame.DataFrame'>\n",
      "RangeIndex: 109610 entries, 0 to 109609\n",
      "Data columns (total 4 columns):\n",
      " #   Column        Non-Null Count   Dtype         \n",
      "---  ------        --------------   -----         \n",
      " 0   id            109610 non-null  int64         \n",
      " 1   person_id     109610 non-null  int64         \n",
      " 2   instituition  109555 non-null  object        \n",
      " 3   graduated_at  58054 non-null   datetime64[ns]\n",
      "dtypes: datetime64[ns](1), int64(2), object(1)\n",
      "memory usage: 3.3+ MB\n"
     ]
    }
   ],
   "source": [
    "df_education.info()"
   ]
  },
  {
   "cell_type": "code",
   "execution_count": 22,
   "metadata": {},
   "outputs": [
    {
     "data": {
      "text/plain": [
       "0"
      ]
     },
     "execution_count": 22,
     "metadata": {},
     "output_type": "execute_result"
    }
   ],
   "source": [
    "df_education.duplicated().sum()"
   ]
  },
  {
   "cell_type": "code",
   "execution_count": 23,
   "metadata": {},
   "outputs": [
    {
     "data": {
      "text/html": [
       "<style  type=\"text/css\" >\n",
       "#T_f1b39_row0_col0,#T_f1b39_row0_col1,#T_f1b39_row1_col0,#T_f1b39_row1_col1,#T_f1b39_row2_col0,#T_f1b39_row2_col1{\n",
       "            background-color:  #3b4cc0;\n",
       "            color:  #f1f1f1;\n",
       "        }#T_f1b39_row3_col0,#T_f1b39_row3_col1{\n",
       "            background-color:  #b40426;\n",
       "            color:  #f1f1f1;\n",
       "        }</style><table id=\"T_f1b39_\" ><thead>    <tr>        <th class=\"blank level0\" ></th>        <th class=\"col_heading level0 col0\" >Количество пропусков</th>        <th class=\"col_heading level0 col1\" >Доля пропусков</th>    </tr></thead><tbody>\n",
       "                <tr>\n",
       "                        <th id=\"T_f1b39_level0_row0\" class=\"row_heading level0 row0\" >id</th>\n",
       "                        <td id=\"T_f1b39_row0_col0\" class=\"data row0 col0\" >0</td>\n",
       "                        <td id=\"T_f1b39_row0_col1\" class=\"data row0 col1\" >0.000000</td>\n",
       "            </tr>\n",
       "            <tr>\n",
       "                        <th id=\"T_f1b39_level0_row1\" class=\"row_heading level0 row1\" >person_id</th>\n",
       "                        <td id=\"T_f1b39_row1_col0\" class=\"data row1 col0\" >0</td>\n",
       "                        <td id=\"T_f1b39_row1_col1\" class=\"data row1 col1\" >0.000000</td>\n",
       "            </tr>\n",
       "            <tr>\n",
       "                        <th id=\"T_f1b39_level0_row2\" class=\"row_heading level0 row2\" >instituition</th>\n",
       "                        <td id=\"T_f1b39_row2_col0\" class=\"data row2 col0\" >55</td>\n",
       "                        <td id=\"T_f1b39_row2_col1\" class=\"data row2 col1\" >0.000500</td>\n",
       "            </tr>\n",
       "            <tr>\n",
       "                        <th id=\"T_f1b39_level0_row3\" class=\"row_heading level0 row3\" >graduated_at</th>\n",
       "                        <td id=\"T_f1b39_row3_col0\" class=\"data row3 col0\" >51556</td>\n",
       "                        <td id=\"T_f1b39_row3_col1\" class=\"data row3 col1\" >0.470400</td>\n",
       "            </tr>\n",
       "    </tbody></table>"
      ],
      "text/plain": [
       "<pandas.io.formats.style.Styler at 0x192bd53f9a0>"
      ]
     },
     "execution_count": 23,
     "metadata": {},
     "output_type": "execute_result"
    }
   ],
   "source": [
    "missing_education = (pd.DataFrame({'Количество пропусков': df_education.isnull().sum(), \n",
    "                         'Доля пропусков': df_education.isnull().mean().round(4)}).style.background_gradient(cmap='coolwarm'))\n",
    "\n",
    "missing_education"
   ]
  },
  {
   "cell_type": "markdown",
   "metadata": {},
   "source": [
    "<font color='#777778'>Датасет  содержит 4 столбца и 109610 строк, в которых содержится информацию об образовании сотрудника:\n",
    "\n",
    "После первичного анализа данных можно сделать следующие выводы:\n",
    "- Названия столбцов уже приведены к одному виду, snake case.\n",
    "- Данные содержат числовые и строковые значения, они хранятся в типах данных `int64(2)`, `object(1)`.\n",
    "- Пропуски содержатся в столбце `graduated_at` и немного `instituition`. Изменен тип столбцов на дату: `graduated_at`. \n",
    "- Судя по первому знакомству с данными, значения в столбцах соответствуют своему описанию.</font>"
   ]
  },
  {
   "cell_type": "code",
   "execution_count": 24,
   "metadata": {},
   "outputs": [
    {
     "name": "stdout",
     "output_type": "stream",
     "text": [
      "<class 'pandas.core.frame.DataFrame'>\n",
      "RangeIndex: 109610 entries, 0 to 109609\n",
      "Data columns (total 4 columns):\n",
      " #   Column       Non-Null Count   Dtype \n",
      "---  ------       --------------   ----- \n",
      " 0   id           109610 non-null  int64 \n",
      " 1   object_id    109610 non-null  object\n",
      " 2   degree_type  98392 non-null   object\n",
      " 3   subject      81298 non-null   object\n",
      "dtypes: int64(1), object(3)\n",
      "memory usage: 3.3+ MB\n"
     ]
    }
   ],
   "source": [
    "df_degrees.info()"
   ]
  },
  {
   "cell_type": "code",
   "execution_count": 25,
   "metadata": {},
   "outputs": [
    {
     "data": {
      "text/plain": [
       "0"
      ]
     },
     "execution_count": 25,
     "metadata": {},
     "output_type": "execute_result"
    }
   ],
   "source": [
    "df_degrees.duplicated().sum()"
   ]
  },
  {
   "cell_type": "code",
   "execution_count": 26,
   "metadata": {},
   "outputs": [
    {
     "data": {
      "text/html": [
       "<style  type=\"text/css\" >\n",
       "#T_4d58b_row0_col0,#T_4d58b_row0_col1,#T_4d58b_row1_col0,#T_4d58b_row1_col1{\n",
       "            background-color:  #3b4cc0;\n",
       "            color:  #f1f1f1;\n",
       "        }#T_4d58b_row2_col0,#T_4d58b_row2_col1{\n",
       "            background-color:  #bfd3f6;\n",
       "            color:  #000000;\n",
       "        }#T_4d58b_row3_col0,#T_4d58b_row3_col1{\n",
       "            background-color:  #b40426;\n",
       "            color:  #f1f1f1;\n",
       "        }</style><table id=\"T_4d58b_\" ><thead>    <tr>        <th class=\"blank level0\" ></th>        <th class=\"col_heading level0 col0\" >Количество пропусков</th>        <th class=\"col_heading level0 col1\" >Доля пропусков</th>    </tr></thead><tbody>\n",
       "                <tr>\n",
       "                        <th id=\"T_4d58b_level0_row0\" class=\"row_heading level0 row0\" >id</th>\n",
       "                        <td id=\"T_4d58b_row0_col0\" class=\"data row0 col0\" >0</td>\n",
       "                        <td id=\"T_4d58b_row0_col1\" class=\"data row0 col1\" >0.000000</td>\n",
       "            </tr>\n",
       "            <tr>\n",
       "                        <th id=\"T_4d58b_level0_row1\" class=\"row_heading level0 row1\" >object_id</th>\n",
       "                        <td id=\"T_4d58b_row1_col0\" class=\"data row1 col0\" >0</td>\n",
       "                        <td id=\"T_4d58b_row1_col1\" class=\"data row1 col1\" >0.000000</td>\n",
       "            </tr>\n",
       "            <tr>\n",
       "                        <th id=\"T_4d58b_level0_row2\" class=\"row_heading level0 row2\" >degree_type</th>\n",
       "                        <td id=\"T_4d58b_row2_col0\" class=\"data row2 col0\" >11218</td>\n",
       "                        <td id=\"T_4d58b_row2_col1\" class=\"data row2 col1\" >0.102300</td>\n",
       "            </tr>\n",
       "            <tr>\n",
       "                        <th id=\"T_4d58b_level0_row3\" class=\"row_heading level0 row3\" >subject</th>\n",
       "                        <td id=\"T_4d58b_row3_col0\" class=\"data row3 col0\" >28312</td>\n",
       "                        <td id=\"T_4d58b_row3_col1\" class=\"data row3 col1\" >0.258300</td>\n",
       "            </tr>\n",
       "    </tbody></table>"
      ],
      "text/plain": [
       "<pandas.io.formats.style.Styler at 0x1929b36f0a0>"
      ]
     },
     "execution_count": 26,
     "metadata": {},
     "output_type": "execute_result"
    }
   ],
   "source": [
    "missing_degrees = (pd.DataFrame({'Количество пропусков': df_degrees.isnull().sum(), \n",
    "                                 'Доля пропусков': df_degrees.isnull().mean().round(4)}).style.background_gradient(cmap='coolwarm'))\n",
    "\n",
    "missing_degrees"
   ]
  },
  {
   "cell_type": "markdown",
   "metadata": {},
   "source": [
    "<font color='#777778'>Датасет  содержит 4 столбца и 109610 строк, в которых содержится информацию о типе образования сотрудника.\n",
    "\n",
    "После первичного анализа данных можно сделать следующие выводы:\n",
    "- Названия столбцов уже приведены к одному виду, snake case.\n",
    "- Данные содержат числовые и строковые значения, они хранятся в типах данных `int64(1)`, `object(3)`.\n",
    "- Пропуски содержатся в столбце `subject` и немного `degree_type`.\n",
    "- Судя по первому знакомству с данными, значения в столбцах соответствуют своему описанию.</font>"
   ]
  },
  {
   "cell_type": "markdown",
   "metadata": {},
   "source": [
    "<font color='#777778'>На основе первичного анализа данных, можно сформулировать следующие промежуточные выводы:\n",
    "\n",
    "1. Структура данных\n",
    "- Названия столбцов унифицированы и приведены к `snake_case`.\n",
    "- Типы данных состоят преимущественно из числовых (`int64`, `float64`) и строковых значений (`object`), однако есть и столбцы, преобразованные в даты.\n",
    "\n",
    "2. Пропущенные данные\n",
    "В каждом датасете присутствуют пропуски в различных столбцах, что может повлиять на дальнейший анализ:\n",
    "- В датасете `df_degrees`: пропуски в столбцах `subject` и частично в `degree_type`.\n",
    "- В датасете `df_education`: пропуски в столбцах `graduated_at` и `institution`.\n",
    "- В датасете `df_people`: пропуски в столбцах `company_id` и `network_username`.\n",
    "- В датасете `df_acquisition`: пропуски в столбцах `term_code` и `acquired_at`.\n",
    "- В датасете `df_company_and_rounds`: пропуски встречаются во множестве столбцов.\n",
    "\n",
    "По предварительным данным, значения в столбцах соответствуют ожидаемым типам данных и описаниям. Некоторые столбцы были преобразованы в даты, такие как `graduated_at`, `acquired_at`, `founded_at`, `closed_at`, `funded_at`. Это свидетельствует о наличии временных меток, которые будут важны для анализа динамики событий.\n",
    "\n",
    "- Датасеты различаются по количеству записей: от `9 407` до `226 709` строк.  \n",
    "- Количество пропусков достаточно большое, чтобы их просто удалить. Учитывая высокую долю пропусков, удаление данных может существенно повлиять на объем выборки.\n",
    "</font>"
   ]
  },
  {
   "cell_type": "markdown",
   "metadata": {
    "id": "u60cHsn6rJg1"
   },
   "source": [
    "## Шаг 2. Предобработка данных, предварительное исследование"
   ]
  },
  {
   "cell_type": "markdown",
   "metadata": {
    "id": "g2bHIIjcrJg1"
   },
   "source": [
    "\n",
    "### 2.1. Раунды финансирования по годам\n",
    "\n",
    "Задание необходимо выполнить без объединения и дополнительной предобработки на основе датасета `df_company_and_rounds`.\n",
    "\n",
    "- Составьте сводную таблицу по годам, в которой на основании столбца `raised_amount` для каждого года указан:\n",
    "    - типичный размер средств, выделяемый в рамках одного раунда;\n",
    "    - общее количество раундов финансирования за этот год.\n",
    "    \n",
    "- Оставьте в таблице информацию только для тех лет, для которых есть информация о более чем 50 раундах финансирования.\n",
    "- На основе получившейся таблицы постройте график, который будет отражать динамику типичного размера средств, которые стартапы получали в рамках одного раунда финансирования.\n",
    "\n",
    "На основе полученных данных ответьте на вопросы:\n",
    "\n",
    "- В каком году типичный размер собранных в рамках одного раунда средств был максимален?\n",
    "- Какая тенденция по количеству раундов и выделяемых в рамках каждого раунда средств наблюдалась в 2013 году?"
   ]
  },
  {
   "cell_type": "code",
   "execution_count": 27,
   "metadata": {},
   "outputs": [],
   "source": [
    "df_company_and_rounds['funded_year'] = df_company_and_rounds['funded_at'].dt.year\n"
   ]
  },
  {
   "cell_type": "code",
   "execution_count": 28,
   "metadata": {
    "id": "Cf5IjfOQrJg1"
   },
   "outputs": [],
   "source": [
    "car_df = df_company_and_rounds.groupby('funded_year')['raised_amount'].agg(['median', 'count']).reset_index()\n",
    "\n",
    "car_df = car_df[car_df['count'] > 50]"
   ]
  },
  {
   "cell_type": "code",
   "execution_count": 29,
   "metadata": {
    "id": "8Fbz6KmzFdYP"
   },
   "outputs": [
    {
     "data": {
      "image/png": "[encoded data removed]",
      "text/plain": [
       "<Figure size 1000x600 with 1 Axes>"
      ]
     },
     "metadata": {},
     "output_type": "display_data"
    }
   ],
   "source": [
    "car_df.plot(kind= 'line',\n",
    "            y= 'median',\n",
    "            x= 'funded_year',\n",
    "            color= 'skyblue',\n",
    "            figsize= (10, 6),\n",
    "            title= 'Динамика типичного размера средств, получаемых стартапами')\n",
    "\n",
    "plt.xlabel('Год')\n",
    "plt.ylabel('Типичный размер средств')\n",
    "\n",
    "plt.grid(axis= 'x')\n",
    "\n",
    "plt.show()"
   ]
  },
  {
   "cell_type": "code",
   "execution_count": 30,
   "metadata": {
    "id": "Z92DzKMMFdKW"
   },
   "outputs": [
    {
     "data": {
      "image/png": "[encoded data removed]",
      "text/plain": [
       "<Figure size 1000x600 with 1 Axes>"
      ]
     },
     "metadata": {},
     "output_type": "display_data"
    }
   ],
   "source": [
    "car_df.plot(kind= 'line',\n",
    "            y= 'count',\n",
    "            x= 'funded_year',\n",
    "            color= 'skyblue',\n",
    "            figsize= (10, 6),\n",
    "            title= 'Oбщее количество раундов финансирования за год')\n",
    "\n",
    "plt.xlabel('Год')\n",
    "plt.ylabel('Количество раундов финансирования')\n",
    "\n",
    "plt.grid(axis= 'x')\n",
    "\n",
    "plt.show()"
   ]
  },
  {
   "cell_type": "markdown",
   "metadata": {},
   "source": [
    "<font color='#777778'>Вопрос 1: В каком году типичный размер собранных в рамках одного раунда средств был максимален?\n",
    "- Согласно данным, максимальный медианный размер собранных средств приходится на 2005 год — 5 500 000.\n",
    "\n",
    "Вопрос 2: Какая тенденция по количеству раундов и выделяемых в рамках каждого раунда средств наблюдалась в 2013 году?\n",
    "- Медиана собранных средств составила 1 200 000.\n",
    "- Количество раундов составило 11 072.\n",
    "\n",
    "Тенденция показывает снижение среднего размера сборов по сравнению с предыдущими годами, однако наблюдается значительный рост количества проведенных раундов. Это свидетельствует о том, что в 2013 году было больше мелких сделок, нежели крупных.\n",
    "</font>"
   ]
  },
  {
   "cell_type": "markdown",
   "metadata": {
    "id": "45if1en1rJg2"
   },
   "source": [
    "\n",
    "### 2.2. Люди и их образование\n",
    "\n",
    "Заказчик хочет понять, зависит ли полнота сведений о сотрудниках (например, об их образовании) от размера компаний.\n",
    "\n",
    "- Оцените, насколько информация об образовании сотрудников полна. Используя датасеты `df_people` и `df_education`, разделите все компании на несколько групп по количеству сотрудников и оцените среднюю долю сотрудников без информации об образовании в каждой из групп. Обоснуйте выбранные границы групп.\n",
    "- Оцените, возможно ли для выполнения задания присоединить к этим таблицам ещё и таблицу `df_degrees`."
   ]
  },
  {
   "cell_type": "code",
   "execution_count": 31,
   "metadata": {},
   "outputs": [],
   "source": [
    "df_education_copy = df_education.copy()\n",
    "\n",
    "df_education_copy = df_education_copy.drop_duplicates(subset= 'person_id')"
   ]
  },
  {
   "cell_type": "code",
   "execution_count": 32,
   "metadata": {},
   "outputs": [],
   "source": [
    "df_people_education = pd.merge(df_people, df_education_copy, left_on= 'id', right_on= 'person_id', how= 'left')\n",
    "\n",
    "df_people_education_full = pd.merge(df_people, df_education, left_on= 'id', right_on= 'person_id', how= 'left')"
   ]
  },
  {
   "cell_type": "code",
   "execution_count": 33,
   "metadata": {
    "id": "4FC98Pd-FcmG"
   },
   "outputs": [],
   "source": [
    "df_people_education['cut_instituit'] = pd.cut(df_people_education['company_id'].value_counts(), bins= [0, 50, 100, 300], labels= ['малые', 'средние', 'крупные'])\n",
    "\n",
    "df_people_education_full['cut_instituit'] = pd.cut(df_people_education_full['company_id'].value_counts(), bins= [0, 50, 100, 300], labels= ['малые', 'средние', 'крупные'])"
   ]
  },
  {
   "cell_type": "code",
   "execution_count": 34,
   "metadata": {},
   "outputs": [],
   "source": [
    "df_people_education['has_education'] = ~pd.isnull(df_people_education['instituition'])\n",
    "\n",
    "df_people_education_full['has_education'] = ~pd.isnull(df_people_education_full['instituition'])\n"
   ]
  },
  {
   "cell_type": "code",
   "execution_count": 35,
   "metadata": {},
   "outputs": [],
   "source": [
    "df_false = df_people_education[df_people_education['has_education'] == False]\n",
    "\n",
    "df_false_full = df_people_education_full[df_people_education_full['has_education'] == False]"
   ]
  },
  {
   "cell_type": "code",
   "execution_count": 36,
   "metadata": {},
   "outputs": [
    {
     "data": {
      "text/plain": [
       "cut_instituit\n",
       "малые      0.73\n",
       "средние    0.80\n",
       "крупные    0.67\n",
       "Name: id_x, dtype: float64"
      ]
     },
     "execution_count": 36,
     "metadata": {},
     "output_type": "execute_result"
    }
   ],
   "source": [
    "(df_false.groupby('cut_instituit')['id_x'].count() / df_people_education.groupby('cut_instituit')['id_x'].count()).round(2) # Если удалить дубликаты, про несколько мест учебы"
   ]
  },
  {
   "cell_type": "code",
   "execution_count": 37,
   "metadata": {},
   "outputs": [
    {
     "data": {
      "text/plain": [
       "cut_instituit\n",
       "малые      0.62\n",
       "средние    0.60\n",
       "крупные    1.00\n",
       "Name: id_x, dtype: float64"
      ]
     },
     "execution_count": 37,
     "metadata": {},
     "output_type": "execute_result"
    }
   ],
   "source": [
    "(df_false_full.groupby('cut_instituit')['id_x'].count() / df_people_education_full.groupby('cut_instituit')['id_x'].count()).round(2) # С дубликатами"
   ]
  },
  {
   "cell_type": "markdown",
   "metadata": {},
   "source": [
    "<font color='#777778'>\n",
    "От части странная задача, в таблице `education` и `degrees`, есть дубликаты, как я понимаю, некоторые люди указали несколько мест учебы. Как по мне логично удалить данные дубликаты и оставить один вариант. \n",
    "\n",
    "Для выполнения задания возможно присоединить к этим таблицам ещё и таблицу degrees.csv, но нужно также удалить дубликаты. \n",
    "\n",
    "Разделение на 'малые', 'средние', 'крупные', основан на практических наблюдениях за изменениями в управлении и администрировании компаний различных размеров. </font>"
   ]
  },
  {
   "cell_type": "markdown",
   "metadata": {},
   "source": [
    "<font color='#777778'>Вывод:\n",
    "\n",
    "- Малые компании: Полнота сведений об образовании сотрудников составляет 73%. Это означает, что в малых компаниях информация об образовании сотрудников заполнена примерно на 73%.\n",
    "- Средние компании: Полнота сведений об образовании сотрудников составляет 80%. Это указывает на то, что в средних компаниях информация об образовании сотрудников заполнена лучше, чем в малых.\n",
    "- Крупные компании: Полнота сведений об образовании сотрудников составляет 67%. Это говорит о том, что в крупных компаниях информация об образовании сотрудников заполнена хуже, чем в средних и малых.\n",
    "\n",
    "Общие выводы:\n",
    "- Полнота сведений об образовании сотрудников зависит от размера компании. В средних компаниях информация об образовании сотрудников заполнена лучше всего, в то время как в крупных компаниях — хуже всего.\n",
    "- Это может быть связано с тем, что в небольших и средних компаниях проще контролировать и собирать информацию о сотрудниках, в то время как в крупных компаниях процесс сбора данных может быть более сложным и трудоемким.\n",
    "\n",
    "Таким образом, заказчик может сделать вывод, что размер компании действительно влияет на полноту сведений о сотрудниках, и что для улучшения сбора данных в крупных компаниях могут потребоваться дополнительные ресурсы и усилия.</font>"
   ]
  },
  {
   "cell_type": "markdown",
   "metadata": {
    "id": "Lz7qjM32xglW"
   },
   "source": [
    "### 2.3. Объединять или не объединять — вот в чём вопрос\n",
    "\n",
    "Некоторые названия столбцов встречаются в датасетах чаще других. В результате предварительной проверки датасетов было выяснено, что столбец `company_id` подходит для объединения данных.\n",
    "\n",
    "- Установите, подходит ли для объединения данных столбец `network_username`, который встречается в нескольких датасетах. Нам необходимо понимать, дублируется ли для разных датасетов информация в столбцах с таким названием, и если да — то насколько часто.\n",
    "- Оцените, можно ли использовать столбцы с именем `network_username` для объединения данных."
   ]
  },
  {
   "cell_type": "code",
   "execution_count": 38,
   "metadata": {},
   "outputs": [
    {
     "name": "stdout",
     "output_type": "stream",
     "text": [
      "Количество записей:\n",
      "217774\n",
      "226709\n"
     ]
    }
   ],
   "source": [
    "print(\"Количество записей:\")\n",
    "print(len(df_company_and_rounds['network_username']))\n",
    "print(len(df_people['network_username']))"
   ]
  },
  {
   "cell_type": "code",
   "execution_count": 39,
   "metadata": {
    "id": "_7gjdrGOFcB2"
   },
   "outputs": [
    {
     "name": "stdout",
     "output_type": "stream",
     "text": [
      "79572\n",
      "38422\n",
      "Общее количество уникальных имен пользователей: 2200\n"
     ]
    }
   ],
   "source": [
    "# Получаем уникальные значения в каждом датафрейме\n",
    "unique_usernames_edu = set(df_company_and_rounds['network_username'])\n",
    "unique_usernames = set(df_people['network_username'])\n",
    "\n",
    "# Пересечение множеств\n",
    "common_usernames = unique_usernames.intersection(unique_usernames_edu)\n",
    "\n",
    "print(len(unique_usernames_edu))\n",
    "print(len(unique_usernames))\n",
    "\n",
    "print(f\"Общее количество уникальных имен пользователей: {len(common_usernames)}\")"
   ]
  },
  {
   "cell_type": "code",
   "execution_count": 40,
   "metadata": {},
   "outputs": [
    {
     "name": "stdout",
     "output_type": "stream",
     "text": [
      "Процент общих записей: 0.49%\n"
     ]
    }
   ],
   "source": [
    "total_records = len(df_company_and_rounds) + len(df_people)\n",
    "common_percentage = len(common_usernames) / total_records * 100\n",
    "\n",
    "print(f\"Процент общих записей: {common_percentage:.2f}%\")"
   ]
  },
  {
   "cell_type": "markdown",
   "metadata": {},
   "source": [
    "<font color='#777778'>\n",
    "Процент совпадений низкий (< 50%), лучше пересмотреть подход к объединению. Так как процент совпадений низкий, я бы не стал использовать столбцы с именем network_username для объединения данных. </font>"
   ]
  },
  {
   "cell_type": "markdown",
   "metadata": {
    "id": "EHcODomVrJg1"
   },
   "source": [
    "\n",
    "### 2.4. Проблемный датасет и причина возникновения пропусков\n",
    "\n",
    "Во время собственного анализа данных у заказчика больше всего вопросов возникло к датасету `df_company_and_rounds`. В нём много пропусков как раз в информации о раундах, которая заказчику важна.\n",
    "\n",
    "- Любым удобным способом приведите данные в вид, который позволит в дальнейшем проводить анализ в разрезе отдельных компаний. Обратите внимание на структуру датасета, порядок и названия столбцов, проанализируйте значения.\n",
    "\n",
    "По гипотезе заказчика данные по компаниям из этой таблицы раньше хранились иначе, более удобным для исследования образом.\n",
    "\n",
    "- Максимальным образом сохраняя данные, сохранив их связность и исключив возможные возникающие при этом ошибки, подготовьте данные так, чтобы удобно было отобрать компании по параметрам и рассчитать показатели из расчёта на одну компанию без промежуточных агрегаций."
   ]
  },
  {
   "cell_type": "code",
   "execution_count": 41,
   "metadata": {
    "id": "oSk7xqu_FbaN"
   },
   "outputs": [
    {
     "name": "stdout",
     "output_type": "stream",
     "text": [
      "В датасете companies_df всего строк 217774, найдено: 21220 дубликатов\n",
      "Осталось строк 196554, после удаления дубликатов\n"
     ]
    }
   ],
   "source": [
    "companies_df = df_company_and_rounds[['company_ID', 'name', 'category_code', 'status', \n",
    "                                      'founded_at', 'closed_at', 'domain', 'network_username', \n",
    "                                      'country_code', 'investment_rounds', 'funding_rounds', \n",
    "                                      'funding_total', 'milestones']]\n",
    "\n",
    "print(f'В датасете companies_df всего строк {companies_df.shape[0]}, найдено: {companies_df.duplicated(). sum()} дубликатов')\n",
    "\n",
    "companies_df = companies_df.drop_duplicates()\n",
    "\n",
    "print(f'Осталось строк {companies_df.shape[0]}, после удаления дубликатов')"
   ]
  },
  {
   "cell_type": "code",
   "execution_count": 42,
   "metadata": {},
   "outputs": [
    {
     "name": "stdout",
     "output_type": "stream",
     "text": [
      "В датасете rounds_df всего строк 217774, найдено: 164846 пропусков\n",
      "Осталось строк 52928, после удаления пропусков\n"
     ]
    }
   ],
   "source": [
    "rounds_df = df_company_and_rounds[['company_ID', 'name', 'raised_amount', 'funding_round_id', \n",
    "                                   'funded_at', 'funding_round_type', 'pre_money_valuation', 'participants', 'is_first_round', 'is_last_round', 'funded_year']]\n",
    "\n",
    "print(f'В датасете rounds_df всего строк {rounds_df.shape[0]}, найдено: {rounds_df[\"funding_round_id\"].isna(). sum()} пропусков')\n",
    "\n",
    "rounds_df = rounds_df.dropna(subset= ['funding_round_id'])\n",
    "\n",
    "print(f'Осталось строк {rounds_df.shape[0]}, после удаления пропусков')"
   ]
  },
  {
   "cell_type": "markdown",
   "metadata": {
    "id": "bmVYhphNrJg2"
   },
   "source": [
    "\n",
    "## Шаг 3. Исследовательский анализ объединённых таблиц\n",
    "\n",
    "> Приступите к шагу 3 после проверки ревьюера.\n",
    "\n",
    "<big>Студентам нужно чётко сказать - проверять дальше или не проверять.</big>"
   ]
  },
  {
   "cell_type": "markdown",
   "metadata": {
    "id": "3Di6tCT3rJg2"
   },
   "source": [
    "\n",
    "### 3.1. Объединение данных\n",
    "\n",
    "Объедините данные для ответа на вопросы заказчика, которые касаются интересующих его компаний. Заказчика прежде всего интересуют те компании, которые меняли или готовы менять владельцев. Получение инвестиций или финансирования, по мнению заказчика, означает интерес к покупке или продаже компании.\n",
    "\n",
    "В качестве основы для объединённой таблицы возьмите данные из обработанного датасета `df_company_and_rounds` — выберите только те компании, у которых указаны значения `funding_rounds` или `investment_rounds` больше нуля, или те, у которых в колонке `status` указано `acquired`. В результирующей таблице должно получиться порядка 40 тысяч компаний.\n",
    "\n",
    "Проверьте полноту и корректность получившейся таблицы. Далее работайте только с этими данными."
   ]
  },
  {
   "cell_type": "code",
   "execution_count": 43,
   "metadata": {
    "id": "kuV1b5MXFg3_"
   },
   "outputs": [],
   "source": [
    "new_df = companies_df[(companies_df['funding_rounds'] >= 1) | \n",
    "                              (companies_df['investment_rounds'] >= 1) | \n",
    "                              (companies_df['status'] == 'acquired')]\n",
    "\n",
    "new_df['funding_total'] = new_df['funding_total'].astype('int')"
   ]
  },
  {
   "cell_type": "code",
   "execution_count": 44,
   "metadata": {},
   "outputs": [
    {
     "name": "stdout",
     "output_type": "stream",
     "text": [
      "<class 'pandas.core.frame.DataFrame'>\n",
      "Int64Index: 40747 entries, 0 to 217469\n",
      "Data columns (total 13 columns):\n",
      " #   Column             Non-Null Count  Dtype         \n",
      "---  ------             --------------  -----         \n",
      " 0   company_ID         40747 non-null  float64       \n",
      " 1   name               40747 non-null  object        \n",
      " 2   category_code      35315 non-null  object        \n",
      " 3   status             40747 non-null  object        \n",
      " 4   founded_at         27807 non-null  datetime64[ns]\n",
      " 5   closed_at          2128 non-null   datetime64[ns]\n",
      " 6   domain             35754 non-null  object        \n",
      " 7   network_username   20850 non-null  object        \n",
      " 8   country_code       34742 non-null  object        \n",
      " 9   investment_rounds  40747 non-null  float64       \n",
      " 10  funding_rounds     40747 non-null  float64       \n",
      " 11  funding_total      40747 non-null  int32         \n",
      " 12  milestones         40747 non-null  float64       \n",
      "dtypes: datetime64[ns](2), float64(4), int32(1), object(6)\n",
      "memory usage: 4.2+ MB\n"
     ]
    }
   ],
   "source": [
    "new_df.info()"
   ]
  },
  {
   "cell_type": "markdown",
   "metadata": {
    "id": "DFHINkV3rJg2"
   },
   "source": [
    "\n",
    "### 3.2. Анализ выбросов\n",
    "\n",
    "Заказчика интересует обычный для рассматриваемого периода размер средств, который предоставлялся компаниям.\n",
    "\n",
    "- По предобработанному столбцу `funding_total` графическим способом оцените, какой размер общего финансирования для одной компании будет типичным, а какой — выбивающимся.\n",
    "- В процессе расчёта значений обратите внимание, например, на показатели, возвращаемые методом `.describe()`, — объясните их. Применимы ли к таким данным обычные способы нахождения типичных значений?"
   ]
  },
  {
   "cell_type": "code",
   "execution_count": 45,
   "metadata": {},
   "outputs": [
    {
     "data": {
      "image/png": "[encoded data removed]",
      "text/plain": [
       "<Figure size 1000x600 with 1 Axes>"
      ]
     },
     "metadata": {},
     "output_type": "display_data"
    }
   ],
   "source": [
    "plt.figure(figsize= (10, 6))\n",
    "\n",
    "# Строим график плотности распределения\n",
    "sns.distplot(new_df['funding_total'], color= 'skyblue')\n",
    "\n",
    "plt.title(\"Распределение размеров финансирования\")\n",
    "plt.xlabel(\"Размер финансирования\")\n",
    "plt.ylabel(\"Плотность\")\n",
    "\n",
    "plt.show()"
   ]
  },
  {
   "cell_type": "code",
   "execution_count": 46,
   "metadata": {
    "id": "8jm75fKXrJg2"
   },
   "outputs": [
    {
     "data": {
      "image/png": "[encoded data removed]",
      "text/plain": [
       "<Figure size 1000x600 with 1 Axes>"
      ]
     },
     "metadata": {},
     "output_type": "display_data"
    }
   ],
   "source": [
    "plt.figure(figsize= (10, 6))\n",
    "\n",
    "# Строим гистограмму\n",
    "plt.hist(new_df['funding_total'], bins= 50, color= 'skyblue', edgecolor= 'black')\n",
    "\n",
    "plt.title(\"Гистограмма размеров финансирования\")\n",
    "plt.xlabel(\"Размер финансирования\")\n",
    "plt.ylabel(\"Частота\")\n",
    "\n",
    "plt.show()"
   ]
  },
  {
   "cell_type": "code",
   "execution_count": 47,
   "metadata": {},
   "outputs": [
    {
     "data": {
      "image/png": "[encoded data removed]",
      "text/plain": [
       "<Figure size 1000x600 with 1 Axes>"
      ]
     },
     "metadata": {},
     "output_type": "display_data"
    }
   ],
   "source": [
    "plt.figure(figsize= (10, 6))\n",
    "\n",
    "plt.hist(new_df['funding_total'], bins= 50, color='skyblue', edgecolor='black', log=True)\n",
    "\n",
    "plt.xscale('log')  # Логарифмическая шкала по оси X\n",
    "\n",
    "plt.xlabel('Общее финансирование (логарифмическая шкала)')\n",
    "plt.ylabel('Количество компаний')\n",
    "plt.title('Распределение общего финансирования (логарифмическая шкала)')\n",
    "\n",
    "plt.show()"
   ]
  },
  {
   "cell_type": "code",
   "execution_count": 48,
   "metadata": {
    "id": "S1jrfr7rFhcw"
   },
   "outputs": [
    {
     "name": "stdout",
     "output_type": "stream",
     "text": [
      "count    4.074700e+04\n",
      "mean     9.452169e+06\n",
      "std      4.613801e+07\n",
      "min     -2.147484e+09\n",
      "25%      0.000000e+00\n",
      "50%      6.000000e+05\n",
      "75%      5.644760e+06\n",
      "max      1.765500e+09\n",
      "Name: funding_total, dtype: float64\n"
     ]
    }
   ],
   "source": [
    "stats = new_df['funding_total'].describe()\n",
    "print(stats)\n"
   ]
  },
  {
   "cell_type": "markdown",
   "metadata": {},
   "source": [
    "<font color='#777778'>Для данного набора данных стандартные методы вроде среднего значения могут давать искаженную картину из-за сильных выбросов. Более адекватной мерой центрального значения будет медиана, а для анализа распределения полезно использовать процентили.</font>\n",
    "\n",
    "\n",
    "\n",
    "\n",
    "\n"
   ]
  },
  {
   "cell_type": "markdown",
   "metadata": {
    "id": "JqkRAQrIrJg2"
   },
   "source": [
    "\n",
    "### 3.3. Куплены забесплатно?\n",
    "\n",
    "- Исследуйте компании, которые были проданы за ноль или за один доллар, и при этом известно, что у них был ненулевой общий объём финансирования.\n",
    "\n",
    "- Рассчитайте аналитически верхнюю и нижнюю границу выбросов для столбца `funding_total` и укажите, каким процентилям границы соответствуют."
   ]
  },
  {
   "cell_type": "code",
   "execution_count": 49,
   "metadata": {
    "id": "wJHXCBwwrJg2"
   },
   "outputs": [
    {
     "data": {
      "text/html": [
       "<div>\n",
       "<style scoped>\n",
       "    .dataframe tbody tr th:only-of-type {\n",
       "        vertical-align: middle;\n",
       "    }\n",
       "\n",
       "    .dataframe tbody tr th {\n",
       "        vertical-align: top;\n",
       "    }\n",
       "\n",
       "    .dataframe thead th {\n",
       "        text-align: right;\n",
       "    }\n",
       "</style>\n",
       "<table border=\"1\" class=\"dataframe\">\n",
       "  <thead>\n",
       "    <tr style=\"text-align: right;\">\n",
       "      <th></th>\n",
       "      <th>company_ID</th>\n",
       "      <th>name</th>\n",
       "      <th>category_code</th>\n",
       "      <th>status</th>\n",
       "      <th>founded_at</th>\n",
       "      <th>closed_at</th>\n",
       "      <th>domain</th>\n",
       "      <th>network_username</th>\n",
       "      <th>country_code</th>\n",
       "      <th>investment_rounds</th>\n",
       "      <th>funding_rounds</th>\n",
       "      <th>funding_total</th>\n",
       "      <th>milestones</th>\n",
       "    </tr>\n",
       "  </thead>\n",
       "  <tbody>\n",
       "    <tr>\n",
       "      <th>15</th>\n",
       "      <td>1001.0</td>\n",
       "      <td>FriendFeed</td>\n",
       "      <td>web</td>\n",
       "      <td>acquired</td>\n",
       "      <td>2007-10-01</td>\n",
       "      <td>NaT</td>\n",
       "      <td>friendfeed.com</td>\n",
       "      <td>friendfeed</td>\n",
       "      <td>USA</td>\n",
       "      <td>0.0</td>\n",
       "      <td>1.0</td>\n",
       "      <td>5000000</td>\n",
       "      <td>3.0</td>\n",
       "    </tr>\n",
       "    <tr>\n",
       "      <th>79</th>\n",
       "      <td>10054.0</td>\n",
       "      <td>Jumptap</td>\n",
       "      <td>mobile</td>\n",
       "      <td>acquired</td>\n",
       "      <td>2005-01-01</td>\n",
       "      <td>NaT</td>\n",
       "      <td>jumptap.com</td>\n",
       "      <td>jumptap</td>\n",
       "      <td>USA</td>\n",
       "      <td>0.0</td>\n",
       "      <td>7.0</td>\n",
       "      <td>121500000</td>\n",
       "      <td>3.0</td>\n",
       "    </tr>\n",
       "    <tr>\n",
       "      <th>103</th>\n",
       "      <td>1007.0</td>\n",
       "      <td>Rupture</td>\n",
       "      <td>games_video</td>\n",
       "      <td>acquired</td>\n",
       "      <td>NaT</td>\n",
       "      <td>NaT</td>\n",
       "      <td>rupture.com</td>\n",
       "      <td>rupture</td>\n",
       "      <td>USA</td>\n",
       "      <td>0.0</td>\n",
       "      <td>1.0</td>\n",
       "      <td>3000000</td>\n",
       "      <td>2.0</td>\n",
       "    </tr>\n",
       "    <tr>\n",
       "      <th>206</th>\n",
       "      <td>101312.0</td>\n",
       "      <td>SideTour</td>\n",
       "      <td>web</td>\n",
       "      <td>acquired</td>\n",
       "      <td>2011-06-01</td>\n",
       "      <td>NaT</td>\n",
       "      <td>sidetour.com</td>\n",
       "      <td>sidetour</td>\n",
       "      <td>USA</td>\n",
       "      <td>0.0</td>\n",
       "      <td>3.0</td>\n",
       "      <td>4000000</td>\n",
       "      <td>2.0</td>\n",
       "    </tr>\n",
       "    <tr>\n",
       "      <th>217</th>\n",
       "      <td>101340.0</td>\n",
       "      <td>ChoicePass</td>\n",
       "      <td>enterprise</td>\n",
       "      <td>acquired</td>\n",
       "      <td>2011-07-01</td>\n",
       "      <td>NaT</td>\n",
       "      <td>choicepass.com</td>\n",
       "      <td>choicepass</td>\n",
       "      <td>USA</td>\n",
       "      <td>0.0</td>\n",
       "      <td>1.0</td>\n",
       "      <td>250000</td>\n",
       "      <td>1.0</td>\n",
       "    </tr>\n",
       "  </tbody>\n",
       "</table>\n",
       "</div>"
      ],
      "text/plain": [
       "     company_ID        name category_code    status founded_at closed_at  \\\n",
       "15       1001.0  FriendFeed           web  acquired 2007-10-01       NaT   \n",
       "79      10054.0     Jumptap        mobile  acquired 2005-01-01       NaT   \n",
       "103      1007.0     Rupture   games_video  acquired        NaT       NaT   \n",
       "206    101312.0    SideTour           web  acquired 2011-06-01       NaT   \n",
       "217    101340.0  ChoicePass    enterprise  acquired 2011-07-01       NaT   \n",
       "\n",
       "             domain network_username country_code  investment_rounds  \\\n",
       "15   friendfeed.com       friendfeed          USA                0.0   \n",
       "79      jumptap.com          jumptap          USA                0.0   \n",
       "103     rupture.com          rupture          USA                0.0   \n",
       "206    sidetour.com         sidetour          USA                0.0   \n",
       "217  choicepass.com       choicepass          USA                0.0   \n",
       "\n",
       "     funding_rounds  funding_total  milestones  \n",
       "15              1.0        5000000         3.0  \n",
       "79              7.0      121500000         3.0  \n",
       "103             1.0        3000000         2.0  \n",
       "206             3.0        4000000         2.0  \n",
       "217             1.0         250000         1.0  "
      ]
     },
     "execution_count": 49,
     "metadata": {},
     "output_type": "execute_result"
    }
   ],
   "source": [
    "company_sell = new_df[((new_df['investment_rounds'] == 0) | \n",
    "                       (new_df['investment_rounds'] == 1)) & (new_df['funding_total'] > 0)]\n",
    "\n",
    "company_sell = company_sell[company_sell['status'] == 'acquired']\n",
    "\n",
    "company_sell.head()"
   ]
  },
  {
   "cell_type": "code",
   "execution_count": 50,
   "metadata": {},
   "outputs": [
    {
     "name": "stdout",
     "output_type": "stream",
     "text": [
      "25 квартиль: 2900000.0\n",
      "75 квартиль: 21460700.0\n",
      "Межквартильный размах: 18560700.0\n",
      "Нижний порог: -24941050.0\n",
      "Верхний порог: 49301750.0\n"
     ]
    }
   ],
   "source": [
    "Q1 = company_sell['funding_total'].quantile(0.25)\n",
    "Q3 = company_sell['funding_total'].quantile(0.75)\n",
    "\n",
    "IQR = Q3 - Q1\n",
    "\n",
    "lower_line = Q1 - 1.5 * IQR\n",
    "upper_line = Q3 + 1.5 * IQR\n",
    "\n",
    "print(f'25 квартиль: {Q1}') \n",
    "print(f'75 квартиль: {Q3}')\n",
    "print(f'Межквартильный размах: {IQR}')\n",
    "print(f'Нижний порог: {lower_line}')\n",
    "print(f'Верхний порог: {upper_line}')"
   ]
  },
  {
   "cell_type": "code",
   "execution_count": 51,
   "metadata": {},
   "outputs": [
    {
     "data": {
      "image/png": "[encoded data removed]",
      "text/plain": [
       "<Figure size 1000x600 with 1 Axes>"
      ]
     },
     "metadata": {},
     "output_type": "display_data"
    }
   ],
   "source": [
    "company_sell['funding_total'].plot(kind= 'box',\n",
    "                                   vert= False,\n",
    "                                   figsize= (10, 6),\n",
    "                                   title= 'Распределение суммы финансирования')\n",
    "\n",
    "plt.ylabel('Сумма')\n",
    "plt.show()"
   ]
  },
  {
   "cell_type": "code",
   "execution_count": 52,
   "metadata": {},
   "outputs": [
    {
     "data": {
      "image/png": "[encoded data removed]",
      "text/plain": [
       "<Figure size 1000x600 with 1 Axes>"
      ]
     },
     "metadata": {},
     "output_type": "display_data"
    }
   ],
   "source": [
    "company_sell['funding_total'].plot(kind= 'box',\n",
    "                                   vert= False,\n",
    "                                   figsize= (10, 6),\n",
    "                                   showfliers=False,\n",
    "                                   title= 'Распределение суммы финансирования')\n",
    "\n",
    "plt.ylabel('Сумма')\n",
    "plt.show()"
   ]
  },
  {
   "cell_type": "markdown",
   "metadata": {},
   "source": [
    "<font color='#777778'>Таким образом, верхняя и нижняя границы выброса составляют:\n",
    "- Нижняя граница: −24942050.\n",
    "- Верхняя граница: 49351750.\n",
    "\n",
    "Распределение значений асимметричное, скошенное вправо. Минимальная сумма — 3750, а максимальный — 835750000. Среднее значение соответствует 19311414, тогда как медиана — 8400000. Среднее и медианное значение отличаются сильно. По гистограмме размаха видно, что значения выше примерно 50000000 можно считать выбросами.\n",
    "</font>"
   ]
  },
  {
   "cell_type": "markdown",
   "metadata": {
    "id": "mEiWpROjrJg2"
   },
   "source": [
    "\n",
    "### 3.4. Цены стартапов по категориям\n",
    "\n",
    "Категории стартапов с типично высокими ценами покупки стартапов и значительным разбросом цен могут быть привлекательными для крупных инвесторов, которые готовы к высоким рискам ради потенциально больших доходов. Среди категорий стартапов выделите категории стартапов, характеризующиеся:\n",
    "\n",
    "- типично высокими ценами;\n",
    "- и наибольшим разбросом цен за стартап.\n",
    "\n",
    "Объясните, почему решили составить топ именно из такого числа категорий и почему рассчитывали именно так."
   ]
  },
  {
   "cell_type": "code",
   "execution_count": 53,
   "metadata": {},
   "outputs": [],
   "source": [
    "filtered_data = new_df[(new_df['investment_rounds'] != 0) & (new_df['funding_total'] != 0)]"
   ]
  },
  {
   "cell_type": "code",
   "execution_count": 54,
   "metadata": {
    "id": "eF1aULm5FjfY"
   },
   "outputs": [
    {
     "data": {
      "text/html": [
       "<div>\n",
       "<style scoped>\n",
       "    .dataframe tbody tr th:only-of-type {\n",
       "        vertical-align: middle;\n",
       "    }\n",
       "\n",
       "    .dataframe tbody tr th {\n",
       "        vertical-align: top;\n",
       "    }\n",
       "\n",
       "    .dataframe thead tr th {\n",
       "        text-align: left;\n",
       "    }\n",
       "</style>\n",
       "<table border=\"1\" class=\"dataframe\">\n",
       "  <thead>\n",
       "    <tr>\n",
       "      <th></th>\n",
       "      <th>category_code</th>\n",
       "      <th colspan=\"2\" halign=\"left\">funding_total</th>\n",
       "    </tr>\n",
       "    <tr>\n",
       "      <th></th>\n",
       "      <th></th>\n",
       "      <th>std</th>\n",
       "      <th>median</th>\n",
       "    </tr>\n",
       "  </thead>\n",
       "  <tbody>\n",
       "    <tr>\n",
       "      <th>18</th>\n",
       "      <td>nanotech</td>\n",
       "      <td>NaN</td>\n",
       "      <td>502860000.0</td>\n",
       "    </tr>\n",
       "    <tr>\n",
       "      <th>6</th>\n",
       "      <td>education</td>\n",
       "      <td>5.271481e+08</td>\n",
       "      <td>377250000.0</td>\n",
       "    </tr>\n",
       "    <tr>\n",
       "      <th>12</th>\n",
       "      <td>hospitality</td>\n",
       "      <td>NaN</td>\n",
       "      <td>133663000.0</td>\n",
       "    </tr>\n",
       "    <tr>\n",
       "      <th>20</th>\n",
       "      <td>news</td>\n",
       "      <td>1.187974e+08</td>\n",
       "      <td>125440000.0</td>\n",
       "    </tr>\n",
       "    <tr>\n",
       "      <th>27</th>\n",
       "      <td>semiconductor</td>\n",
       "      <td>8.789090e+07</td>\n",
       "      <td>93329100.0</td>\n",
       "    </tr>\n",
       "    <tr>\n",
       "      <th>23</th>\n",
       "      <td>public_relations</td>\n",
       "      <td>3.053960e+08</td>\n",
       "      <td>69477100.0</td>\n",
       "    </tr>\n",
       "    <tr>\n",
       "      <th>30</th>\n",
       "      <td>transportation</td>\n",
       "      <td>NaN</td>\n",
       "      <td>60704400.0</td>\n",
       "    </tr>\n",
       "    <tr>\n",
       "      <th>16</th>\n",
       "      <td>messaging</td>\n",
       "      <td>5.310188e+07</td>\n",
       "      <td>47548700.0</td>\n",
       "    </tr>\n",
       "    <tr>\n",
       "      <th>24</th>\n",
       "      <td>real_estate</td>\n",
       "      <td>NaN</td>\n",
       "      <td>45900000.0</td>\n",
       "    </tr>\n",
       "    <tr>\n",
       "      <th>5</th>\n",
       "      <td>ecommerce</td>\n",
       "      <td>1.122818e+08</td>\n",
       "      <td>40600000.0</td>\n",
       "    </tr>\n",
       "    <tr>\n",
       "      <th>15</th>\n",
       "      <td>medical</td>\n",
       "      <td>9.545942e+06</td>\n",
       "      <td>33250000.0</td>\n",
       "    </tr>\n",
       "    <tr>\n",
       "      <th>19</th>\n",
       "      <td>network_hosting</td>\n",
       "      <td>9.652282e+07</td>\n",
       "      <td>31000000.0</td>\n",
       "    </tr>\n",
       "    <tr>\n",
       "      <th>31</th>\n",
       "      <td>web</td>\n",
       "      <td>3.604217e+08</td>\n",
       "      <td>30600000.0</td>\n",
       "    </tr>\n",
       "    <tr>\n",
       "      <th>7</th>\n",
       "      <td>enterprise</td>\n",
       "      <td>4.189440e+07</td>\n",
       "      <td>30000000.0</td>\n",
       "    </tr>\n",
       "    <tr>\n",
       "      <th>9</th>\n",
       "      <td>games_video</td>\n",
       "      <td>2.229254e+08</td>\n",
       "      <td>27450000.0</td>\n",
       "    </tr>\n",
       "    <tr>\n",
       "      <th>10</th>\n",
       "      <td>hardware</td>\n",
       "      <td>3.441952e+08</td>\n",
       "      <td>26879150.0</td>\n",
       "    </tr>\n",
       "    <tr>\n",
       "      <th>26</th>\n",
       "      <td>security</td>\n",
       "      <td>4.144115e+07</td>\n",
       "      <td>24700000.0</td>\n",
       "    </tr>\n",
       "    <tr>\n",
       "      <th>21</th>\n",
       "      <td>nonprofit</td>\n",
       "      <td>NaN</td>\n",
       "      <td>23000000.0</td>\n",
       "    </tr>\n",
       "    <tr>\n",
       "      <th>29</th>\n",
       "      <td>software</td>\n",
       "      <td>9.996477e+07</td>\n",
       "      <td>20400000.0</td>\n",
       "    </tr>\n",
       "    <tr>\n",
       "      <th>13</th>\n",
       "      <td>legal</td>\n",
       "      <td>NaN</td>\n",
       "      <td>16554300.0</td>\n",
       "    </tr>\n",
       "    <tr>\n",
       "      <th>25</th>\n",
       "      <td>search</td>\n",
       "      <td>6.934794e+07</td>\n",
       "      <td>16050000.0</td>\n",
       "    </tr>\n",
       "    <tr>\n",
       "      <th>2</th>\n",
       "      <td>biotech</td>\n",
       "      <td>8.246780e+07</td>\n",
       "      <td>15948800.0</td>\n",
       "    </tr>\n",
       "    <tr>\n",
       "      <th>14</th>\n",
       "      <td>manufacturing</td>\n",
       "      <td>4.276191e+07</td>\n",
       "      <td>13200000.0</td>\n",
       "    </tr>\n",
       "    <tr>\n",
       "      <th>0</th>\n",
       "      <td>advertising</td>\n",
       "      <td>8.772609e+07</td>\n",
       "      <td>11800000.0</td>\n",
       "    </tr>\n",
       "    <tr>\n",
       "      <th>11</th>\n",
       "      <td>health</td>\n",
       "      <td>2.427190e+07</td>\n",
       "      <td>10335000.0</td>\n",
       "    </tr>\n",
       "    <tr>\n",
       "      <th>3</th>\n",
       "      <td>cleantech</td>\n",
       "      <td>1.464782e+08</td>\n",
       "      <td>8906850.0</td>\n",
       "    </tr>\n",
       "    <tr>\n",
       "      <th>8</th>\n",
       "      <td>finance</td>\n",
       "      <td>4.270880e+07</td>\n",
       "      <td>7196200.0</td>\n",
       "    </tr>\n",
       "    <tr>\n",
       "      <th>17</th>\n",
       "      <td>mobile</td>\n",
       "      <td>6.231051e+08</td>\n",
       "      <td>6282250.0</td>\n",
       "    </tr>\n",
       "    <tr>\n",
       "      <th>28</th>\n",
       "      <td>social</td>\n",
       "      <td>1.253340e+09</td>\n",
       "      <td>4500000.0</td>\n",
       "    </tr>\n",
       "    <tr>\n",
       "      <th>1</th>\n",
       "      <td>analytics</td>\n",
       "      <td>4.128970e+06</td>\n",
       "      <td>3350477.5</td>\n",
       "    </tr>\n",
       "    <tr>\n",
       "      <th>22</th>\n",
       "      <td>other</td>\n",
       "      <td>1.057239e+07</td>\n",
       "      <td>2545000.0</td>\n",
       "    </tr>\n",
       "    <tr>\n",
       "      <th>4</th>\n",
       "      <td>consulting</td>\n",
       "      <td>1.064424e+06</td>\n",
       "      <td>285322.0</td>\n",
       "    </tr>\n",
       "  </tbody>\n",
       "</table>\n",
       "</div>"
      ],
      "text/plain": [
       "       category_code funding_total             \n",
       "                               std       median\n",
       "18          nanotech           NaN  502860000.0\n",
       "6          education  5.271481e+08  377250000.0\n",
       "12       hospitality           NaN  133663000.0\n",
       "20              news  1.187974e+08  125440000.0\n",
       "27     semiconductor  8.789090e+07   93329100.0\n",
       "23  public_relations  3.053960e+08   69477100.0\n",
       "30    transportation           NaN   60704400.0\n",
       "16         messaging  5.310188e+07   47548700.0\n",
       "24       real_estate           NaN   45900000.0\n",
       "5          ecommerce  1.122818e+08   40600000.0\n",
       "15           medical  9.545942e+06   33250000.0\n",
       "19   network_hosting  9.652282e+07   31000000.0\n",
       "31               web  3.604217e+08   30600000.0\n",
       "7         enterprise  4.189440e+07   30000000.0\n",
       "9        games_video  2.229254e+08   27450000.0\n",
       "10          hardware  3.441952e+08   26879150.0\n",
       "26          security  4.144115e+07   24700000.0\n",
       "21         nonprofit           NaN   23000000.0\n",
       "29          software  9.996477e+07   20400000.0\n",
       "13             legal           NaN   16554300.0\n",
       "25            search  6.934794e+07   16050000.0\n",
       "2            biotech  8.246780e+07   15948800.0\n",
       "14     manufacturing  4.276191e+07   13200000.0\n",
       "0        advertising  8.772609e+07   11800000.0\n",
       "11            health  2.427190e+07   10335000.0\n",
       "3          cleantech  1.464782e+08    8906850.0\n",
       "8            finance  4.270880e+07    7196200.0\n",
       "17            mobile  6.231051e+08    6282250.0\n",
       "28            social  1.253340e+09    4500000.0\n",
       "1          analytics  4.128970e+06    3350477.5\n",
       "22             other  1.057239e+07    2545000.0\n",
       "4         consulting  1.064424e+06     285322.0"
      ]
     },
     "execution_count": 54,
     "metadata": {},
     "output_type": "execute_result"
    }
   ],
   "source": [
    "filtered_data.groupby('category_code', \n",
    "                     as_index= False).agg({'funding_total': ['std',\n",
    "                                                             'median']}).sort_values(('funding_total', \n",
    "                                                                                    'median'), ascending= False)"
   ]
  },
  {
   "cell_type": "code",
   "execution_count": 55,
   "metadata": {},
   "outputs": [
    {
     "data": {
      "image/png": "[encoded data removed]",
      "text/plain": [
       "<Figure size 1000x600 with 1 Axes>"
      ]
     },
     "metadata": {},
     "output_type": "display_data"
    }
   ],
   "source": [
    "mean_b = filtered_data.groupby('category_code', as_index= False)['funding_total'].median().sort_values(by='funding_total',ascending= False)\n",
    "\n",
    "mean_b.plot(kind= 'barh',\n",
    "            x= 'category_code',\n",
    "            figsize= (10, 6),\n",
    "            title= 'Категории стартапов с средними ценами')\n",
    "\n",
    "plt.ylabel('Категории')\n",
    "plt.xlabel('Средняя цена')\n",
    "\n",
    "plt.show()"
   ]
  },
  {
   "cell_type": "code",
   "execution_count": 56,
   "metadata": {},
   "outputs": [
    {
     "data": {
      "image/png": "[encoded data removed]",
      "text/plain": [
       "<Figure size 1000x600 with 1 Axes>"
      ]
     },
     "metadata": {},
     "output_type": "display_data"
    }
   ],
   "source": [
    "std_b = filtered_data.groupby('category_code', as_index= False)['funding_total'].std().sort_values(by='funding_total',ascending= False)\n",
    "\n",
    "std_b.plot(kind= 'barh',\n",
    "            x= 'category_code',\n",
    "            figsize= (10, 6),\n",
    "            title= 'Категории стартапов с разбросом цен за стартап')\n",
    "\n",
    "plt.ylabel('Категории')\n",
    "plt.xlabel('Разброс цен')\n",
    "\n",
    "plt.show()"
   ]
  },
  {
   "cell_type": "markdown",
   "metadata": {},
   "source": [
    "<font color='#777778'>Топ-категорий по высокими медианам:\n",
    "\n",
    "- `Nanotech`.\n",
    "- `Education`.\n",
    "- `Hospitality`.\n",
    "Эти три категории имеют самые высокие средние показатели финансирования, что делает их интересными.\n",
    "\n",
    "Топ-категорий по большому разбросу цен:\n",
    "\n",
    "- `Social`.\n",
    "- `Mobile`.\n",
    "- `Education`.\n",
    "Эти категории демонстрируют значительные колебания в размерах инвестиций, что также привлекает внимание, ориентированных на высокую доходность.\n",
    "\n",
    "`Education ` — категория демонстрирует одновременно высокую среднюю цену сделок и значительный разброс цен. \n",
    "`News` — несмотря на меньший разброс цен по сравнению с `Education`, эта категория всё равно остаётся привлекательной благодаря высокому среднему финансированию.\n",
    "\n",
    "Выбрали 2 категории (`Education` и `News`), так как они выделяются сочетанием высокого среднего финансирования и достаточно большого разброса цен. Эти параметры делают их привлекательными для крупных инвесторов, которые стремятся к высоким доходам, но осознают и повышенный уровень риска.\n",
    "</font>"
   ]
  },
  {
   "cell_type": "markdown",
   "metadata": {
    "id": "ADOfyVY_rJg3"
   },
   "source": [
    "\n",
    "### 3.5. Сколько раундов продержится стартап перед покупкой\n",
    "\n",
    "- Необходимо проанализировать столбец `funding_rounds`. Исследуйте значения столбца. Заказчика интересует типичное значение количества раундов для каждого возможного статуса стартапа.\n",
    "- Постройте график, который отображает, сколько в среднем раундов финансирования проходило для стартапов из каждой группы. Сделайте выводы."
   ]
  },
  {
   "cell_type": "code",
   "execution_count": 57,
   "metadata": {},
   "outputs": [],
   "source": [
    "df_funding_rounds = new_df[new_df['funding_rounds'] > 0]"
   ]
  },
  {
   "cell_type": "code",
   "execution_count": 58,
   "metadata": {
    "id": "hgXMPC4WrJg3"
   },
   "outputs": [
    {
     "data": {
      "text/html": [
       "<div>\n",
       "<style scoped>\n",
       "    .dataframe tbody tr th:only-of-type {\n",
       "        vertical-align: middle;\n",
       "    }\n",
       "\n",
       "    .dataframe tbody tr th {\n",
       "        vertical-align: top;\n",
       "    }\n",
       "\n",
       "    .dataframe thead tr th {\n",
       "        text-align: left;\n",
       "    }\n",
       "</style>\n",
       "<table border=\"1\" class=\"dataframe\">\n",
       "  <thead>\n",
       "    <tr>\n",
       "      <th></th>\n",
       "      <th>status</th>\n",
       "      <th colspan=\"3\" halign=\"left\">funding_rounds</th>\n",
       "    </tr>\n",
       "    <tr>\n",
       "      <th></th>\n",
       "      <th></th>\n",
       "      <th>count</th>\n",
       "      <th>mean</th>\n",
       "      <th>median</th>\n",
       "    </tr>\n",
       "  </thead>\n",
       "  <tbody>\n",
       "    <tr>\n",
       "      <th>0</th>\n",
       "      <td>acquired</td>\n",
       "      <td>2593</td>\n",
       "      <td>1.90</td>\n",
       "      <td>1.0</td>\n",
       "    </tr>\n",
       "    <tr>\n",
       "      <th>1</th>\n",
       "      <td>closed</td>\n",
       "      <td>2089</td>\n",
       "      <td>1.38</td>\n",
       "      <td>1.0</td>\n",
       "    </tr>\n",
       "    <tr>\n",
       "      <th>2</th>\n",
       "      <td>ipo</td>\n",
       "      <td>490</td>\n",
       "      <td>2.53</td>\n",
       "      <td>2.0</td>\n",
       "    </tr>\n",
       "    <tr>\n",
       "      <th>3</th>\n",
       "      <td>operating</td>\n",
       "      <td>26535</td>\n",
       "      <td>1.64</td>\n",
       "      <td>1.0</td>\n",
       "    </tr>\n",
       "  </tbody>\n",
       "</table>\n",
       "</div>"
      ],
      "text/plain": [
       "      status funding_rounds             \n",
       "                      count  mean median\n",
       "0   acquired           2593  1.90    1.0\n",
       "1     closed           2089  1.38    1.0\n",
       "2        ipo            490  2.53    2.0\n",
       "3  operating          26535  1.64    1.0"
      ]
     },
     "execution_count": 58,
     "metadata": {},
     "output_type": "execute_result"
    }
   ],
   "source": [
    "df_funding_rounds.groupby('status', as_index= False).agg({'funding_rounds': ['count', 'mean', 'median']}).round(2)"
   ]
  },
  {
   "cell_type": "code",
   "execution_count": 59,
   "metadata": {
    "id": "pV3e7kw5Fj1Y"
   },
   "outputs": [
    {
     "data": {
      "image/png": "[encoded data removed]",
      "text/plain": [
       "<Figure size 1000x600 with 1 Axes>"
      ]
     },
     "metadata": {},
     "output_type": "display_data"
    }
   ],
   "source": [
    "funding_rounds_mean = df_funding_rounds.groupby('status', \n",
    "                                     as_index= False)['funding_rounds'].mean().sort_values(by= 'funding_rounds', ascending= False)\n",
    "\n",
    "funding_rounds_mean.plot(kind= 'bar',\n",
    "                         figsize= (10, 6),\n",
    "                         x= 'status',\n",
    "                         title= 'Среднее количество раундов финансирования для каждого статуса стартапа',\n",
    "                         color='skyblue',\n",
    "                         rot= 75)\n",
    "\n",
    "plt.ylabel('Среднее количество раундов')\n",
    "plt.xlabel('Статус')\n",
    "\n",
    "plt.show()"
   ]
  },
  {
   "cell_type": "markdown",
   "metadata": {},
   "source": [
    "<font color='#777778'>\n",
    "\n",
    "- `Acquired`: Среднее количество раундов финансирования для приобретенных стартапов составляет 1.90, медиана — 1.0. Это означает, что большинство приобретенных стартапов имели один раунд финансирования, но есть и стартапы с несколькими раундами.\n",
    "\n",
    "- `Closed`: Среднее количество раундов для закрытых стартапов — 1.38, медиана — 1.0. Это говорит о том, что большинство закрытых стартапов также имели один раунд финансирования.\n",
    "\n",
    "- `IPO`: Среднее количество раундов для стартапов, которые вышли на IPO, составляет 2.53, медиана — 2.0. Это указывает на то, что стартапы, выходящие на IPO, обычно проходят больше раундов финансирования.\n",
    "\n",
    "- `Operating`: Среднее количество раундов для действующих стартапов — 1.64, медиана — 1.0. Это свидетельствует о том, что большинство действующих стартапов также имеют один раунд финансирования.\n",
    "</font>"
   ]
  },
  {
   "cell_type": "markdown",
   "metadata": {
    "id": "VAFEZ2HBrJg3"
   },
   "source": [
    "\n",
    "## Шаг 4. Итоговый вывод и рекомендации\n",
    "\n",
    "Опишите, что было сделано в проекте, какие были сделаны выводы, подкрепляют ли они друг друга или заставляют сомневаться в полученных результатах."
   ]
  },
  {
   "cell_type": "markdown",
   "metadata": {},
   "source": [
    "<font color='#777778'>Выводы:\n",
    "\n",
    "- Среднее значение оказалось менее информативным из-за наличия выбросов, в то время как медиана дала более точное представление о центральном значении выборки.\n",
    "- Категория `Education` выделяется высокими показателями как по средней сумме финансирования, так и по разбросу цен. `News` также привлекательна благодаря высокому среднему финансированию, хотя разброс цен несколько ниже.\n",
    "- Приобретённые компании имели наименьшее количество раундов финансирования перед продажей, что предполагает быстрый рост и интерес со стороны покупателей. Компании, вышедшие на IPO, наоборот, требуют большего числа раундов, что отражает их стратегическое развитие и долгосрочные цели.\n",
    "\n",
    "Выводы, сделанные на основе анализа данных, подтверждают друг друга и позволяют сделать обоснованные предположения относительно привлекательности определённых секторов рынка. Использование медианы вместо среднего значения помогает избежать влияния выбросов и даёт более точную оценку центра распределения. \n",
    "\n",
    "Остановились на двух категориях:\n",
    "- `Education`\n",
    "  - Высокая медиана финансирования.\n",
    "  - Значительный разброс цен.\n",
    "- `News`\n",
    "  - Несмотря на меньший разброс цен по сравнению с категорией `Education`, эта категория выделяется высоким средним уровнем финансирования.\n",
    "\n",
    "Эти категории привлекательны для крупных инвесторов, так как они сочетают высокий потенциал дохода с умеренным уровнем риска. `Education` предлагает как стабильные вложения, так и потенциал для неожиданных прорывов, а `News` пользуются спросом среди широкой аудитории, что создает устойчивый рынок.\n",
    "\n",
    "Рекомендации основываются на анализе количественных данных, таких как среднее количество раундов финансирования и медианы цен. Это помогает инвесторам принимать взвешенные решения, учитывая как стабильность, так и возможные выгоды от рисков. Выбор двух категорий, оправдан их сочетанием высоких средних показателей финансирования и приемлемого уровня разброса цен.\n",
    "\n",
    "</font>"
   ]
  }
 ],
 "metadata": {
  "ExecuteTimeLog": [
   {
    "duration": 1392,
    "start_time": "2025-03-17T22:20:02.867Z"
   },
   {
    "duration": 0,
    "start_time": "2025-03-17T22:20:04.265Z"
   },
   {
    "duration": 0,
    "start_time": "2025-03-17T22:20:04.266Z"
   },
   {
    "duration": 0,
    "start_time": "2025-03-17T22:20:04.268Z"
   },
   {
    "duration": 0,
    "start_time": "2025-03-17T22:20:04.269Z"
   },
   {
    "duration": 0,
    "start_time": "2025-03-17T22:20:04.271Z"
   },
   {
    "duration": 0,
    "start_time": "2025-03-17T22:20:04.273Z"
   },
   {
    "duration": 0,
    "start_time": "2025-03-17T22:20:04.275Z"
   },
   {
    "duration": 1,
    "start_time": "2025-03-17T22:20:04.276Z"
   },
   {
    "duration": 0,
    "start_time": "2025-03-17T22:20:04.279Z"
   },
   {
    "duration": 0,
    "start_time": "2025-03-17T22:20:04.281Z"
   },
   {
    "duration": 0,
    "start_time": "2025-03-17T22:20:04.283Z"
   },
   {
    "duration": 0,
    "start_time": "2025-03-17T22:20:04.286Z"
   },
   {
    "duration": 0,
    "start_time": "2025-03-17T22:20:04.287Z"
   },
   {
    "duration": 0,
    "start_time": "2025-03-17T22:20:04.289Z"
   },
   {
    "duration": 0,
    "start_time": "2025-03-17T22:20:04.290Z"
   },
   {
    "duration": 0,
    "start_time": "2025-03-17T22:20:04.291Z"
   },
   {
    "duration": 0,
    "start_time": "2025-03-17T22:20:04.292Z"
   },
   {
    "duration": 0,
    "start_time": "2025-03-17T22:20:04.293Z"
   },
   {
    "duration": 0,
    "start_time": "2025-03-17T22:20:04.294Z"
   },
   {
    "duration": 1,
    "start_time": "2025-03-17T22:20:04.295Z"
   },
   {
    "duration": 0,
    "start_time": "2025-03-17T22:20:04.297Z"
   },
   {
    "duration": 0,
    "start_time": "2025-03-17T22:20:04.298Z"
   },
   {
    "duration": 0,
    "start_time": "2025-03-17T22:20:04.300Z"
   },
   {
    "duration": 0,
    "start_time": "2025-03-17T22:20:04.301Z"
   },
   {
    "duration": 0,
    "start_time": "2025-03-17T22:20:04.302Z"
   },
   {
    "duration": 0,
    "start_time": "2025-03-17T22:20:04.303Z"
   },
   {
    "duration": 0,
    "start_time": "2025-03-17T22:20:04.304Z"
   },
   {
    "duration": 0,
    "start_time": "2025-03-17T22:20:04.306Z"
   },
   {
    "duration": 0,
    "start_time": "2025-03-17T22:20:04.372Z"
   },
   {
    "duration": 0,
    "start_time": "2025-03-17T22:20:04.373Z"
   },
   {
    "duration": 0,
    "start_time": "2025-03-17T22:20:04.375Z"
   },
   {
    "duration": 0,
    "start_time": "2025-03-17T22:20:04.376Z"
   },
   {
    "duration": 0,
    "start_time": "2025-03-17T22:20:04.377Z"
   },
   {
    "duration": 0,
    "start_time": "2025-03-17T22:20:04.378Z"
   },
   {
    "duration": 0,
    "start_time": "2025-03-17T22:20:04.379Z"
   },
   {
    "duration": 0,
    "start_time": "2025-03-17T22:20:04.380Z"
   },
   {
    "duration": 0,
    "start_time": "2025-03-17T22:20:04.382Z"
   },
   {
    "duration": 1,
    "start_time": "2025-03-17T22:20:04.382Z"
   },
   {
    "duration": 0,
    "start_time": "2025-03-17T22:20:04.384Z"
   },
   {
    "duration": 0,
    "start_time": "2025-03-17T22:20:04.385Z"
   },
   {
    "duration": 0,
    "start_time": "2025-03-17T22:20:04.386Z"
   },
   {
    "duration": 0,
    "start_time": "2025-03-17T22:20:04.387Z"
   },
   {
    "duration": 0,
    "start_time": "2025-03-17T22:20:04.388Z"
   },
   {
    "duration": 0,
    "start_time": "2025-03-17T22:20:04.389Z"
   },
   {
    "duration": 0,
    "start_time": "2025-03-17T22:20:04.391Z"
   },
   {
    "duration": 3,
    "start_time": "2025-03-17T22:20:22.344Z"
   },
   {
    "duration": 1222,
    "start_time": "2025-03-17T22:20:26.771Z"
   },
   {
    "duration": 2930,
    "start_time": "2025-03-17T22:20:27.995Z"
   },
   {
    "duration": 7,
    "start_time": "2025-03-17T22:20:30.926Z"
   },
   {
    "duration": 8,
    "start_time": "2025-03-17T22:20:30.935Z"
   },
   {
    "duration": 13,
    "start_time": "2025-03-17T22:20:30.945Z"
   },
   {
    "duration": 21,
    "start_time": "2025-03-17T22:20:30.960Z"
   },
   {
    "duration": 6,
    "start_time": "2025-03-17T22:20:30.983Z"
   },
   {
    "duration": 4,
    "start_time": "2025-03-17T22:20:30.991Z"
   },
   {
    "duration": 165,
    "start_time": "2025-03-17T22:20:30.997Z"
   },
   {
    "duration": 82,
    "start_time": "2025-03-17T22:20:31.164Z"
   },
   {
    "duration": 386,
    "start_time": "2025-03-17T22:20:31.257Z"
   },
   {
    "duration": 210,
    "start_time": "2025-03-17T22:20:31.645Z"
   },
   {
    "duration": 8,
    "start_time": "2025-03-17T22:20:31.857Z"
   },
   {
    "duration": 15,
    "start_time": "2025-03-17T22:20:31.868Z"
   },
   {
    "duration": 8,
    "start_time": "2025-03-17T22:20:31.885Z"
   },
   {
    "duration": 17,
    "start_time": "2025-03-17T22:20:31.894Z"
   },
   {
    "duration": 75,
    "start_time": "2025-03-17T22:20:31.912Z"
   },
   {
    "duration": 169,
    "start_time": "2025-03-17T22:20:31.989Z"
   },
   {
    "duration": 78,
    "start_time": "2025-03-17T22:20:32.159Z"
   },
   {
    "duration": 32,
    "start_time": "2025-03-17T22:20:32.239Z"
   },
   {
    "duration": 23,
    "start_time": "2025-03-17T22:20:32.274Z"
   },
   {
    "duration": 32,
    "start_time": "2025-03-17T22:20:32.299Z"
   },
   {
    "duration": 42,
    "start_time": "2025-03-17T22:20:32.333Z"
   },
   {
    "duration": 25,
    "start_time": "2025-03-17T22:20:32.376Z"
   },
   {
    "duration": 67,
    "start_time": "2025-03-17T22:20:32.403Z"
   },
   {
    "duration": 45,
    "start_time": "2025-03-17T22:20:32.471Z"
   },
   {
    "duration": 11,
    "start_time": "2025-03-17T22:20:32.518Z"
   },
   {
    "duration": 36,
    "start_time": "2025-03-17T22:20:32.531Z"
   },
   {
    "duration": 250,
    "start_time": "2025-03-17T22:20:32.568Z"
   },
   {
    "duration": 225,
    "start_time": "2025-03-17T22:20:32.819Z"
   },
   {
    "duration": 23,
    "start_time": "2025-03-17T22:20:33.045Z"
   },
   {
    "duration": 196,
    "start_time": "2025-03-17T22:20:33.070Z"
   },
   {
    "duration": 143,
    "start_time": "2025-03-17T22:20:33.268Z"
   },
   {
    "duration": 30,
    "start_time": "2025-03-17T22:20:33.412Z"
   },
   {
    "duration": 197,
    "start_time": "2025-03-17T22:20:33.444Z"
   },
   {
    "duration": 21,
    "start_time": "2025-03-17T22:20:33.643Z"
   },
   {
    "duration": 36,
    "start_time": "2025-03-17T22:20:33.666Z"
   },
   {
    "duration": 4,
    "start_time": "2025-03-17T22:20:33.704Z"
   },
   {
    "duration": 52,
    "start_time": "2025-03-17T22:20:33.710Z"
   },
   {
    "duration": 63,
    "start_time": "2025-03-17T22:20:33.764Z"
   },
   {
    "duration": 52,
    "start_time": "2025-03-17T22:20:33.832Z"
   },
   {
    "duration": 18,
    "start_time": "2025-03-17T22:20:33.886Z"
   },
   {
    "duration": 617,
    "start_time": "2025-03-17T22:20:33.906Z"
   },
   {
    "duration": 60,
    "start_time": "2025-03-17T22:20:34.525Z"
   },
   {
    "duration": 817,
    "start_time": "2025-03-17T22:20:34.587Z"
   },
   {
    "duration": 9,
    "start_time": "2025-03-17T22:20:35.406Z"
   },
   {
    "duration": 68,
    "start_time": "2025-03-17T22:23:40.982Z"
   },
   {
    "duration": 1230,
    "start_time": "2025-03-24T08:31:18.540Z"
   },
   {
    "duration": 1938,
    "start_time": "2025-03-24T08:31:19.772Z"
   },
   {
    "duration": 6,
    "start_time": "2025-03-24T08:31:21.712Z"
   },
   {
    "duration": 22,
    "start_time": "2025-03-24T08:31:21.720Z"
   },
   {
    "duration": 32,
    "start_time": "2025-03-24T08:31:21.743Z"
   },
   {
    "duration": 27,
    "start_time": "2025-03-24T08:31:21.777Z"
   },
   {
    "duration": 23,
    "start_time": "2025-03-24T08:31:21.806Z"
   },
   {
    "duration": 28,
    "start_time": "2025-03-24T08:31:21.831Z"
   },
   {
    "duration": 172,
    "start_time": "2025-03-24T08:31:21.860Z"
   },
   {
    "duration": 85,
    "start_time": "2025-03-24T08:31:22.035Z"
   },
   {
    "duration": 370,
    "start_time": "2025-03-24T08:31:22.121Z"
   },
   {
    "duration": 200,
    "start_time": "2025-03-24T08:31:22.493Z"
   },
   {
    "duration": 7,
    "start_time": "2025-03-24T08:31:22.695Z"
   },
   {
    "duration": 63,
    "start_time": "2025-03-24T08:31:22.703Z"
   },
   {
    "duration": 10,
    "start_time": "2025-03-24T08:31:22.768Z"
   },
   {
    "duration": 16,
    "start_time": "2025-03-24T08:31:22.780Z"
   },
   {
    "duration": 57,
    "start_time": "2025-03-24T08:31:22.797Z"
   },
   {
    "duration": 224,
    "start_time": "2025-03-24T08:31:22.856Z"
   },
   {
    "duration": 81,
    "start_time": "2025-03-24T08:31:23.081Z"
   },
   {
    "duration": 18,
    "start_time": "2025-03-24T08:31:23.164Z"
   },
   {
    "duration": 16,
    "start_time": "2025-03-24T08:31:23.183Z"
   },
   {
    "duration": 54,
    "start_time": "2025-03-24T08:31:23.201Z"
   },
   {
    "duration": 26,
    "start_time": "2025-03-24T08:31:23.257Z"
   },
   {
    "duration": 25,
    "start_time": "2025-03-24T08:31:23.284Z"
   },
   {
    "duration": 86,
    "start_time": "2025-03-24T08:31:23.311Z"
   },
   {
    "duration": 43,
    "start_time": "2025-03-24T08:31:23.399Z"
   },
   {
    "duration": 10,
    "start_time": "2025-03-24T08:31:23.455Z"
   },
   {
    "duration": 22,
    "start_time": "2025-03-24T08:31:23.469Z"
   },
   {
    "duration": 194,
    "start_time": "2025-03-24T08:31:23.493Z"
   },
   {
    "duration": 182,
    "start_time": "2025-03-24T08:31:23.689Z"
   },
   {
    "duration": 14,
    "start_time": "2025-03-24T08:31:23.873Z"
   },
   {
    "duration": 179,
    "start_time": "2025-03-24T08:31:23.888Z"
   },
   {
    "duration": 126,
    "start_time": "2025-03-24T08:31:24.069Z"
   },
   {
    "duration": 28,
    "start_time": "2025-03-24T08:31:24.197Z"
   },
   {
    "duration": 144,
    "start_time": "2025-03-24T08:31:24.226Z"
   },
   {
    "duration": 12,
    "start_time": "2025-03-24T08:31:24.371Z"
   },
   {
    "duration": 11,
    "start_time": "2025-03-24T08:31:24.385Z"
   },
   {
    "duration": 8,
    "start_time": "2025-03-24T08:31:24.397Z"
   },
   {
    "duration": 68,
    "start_time": "2025-03-24T08:31:24.407Z"
   },
   {
    "duration": 53,
    "start_time": "2025-03-24T08:31:24.476Z"
   },
   {
    "duration": 588,
    "start_time": "2025-03-24T08:31:24.531Z"
   },
   {
    "duration": 22,
    "start_time": "2025-03-24T08:31:25.121Z"
   },
   {
    "duration": 45,
    "start_time": "2025-03-24T08:31:25.154Z"
   },
   {
    "duration": 45,
    "start_time": "2025-03-24T08:31:25.201Z"
   },
   {
    "duration": 528,
    "start_time": "2025-03-24T08:31:25.247Z"
   },
   {
    "duration": 228,
    "start_time": "2025-03-24T08:31:25.777Z"
   },
   {
    "duration": 792,
    "start_time": "2025-03-24T08:31:26.006Z"
   },
   {
    "duration": 8,
    "start_time": "2025-03-24T08:31:26.800Z"
   },
   {
    "duration": 28,
    "start_time": "2025-03-24T08:31:26.810Z"
   },
   {
    "duration": 68,
    "start_time": "2025-03-24T08:31:26.857Z"
   },
   {
    "duration": 138,
    "start_time": "2025-03-24T08:31:26.926Z"
   },
   {
    "duration": 136,
    "start_time": "2025-03-24T08:31:27.066Z"
   },
   {
    "duration": 24,
    "start_time": "2025-03-24T08:31:27.204Z"
   },
   {
    "duration": 568,
    "start_time": "2025-03-24T08:31:27.229Z"
   },
   {
    "duration": 558,
    "start_time": "2025-03-24T08:31:27.799Z"
   },
   {
    "duration": 18,
    "start_time": "2025-03-24T08:31:28.359Z"
   },
   {
    "duration": 204,
    "start_time": "2025-03-24T08:31:28.379Z"
   }
  ],
  "colab": {
   "provenance": []
  },
  "kernelspec": {
   "display_name": "Python 3 (ipykernel)",
   "language": "python",
   "name": "python3"
  },
  "language_info": {
   "codemirror_mode": {
    "name": "ipython",
    "version": 3
   },
   "file_extension": ".py",
   "mimetype": "text/x-python",
   "name": "python",
   "nbconvert_exporter": "python",
   "pygments_lexer": "ipython3",
   "version": "3.9.5"
  },
  "toc": {
   "base_numbering": 1,
   "nav_menu": {},
   "number_sections": true,
   "sideBar": true,
   "skip_h1_title": true,
   "title_cell": "Table of Contents",
   "title_sidebar": "Contents",
   "toc_cell": false,
   "toc_position": {},
   "toc_section_display": true,
   "toc_window_display": true
  }
 },
 "nbformat": 4,
 "nbformat_minor": 1
}

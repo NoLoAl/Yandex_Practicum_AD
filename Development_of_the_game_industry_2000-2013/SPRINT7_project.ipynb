{
 "cells": [
  {
   "cell_type": "markdown",
   "id": "e06910dd",
   "metadata": {
    "id": "e06910dd"
   },
   "source": [
    "# Проект спринта 7: Развитие игровой индустрии 2000-2013 год.\n",
    "\n",
    "- Автор: Смирнов Александр Викторович \n",
    "- Дата: 23.02.2025"
   ]
  },
  {
   "cell_type": "markdown",
   "id": "4149134c",
   "metadata": {
    "id": "4149134c"
   },
   "source": [
    "### Цели и задачи проекта\n",
    "\n",
    "<font color='#777778'> Мы будем работать с историческими данными, которые коллеги собрали из открытых источников. В них есть информация о продажах игр, сделанных в разных жанрах и выпущенных на разных платформах, а также пользовательские и экспертные оценки игр.\n",
    "\n",
    "Наша задача — познакомиться с данными, проверить их корректность и провести предобработку, получив необходимый срез данных.\n",
    "Перед анализом необходимо дополнительно сделать следующее:\n",
    "- Отобрать данные по времени выхода игры. Вам нужен период с 2000 по 2013 год включительно.\n",
    "- Категоризовать игры по оценкам пользователей и экспертов. Выделите три категории:\n",
    "  - высокая оценка — с оценкой от 8 до 10 и от 80 до 100, включая правые границы интервалов.\n",
    "  - средняя оценка — с оценкой от 3 до 8 и от 30 до 80, не включая правые границы интервалов.\n",
    "  - низкая оценка — с оценкой от 0 до 3 и от 0 до 30, не включая правые границы интервалов.\n",
    "- Выделить топ-7 платформ по количеству игр, выпущенных за весь требуемый период.</font>"
   ]
  },
  {
   "cell_type": "markdown",
   "id": "728986ea",
   "metadata": {
    "id": "728986ea"
   },
   "source": [
    "### Описание данных\n",
    "\n",
    "<font color='#777778'>Данные содержат информацию о продажах игр разных жанров и платформ, а также пользовательские и экспертные оценки игр:\n",
    "- Name — название игры.\n",
    "- Platform — название платформы.\n",
    "- Year of Release — год выпуска игры.\n",
    "- Genre — жанр игры.\n",
    "- NA sales — продажи в Северной Америке (в миллионах проданных копий).\n",
    "- EU sales — продажи в Европе (в миллионах проданных копий).\n",
    "- JP sales — продажи в Японии (в миллионах проданных копий).\n",
    "- Other sales — продажи в других странах (в миллионах проданных копий).\n",
    "- Critic Score — оценка критиков (от 0 до 100).\n",
    "- User Score — оценка пользователей (от 0 до 10).\n",
    "- Rating — рейтинг организации ESRB (англ. Entertainment Software Rating Board). Эта ассоциация определяет рейтинг компьютерных игр и присваивает им подходящую возрастную категорию.</font>"
   ]
  },
  {
   "cell_type": "markdown",
   "id": "4fecaf95",
   "metadata": {
    "id": "4fecaf95"
   },
   "source": [
    "### Содержимое проекта\n",
    "\n",
    "<font color='#777778'>Перечислите основные шаги проекта или напишите оглавление. Используйте описание проекта, чтобы зафиксировать основные шаги.\n",
    "\n",
    "1. Загрузка и знакомство с данными\n",
    "2. Проверка ошибок в данных и их предобработка\n",
    "- Типы данных\n",
    "- Пропуски в данных\n",
    "- Дубликаты в данных\n",
    "3. Фильтрация данных\n",
    "4. Категоризация данных\n",
    "- Оценки пользователей\n",
    "- Оценки критиков\n",
    "5. Топ-7 платформ. Выделите семь ведущих платформ по числу выпущенных игр за выбранный период. </font>"
   ]
  },
  {
   "cell_type": "markdown",
   "id": "6f7d21d6",
   "metadata": {
    "id": "6f7d21d6"
   },
   "source": [
    "## 1. Загрузка данных и знакомство с ними\n",
    "\n",
    "- Загрузите необходимые библиотеки Python и данные датасета `Датасет удален`.\n"
   ]
  },
  {
   "cell_type": "code",
   "execution_count": 1,
   "id": "90fee493",
   "metadata": {
    "id": "90fee493"
   },
   "outputs": [],
   "source": [
    "# Загрузка библиотек\n",
    "import pandas as pd\n",
    "import matplotlib.pyplot as plt\n",
    "import seaborn as sns\n",
    "\n",
    "import warnings\n",
    "warnings.filterwarnings('ignore')\n"
   ]
  },
  {
   "cell_type": "code",
   "execution_count": 3,
   "id": "2e52fd85",
   "metadata": {},
   "outputs": [
    {
     "data": {
      "text/html": [
       "<div>\n",
       "<style scoped>\n",
       "    .dataframe tbody tr th:only-of-type {\n",
       "        vertical-align: middle;\n",
       "    }\n",
       "\n",
       "    .dataframe tbody tr th {\n",
       "        vertical-align: top;\n",
       "    }\n",
       "\n",
       "    .dataframe thead th {\n",
       "        text-align: right;\n",
       "    }\n",
       "</style>\n",
       "<table border=\"1\" class=\"dataframe\">\n",
       "  <thead>\n",
       "    <tr style=\"text-align: right;\">\n",
       "      <th></th>\n",
       "      <th>Name</th>\n",
       "      <th>Platform</th>\n",
       "      <th>Year of Release</th>\n",
       "      <th>Genre</th>\n",
       "      <th>NA sales</th>\n",
       "      <th>EU sales</th>\n",
       "      <th>JP sales</th>\n",
       "      <th>Other sales</th>\n",
       "      <th>Critic Score</th>\n",
       "      <th>User Score</th>\n",
       "      <th>Rating</th>\n",
       "    </tr>\n",
       "  </thead>\n",
       "  <tbody>\n",
       "    <tr>\n",
       "      <th>0</th>\n",
       "      <td>Wii Sports</td>\n",
       "      <td>Wii</td>\n",
       "      <td>2006.0</td>\n",
       "      <td>Sports</td>\n",
       "      <td>41.36</td>\n",
       "      <td>28.96</td>\n",
       "      <td>3.77</td>\n",
       "      <td>8.45</td>\n",
       "      <td>76.0</td>\n",
       "      <td>8</td>\n",
       "      <td>E</td>\n",
       "    </tr>\n",
       "    <tr>\n",
       "      <th>1</th>\n",
       "      <td>Super Mario Bros.</td>\n",
       "      <td>NES</td>\n",
       "      <td>1985.0</td>\n",
       "      <td>Platform</td>\n",
       "      <td>29.08</td>\n",
       "      <td>3.58</td>\n",
       "      <td>6.81</td>\n",
       "      <td>0.77</td>\n",
       "      <td>NaN</td>\n",
       "      <td>NaN</td>\n",
       "      <td>NaN</td>\n",
       "    </tr>\n",
       "    <tr>\n",
       "      <th>2</th>\n",
       "      <td>Mario Kart Wii</td>\n",
       "      <td>Wii</td>\n",
       "      <td>2008.0</td>\n",
       "      <td>Racing</td>\n",
       "      <td>15.68</td>\n",
       "      <td>12.76</td>\n",
       "      <td>3.79</td>\n",
       "      <td>3.29</td>\n",
       "      <td>82.0</td>\n",
       "      <td>8.3</td>\n",
       "      <td>E</td>\n",
       "    </tr>\n",
       "    <tr>\n",
       "      <th>3</th>\n",
       "      <td>Wii Sports Resort</td>\n",
       "      <td>Wii</td>\n",
       "      <td>2009.0</td>\n",
       "      <td>Sports</td>\n",
       "      <td>15.61</td>\n",
       "      <td>10.93</td>\n",
       "      <td>3.28</td>\n",
       "      <td>2.95</td>\n",
       "      <td>80.0</td>\n",
       "      <td>8</td>\n",
       "      <td>E</td>\n",
       "    </tr>\n",
       "    <tr>\n",
       "      <th>4</th>\n",
       "      <td>Pokemon Red/Pokemon Blue</td>\n",
       "      <td>GB</td>\n",
       "      <td>1996.0</td>\n",
       "      <td>Role-Playing</td>\n",
       "      <td>11.27</td>\n",
       "      <td>8.89</td>\n",
       "      <td>10.22</td>\n",
       "      <td>1.00</td>\n",
       "      <td>NaN</td>\n",
       "      <td>NaN</td>\n",
       "      <td>NaN</td>\n",
       "    </tr>\n",
       "  </tbody>\n",
       "</table>\n",
       "</div>"
      ],
      "text/plain": [
       "                       Name Platform  Year of Release         Genre  NA sales  \\\n",
       "0                Wii Sports      Wii           2006.0        Sports     41.36   \n",
       "1         Super Mario Bros.      NES           1985.0      Platform     29.08   \n",
       "2            Mario Kart Wii      Wii           2008.0        Racing     15.68   \n",
       "3         Wii Sports Resort      Wii           2009.0        Sports     15.61   \n",
       "4  Pokemon Red/Pokemon Blue       GB           1996.0  Role-Playing     11.27   \n",
       "\n",
       "  EU sales JP sales  Other sales  Critic Score User Score Rating  \n",
       "0    28.96     3.77         8.45          76.0          8      E  \n",
       "1     3.58     6.81         0.77           NaN        NaN    NaN  \n",
       "2    12.76     3.79         3.29          82.0        8.3      E  \n",
       "3    10.93     3.28         2.95          80.0          8      E  \n",
       "4     8.89    10.22         1.00           NaN        NaN    NaN  "
      ]
     },
     "execution_count": 3,
     "metadata": {},
     "output_type": "execute_result"
    }
   ],
   "source": [
    "# Глянем на данные\n",
    "df.head(5)"
   ]
  },
  {
   "cell_type": "markdown",
   "id": "e0a8705f",
   "metadata": {
    "id": "e0a8705f"
   },
   "source": [
    "- Познакомьтесь с данными: выведите первые строки и результат метода `info()`.\n"
   ]
  },
  {
   "cell_type": "code",
   "execution_count": 4,
   "id": "3937acf7",
   "metadata": {
    "id": "3937acf7"
   },
   "outputs": [
    {
     "name": "stdout",
     "output_type": "stream",
     "text": [
      "<class 'pandas.core.frame.DataFrame'>\n",
      "RangeIndex: 16956 entries, 0 to 16955\n",
      "Data columns (total 11 columns):\n",
      " #   Column           Non-Null Count  Dtype  \n",
      "---  ------           --------------  -----  \n",
      " 0   Name             16954 non-null  object \n",
      " 1   Platform         16956 non-null  object \n",
      " 2   Year of Release  16681 non-null  float64\n",
      " 3   Genre            16954 non-null  object \n",
      " 4   NA sales         16956 non-null  float64\n",
      " 5   EU sales         16956 non-null  object \n",
      " 6   JP sales         16956 non-null  object \n",
      " 7   Other sales      16956 non-null  float64\n",
      " 8   Critic Score     8242 non-null   float64\n",
      " 9   User Score       10152 non-null  object \n",
      " 10  Rating           10085 non-null  object \n",
      "dtypes: float64(4), object(7)\n",
      "memory usage: 1.4+ MB\n"
     ]
    }
   ],
   "source": [
    "df.info()"
   ]
  },
  {
   "cell_type": "markdown",
   "id": "26267bc0",
   "metadata": {
    "id": "26267bc0"
   },
   "source": [
    "- Сделайте вывод о полученных данных: данные какого объёма вам предоставили, соответствуют ли они описанию, встречаются ли в них пропуски, используются ли верные типы данных.\n",
    "- Отметьте другие особенности данных, которые вы обнаружили и на которые стоит обратить внимание при предобработке. Например, вы можете проверить названия столбцов: все ли названия отражают содержимое данных и прописаны в удобном для работы виде."
   ]
  },
  {
   "cell_type": "markdown",
   "id": "05f55eb6",
   "metadata": {
    "id": "05f55eb6"
   },
   "source": [
    "<font color='#777778'>В предоставленных данных, всего 16956 строк и 10 столбцов, которые соответствуют описанию. Данные весят всего 1.4+ MB, также в них имеются пропуски. Больше всего пропусков в столбцах: Critic Score, User Score, Rating и совсем немного пропусков Year of Release, Genre.\n",
    "- Year of Release, тип можно изменить, float64 не подходит для даты.\n",
    "- EU sales и JP sales, а также User Score, нужно изменить тип на float64.\n",
    "\n",
    "В остальном все в порядке, названия отражают содержимое данных, но лучше их исправить в змеиный регистр.</font>"
   ]
  },
  {
   "cell_type": "markdown",
   "id": "774bf76e",
   "metadata": {
    "id": "774bf76e"
   },
   "source": [
    "---\n",
    "\n",
    "## 2.  Проверка ошибок в данных и их предобработка\n",
    "\n",
    "\n",
    "### 2.1. Названия, или метки, столбцов датафрейма\n",
    "\n",
    "- Выведите на экран названия всех столбцов датафрейма и проверьте их стиль написания.\n",
    "- Приведите все столбцы к стилю snake case. Названия должны быть в нижнем регистре, а вместо пробелов — подчёркивания."
   ]
  },
  {
   "cell_type": "code",
   "execution_count": 5,
   "id": "b9276a2b",
   "metadata": {
    "id": "b9276a2b"
   },
   "outputs": [
    {
     "data": {
      "text/plain": [
       "Index(['Name', 'Platform', 'Year of Release', 'Genre', 'NA sales', 'EU sales',\n",
       "       'JP sales', 'Other sales', 'Critic Score', 'User Score', 'Rating'],\n",
       "      dtype='object')"
      ]
     },
     "execution_count": 5,
     "metadata": {},
     "output_type": "execute_result"
    }
   ],
   "source": [
    "df.columns"
   ]
  },
  {
   "cell_type": "code",
   "execution_count": 6,
   "id": "d554563c",
   "metadata": {
    "id": "d554563c"
   },
   "outputs": [],
   "source": [
    "new_colums = {'Name': 'name', 'Platform': 'platform', 'Year of Release': 'year_of_release', 'Genre': 'genre', 'NA sales': 'NA_sales', 'EU sales': 'EU_sales','JP sales': 'JP_sales', 'Other sales': 'other_sales', 'Critic Score': 'critic_score', 'User Score': 'user_score', 'Rating': 'rating'}"
   ]
  },
  {
   "cell_type": "code",
   "execution_count": 7,
   "id": "87b573dd",
   "metadata": {
    "id": "87b573dd"
   },
   "outputs": [
    {
     "data": {
      "text/plain": [
       "Index(['name', 'platform', 'year_of_release', 'genre', 'NA_sales', 'EU_sales',\n",
       "       'JP_sales', 'other_sales', 'critic_score', 'user_score', 'rating'],\n",
       "      dtype='object')"
      ]
     },
     "execution_count": 7,
     "metadata": {},
     "output_type": "execute_result"
    }
   ],
   "source": [
    "df = df.rename(columns= new_colums)\n",
    "\n",
    "df.columns"
   ]
  },
  {
   "cell_type": "markdown",
   "id": "3b1f7f0d",
   "metadata": {},
   "source": [
    "Можно еще `df.columns = df.columns.str.lower().str.replace(' ', '_')`"
   ]
  },
  {
   "cell_type": "markdown",
   "id": "41bc6bf8",
   "metadata": {
    "id": "41bc6bf8"
   },
   "source": [
    "### 2.2. Типы данных\n",
    "\n",
    "- Если встречаются некорректные типы данных, предположите их причины.\n",
    "- При необходимости проведите преобразование типов данных. Помните, что столбцы с числовыми данными и пропусками нельзя преобразовать к типу `int64`. Сначала вам понадобится обработать пропуски, а затем преобразовать типы данных."
   ]
  },
  {
   "cell_type": "code",
   "execution_count": 8,
   "id": "2df907b2",
   "metadata": {},
   "outputs": [],
   "source": [
    "df_old = df.copy()\n"
   ]
  },
  {
   "cell_type": "markdown",
   "id": "10136ea8",
   "metadata": {},
   "source": [
    "<font color='#777778'>year_of_release (Год выпуска):\n",
    "   - Тип данных `float64`. Хотя год можно представить целым числом (`int`), использование типа `float64` может указывать на наличие нецелых значений. Либо это ошибка парсинга данных. \n",
    "   \n",
    "   EU_sales, JP_sales (Продажи в Европе, Японии):\n",
    "   - Для продаж ожидаются числовые значения, однако **EU_sales** и **JP_sales** имеют тип `object`. Возможно, в этих столбцах содержатся не только числа, но и строки (например, пустые значения или какие-то специальные символы вроде `$`, `%` и т.п.).\n",
    "\n",
    "   user_score (Пользовательская оценка):\n",
    "   - Тип данных `object`, хотя ожидалось бы числовое значение. Здесь тоже возможно наличие строковых значений или символов, обозначающих отсутствие данных (например, `\"N/A\"`).\n",
    "\n",
    "</font>\n"
   ]
  },
  {
   "cell_type": "markdown",
   "id": "63378edf",
   "metadata": {
    "id": "63378edf"
   },
   "source": [
    "- В числовых столбцах могут встретиться строковые значения, например `unknown` или другие. Приводите такие столбцы к числовому типу данных, заменив строковые значения на пропуски."
   ]
  },
  {
   "cell_type": "code",
   "execution_count": 10,
   "id": "bb47b857",
   "metadata": {},
   "outputs": [
    {
     "data": {
      "text/plain": [
       "array([2006., 1985., 2008., 2009., 1996., 1989., 1984., 2005., 1999.,\n",
       "       2007., 2010., 2013., 2004., 1990., 1988., 2002., 2001., 2011.,\n",
       "       1998., 2015., 2012., 2014., 1992., 1997., 1993., 1994., 1982.,\n",
       "       2016., 2003., 1986., 2000.,   nan, 1995., 1991., 1981., 1987.,\n",
       "       1980., 1983.])"
      ]
     },
     "execution_count": 10,
     "metadata": {},
     "output_type": "execute_result"
    }
   ],
   "source": [
    "df['year_of_release'].unique()"
   ]
  },
  {
   "cell_type": "markdown",
   "id": "b0144578",
   "metadata": {},
   "source": [
    "<font color='#777778'>year_of_release (Год выпуска):\n",
    "В годах есть значения nan, поэтому тип данных `float64`. Данные пропуски можно удалить, меньше 2% </font>"
   ]
  },
  {
   "cell_type": "code",
   "execution_count": 11,
   "id": "fc8d2076",
   "metadata": {},
   "outputs": [
    {
     "data": {
      "text/plain": [
       "array(['8', nan, '8.3', '8.5', '6.6', '8.4', '8.6', '7.7', '6.3', '7.4',\n",
       "       '8.2', '9', '7.9', '8.1', '8.7', '7.1', '3.4', '5.3', '4.8', '3.2',\n",
       "       '8.9', '6.4', '7.8', '7.5', '2.6', '7.2', '9.2', '7', '7.3', '4.3',\n",
       "       '7.6', '5.7', '5', '9.1', '6.5', 'tbd', '8.8', '6.9', '9.4', '6.8',\n",
       "       '6.1', '6.7', '5.4', '4', '4.9', '4.5', '9.3', '6.2', '4.2', '6',\n",
       "       '3.7', '4.1', '5.8', '5.6', '5.5', '4.4', '4.6', '5.9', '3.9',\n",
       "       '3.1', '2.9', '5.2', '3.3', '4.7', '5.1', '3.5', '2.5', '1.9', '3',\n",
       "       '2.7', '2.2', '2', '9.5', '2.1', '3.6', '2.8', '1.8', '3.8', '0',\n",
       "       '1.6', '9.6', '2.4', '1.7', '1.1', '0.3', '1.5', '0.7', '1.2',\n",
       "       '2.3', '0.5', '1.3', '0.2', '0.6', '1.4', '0.9', '1', '9.7'],\n",
       "      dtype=object)"
      ]
     },
     "execution_count": 11,
     "metadata": {},
     "output_type": "execute_result"
    }
   ],
   "source": [
    "df['user_score'].unique()"
   ]
  },
  {
   "cell_type": "markdown",
   "id": "f95fd383",
   "metadata": {},
   "source": [
    "<font color='#777778'>   user_score (Пользовательская оценка):\n",
    "   - Тип данных `object`, хотя ожидалось бы числовое значение. Из-за пропусков и значение 'tbd'\n",
    "\n",
    "</font>"
   ]
  },
  {
   "cell_type": "markdown",
   "id": "0ae15f5d",
   "metadata": {},
   "source": [
    "<font color='#777778'>EU_sales, JP_sales (Продажи в Европе, Японии):\n",
    "**EU_sales** и **JP_sales** имеют тип `object`,  встречаются строковые значения `unknown` "
   ]
  },
  {
   "cell_type": "code",
   "execution_count": 12,
   "id": "5033ee32",
   "metadata": {
    "id": "5033ee32"
   },
   "outputs": [],
   "source": [
    "df['EU_sales'] = pd.to_numeric(df['EU_sales'], errors= 'coerce')\n",
    "df['JP_sales'] = pd.to_numeric(df['JP_sales'], errors= 'coerce')\n",
    "\n",
    "df['user_score'] = pd.to_numeric(df['user_score'], errors= 'coerce')\n",
    "\n",
    "df['year_of_release'] = pd.to_numeric(df['year_of_release'], errors='coerce')"
   ]
  },
  {
   "cell_type": "markdown",
   "id": "96efa7c8",
   "metadata": {},
   "source": [
    "\n",
    "Год будет преобразован ниже, после удаления пропусков."
   ]
  },
  {
   "cell_type": "code",
   "execution_count": null,
   "id": "8298d398",
   "metadata": {},
   "outputs": [
    {
     "name": "stdout",
     "output_type": "stream",
     "text": [
      "<class 'pandas.core.frame.DataFrame'>\n",
      "RangeIndex: 16956 entries, 0 to 16955\n",
      "Data columns (total 11 columns):\n",
      " #   Column           Non-Null Count  Dtype  \n",
      "---  ------           --------------  -----  \n",
      " 0   name             16954 non-null  object \n",
      " 1   platform         16956 non-null  object \n",
      " 2   year_of_release  16681 non-null  float64\n",
      " 3   genre            16954 non-null  object \n",
      " 4   NA_sales         16956 non-null  float64\n",
      " 5   EU_sales         16950 non-null  float64\n",
      " 6   JP_sales         16952 non-null  float64\n",
      " 7   other_sales      16956 non-null  float64\n",
      " 8   critic_score     8242 non-null   float64\n",
      " 9   user_score       7688 non-null   float64\n",
      " 10  rating           10085 non-null  object \n",
      "dtypes: float64(7), object(4)\n",
      "memory usage: 1.4+ MB\n"
     ]
    }
   ],
   "source": [
    "\n",
    "df.info()"
   ]
  },
  {
   "cell_type": "markdown",
   "id": "b39893cb",
   "metadata": {
    "id": "b39893cb"
   },
   "source": [
    "### 2.3. Наличие пропусков в данных\n",
    "\n",
    "- Посчитайте количество пропусков в каждом столбце в абсолютных и относительных значениях.\n"
   ]
  },
  {
   "cell_type": "code",
   "execution_count": 14,
   "id": "0f1c91a8",
   "metadata": {
    "id": "0f1c91a8"
   },
   "outputs": [
    {
     "data": {
      "text/plain": [
       "name                  2\n",
       "platform              0\n",
       "year_of_release     275\n",
       "genre                 2\n",
       "NA_sales              0\n",
       "EU_sales              6\n",
       "JP_sales              4\n",
       "other_sales           0\n",
       "critic_score       8714\n",
       "user_score         9268\n",
       "rating             6871\n",
       "dtype: int64"
      ]
     },
     "execution_count": 14,
     "metadata": {},
     "output_type": "execute_result"
    }
   ],
   "source": [
    "df.isna().sum()"
   ]
  },
  {
   "cell_type": "code",
   "execution_count": 15,
   "id": "86cd1cc1",
   "metadata": {
    "id": "86cd1cc1"
   },
   "outputs": [
    {
     "data": {
      "text/plain": [
       "name                0.01\n",
       "platform            0.00\n",
       "year_of_release     1.62\n",
       "genre               0.01\n",
       "NA_sales            0.00\n",
       "EU_sales            0.04\n",
       "JP_sales            0.02\n",
       "other_sales         0.00\n",
       "critic_score       51.39\n",
       "user_score         54.66\n",
       "rating             40.52\n",
       "dtype: float64"
      ]
     },
     "execution_count": 15,
     "metadata": {},
     "output_type": "execute_result"
    }
   ],
   "source": [
    "# Доля пропусков \n",
    "round((df.isna().mean() * 100), 2)"
   ]
  },
  {
   "cell_type": "markdown",
   "id": "cf796f51",
   "metadata": {
    "id": "cf796f51"
   },
   "source": [
    "- Изучите данные с пропущенными значениями. Напишите промежуточный вывод: для каких столбцов характерны пропуски и сколько их. Предположите, почему пропуски могли возникнуть. Укажите, какие действия с этими данными можно сделать и почему.\n"
   ]
  },
  {
   "cell_type": "markdown",
   "id": "3bc531c7",
   "metadata": {},
   "source": [
    "<font color='#777778'>Столбец name:\n",
    "- Пропуски: 2\n",
    "- Причины: Возможно, название было указан неверно или отсутствует в оригинальной базе данных. Иногда названия могут теряться в процессе сбора данных.\n",
    "\n",
    "Столбец year_of_release:\n",
    "- Пропуски: 275\n",
    "- Причины: Год выпуска мог быть неизвестен для некоторых игр, особенно если они были выпущены давно или являются редкими изданиями. Иногда даты могут теряться в процессе сбора данных.\n",
    "\n",
    "Столбец genre:\n",
    "- Пропуски: 2\n",
    "- Причины: Жанры игр могли быть неизвестны для небольшого количества записей. Возможно, жанр был указан неверно или отсутствует в оригинальной базе данных.\n",
    "\n",
    "Столбец EU_sales:\n",
    "- Пропуски: 6\n",
    "- Причины: Продажи в Европе могли быть не учтены для нескольких игр, возможно, из-за отсутствия релизов в этом регионе или неполных данных о продажах.\n",
    "\n",
    "Столбец JP_sales:\n",
    "- Пропуски: 4\n",
    "- Причины: Продажи в Японии также могли быть упущены для отдельных игр, аналогично причинам для Европы.\n",
    "\n",
    "Столбец critic_score:\n",
    "- Пропуски: 8714\n",
    "- Причины: Оценки критиков могли быть недоступны для большинства игр, особенно старых или менее известных. Также возможны проблемы с агрегацией данных от разных источников.\n",
    "\n",
    "Столбец user_score:\n",
    "- Пропуски: 9268\n",
    "- Причины: Пользовательские оценки могли быть собраны позже или отсутствовали для многих игр, особенно тех, которые уже вышли из активного оборота.\n",
    "\n",
    "Столбец rating:\n",
    "- Пропуски: 6871\n",
    "- Причины: Возрастные рейтинги могли быть применены не ко всем играм, особенно к старым или независимым проектам, которые не проходили официальную сертификацию.\n",
    "</font>"
   ]
  },
  {
   "cell_type": "markdown",
   "id": "bbbe3bda",
   "metadata": {
    "id": "bbbe3bda"
   },
   "source": [
    "- Обработайте пропущенные значения. Для каждого случая вы можете выбрать оптимальный, на ваш взгляд, вариант: заменить на определённое значение, оставить как есть или удалить.\n",
    "- Если вы решите заменить пропуски на значение-индикатор, то убедитесь, что предложенное значение не может быть использовано в данных.\n",
    "- Если вы нашли пропуски в данных с количеством проданных копий игры в том или ином регионе, их можно заменить на среднее значение в зависимости от названия платформы и года выхода игры."
   ]
  },
  {
   "cell_type": "markdown",
   "id": "59228e84",
   "metadata": {},
   "source": [
    "<font color='#777778'>Если судить по заданию, то нам нужны столбцы platform (в котором нет пропусков), year_of_release (в котором 275 пропусков и их не получится заполнить), critic_score и user_score (в которых 8714 и 9268 пропусков, если рассуждать логически, данные пропуски нельзя трогать и нужно работать с чем есть) Можно заполнить их как \"нет данных\"</font>"
   ]
  },
  {
   "cell_type": "code",
   "execution_count": 17,
   "id": "4c6c73ce",
   "metadata": {},
   "outputs": [],
   "source": [
    "df['rating'] = df['rating'].fillna('Нет данных')"
   ]
  },
  {
   "cell_type": "markdown",
   "id": "b590f55d",
   "metadata": {},
   "source": [
    "<font color='#777778'>  \n",
    "Столбцы name и genre, где по 2 пропуска тоже не получится заполнить. Пропуски EU_sales и JP_sales, их можно заменить на среднее значение в зависимости от названия платформы и года выхода игры.\n",
    "</font>"
   ]
  },
  {
   "cell_type": "code",
   "execution_count": 20,
   "id": "6c19b3a7",
   "metadata": {},
   "outputs": [],
   "source": [
    "df = df.dropna(subset= ['year_of_release', 'name', 'EU_sales', 'JP_sales'])"
   ]
  },
  {
   "cell_type": "code",
   "execution_count": 21,
   "id": "46d48d42",
   "metadata": {},
   "outputs": [],
   "source": [
    "df['year_of_release'] = df['year_of_release'].astype('int')"
   ]
  },
  {
   "cell_type": "code",
   "execution_count": 22,
   "id": "b7a67544",
   "metadata": {},
   "outputs": [
    {
     "name": "stdout",
     "output_type": "stream",
     "text": [
      "<class 'pandas.core.frame.DataFrame'>\n",
      "Int64Index: 16669 entries, 0 to 16955\n",
      "Data columns (total 11 columns):\n",
      " #   Column           Non-Null Count  Dtype  \n",
      "---  ------           --------------  -----  \n",
      " 0   name             16669 non-null  object \n",
      " 1   platform         16669 non-null  object \n",
      " 2   year_of_release  16669 non-null  int64  \n",
      " 3   genre            16669 non-null  object \n",
      " 4   NA_sales         16669 non-null  float64\n",
      " 5   EU_sales         16669 non-null  float64\n",
      " 6   JP_sales         16669 non-null  float64\n",
      " 7   other_sales      16669 non-null  float64\n",
      " 8   critic_score     8077 non-null   float64\n",
      " 9   user_score       7550 non-null   float64\n",
      " 10  rating           16669 non-null  object \n",
      "dtypes: float64(6), int64(1), object(4)\n",
      "memory usage: 1.5+ MB\n"
     ]
    }
   ],
   "source": [
    "df.info()"
   ]
  },
  {
   "cell_type": "markdown",
   "id": "a63363fd",
   "metadata": {
    "id": "a63363fd"
   },
   "source": [
    "### 2.4. Явные и неявные дубликаты в данных\n",
    "\n",
    "- Изучите уникальные значения в категориальных данных, например с названиями жанра игры, платформы, рейтинга и года выпуска. Проверьте, встречаются ли среди данных неявные дубликаты, связанные с опечатками или разным способом написания.\n",
    "- При необходимости проведите нормализацию данных с текстовыми значениями. Названия или жанры игр можно привести к нижнему регистру, а названия рейтинга — к верхнему."
   ]
  },
  {
   "cell_type": "code",
   "execution_count": 23,
   "id": "491c9c39",
   "metadata": {
    "id": "491c9c39"
   },
   "outputs": [
    {
     "name": "stdout",
     "output_type": "stream",
     "text": [
      "['Sports' 'Platform' 'Racing' 'Role-Playing' 'Puzzle' 'Misc' 'Shooter'\n",
      " 'Simulation' 'Action' 'Fighting' 'Adventure' 'Strategy' 'MISC'\n",
      " 'ROLE-PLAYING' 'RACING' 'ACTION' 'SHOOTER' 'FIGHTING' 'SPORTS' 'PLATFORM'\n",
      " 'ADVENTURE' 'SIMULATION' 'PUZZLE' 'STRATEGY']\n"
     ]
    },
    {
     "data": {
      "text/plain": [
       "array(['sports', 'platform', 'racing', 'role-playing', 'puzzle', 'misc',\n",
       "       'shooter', 'simulation', 'action', 'fighting', 'adventure',\n",
       "       'strategy'], dtype=object)"
      ]
     },
     "execution_count": 23,
     "metadata": {},
     "output_type": "execute_result"
    }
   ],
   "source": [
    "print(df['genre'].unique())\n",
    "\n",
    "df['genre'] = df['genre'].str.lower()\n",
    "\n",
    "df['genre'].unique()"
   ]
  },
  {
   "cell_type": "code",
   "execution_count": 24,
   "id": "f1627198",
   "metadata": {
    "id": "f1627198"
   },
   "outputs": [
    {
     "name": "stdout",
     "output_type": "stream",
     "text": [
      "['Wii' 'NES' 'GB' 'DS' 'X360' 'PS3' 'PS2' 'SNES' 'GBA' 'PS4' '3DS' 'N64'\n",
      " 'PS' 'XB' 'PC' '2600' 'PSP' 'XOne' 'WiiU' 'GC' 'GEN' 'DC' 'PSV' 'SAT'\n",
      " 'SCD' 'WS' 'NG' 'TG16' '3DO' 'GG' 'PCFX']\n"
     ]
    },
    {
     "data": {
      "text/plain": [
       "array(['WII', 'NES', 'GB', 'DS', 'X360', 'PS3', 'PS2', 'SNES', 'GBA',\n",
       "       'PS4', '3DS', 'N64', 'PS', 'XB', 'PC', '2600', 'PSP', 'XONE',\n",
       "       'WIIU', 'GC', 'GEN', 'DC', 'PSV', 'SAT', 'SCD', 'WS', 'NG', 'TG16',\n",
       "       '3DO', 'GG', 'PCFX'], dtype=object)"
      ]
     },
     "execution_count": 24,
     "metadata": {},
     "output_type": "execute_result"
    }
   ],
   "source": [
    "print(df['platform'].unique())\n",
    "\n",
    "df['platform'] = df['platform'].str.upper()\n",
    "\n",
    "df['platform'].unique()"
   ]
  },
  {
   "cell_type": "code",
   "execution_count": 25,
   "id": "a0cac80c",
   "metadata": {
    "id": "a0cac80c"
   },
   "outputs": [
    {
     "data": {
      "text/plain": [
       "array(['E', 'Нет данных', 'M', 'T', 'E10+', 'K-A', 'AO', 'EC', 'RP'],\n",
       "      dtype=object)"
      ]
     },
     "execution_count": 25,
     "metadata": {},
     "output_type": "execute_result"
    }
   ],
   "source": [
    "df['rating'].unique()"
   ]
  },
  {
   "cell_type": "code",
   "execution_count": 26,
   "id": "da7dc6bf",
   "metadata": {},
   "outputs": [
    {
     "data": {
      "text/plain": [
       "array([2006, 1985, 2008, 2009, 1996, 1989, 1984, 2005, 1999, 2007, 2010,\n",
       "       2013, 2004, 1990, 1988, 2002, 2001, 2011, 1998, 2015, 2012, 2014,\n",
       "       1992, 1997, 1993, 1994, 1982, 2016, 2003, 1986, 2000, 1995, 1991,\n",
       "       1981, 1987, 1980, 1983])"
      ]
     },
     "execution_count": 26,
     "metadata": {},
     "output_type": "execute_result"
    }
   ],
   "source": [
    "df['year_of_release'].unique()"
   ]
  },
  {
   "cell_type": "markdown",
   "id": "fc3d3db4",
   "metadata": {
    "id": "fc3d3db4"
   },
   "source": [
    "- После того как нормализуете данные и устраните неявные дубликаты, проверьте наличие явных дубликатов в данных."
   ]
  },
  {
   "cell_type": "code",
   "execution_count": 27,
   "id": "fc5c91b5",
   "metadata": {
    "id": "fc5c91b5"
   },
   "outputs": [
    {
     "name": "stdout",
     "output_type": "stream",
     "text": [
      "Всего строк 16669\n",
      "Дубликатов 235\n",
      "Удалено строк в датасете после обработк 522\n",
      "Осталось 16434 строк\n"
     ]
    }
   ],
   "source": [
    "print(f'Всего строк {df.shape[0]}')\n",
    "print(f'Дубликатов {df.duplicated().sum()}')\n",
    "\n",
    "df = df.drop_duplicates()\n",
    "print(f'Удалено строк в датасете после обработк {len(df_old) - len(df)}')\n",
    "print(f'Осталось {df.shape[0]} строк')"
   ]
  },
  {
   "cell_type": "code",
   "execution_count": 28,
   "id": "1ad0348b",
   "metadata": {},
   "outputs": [
    {
     "name": "stdout",
     "output_type": "stream",
     "text": [
      " Было строк в исходном датасете 16956 \n",
      " Осталось строк в датасете после обработки 16434 \n",
      " Удалено строк в датасете после обработки 522 \n",
      " Процент потерь 3.08\n"
     ]
    }
   ],
   "source": [
    "# Комментарий ревьюера\n",
    "# Проверим сколько удалено строк датасета\n",
    "a, b = len(tmp), len(df)\n",
    "print(\" Было строк в исходном датасете\", a,\n",
    "      '\\n', \"Осталось строк в датасете после обработки\", b,\n",
    "      '\\n', \"Удалено строк в датасете после обработки\", a-b,\n",
    "      '\\n', \"Процент потерь\", round((a-b)/a*100, 2))"
   ]
  },
  {
   "cell_type": "markdown",
   "id": "54616bae",
   "metadata": {
    "id": "54616bae"
   },
   "source": [
    "- Напишите промежуточный вывод: укажите количество найденных дубликатов и действия по их обработке."
   ]
  },
  {
   "cell_type": "markdown",
   "id": "d447363d",
   "metadata": {},
   "source": [
    "<font color='#777778'>  \n",
    "Всего строк 16669<br>\n",
    "Дубликатов 235<br>\n",
    "Удалено строк в датасете после обработoк 522<br>\n",
    "Осталось 16434 строк\n",
    "</font>"
   ]
  },
  {
   "cell_type": "markdown",
   "id": "72645ae9",
   "metadata": {
    "id": "72645ae9"
   },
   "source": [
    "- В процессе подготовки данных вы могли что-либо удалять, например строки с пропусками или ошибками, дубликаты и прочее. В этом случае посчитайте количество удалённых строк в абсолютном и относительном значениях."
   ]
  },
  {
   "cell_type": "code",
   "execution_count": 29,
   "id": "486faf19",
   "metadata": {},
   "outputs": [
    {
     "name": "stdout",
     "output_type": "stream",
     "text": [
      "Относительное удаление строк: 3.08%\n"
     ]
    }
   ],
   "source": [
    "print(f'Относительное удаление строк: {((len(df_old) - len(df)) / df_old.shape[0]) * 100:.2f}%')\n"
   ]
  },
  {
   "cell_type": "markdown",
   "id": "47613d75",
   "metadata": {
    "id": "47613d75"
   },
   "source": [
    "- После проведения предобработки данных напишите общий промежуточный вывод."
   ]
  },
  {
   "cell_type": "markdown",
   "id": "48fa4701",
   "metadata": {},
   "source": [
    "<font color='#777778'> Исходный датасет содержал 16 956 строк, каждая из которых представляла собой запись с различными характеристиками.\n",
    "\n",
    "После проведения первичной предобработки данных количество строк сократилось до 16 434, что означает удаление 522 строк. Это составляет примерно 3,08% от общего числа записей, что является незначительным процентом потерь.\n",
    "\n",
    "- Проверка уникальных значений: Выполнена проверка наличия уникальных значений в ключевых полях. Были выявлены и устранены некорректные данные.\n",
    "- Все значения были приведены к единому регистру (нижнему), чтобы избежать проблем с распознаванием одинаковых записей, различающихся лишь регистрами символов. Этот этап позволил удалить скрытые дубликаты.\n",
    "- В процессе проверки были обнаружены пропуски в некоторых столбцах, особенно в колонке с рейтингом. Для упрощения дальнейшей работы с этими пропусками был установлен специальный индикатор-заглушка.\n",
    "-  Названия всех колонок были приведены к общепринятому стилю, что упростит дальнейшую работу с данными и сделает код более читаемым.\n",
    "\n",
    "Предварительная обработка данных показала, что набор данных достаточно чистый и пригоден для дальнейшего анализа. Потери данных составляют менее 3%. Датасет готов для решения конкретной задачи.\n",
    "\n",
    "Таким образом, мы привели данные к более чистому состоянию, устранив ошибки в написании и избыточность записей.\n",
    "</font>"
   ]
  },
  {
   "cell_type": "markdown",
   "id": "613f0eb0",
   "metadata": {
    "id": "613f0eb0"
   },
   "source": [
    "---\n",
    "\n",
    "## 3. Фильтрация данных\n",
    "\n",
    "Коллеги хотят изучить историю продаж игр в начале XXI века, и их интересует период с 2000 по 2013 год включительно. Отберите данные по этому показателю. Сохраните новый срез данных в отдельном датафрейме, например `df_actual`."
   ]
  },
  {
   "cell_type": "code",
   "execution_count": 30,
   "id": "2344916d",
   "metadata": {
    "id": "2344916d"
   },
   "outputs": [],
   "source": [
    "df_actual = df[(df['year_of_release'] >= 2000) & (df['year_of_release'] <= 2013)]"
   ]
  },
  {
   "cell_type": "code",
   "execution_count": 31,
   "id": "44d7529f",
   "metadata": {
    "id": "44d7529f"
   },
   "outputs": [
    {
     "data": {
      "text/html": [
       "<div>\n",
       "<style scoped>\n",
       "    .dataframe tbody tr th:only-of-type {\n",
       "        vertical-align: middle;\n",
       "    }\n",
       "\n",
       "    .dataframe tbody tr th {\n",
       "        vertical-align: top;\n",
       "    }\n",
       "\n",
       "    .dataframe thead th {\n",
       "        text-align: right;\n",
       "    }\n",
       "</style>\n",
       "<table border=\"1\" class=\"dataframe\">\n",
       "  <thead>\n",
       "    <tr style=\"text-align: right;\">\n",
       "      <th></th>\n",
       "      <th>name</th>\n",
       "      <th>platform</th>\n",
       "      <th>year_of_release</th>\n",
       "      <th>genre</th>\n",
       "      <th>NA_sales</th>\n",
       "      <th>EU_sales</th>\n",
       "      <th>JP_sales</th>\n",
       "      <th>other_sales</th>\n",
       "      <th>critic_score</th>\n",
       "      <th>user_score</th>\n",
       "      <th>rating</th>\n",
       "    </tr>\n",
       "  </thead>\n",
       "  <tbody>\n",
       "    <tr>\n",
       "      <th>0</th>\n",
       "      <td>Wii Sports</td>\n",
       "      <td>WII</td>\n",
       "      <td>2006</td>\n",
       "      <td>sports</td>\n",
       "      <td>41.36</td>\n",
       "      <td>28.96</td>\n",
       "      <td>3.77</td>\n",
       "      <td>8.45</td>\n",
       "      <td>76.0</td>\n",
       "      <td>8.0</td>\n",
       "      <td>E</td>\n",
       "    </tr>\n",
       "    <tr>\n",
       "      <th>2</th>\n",
       "      <td>Mario Kart Wii</td>\n",
       "      <td>WII</td>\n",
       "      <td>2008</td>\n",
       "      <td>racing</td>\n",
       "      <td>15.68</td>\n",
       "      <td>12.76</td>\n",
       "      <td>3.79</td>\n",
       "      <td>3.29</td>\n",
       "      <td>82.0</td>\n",
       "      <td>8.3</td>\n",
       "      <td>E</td>\n",
       "    </tr>\n",
       "    <tr>\n",
       "      <th>3</th>\n",
       "      <td>Wii Sports Resort</td>\n",
       "      <td>WII</td>\n",
       "      <td>2009</td>\n",
       "      <td>sports</td>\n",
       "      <td>15.61</td>\n",
       "      <td>10.93</td>\n",
       "      <td>3.28</td>\n",
       "      <td>2.95</td>\n",
       "      <td>80.0</td>\n",
       "      <td>8.0</td>\n",
       "      <td>E</td>\n",
       "    </tr>\n",
       "    <tr>\n",
       "      <th>6</th>\n",
       "      <td>New Super Mario Bros.</td>\n",
       "      <td>DS</td>\n",
       "      <td>2006</td>\n",
       "      <td>platform</td>\n",
       "      <td>11.28</td>\n",
       "      <td>9.14</td>\n",
       "      <td>6.50</td>\n",
       "      <td>2.88</td>\n",
       "      <td>89.0</td>\n",
       "      <td>8.5</td>\n",
       "      <td>E</td>\n",
       "    </tr>\n",
       "    <tr>\n",
       "      <th>7</th>\n",
       "      <td>Wii Play</td>\n",
       "      <td>WII</td>\n",
       "      <td>2006</td>\n",
       "      <td>misc</td>\n",
       "      <td>13.96</td>\n",
       "      <td>9.18</td>\n",
       "      <td>2.93</td>\n",
       "      <td>2.84</td>\n",
       "      <td>58.0</td>\n",
       "      <td>6.6</td>\n",
       "      <td>E</td>\n",
       "    </tr>\n",
       "  </tbody>\n",
       "</table>\n",
       "</div>"
      ],
      "text/plain": [
       "                    name platform  year_of_release     genre  NA_sales  \\\n",
       "0             Wii Sports      WII             2006    sports     41.36   \n",
       "2         Mario Kart Wii      WII             2008    racing     15.68   \n",
       "3      Wii Sports Resort      WII             2009    sports     15.61   \n",
       "6  New Super Mario Bros.       DS             2006  platform     11.28   \n",
       "7               Wii Play      WII             2006      misc     13.96   \n",
       "\n",
       "   EU_sales  JP_sales  other_sales  critic_score  user_score rating  \n",
       "0     28.96      3.77         8.45          76.0         8.0      E  \n",
       "2     12.76      3.79         3.29          82.0         8.3      E  \n",
       "3     10.93      3.28         2.95          80.0         8.0      E  \n",
       "6      9.14      6.50         2.88          89.0         8.5      E  \n",
       "7      9.18      2.93         2.84          58.0         6.6      E  "
      ]
     },
     "execution_count": 31,
     "metadata": {},
     "output_type": "execute_result"
    }
   ],
   "source": [
    "df_actual.head(5)"
   ]
  },
  {
   "cell_type": "code",
   "execution_count": null,
   "id": "1334fa90",
   "metadata": {},
   "outputs": [
    {
     "name": "stdout",
     "output_type": "stream",
     "text": [
      "<class 'pandas.core.frame.DataFrame'>\n",
      "Int64Index: 12772 entries, 0 to 16954\n",
      "Data columns (total 11 columns):\n",
      " #   Column           Non-Null Count  Dtype  \n",
      "---  ------           --------------  -----  \n",
      " 0   name             12772 non-null  object \n",
      " 1   platform         12772 non-null  object \n",
      " 2   year_of_release  12772 non-null  int64  \n",
      " 3   genre            12772 non-null  object \n",
      " 4   NA_sales         12772 non-null  float64\n",
      " 5   EU_sales         12772 non-null  float64\n",
      " 6   JP_sales         12772 non-null  float64\n",
      " 7   other_sales      12772 non-null  float64\n",
      " 8   critic_score     7162 non-null   float64\n",
      " 9   user_score       6476 non-null   float64\n",
      " 10  rating           12772 non-null  object \n",
      "dtypes: float64(6), int64(1), object(4)\n",
      "memory usage: 1.2+ MB\n"
     ]
    },
    {
     "data": {
      "text/plain": [
       "(None,\n",
       " array([2000, 2001, 2002, 2003, 2004, 2005, 2006, 2007, 2008, 2009, 2010,\n",
       "        2011, 2012, 2013]))"
      ]
     },
     "execution_count": 32,
     "metadata": {},
     "output_type": "execute_result"
    }
   ],
   "source": [
    "\n",
    "df_actual.info(), df_actual.year_of_release.sort_values().unique()"
   ]
  },
  {
   "cell_type": "markdown",
   "id": "a6f10b01",
   "metadata": {
    "id": "a6f10b01"
   },
   "source": [
    "---\n",
    "\n",
    "## 4. Категоризация данных\n",
    "    \n",
    "Проведите категоризацию данных:\n",
    "- Разделите все игры по оценкам пользователей и выделите такие категории: высокая оценка (от 8 до 10 включительно), средняя оценка (от 3 до 8, не включая правую границу интервала) и низкая оценка (от 0 до 3, не включая правую границу интервала)."
   ]
  },
  {
   "cell_type": "code",
   "execution_count": 33,
   "id": "3db87229",
   "metadata": {
    "id": "3db87229"
   },
   "outputs": [],
   "source": [
    "df_actual['user_group_score'] = pd.cut(df_actual['user_score'], bins= [0, 3, 8, 10], labels= ['Низкая оценка', 'Средняя оценка', 'Высокая оценка'], right= False).astype('str')\n",
    "\n",
    "df_actual['user_group_score'] = df_actual['user_group_score'].replace('nan', 'Без оценки')"
   ]
  },
  {
   "cell_type": "code",
   "execution_count": 34,
   "id": "35438bd6",
   "metadata": {
    "id": "35438bd6"
   },
   "outputs": [
    {
     "data": {
      "text/html": [
       "<div>\n",
       "<style scoped>\n",
       "    .dataframe tbody tr th:only-of-type {\n",
       "        vertical-align: middle;\n",
       "    }\n",
       "\n",
       "    .dataframe tbody tr th {\n",
       "        vertical-align: top;\n",
       "    }\n",
       "\n",
       "    .dataframe thead th {\n",
       "        text-align: right;\n",
       "    }\n",
       "</style>\n",
       "<table border=\"1\" class=\"dataframe\">\n",
       "  <thead>\n",
       "    <tr style=\"text-align: right;\">\n",
       "      <th></th>\n",
       "      <th>name</th>\n",
       "      <th>platform</th>\n",
       "      <th>year_of_release</th>\n",
       "      <th>genre</th>\n",
       "      <th>NA_sales</th>\n",
       "      <th>EU_sales</th>\n",
       "      <th>JP_sales</th>\n",
       "      <th>other_sales</th>\n",
       "      <th>critic_score</th>\n",
       "      <th>user_score</th>\n",
       "      <th>rating</th>\n",
       "      <th>user_group_score</th>\n",
       "    </tr>\n",
       "  </thead>\n",
       "  <tbody>\n",
       "    <tr>\n",
       "      <th>0</th>\n",
       "      <td>Wii Sports</td>\n",
       "      <td>WII</td>\n",
       "      <td>2006</td>\n",
       "      <td>sports</td>\n",
       "      <td>41.36</td>\n",
       "      <td>28.96</td>\n",
       "      <td>3.77</td>\n",
       "      <td>8.45</td>\n",
       "      <td>76.0</td>\n",
       "      <td>8.0</td>\n",
       "      <td>E</td>\n",
       "      <td>Высокая оценка</td>\n",
       "    </tr>\n",
       "    <tr>\n",
       "      <th>2</th>\n",
       "      <td>Mario Kart Wii</td>\n",
       "      <td>WII</td>\n",
       "      <td>2008</td>\n",
       "      <td>racing</td>\n",
       "      <td>15.68</td>\n",
       "      <td>12.76</td>\n",
       "      <td>3.79</td>\n",
       "      <td>3.29</td>\n",
       "      <td>82.0</td>\n",
       "      <td>8.3</td>\n",
       "      <td>E</td>\n",
       "      <td>Высокая оценка</td>\n",
       "    </tr>\n",
       "    <tr>\n",
       "      <th>3</th>\n",
       "      <td>Wii Sports Resort</td>\n",
       "      <td>WII</td>\n",
       "      <td>2009</td>\n",
       "      <td>sports</td>\n",
       "      <td>15.61</td>\n",
       "      <td>10.93</td>\n",
       "      <td>3.28</td>\n",
       "      <td>2.95</td>\n",
       "      <td>80.0</td>\n",
       "      <td>8.0</td>\n",
       "      <td>E</td>\n",
       "      <td>Высокая оценка</td>\n",
       "    </tr>\n",
       "    <tr>\n",
       "      <th>6</th>\n",
       "      <td>New Super Mario Bros.</td>\n",
       "      <td>DS</td>\n",
       "      <td>2006</td>\n",
       "      <td>platform</td>\n",
       "      <td>11.28</td>\n",
       "      <td>9.14</td>\n",
       "      <td>6.50</td>\n",
       "      <td>2.88</td>\n",
       "      <td>89.0</td>\n",
       "      <td>8.5</td>\n",
       "      <td>E</td>\n",
       "      <td>Высокая оценка</td>\n",
       "    </tr>\n",
       "    <tr>\n",
       "      <th>7</th>\n",
       "      <td>Wii Play</td>\n",
       "      <td>WII</td>\n",
       "      <td>2006</td>\n",
       "      <td>misc</td>\n",
       "      <td>13.96</td>\n",
       "      <td>9.18</td>\n",
       "      <td>2.93</td>\n",
       "      <td>2.84</td>\n",
       "      <td>58.0</td>\n",
       "      <td>6.6</td>\n",
       "      <td>E</td>\n",
       "      <td>Средняя оценка</td>\n",
       "    </tr>\n",
       "  </tbody>\n",
       "</table>\n",
       "</div>"
      ],
      "text/plain": [
       "                    name platform  year_of_release     genre  NA_sales  \\\n",
       "0             Wii Sports      WII             2006    sports     41.36   \n",
       "2         Mario Kart Wii      WII             2008    racing     15.68   \n",
       "3      Wii Sports Resort      WII             2009    sports     15.61   \n",
       "6  New Super Mario Bros.       DS             2006  platform     11.28   \n",
       "7               Wii Play      WII             2006      misc     13.96   \n",
       "\n",
       "   EU_sales  JP_sales  other_sales  critic_score  user_score rating  \\\n",
       "0     28.96      3.77         8.45          76.0         8.0      E   \n",
       "2     12.76      3.79         3.29          82.0         8.3      E   \n",
       "3     10.93      3.28         2.95          80.0         8.0      E   \n",
       "6      9.14      6.50         2.88          89.0         8.5      E   \n",
       "7      9.18      2.93         2.84          58.0         6.6      E   \n",
       "\n",
       "  user_group_score  \n",
       "0   Высокая оценка  \n",
       "2   Высокая оценка  \n",
       "3   Высокая оценка  \n",
       "6   Высокая оценка  \n",
       "7   Средняя оценка  "
      ]
     },
     "execution_count": 34,
     "metadata": {},
     "output_type": "execute_result"
    }
   ],
   "source": [
    "df_actual.head(5)"
   ]
  },
  {
   "cell_type": "markdown",
   "id": "f8f34b40",
   "metadata": {
    "id": "f8f34b40"
   },
   "source": [
    "- Разделите все игры по оценкам критиков и выделите такие категории: высокая оценка (от 80 до 100 включительно), средняя оценка (от 30 до 80, не включая правую границу интервала) и низкая оценка (от 0 до 30, не включая правую границу интервала)."
   ]
  },
  {
   "cell_type": "code",
   "execution_count": 35,
   "id": "e3f7acb0",
   "metadata": {
    "id": "e3f7acb0"
   },
   "outputs": [],
   "source": [
    "df_actual['critic_group_score'] = pd.cut(df_actual['critic_score'], bins= [0, 30, 80, 100], labels= ['Низкая оценка', 'Средняя оценка', 'Высокая оценка'], right= False).astype('str')\n",
    "\n",
    "df_actual['critic_group_score'] = df_actual['critic_group_score'].replace('nan', 'Без оценки')"
   ]
  },
  {
   "cell_type": "code",
   "execution_count": 36,
   "id": "548fde17",
   "metadata": {
    "id": "548fde17"
   },
   "outputs": [
    {
     "data": {
      "text/html": [
       "<div>\n",
       "<style scoped>\n",
       "    .dataframe tbody tr th:only-of-type {\n",
       "        vertical-align: middle;\n",
       "    }\n",
       "\n",
       "    .dataframe tbody tr th {\n",
       "        vertical-align: top;\n",
       "    }\n",
       "\n",
       "    .dataframe thead th {\n",
       "        text-align: right;\n",
       "    }\n",
       "</style>\n",
       "<table border=\"1\" class=\"dataframe\">\n",
       "  <thead>\n",
       "    <tr style=\"text-align: right;\">\n",
       "      <th></th>\n",
       "      <th>name</th>\n",
       "      <th>platform</th>\n",
       "      <th>year_of_release</th>\n",
       "      <th>genre</th>\n",
       "      <th>NA_sales</th>\n",
       "      <th>EU_sales</th>\n",
       "      <th>JP_sales</th>\n",
       "      <th>other_sales</th>\n",
       "      <th>critic_score</th>\n",
       "      <th>user_score</th>\n",
       "      <th>rating</th>\n",
       "      <th>user_group_score</th>\n",
       "      <th>critic_group_score</th>\n",
       "    </tr>\n",
       "  </thead>\n",
       "  <tbody>\n",
       "    <tr>\n",
       "      <th>0</th>\n",
       "      <td>Wii Sports</td>\n",
       "      <td>WII</td>\n",
       "      <td>2006</td>\n",
       "      <td>sports</td>\n",
       "      <td>41.36</td>\n",
       "      <td>28.96</td>\n",
       "      <td>3.77</td>\n",
       "      <td>8.45</td>\n",
       "      <td>76.0</td>\n",
       "      <td>8.0</td>\n",
       "      <td>E</td>\n",
       "      <td>Высокая оценка</td>\n",
       "      <td>Средняя оценка</td>\n",
       "    </tr>\n",
       "    <tr>\n",
       "      <th>2</th>\n",
       "      <td>Mario Kart Wii</td>\n",
       "      <td>WII</td>\n",
       "      <td>2008</td>\n",
       "      <td>racing</td>\n",
       "      <td>15.68</td>\n",
       "      <td>12.76</td>\n",
       "      <td>3.79</td>\n",
       "      <td>3.29</td>\n",
       "      <td>82.0</td>\n",
       "      <td>8.3</td>\n",
       "      <td>E</td>\n",
       "      <td>Высокая оценка</td>\n",
       "      <td>Высокая оценка</td>\n",
       "    </tr>\n",
       "    <tr>\n",
       "      <th>3</th>\n",
       "      <td>Wii Sports Resort</td>\n",
       "      <td>WII</td>\n",
       "      <td>2009</td>\n",
       "      <td>sports</td>\n",
       "      <td>15.61</td>\n",
       "      <td>10.93</td>\n",
       "      <td>3.28</td>\n",
       "      <td>2.95</td>\n",
       "      <td>80.0</td>\n",
       "      <td>8.0</td>\n",
       "      <td>E</td>\n",
       "      <td>Высокая оценка</td>\n",
       "      <td>Высокая оценка</td>\n",
       "    </tr>\n",
       "    <tr>\n",
       "      <th>6</th>\n",
       "      <td>New Super Mario Bros.</td>\n",
       "      <td>DS</td>\n",
       "      <td>2006</td>\n",
       "      <td>platform</td>\n",
       "      <td>11.28</td>\n",
       "      <td>9.14</td>\n",
       "      <td>6.50</td>\n",
       "      <td>2.88</td>\n",
       "      <td>89.0</td>\n",
       "      <td>8.5</td>\n",
       "      <td>E</td>\n",
       "      <td>Высокая оценка</td>\n",
       "      <td>Высокая оценка</td>\n",
       "    </tr>\n",
       "    <tr>\n",
       "      <th>7</th>\n",
       "      <td>Wii Play</td>\n",
       "      <td>WII</td>\n",
       "      <td>2006</td>\n",
       "      <td>misc</td>\n",
       "      <td>13.96</td>\n",
       "      <td>9.18</td>\n",
       "      <td>2.93</td>\n",
       "      <td>2.84</td>\n",
       "      <td>58.0</td>\n",
       "      <td>6.6</td>\n",
       "      <td>E</td>\n",
       "      <td>Средняя оценка</td>\n",
       "      <td>Средняя оценка</td>\n",
       "    </tr>\n",
       "  </tbody>\n",
       "</table>\n",
       "</div>"
      ],
      "text/plain": [
       "                    name platform  year_of_release     genre  NA_sales  \\\n",
       "0             Wii Sports      WII             2006    sports     41.36   \n",
       "2         Mario Kart Wii      WII             2008    racing     15.68   \n",
       "3      Wii Sports Resort      WII             2009    sports     15.61   \n",
       "6  New Super Mario Bros.       DS             2006  platform     11.28   \n",
       "7               Wii Play      WII             2006      misc     13.96   \n",
       "\n",
       "   EU_sales  JP_sales  other_sales  critic_score  user_score rating  \\\n",
       "0     28.96      3.77         8.45          76.0         8.0      E   \n",
       "2     12.76      3.79         3.29          82.0         8.3      E   \n",
       "3     10.93      3.28         2.95          80.0         8.0      E   \n",
       "6      9.14      6.50         2.88          89.0         8.5      E   \n",
       "7      9.18      2.93         2.84          58.0         6.6      E   \n",
       "\n",
       "  user_group_score critic_group_score  \n",
       "0   Высокая оценка     Средняя оценка  \n",
       "2   Высокая оценка     Высокая оценка  \n",
       "3   Высокая оценка     Высокая оценка  \n",
       "6   Высокая оценка     Высокая оценка  \n",
       "7   Средняя оценка     Средняя оценка  "
      ]
     },
     "execution_count": 36,
     "metadata": {},
     "output_type": "execute_result"
    }
   ],
   "source": [
    "df_actual.head(5)"
   ]
  },
  {
   "cell_type": "markdown",
   "id": "olkTlTlAUDR9",
   "metadata": {
    "id": "olkTlTlAUDR9"
   },
   "source": [
    "- После категоризации данных проверьте результат: сгруппируйте данные по выделенным категориям и посчитайте количество игр в каждой категории."
   ]
  },
  {
   "cell_type": "code",
   "execution_count": 37,
   "id": "U6kiXU3JUMCc",
   "metadata": {
    "id": "U6kiXU3JUMCc"
   },
   "outputs": [
    {
     "data": {
      "text/html": [
       "<div>\n",
       "<style scoped>\n",
       "    .dataframe tbody tr th:only-of-type {\n",
       "        vertical-align: middle;\n",
       "    }\n",
       "\n",
       "    .dataframe tbody tr th {\n",
       "        vertical-align: top;\n",
       "    }\n",
       "\n",
       "    .dataframe thead th {\n",
       "        text-align: right;\n",
       "    }\n",
       "</style>\n",
       "<table border=\"1\" class=\"dataframe\">\n",
       "  <thead>\n",
       "    <tr style=\"text-align: right;\">\n",
       "      <th></th>\n",
       "      <th>user_group_score</th>\n",
       "      <th>name</th>\n",
       "    </tr>\n",
       "  </thead>\n",
       "  <tbody>\n",
       "    <tr>\n",
       "      <th>0</th>\n",
       "      <td>Высокая оценка</td>\n",
       "      <td>2282</td>\n",
       "    </tr>\n",
       "    <tr>\n",
       "      <th>1</th>\n",
       "      <td>Низкая оценка</td>\n",
       "      <td>116</td>\n",
       "    </tr>\n",
       "    <tr>\n",
       "      <th>2</th>\n",
       "      <td>Средняя оценка</td>\n",
       "      <td>4078</td>\n",
       "    </tr>\n",
       "  </tbody>\n",
       "</table>\n",
       "</div>"
      ],
      "text/plain": [
       "  user_group_score  name\n",
       "0   Высокая оценка  2282\n",
       "1    Низкая оценка   116\n",
       "2   Средняя оценка  4078"
      ]
     },
     "execution_count": 37,
     "metadata": {},
     "output_type": "execute_result"
    }
   ],
   "source": [
    "user_group_score = df_actual.groupby('user_group_score')['name'].count().reset_index()\n",
    "\n",
    "user_group_score"
   ]
  },
  {
   "cell_type": "code",
   "execution_count": 38,
   "id": "40744a8d",
   "metadata": {},
   "outputs": [
    {
     "data": {
      "image/png": "[encoded data removed]",
      "text/plain": [
       "<Figure size 1080x432 with 1 Axes>"
      ]
     },
     "metadata": {
      "needs_background": "light"
     },
     "output_type": "display_data"
    }
   ],
   "source": [
    "plt.figure(figsize= (15, 6))\n",
    "\n",
    "sns.set_style('darkgrid')\n",
    "\n",
    "sns.barplot(data= user_group_score, x= 'name', y= 'user_group_score', hue= 'user_group_score')\n",
    "\n",
    "plt.title('Количество игр по оценкам пользователей')\n",
    "plt.xlabel('Количество')\n",
    "plt.ylabel('Категория')\n",
    "\n",
    "plt.show()"
   ]
  },
  {
   "cell_type": "code",
   "execution_count": 39,
   "id": "50bd7cb8",
   "metadata": {},
   "outputs": [
    {
     "data": {
      "text/html": [
       "<div>\n",
       "<style scoped>\n",
       "    .dataframe tbody tr th:only-of-type {\n",
       "        vertical-align: middle;\n",
       "    }\n",
       "\n",
       "    .dataframe tbody tr th {\n",
       "        vertical-align: top;\n",
       "    }\n",
       "\n",
       "    .dataframe thead th {\n",
       "        text-align: right;\n",
       "    }\n",
       "</style>\n",
       "<table border=\"1\" class=\"dataframe\">\n",
       "  <thead>\n",
       "    <tr style=\"text-align: right;\">\n",
       "      <th></th>\n",
       "      <th>critic_group_score</th>\n",
       "      <th>name</th>\n",
       "    </tr>\n",
       "  </thead>\n",
       "  <tbody>\n",
       "    <tr>\n",
       "      <th>0</th>\n",
       "      <td>Высокая оценка</td>\n",
       "      <td>1686</td>\n",
       "    </tr>\n",
       "    <tr>\n",
       "      <th>1</th>\n",
       "      <td>Низкая оценка</td>\n",
       "      <td>55</td>\n",
       "    </tr>\n",
       "    <tr>\n",
       "      <th>2</th>\n",
       "      <td>Средняя оценка</td>\n",
       "      <td>5421</td>\n",
       "    </tr>\n",
       "  </tbody>\n",
       "</table>\n",
       "</div>"
      ],
      "text/plain": [
       "  critic_group_score  name\n",
       "0     Высокая оценка  1686\n",
       "1      Низкая оценка    55\n",
       "2     Средняя оценка  5421"
      ]
     },
     "execution_count": 39,
     "metadata": {},
     "output_type": "execute_result"
    }
   ],
   "source": [
    "critic_group_score = df_actual.groupby('critic_group_score')['name'].count().reset_index()\n",
    "\n",
    "critic_group_score"
   ]
  },
  {
   "cell_type": "code",
   "execution_count": 40,
   "id": "035fb91e",
   "metadata": {},
   "outputs": [
    {
     "data": {
      "image/png": "[encoded data removed]",
      "text/plain": [
       "<Figure size 1080x432 with 1 Axes>"
      ]
     },
     "metadata": {},
     "output_type": "display_data"
    }
   ],
   "source": [
    "plt.figure(figsize= (15, 6))\n",
    "\n",
    "sns.set_style('darkgrid')\n",
    "\n",
    "sns.barplot(data= critic_group_score, x= 'name', y= 'critic_group_score', hue= 'critic_group_score')\n",
    "\n",
    "plt.title('Количество игр по оценкам критиков')\n",
    "plt.xlabel('Количество')\n",
    "plt.ylabel('Категория')\n",
    "\n",
    "plt.show()"
   ]
  },
  {
   "cell_type": "markdown",
   "id": "6a98444c",
   "metadata": {
    "id": "6a98444c"
   },
   "source": [
    "- Выделите топ-7 платформ по количеству игр, выпущенных за весь актуальный период."
   ]
  },
  {
   "cell_type": "code",
   "execution_count": 41,
   "id": "003caa2c",
   "metadata": {
    "id": "003caa2c"
   },
   "outputs": [
    {
     "data": {
      "text/html": [
       "<div>\n",
       "<style scoped>\n",
       "    .dataframe tbody tr th:only-of-type {\n",
       "        vertical-align: middle;\n",
       "    }\n",
       "\n",
       "    .dataframe tbody tr th {\n",
       "        vertical-align: top;\n",
       "    }\n",
       "\n",
       "    .dataframe thead th {\n",
       "        text-align: right;\n",
       "    }\n",
       "</style>\n",
       "<table border=\"1\" class=\"dataframe\">\n",
       "  <thead>\n",
       "    <tr style=\"text-align: right;\">\n",
       "      <th></th>\n",
       "      <th>platform</th>\n",
       "      <th>name</th>\n",
       "    </tr>\n",
       "  </thead>\n",
       "  <tbody>\n",
       "    <tr>\n",
       "      <th>0</th>\n",
       "      <td>PS2</td>\n",
       "      <td>2126</td>\n",
       "    </tr>\n",
       "    <tr>\n",
       "      <th>1</th>\n",
       "      <td>DS</td>\n",
       "      <td>2117</td>\n",
       "    </tr>\n",
       "    <tr>\n",
       "      <th>2</th>\n",
       "      <td>WII</td>\n",
       "      <td>1275</td>\n",
       "    </tr>\n",
       "    <tr>\n",
       "      <th>3</th>\n",
       "      <td>PSP</td>\n",
       "      <td>1179</td>\n",
       "    </tr>\n",
       "    <tr>\n",
       "      <th>4</th>\n",
       "      <td>X360</td>\n",
       "      <td>1118</td>\n",
       "    </tr>\n",
       "    <tr>\n",
       "      <th>5</th>\n",
       "      <td>PS3</td>\n",
       "      <td>1087</td>\n",
       "    </tr>\n",
       "    <tr>\n",
       "      <th>6</th>\n",
       "      <td>GBA</td>\n",
       "      <td>810</td>\n",
       "    </tr>\n",
       "  </tbody>\n",
       "</table>\n",
       "</div>"
      ],
      "text/plain": [
       "  platform  name\n",
       "0      PS2  2126\n",
       "1       DS  2117\n",
       "2      WII  1275\n",
       "3      PSP  1179\n",
       "4     X360  1118\n",
       "5      PS3  1087\n",
       "6      GBA   810"
      ]
     },
     "execution_count": 41,
     "metadata": {},
     "output_type": "execute_result"
    }
   ],
   "source": [
    "platform_top = df_actual.groupby('platform')['name'].count().sort_values(ascending= False).reset_index().head(7)\n",
    "\n",
    "platform_top"
   ]
  },
  {
   "cell_type": "code",
   "execution_count": 42,
   "id": "e8d8a1d0",
   "metadata": {
    "id": "e8d8a1d0"
   },
   "outputs": [
    {
     "data": {
      "image/png": "[encoded data removed]",
      "text/plain": [
       "<Figure size 1080x432 with 1 Axes>"
      ]
     },
     "metadata": {},
     "output_type": "display_data"
    }
   ],
   "source": [
    "plt.figure(figsize= (15, 6))\n",
    "\n",
    "sns.set_style('darkgrid')\n",
    "\n",
    "sns.barplot(data= platform_top, x= 'name', y= 'platform', hue= 'platform')\n",
    "\n",
    "plt.title('Топ-7 платформ по количеству игр')\n",
    "plt.xlabel('Платформа')\n",
    "plt.ylabel('Количество')\n",
    "\n",
    "plt.show()"
   ]
  },
  {
   "cell_type": "markdown",
   "id": "c0158881",
   "metadata": {
    "id": "c0158881"
   },
   "source": [
    "---\n",
    "\n",
    "## 5. Итоговый вывод\n",
    "\n",
    "В конце напишите основной вывод и отразите, какую работу проделали. Не забудьте указать описание среза данных и новых полей, которые добавили в исходный датасет."
   ]
  },
  {
   "cell_type": "markdown",
   "id": "9ffe26b2",
   "metadata": {},
   "source": [
    "<font color='#777778'>  \n",
    "В процессе подготовки данных, удаляли данные, например строки с пропусками или ошибками, дубликаты и прочее. Мы создали новый датафрейм df_actual, который содержит данные по играм за период с 2000 по 2013 год. \n",
    "\n",
    "- Очистка данных: Удалено 522 строки (примерно 3,08%) из-за несоответствия требованиям качества, таких как наличие пропусков, ошибок и дубликатов.\n",
    "- Приведение к единому формату: Все значения были переведены в нижний регистр для устранения проблем с регистрами символов.\n",
    "- Работа с пропусками: Пропуски в столбце рейтинга заменены специальными индикаторами-заглушками. Остальные удалены, принято решение, что это не повлияет на задачу.\n",
    "- Улучшение структуры: Колонки переименованы согласно общепринятым стандартам, что повысило читаемость и удобство работы с данными.\n",
    "\n",
    "Добавление новых полей:\n",
    "- user_group_score: Категоризация оценки пользователей по трём уровням: Высокая, Средняя, Низкая.\n",
    "- critic_group_score: Аналогичная категоризация оценки критиков.\n",
    "\n",
    "- Определение основных платформ: Проведён анализ по количеству выпущенных игр за период с 2000 по 2013 годы, определены топ-7 платформ.\n",
    "\n",
    "Основной вывод заключается в том, что после тщательной предобработки данных исходный датасет стал значительно чище и удобнее для дальнейшего анализа. Несмотря на удаление небольшого количества строк (около 3%), данные сохранили свою репрезентативность и структурированность. Это позволило сформировать новые категории для анализа, такие как оценка пользователей и критиков, а также провести срез данных по основным игровым платформам</font>"
   ]
  }
 ],
 "metadata": {
  "ExecuteTimeLog": [
   {
    "duration": 1208,
    "start_time": "2025-02-24T18:53:42.295Z"
   },
   {
    "duration": 231,
    "start_time": "2025-02-24T18:53:43.505Z"
   },
   {
    "duration": 18,
    "start_time": "2025-02-24T18:53:43.737Z"
   },
   {
    "duration": 43,
    "start_time": "2025-02-24T18:53:43.756Z"
   },
   {
    "duration": 5,
    "start_time": "2025-02-24T18:53:43.801Z"
   },
   {
    "duration": 17,
    "start_time": "2025-02-24T18:53:43.807Z"
   },
   {
    "duration": 6,
    "start_time": "2025-02-24T18:53:43.826Z"
   },
   {
    "duration": 87,
    "start_time": "2025-02-24T18:53:43.834Z"
   },
   {
    "duration": 11,
    "start_time": "2025-02-24T18:53:43.922Z"
   },
   {
    "duration": 21,
    "start_time": "2025-02-24T18:53:43.935Z"
   },
   {
    "duration": 5,
    "start_time": "2025-02-24T18:53:43.958Z"
   },
   {
    "duration": 200,
    "start_time": "2025-02-24T18:53:43.965Z"
   },
   {
    "duration": 188,
    "start_time": "2025-02-24T18:53:44.167Z"
   },
   {
    "duration": 14,
    "start_time": "2025-02-24T18:53:44.358Z"
   },
   {
    "duration": 23,
    "start_time": "2025-02-24T18:53:44.374Z"
   },
   {
    "duration": 6,
    "start_time": "2025-02-24T18:53:44.398Z"
   },
   {
    "duration": 14,
    "start_time": "2025-02-24T18:53:44.405Z"
   },
   {
    "duration": 55,
    "start_time": "2025-02-24T18:53:44.420Z"
   },
   {
    "duration": 3,
    "start_time": "2025-02-24T18:53:44.478Z"
   },
   {
    "duration": 15,
    "start_time": "2025-02-24T18:53:44.484Z"
   },
   {
    "duration": 23,
    "start_time": "2025-02-24T18:53:44.501Z"
   },
   {
    "duration": 7,
    "start_time": "2025-02-24T18:53:44.526Z"
   },
   {
    "duration": 34,
    "start_time": "2025-02-24T18:53:44.535Z"
   },
   {
    "duration": 16,
    "start_time": "2025-02-24T18:53:44.571Z"
   },
   {
    "duration": 16,
    "start_time": "2025-02-24T18:53:44.589Z"
   },
   {
    "duration": 21,
    "start_time": "2025-02-24T18:53:44.607Z"
   },
   {
    "duration": 329,
    "start_time": "2025-02-24T18:53:44.630Z"
   },
   {
    "duration": 11,
    "start_time": "2025-02-24T18:53:44.960Z"
   },
   {
    "duration": 284,
    "start_time": "2025-02-24T18:53:44.973Z"
   },
   {
    "duration": 13,
    "start_time": "2025-02-24T18:53:45.259Z"
   },
   {
    "duration": 561,
    "start_time": "2025-02-24T18:53:45.273Z"
   },
   {
    "duration": 33,
    "start_time": "2025-02-24T18:53:45.835Z"
   },
   {
    "duration": 19,
    "start_time": "2025-02-24T18:53:45.869Z"
   },
   {
    "duration": 7,
    "start_time": "2025-02-24T19:05:19.928Z"
   },
   {
    "duration": 17,
    "start_time": "2025-02-24T19:07:46.322Z"
   },
   {
    "duration": 1310,
    "start_time": "2025-02-24T19:08:04.077Z"
   },
   {
    "duration": 128,
    "start_time": "2025-02-24T19:08:05.389Z"
   },
   {
    "duration": 31,
    "start_time": "2025-02-24T19:08:05.519Z"
   },
   {
    "duration": 178,
    "start_time": "2025-02-24T19:08:05.552Z"
   },
   {
    "duration": 188,
    "start_time": "2025-02-24T19:08:05.732Z"
   },
   {
    "duration": 12,
    "start_time": "2025-02-24T19:08:05.921Z"
   },
   {
    "duration": 20,
    "start_time": "2025-02-24T19:08:05.935Z"
   },
   {
    "duration": 39,
    "start_time": "2025-02-24T19:08:05.957Z"
   },
   {
    "duration": 105,
    "start_time": "2025-02-24T19:08:05.998Z"
   },
   {
    "duration": 16,
    "start_time": "2025-02-24T19:08:06.105Z"
   },
   {
    "duration": 123,
    "start_time": "2025-02-24T19:08:06.122Z"
   },
   {
    "duration": 63,
    "start_time": "2025-02-24T19:08:06.246Z"
   },
   {
    "duration": 96,
    "start_time": "2025-02-24T19:08:06.311Z"
   },
   {
    "duration": 348,
    "start_time": "2025-02-24T19:08:06.410Z"
   },
   {
    "duration": 182,
    "start_time": "2025-02-24T19:08:06.760Z"
   },
   {
    "duration": 18,
    "start_time": "2025-02-24T19:08:06.944Z"
   },
   {
    "duration": 41,
    "start_time": "2025-02-24T19:08:06.964Z"
   },
   {
    "duration": 24,
    "start_time": "2025-02-24T19:08:07.007Z"
   },
   {
    "duration": 36,
    "start_time": "2025-02-24T19:08:07.033Z"
   },
   {
    "duration": 55,
    "start_time": "2025-02-24T19:08:07.071Z"
   },
   {
    "duration": 13,
    "start_time": "2025-02-24T19:08:07.128Z"
   },
   {
    "duration": 29,
    "start_time": "2025-02-24T19:08:07.143Z"
   },
   {
    "duration": 48,
    "start_time": "2025-02-24T19:08:07.174Z"
   },
   {
    "duration": 50,
    "start_time": "2025-02-24T19:08:07.224Z"
   },
   {
    "duration": 52,
    "start_time": "2025-02-24T19:08:07.276Z"
   },
   {
    "duration": 45,
    "start_time": "2025-02-24T19:08:07.329Z"
   },
   {
    "duration": 105,
    "start_time": "2025-02-24T19:08:07.375Z"
   },
   {
    "duration": 36,
    "start_time": "2025-02-24T19:08:07.482Z"
   },
   {
    "duration": 315,
    "start_time": "2025-02-24T19:08:07.520Z"
   },
   {
    "duration": 19,
    "start_time": "2025-02-24T19:08:07.837Z"
   },
   {
    "duration": 315,
    "start_time": "2025-02-24T19:08:07.858Z"
   },
   {
    "duration": 12,
    "start_time": "2025-02-24T19:08:08.175Z"
   },
   {
    "duration": 768,
    "start_time": "2025-02-24T19:08:08.189Z"
   },
   {
    "duration": 21,
    "start_time": "2025-02-24T19:08:08.959Z"
   },
   {
    "duration": 88,
    "start_time": "2025-02-24T19:08:08.982Z"
   },
   {
    "duration": 73,
    "start_time": "2025-02-24T19:11:50.031Z"
   },
   {
    "duration": 1262,
    "start_time": "2025-02-24T19:12:01.509Z"
   },
   {
    "duration": 117,
    "start_time": "2025-02-24T19:12:02.773Z"
   },
   {
    "duration": 19,
    "start_time": "2025-02-24T19:12:02.892Z"
   },
   {
    "duration": 35,
    "start_time": "2025-02-24T19:12:02.914Z"
   },
   {
    "duration": 44,
    "start_time": "2025-02-24T19:12:02.951Z"
   },
   {
    "duration": 29,
    "start_time": "2025-02-24T19:12:02.997Z"
   },
   {
    "duration": 11,
    "start_time": "2025-02-24T19:12:03.028Z"
   },
   {
    "duration": 59,
    "start_time": "2025-02-24T19:12:03.042Z"
   },
   {
    "duration": 106,
    "start_time": "2025-02-24T19:12:03.103Z"
   },
   {
    "duration": 18,
    "start_time": "2025-02-24T19:12:03.212Z"
   },
   {
    "duration": 30,
    "start_time": "2025-02-24T19:12:03.232Z"
   },
   {
    "duration": 31,
    "start_time": "2025-02-24T19:12:03.264Z"
   },
   {
    "duration": 81,
    "start_time": "2025-02-24T19:12:03.297Z"
   },
   {
    "duration": 5,
    "start_time": "2025-02-24T19:12:03.380Z"
   },
   {
    "duration": 208,
    "start_time": "2025-02-24T19:12:03.387Z"
   },
   {
    "duration": 186,
    "start_time": "2025-02-24T19:12:03.597Z"
   },
   {
    "duration": 13,
    "start_time": "2025-02-24T19:12:03.786Z"
   },
   {
    "duration": 85,
    "start_time": "2025-02-24T19:12:03.801Z"
   },
   {
    "duration": 16,
    "start_time": "2025-02-24T19:12:03.888Z"
   },
   {
    "duration": 13,
    "start_time": "2025-02-24T19:12:03.907Z"
   },
   {
    "duration": 46,
    "start_time": "2025-02-24T19:12:03.922Z"
   },
   {
    "duration": 4,
    "start_time": "2025-02-24T19:12:03.970Z"
   },
   {
    "duration": 23,
    "start_time": "2025-02-24T19:12:03.975Z"
   },
   {
    "duration": 32,
    "start_time": "2025-02-24T19:12:03.999Z"
   },
   {
    "duration": 32,
    "start_time": "2025-02-24T19:12:04.033Z"
   },
   {
    "duration": 43,
    "start_time": "2025-02-24T19:12:04.067Z"
   },
   {
    "duration": 99,
    "start_time": "2025-02-24T19:12:04.112Z"
   },
   {
    "duration": 53,
    "start_time": "2025-02-24T19:12:04.215Z"
   },
   {
    "duration": 41,
    "start_time": "2025-02-24T19:12:04.271Z"
   },
   {
    "duration": 323,
    "start_time": "2025-02-24T19:12:04.314Z"
   },
   {
    "duration": 21,
    "start_time": "2025-02-24T19:12:04.639Z"
   },
   {
    "duration": 312,
    "start_time": "2025-02-24T19:12:04.662Z"
   },
   {
    "duration": 14,
    "start_time": "2025-02-24T19:12:04.976Z"
   },
   {
    "duration": 552,
    "start_time": "2025-02-24T19:12:04.992Z"
   },
   {
    "duration": 27,
    "start_time": "2025-02-24T19:12:05.546Z"
   },
   {
    "duration": 405,
    "start_time": "2025-02-24T19:12:05.575Z"
   },
   {
    "duration": 12,
    "start_time": "2025-02-24T19:22:03.070Z"
   },
   {
    "duration": 6,
    "start_time": "2025-02-24T19:27:12.883Z"
   },
   {
    "duration": 36,
    "start_time": "2025-02-24T19:33:26.735Z"
   },
   {
    "duration": 1271,
    "start_time": "2025-02-24T19:33:43.357Z"
   },
   {
    "duration": 145,
    "start_time": "2025-02-24T19:33:44.631Z"
   },
   {
    "duration": 18,
    "start_time": "2025-02-24T19:33:44.778Z"
   },
   {
    "duration": 20,
    "start_time": "2025-02-24T19:33:44.798Z"
   },
   {
    "duration": 12,
    "start_time": "2025-02-24T19:33:44.819Z"
   },
   {
    "duration": 8,
    "start_time": "2025-02-24T19:33:44.833Z"
   },
   {
    "duration": 6,
    "start_time": "2025-02-24T19:33:44.856Z"
   },
   {
    "duration": 12,
    "start_time": "2025-02-24T19:33:44.863Z"
   },
   {
    "duration": 105,
    "start_time": "2025-02-24T19:33:44.876Z"
   },
   {
    "duration": 17,
    "start_time": "2025-02-24T19:33:44.984Z"
   },
   {
    "duration": 57,
    "start_time": "2025-02-24T19:33:45.003Z"
   },
   {
    "duration": 57,
    "start_time": "2025-02-24T19:33:45.062Z"
   },
   {
    "duration": 102,
    "start_time": "2025-02-24T19:33:45.122Z"
   },
   {
    "duration": 6,
    "start_time": "2025-02-24T19:33:45.226Z"
   },
   {
    "duration": 239,
    "start_time": "2025-02-24T19:33:45.234Z"
   },
   {
    "duration": 176,
    "start_time": "2025-02-24T19:33:45.475Z"
   },
   {
    "duration": 14,
    "start_time": "2025-02-24T19:33:45.654Z"
   },
   {
    "duration": 14,
    "start_time": "2025-02-24T19:33:45.670Z"
   },
   {
    "duration": 6,
    "start_time": "2025-02-24T19:33:45.685Z"
   },
   {
    "duration": 30,
    "start_time": "2025-02-24T19:33:45.692Z"
   },
   {
    "duration": 43,
    "start_time": "2025-02-24T19:33:45.724Z"
   },
   {
    "duration": 5,
    "start_time": "2025-02-24T19:33:45.769Z"
   },
   {
    "duration": 8,
    "start_time": "2025-02-24T19:33:45.776Z"
   },
   {
    "duration": 8,
    "start_time": "2025-02-24T19:33:45.786Z"
   },
   {
    "duration": 23,
    "start_time": "2025-02-24T19:33:45.796Z"
   },
   {
    "duration": 53,
    "start_time": "2025-02-24T19:33:45.821Z"
   },
   {
    "duration": 77,
    "start_time": "2025-02-24T19:33:45.875Z"
   },
   {
    "duration": 182,
    "start_time": "2025-02-24T19:33:45.956Z"
   },
   {
    "duration": 6,
    "start_time": "2025-02-24T19:33:46.140Z"
   },
   {
    "duration": 21,
    "start_time": "2025-02-24T19:33:46.147Z"
   },
   {
    "duration": 23,
    "start_time": "2025-02-24T19:33:46.169Z"
   },
   {
    "duration": 289,
    "start_time": "2025-02-24T19:33:46.194Z"
   },
   {
    "duration": 11,
    "start_time": "2025-02-24T19:33:46.486Z"
   },
   {
    "duration": 568,
    "start_time": "2025-02-24T19:33:46.499Z"
   },
   {
    "duration": 12,
    "start_time": "2025-02-24T19:33:47.068Z"
   },
   {
    "duration": 1042,
    "start_time": "2025-02-24T19:33:47.082Z"
   },
   {
    "duration": 21,
    "start_time": "2025-02-24T19:33:48.154Z"
   },
   {
    "duration": 19,
    "start_time": "2025-02-24T19:33:48.177Z"
   },
   {
    "duration": 1183,
    "start_time": "2025-02-26T00:46:54.492Z"
   },
   {
    "duration": 126,
    "start_time": "2025-02-26T00:46:55.677Z"
   },
   {
    "duration": 16,
    "start_time": "2025-02-26T00:46:55.804Z"
   },
   {
    "duration": 15,
    "start_time": "2025-02-26T00:46:55.822Z"
   },
   {
    "duration": 4,
    "start_time": "2025-02-26T00:46:55.839Z"
   },
   {
    "duration": 3,
    "start_time": "2025-02-26T00:46:55.845Z"
   },
   {
    "duration": 14,
    "start_time": "2025-02-26T00:46:55.850Z"
   },
   {
    "duration": 4,
    "start_time": "2025-02-26T00:46:55.865Z"
   },
   {
    "duration": 5,
    "start_time": "2025-02-26T00:46:55.871Z"
   },
   {
    "duration": 35,
    "start_time": "2025-02-26T00:46:55.877Z"
   },
   {
    "duration": 24,
    "start_time": "2025-02-26T00:46:55.914Z"
   },
   {
    "duration": 75,
    "start_time": "2025-02-26T00:46:55.940Z"
   },
   {
    "duration": 14,
    "start_time": "2025-02-26T00:46:56.016Z"
   },
   {
    "duration": 9,
    "start_time": "2025-02-26T00:46:56.034Z"
   },
   {
    "duration": 15,
    "start_time": "2025-02-26T00:46:56.044Z"
   },
   {
    "duration": 94,
    "start_time": "2025-02-26T00:46:56.062Z"
   },
   {
    "duration": 5,
    "start_time": "2025-02-26T00:46:56.157Z"
   },
   {
    "duration": 6,
    "start_time": "2025-02-26T00:46:56.163Z"
   },
   {
    "duration": 4,
    "start_time": "2025-02-26T00:46:56.171Z"
   },
   {
    "duration": 32,
    "start_time": "2025-02-26T00:46:56.177Z"
   },
   {
    "duration": 4,
    "start_time": "2025-02-26T00:46:56.211Z"
   },
   {
    "duration": 18,
    "start_time": "2025-02-26T00:46:56.216Z"
   },
   {
    "duration": 12,
    "start_time": "2025-02-26T00:46:56.236Z"
   },
   {
    "duration": 13,
    "start_time": "2025-02-26T00:46:56.250Z"
   },
   {
    "duration": 5,
    "start_time": "2025-02-26T00:46:56.265Z"
   },
   {
    "duration": 4,
    "start_time": "2025-02-26T00:46:56.272Z"
   },
   {
    "duration": 26,
    "start_time": "2025-02-26T00:46:56.309Z"
   },
   {
    "duration": 4,
    "start_time": "2025-02-26T00:46:56.336Z"
   },
   {
    "duration": 3,
    "start_time": "2025-02-26T00:46:56.342Z"
   },
   {
    "duration": 7,
    "start_time": "2025-02-26T00:46:56.347Z"
   },
   {
    "duration": 19,
    "start_time": "2025-02-26T00:46:56.356Z"
   },
   {
    "duration": 45,
    "start_time": "2025-02-26T00:46:56.377Z"
   },
   {
    "duration": 16,
    "start_time": "2025-02-26T00:46:56.424Z"
   },
   {
    "duration": 14,
    "start_time": "2025-02-26T00:46:56.442Z"
   },
   {
    "duration": 9,
    "start_time": "2025-02-26T00:46:56.457Z"
   },
   {
    "duration": 14,
    "start_time": "2025-02-26T00:46:56.467Z"
   },
   {
    "duration": 33,
    "start_time": "2025-02-26T00:46:56.482Z"
   },
   {
    "duration": 294,
    "start_time": "2025-02-26T00:46:56.517Z"
   },
   {
    "duration": 9,
    "start_time": "2025-02-26T00:46:56.813Z"
   },
   {
    "duration": 300,
    "start_time": "2025-02-26T00:46:56.823Z"
   },
   {
    "duration": 10,
    "start_time": "2025-02-26T00:46:57.126Z"
   },
   {
    "duration": 509,
    "start_time": "2025-02-26T00:46:57.137Z"
   }
  ],
  "colab": {
   "provenance": []
  },
  "kernelspec": {
   "display_name": "Python 3 (ipykernel)",
   "language": "python",
   "name": "python3"
  },
  "language_info": {
   "codemirror_mode": {
    "name": "ipython",
    "version": 3
   },
   "file_extension": ".py",
   "mimetype": "text/x-python",
   "name": "python",
   "nbconvert_exporter": "python",
   "pygments_lexer": "ipython3",
   "version": "3.9.5"
  },
  "toc": {
   "base_numbering": 1,
   "nav_menu": {},
   "number_sections": true,
   "sideBar": true,
   "skip_h1_title": true,
   "title_cell": "Table of Contents",
   "title_sidebar": "Contents",
   "toc_cell": false,
   "toc_position": {
    "height": "calc(100% - 180px)",
    "left": "10px",
    "top": "150px",
    "width": "190.943px"
   },
   "toc_section_display": true,
   "toc_window_display": true
  }
 },
 "nbformat": 4,
 "nbformat_minor": 5
}

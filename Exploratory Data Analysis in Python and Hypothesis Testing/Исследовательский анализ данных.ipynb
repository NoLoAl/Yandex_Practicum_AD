{
 "cells": [
  {
   "cell_type": "markdown",
   "id": "889b7958",
   "metadata": {},
   "source": [
    "## Исследовательский анализ данных в Python и проверка гипотез.\n",
    "\n",
    "- Автор: Смирнов Александр Викторович\n",
    "- Дата: 11.06.2025"
   ]
  },
  {
   "cell_type": "markdown",
   "id": "9664357e",
   "metadata": {},
   "source": [
    "## Цели и задачи проекта\n",
    "\n",
    "Нужно провести исследовательский анализ данных в Python, чтобы выявить инсайты об изменении пользовательских предпочтений и популярности событий осенью 2024 года, а также проверить гипотезы о разнице в поведении пользователей с мобильными и стационарными устройствами."
   ]
  },
  {
   "cell_type": "markdown",
   "id": "8bf62db1",
   "metadata": {},
   "source": [
    "## Описание данных\n",
    "\n",
    "В нашем распоряжении будут данные о бронировании билетов на сервисе Яндекс Афиша за период с 1 июня по 30 октября 2024 года.\n",
    "\n",
    "Первый датасет `orders_df` включает информацию обо всех заказах билетов, совершённых с двух типов устройств — мобильных и стационарных.\n",
    "\n",
    "Датасет содержит такие поля:\n",
    "- `order_id` — уникальный идентификатор заказа.\n",
    "- `user_id` — уникальный идентификатор пользователя.\n",
    "- `created_dt_msk` — дата создания заказа (московское время).\n",
    "- `created_ts_msk` — дата и время создания заказа (московское время).\n",
    "- `event_id` — идентификатор мероприятия из таблицы events.\n",
    "- `cinema_circuit` — сеть кинотеатров. Если не применимо, то здесь будет значение 'нет'.\n",
    "- `age_limit` — возрастное ограничение мероприятия.\n",
    "- `currency_code` — валюта оплаты, например rub для российских рублей.\n",
    "- `device_type_canonical` — тип устройства, с которого был оформлен заказ, например `mobile` для мобильных устройств, - `desktop` для стационарных.\n",
    "- `days_since_prev` — количество дней с предыдущей покупки для каждого пользователя. \n",
    "- `revenue` — выручка от заказа.\n",
    "- `service_name` — название билетного оператора.\n",
    "- `tickets_count` — количество купленных билетов.\n",
    "- `total` — общая сумма заказа.\n",
    "\n",
    "Второй датасет `events_df` содержит информацию о событиях, включая город и регион события, а также информацию о площадке проведения мероприятия.\n",
    "\n",
    "Датасет содержит такие поля:\n",
    "- `event_id` — уникальный идентификатор мероприятия.\n",
    "- `event_name` — название мероприятия. Аналог поля event_name_code из исходной базы данных.\n",
    "- `event_type_description` — описание типа мероприятия.\n",
    "- `event_type_main` — основной тип мероприятия: театральная постановка, концерт и так далее.\n",
    "- `organizers` — организаторы мероприятия.\n",
    "- `region_name` — название региона.\n",
    "- `city_name` — название города.\n",
    "- `venue_id` — уникальный идентификатор площадки.\n",
    "- `venue_name` — название площадки.\n",
    "- `venue_address` — адрес площадки.\n",
    "\n",
    "Анализ данных в предыдущей части проекта показал, что выручка от заказов представлена в двух валютах — российских рублях и казахстанских тенге. Для удобства решения было бы корректно привести данные к одной валюте, например к российским рублям. Для этого в вашем распоряжении будет датасет `tenge_df` с информацией о курсе тенге к российскому рублю за 2024 год. Значения в рублях представлено для 100 тенге. \n",
    "\n",
    "Датасет содержит такие поля:\n",
    "- `nominal` — номинал (100 тенге).\n",
    "- `data` — дата.\n",
    "- `curs` — курс тенге к рублю.\n",
    "- `cdx` — обозначение валюты (kzt).\n"
   ]
  },
  {
   "cell_type": "markdown",
   "id": "24cf3d6b",
   "metadata": {},
   "source": [
    "## Содержание проекта\n",
    "\n",
    "Проект посвящен исследованию данных о продаже билетов на культурные мероприятия. Были изучены три набора данных: информация о заказах, событиях и курсах валют. Очистка данных включала исключение аномалий и подготовку признаков для анализа. Выявлено повышение спроса на детский контент осенью, снижение цен на билеты и значительную региональную неоднородность продаж. Результаты подтверждают необходимость детального анализа региональных рынков и адаптации маркетинговых стратегий для повышения эффективности продаж.\n",
    "\n",
    "\n",
    "\n",
    "\n",
    "\n"
   ]
  },
  {
   "cell_type": "markdown",
   "id": "77c6d7fc",
   "metadata": {},
   "source": [
    "### Шаг 1. Загрузка данных и знакомство с ними\n"
   ]
  },
  {
   "cell_type": "code",
   "execution_count": 1,
   "id": "075994e7",
   "metadata": {},
   "outputs": [],
   "source": [
    "import pandas as pd\n",
    "import matplotlib.pyplot as plt\n",
    "\n",
    "from scipy.stats import ttest_ind, ttest_rel"
   ]
  },
  {
   "cell_type": "code",
   "execution_count": null,
   "id": "14dcc4f9",
   "metadata": {},
   "outputs": [],
   "source": [
    "orders_df = pd.read_csv(\"final_tickets_orders\")\n",
    "events_df = pd.read_csv(\"final_tickets_events\")\n",
    "tenge_df = pd.read_csv(\"final_tickets_tenge\")"
   ]
  },
  {
   "cell_type": "code",
   "execution_count": 3,
   "id": "1df2b023",
   "metadata": {},
   "outputs": [
    {
     "data": {
      "text/html": [
       "<div>\n",
       "<style scoped>\n",
       "    .dataframe tbody tr th:only-of-type {\n",
       "        vertical-align: middle;\n",
       "    }\n",
       "\n",
       "    .dataframe tbody tr th {\n",
       "        vertical-align: top;\n",
       "    }\n",
       "\n",
       "    .dataframe thead th {\n",
       "        text-align: right;\n",
       "    }\n",
       "</style>\n",
       "<table border=\"1\" class=\"dataframe\">\n",
       "  <thead>\n",
       "    <tr style=\"text-align: right;\">\n",
       "      <th></th>\n",
       "      <th>order_id</th>\n",
       "      <th>user_id</th>\n",
       "      <th>created_dt_msk</th>\n",
       "      <th>created_ts_msk</th>\n",
       "      <th>event_id</th>\n",
       "      <th>cinema_circuit</th>\n",
       "      <th>age_limit</th>\n",
       "      <th>currency_code</th>\n",
       "      <th>device_type_canonical</th>\n",
       "      <th>revenue</th>\n",
       "      <th>service_name</th>\n",
       "      <th>tickets_count</th>\n",
       "      <th>total</th>\n",
       "      <th>days_since_prev</th>\n",
       "    </tr>\n",
       "  </thead>\n",
       "  <tbody>\n",
       "    <tr>\n",
       "      <th>0</th>\n",
       "      <td>4359165</td>\n",
       "      <td>0002849b70a3ce2</td>\n",
       "      <td>2024-08-20</td>\n",
       "      <td>2024-08-20 16:08:03</td>\n",
       "      <td>169230</td>\n",
       "      <td>нет</td>\n",
       "      <td>16</td>\n",
       "      <td>rub</td>\n",
       "      <td>mobile</td>\n",
       "      <td>1521.94</td>\n",
       "      <td>Край билетов</td>\n",
       "      <td>4</td>\n",
       "      <td>10870.99</td>\n",
       "      <td>NaN</td>\n",
       "    </tr>\n",
       "    <tr>\n",
       "      <th>1</th>\n",
       "      <td>7965605</td>\n",
       "      <td>0005ca5e93f2cf4</td>\n",
       "      <td>2024-07-23</td>\n",
       "      <td>2024-07-23 18:36:24</td>\n",
       "      <td>237325</td>\n",
       "      <td>нет</td>\n",
       "      <td>0</td>\n",
       "      <td>rub</td>\n",
       "      <td>mobile</td>\n",
       "      <td>289.45</td>\n",
       "      <td>Мой билет</td>\n",
       "      <td>2</td>\n",
       "      <td>2067.51</td>\n",
       "      <td>NaN</td>\n",
       "    </tr>\n",
       "    <tr>\n",
       "      <th>2</th>\n",
       "      <td>7292370</td>\n",
       "      <td>0005ca5e93f2cf4</td>\n",
       "      <td>2024-10-06</td>\n",
       "      <td>2024-10-06 13:56:02</td>\n",
       "      <td>578454</td>\n",
       "      <td>нет</td>\n",
       "      <td>0</td>\n",
       "      <td>rub</td>\n",
       "      <td>mobile</td>\n",
       "      <td>1258.57</td>\n",
       "      <td>За билетом!</td>\n",
       "      <td>4</td>\n",
       "      <td>13984.16</td>\n",
       "      <td>75.0</td>\n",
       "    </tr>\n",
       "    <tr>\n",
       "      <th>3</th>\n",
       "      <td>1139875</td>\n",
       "      <td>000898990054619</td>\n",
       "      <td>2024-07-13</td>\n",
       "      <td>2024-07-13 19:40:48</td>\n",
       "      <td>387271</td>\n",
       "      <td>нет</td>\n",
       "      <td>0</td>\n",
       "      <td>rub</td>\n",
       "      <td>mobile</td>\n",
       "      <td>8.49</td>\n",
       "      <td>Лови билет!</td>\n",
       "      <td>2</td>\n",
       "      <td>212.28</td>\n",
       "      <td>NaN</td>\n",
       "    </tr>\n",
       "    <tr>\n",
       "      <th>4</th>\n",
       "      <td>972400</td>\n",
       "      <td>000898990054619</td>\n",
       "      <td>2024-10-04</td>\n",
       "      <td>2024-10-04 22:33:15</td>\n",
       "      <td>509453</td>\n",
       "      <td>нет</td>\n",
       "      <td>18</td>\n",
       "      <td>rub</td>\n",
       "      <td>mobile</td>\n",
       "      <td>1390.41</td>\n",
       "      <td>Билеты без проблем</td>\n",
       "      <td>3</td>\n",
       "      <td>10695.43</td>\n",
       "      <td>83.0</td>\n",
       "    </tr>\n",
       "  </tbody>\n",
       "</table>\n",
       "</div>"
      ],
      "text/plain": [
       "   order_id          user_id created_dt_msk       created_ts_msk  event_id  \\\n",
       "0   4359165  0002849b70a3ce2     2024-08-20  2024-08-20 16:08:03    169230   \n",
       "1   7965605  0005ca5e93f2cf4     2024-07-23  2024-07-23 18:36:24    237325   \n",
       "2   7292370  0005ca5e93f2cf4     2024-10-06  2024-10-06 13:56:02    578454   \n",
       "3   1139875  000898990054619     2024-07-13  2024-07-13 19:40:48    387271   \n",
       "4    972400  000898990054619     2024-10-04  2024-10-04 22:33:15    509453   \n",
       "\n",
       "  cinema_circuit  age_limit currency_code device_type_canonical  revenue  \\\n",
       "0            нет         16           rub                mobile  1521.94   \n",
       "1            нет          0           rub                mobile   289.45   \n",
       "2            нет          0           rub                mobile  1258.57   \n",
       "3            нет          0           rub                mobile     8.49   \n",
       "4            нет         18           rub                mobile  1390.41   \n",
       "\n",
       "         service_name  tickets_count     total  days_since_prev  \n",
       "0        Край билетов              4  10870.99              NaN  \n",
       "1           Мой билет              2   2067.51              NaN  \n",
       "2         За билетом!              4  13984.16             75.0  \n",
       "3         Лови билет!              2    212.28              NaN  \n",
       "4  Билеты без проблем              3  10695.43             83.0  "
      ]
     },
     "execution_count": 3,
     "metadata": {},
     "output_type": "execute_result"
    }
   ],
   "source": [
    "orders_df.head()"
   ]
  },
  {
   "cell_type": "code",
   "execution_count": 4,
   "id": "67bfd267",
   "metadata": {},
   "outputs": [
    {
     "name": "stdout",
     "output_type": "stream",
     "text": [
      "<class 'pandas.core.frame.DataFrame'>\n",
      "RangeIndex: 290849 entries, 0 to 290848\n",
      "Data columns (total 14 columns):\n",
      " #   Column                 Non-Null Count   Dtype  \n",
      "---  ------                 --------------   -----  \n",
      " 0   order_id               290849 non-null  int64  \n",
      " 1   user_id                290849 non-null  object \n",
      " 2   created_dt_msk         290849 non-null  object \n",
      " 3   created_ts_msk         290849 non-null  object \n",
      " 4   event_id               290849 non-null  int64  \n",
      " 5   cinema_circuit         290849 non-null  object \n",
      " 6   age_limit              290849 non-null  int64  \n",
      " 7   currency_code          290849 non-null  object \n",
      " 8   device_type_canonical  290849 non-null  object \n",
      " 9   revenue                290849 non-null  float64\n",
      " 10  service_name           290849 non-null  object \n",
      " 11  tickets_count          290849 non-null  int64  \n",
      " 12  total                  290849 non-null  float64\n",
      " 13  days_since_prev        268909 non-null  float64\n",
      "dtypes: float64(3), int64(4), object(7)\n",
      "memory usage: 31.1+ MB\n"
     ]
    }
   ],
   "source": [
    "orders_df.info()"
   ]
  },
  {
   "cell_type": "markdown",
   "id": "95f09305",
   "metadata": {},
   "source": [
    "Ознакомившись с датасетом `orders_df`, можно сказать, что данные соответствуют описанию. \n",
    "- У нас есть 290849 строк и 14 сталбцов.\n",
    "- Типы данных float64(3), int64(4), object(7).\n",
    "- Столбец `created_dt_msk` и `created_ts_msk`, нужно привести в типу дат.\n",
    "\n",
    "В остальном на первый взгляд, все хорошо."
   ]
  },
  {
   "cell_type": "code",
   "execution_count": 5,
   "id": "7c8f9e90",
   "metadata": {},
   "outputs": [
    {
     "data": {
      "text/html": [
       "<div>\n",
       "<style scoped>\n",
       "    .dataframe tbody tr th:only-of-type {\n",
       "        vertical-align: middle;\n",
       "    }\n",
       "\n",
       "    .dataframe tbody tr th {\n",
       "        vertical-align: top;\n",
       "    }\n",
       "\n",
       "    .dataframe thead th {\n",
       "        text-align: right;\n",
       "    }\n",
       "</style>\n",
       "<table border=\"1\" class=\"dataframe\">\n",
       "  <thead>\n",
       "    <tr style=\"text-align: right;\">\n",
       "      <th></th>\n",
       "      <th>event_id</th>\n",
       "      <th>event_name</th>\n",
       "      <th>event_type_description</th>\n",
       "      <th>event_type_main</th>\n",
       "      <th>organizers</th>\n",
       "      <th>region_name</th>\n",
       "      <th>city_name</th>\n",
       "      <th>city_id</th>\n",
       "      <th>venue_id</th>\n",
       "      <th>venue_name</th>\n",
       "      <th>venue_address</th>\n",
       "    </tr>\n",
       "  </thead>\n",
       "  <tbody>\n",
       "    <tr>\n",
       "      <th>0</th>\n",
       "      <td>4436</td>\n",
       "      <td>e4f26fba-da77-4c61-928a-6c3e434d793f</td>\n",
       "      <td>спектакль</td>\n",
       "      <td>театр</td>\n",
       "      <td>№4893</td>\n",
       "      <td>Североярская область</td>\n",
       "      <td>Озёрск</td>\n",
       "      <td>2</td>\n",
       "      <td>1600</td>\n",
       "      <td>Кладбище искусств \"Проблема\" и партнеры</td>\n",
       "      <td>наб. Загородная, д. 785</td>\n",
       "    </tr>\n",
       "    <tr>\n",
       "      <th>1</th>\n",
       "      <td>5785</td>\n",
       "      <td>5cc08a60-fdea-4186-9bb2-bffc3603fb77</td>\n",
       "      <td>спектакль</td>\n",
       "      <td>театр</td>\n",
       "      <td>№1931</td>\n",
       "      <td>Светополянский округ</td>\n",
       "      <td>Глиноград</td>\n",
       "      <td>54</td>\n",
       "      <td>2196</td>\n",
       "      <td>Лекции по искусству \"Свет\" Групп</td>\n",
       "      <td>ул. Ягодная, д. 942</td>\n",
       "    </tr>\n",
       "    <tr>\n",
       "      <th>2</th>\n",
       "      <td>8817</td>\n",
       "      <td>8e379a89-3a10-4811-ba06-ec22ebebe989</td>\n",
       "      <td>спектакль</td>\n",
       "      <td>театр</td>\n",
       "      <td>№4896</td>\n",
       "      <td>Североярская область</td>\n",
       "      <td>Озёрск</td>\n",
       "      <td>2</td>\n",
       "      <td>4043</td>\n",
       "      <td>Кинокомитет \"Золотая\" Инк</td>\n",
       "      <td>ш. Коммуны, д. 92 стр. 6</td>\n",
       "    </tr>\n",
       "    <tr>\n",
       "      <th>3</th>\n",
       "      <td>8849</td>\n",
       "      <td>682e3129-6a32-4952-9d8a-ef7f60d4c247</td>\n",
       "      <td>спектакль</td>\n",
       "      <td>театр</td>\n",
       "      <td>№4960</td>\n",
       "      <td>Каменевский регион</td>\n",
       "      <td>Глиногорск</td>\n",
       "      <td>213</td>\n",
       "      <td>1987</td>\n",
       "      <td>Выставка ремесел \"Свет\" Лтд</td>\n",
       "      <td>пер. Набережный, д. 35</td>\n",
       "    </tr>\n",
       "    <tr>\n",
       "      <th>4</th>\n",
       "      <td>8850</td>\n",
       "      <td>d6e99176-c77f-4af0-9222-07c571f6c624</td>\n",
       "      <td>спектакль</td>\n",
       "      <td>театр</td>\n",
       "      <td>№4770</td>\n",
       "      <td>Лесодальний край</td>\n",
       "      <td>Родниковец</td>\n",
       "      <td>55</td>\n",
       "      <td>4230</td>\n",
       "      <td>Фестивальный проект \"Листья\" Групп</td>\n",
       "      <td>пер. Проезжий, д. 9</td>\n",
       "    </tr>\n",
       "  </tbody>\n",
       "</table>\n",
       "</div>"
      ],
      "text/plain": [
       "   event_id                            event_name event_type_description  \\\n",
       "0      4436  e4f26fba-da77-4c61-928a-6c3e434d793f              спектакль   \n",
       "1      5785  5cc08a60-fdea-4186-9bb2-bffc3603fb77              спектакль   \n",
       "2      8817  8e379a89-3a10-4811-ba06-ec22ebebe989              спектакль   \n",
       "3      8849  682e3129-6a32-4952-9d8a-ef7f60d4c247              спектакль   \n",
       "4      8850  d6e99176-c77f-4af0-9222-07c571f6c624              спектакль   \n",
       "\n",
       "  event_type_main organizers           region_name   city_name  city_id  \\\n",
       "0           театр      №4893  Североярская область      Озёрск        2   \n",
       "1           театр      №1931  Светополянский округ   Глиноград       54   \n",
       "2           театр      №4896  Североярская область      Озёрск        2   \n",
       "3           театр      №4960    Каменевский регион  Глиногорск      213   \n",
       "4           театр      №4770      Лесодальний край  Родниковец       55   \n",
       "\n",
       "   venue_id                               venue_name             venue_address  \n",
       "0      1600  Кладбище искусств \"Проблема\" и партнеры   наб. Загородная, д. 785  \n",
       "1      2196         Лекции по искусству \"Свет\" Групп       ул. Ягодная, д. 942  \n",
       "2      4043                Кинокомитет \"Золотая\" Инк  ш. Коммуны, д. 92 стр. 6  \n",
       "3      1987              Выставка ремесел \"Свет\" Лтд    пер. Набережный, д. 35  \n",
       "4      4230       Фестивальный проект \"Листья\" Групп       пер. Проезжий, д. 9  "
      ]
     },
     "execution_count": 5,
     "metadata": {},
     "output_type": "execute_result"
    }
   ],
   "source": [
    "events_df.head()"
   ]
  },
  {
   "cell_type": "code",
   "execution_count": 6,
   "id": "11c59188",
   "metadata": {},
   "outputs": [
    {
     "name": "stdout",
     "output_type": "stream",
     "text": [
      "<class 'pandas.core.frame.DataFrame'>\n",
      "RangeIndex: 22427 entries, 0 to 22426\n",
      "Data columns (total 11 columns):\n",
      " #   Column                  Non-Null Count  Dtype \n",
      "---  ------                  --------------  ----- \n",
      " 0   event_id                22427 non-null  int64 \n",
      " 1   event_name              22427 non-null  object\n",
      " 2   event_type_description  22427 non-null  object\n",
      " 3   event_type_main         22427 non-null  object\n",
      " 4   organizers              22427 non-null  object\n",
      " 5   region_name             22427 non-null  object\n",
      " 6   city_name               22427 non-null  object\n",
      " 7   city_id                 22427 non-null  int64 \n",
      " 8   venue_id                22427 non-null  int64 \n",
      " 9   venue_name              22427 non-null  object\n",
      " 10  venue_address           22427 non-null  object\n",
      "dtypes: int64(3), object(8)\n",
      "memory usage: 1.9+ MB\n"
     ]
    }
   ],
   "source": [
    "events_df.info()"
   ]
  },
  {
   "cell_type": "markdown",
   "id": "c8a23d70",
   "metadata": {},
   "source": [
    "Ознакомившись с датасетом `events_df`, можно сказать, что данные соответствуют описанию. \n",
    "- У нас есть 22427 строк и 11 сталбцов.\n",
    "- Типы данных int64(3), object(8).\n",
    "\n",
    "В остальном на первый взгляд, все хорошо."
   ]
  },
  {
   "cell_type": "code",
   "execution_count": 7,
   "id": "b04ded8e",
   "metadata": {},
   "outputs": [
    {
     "data": {
      "text/html": [
       "<div>\n",
       "<style scoped>\n",
       "    .dataframe tbody tr th:only-of-type {\n",
       "        vertical-align: middle;\n",
       "    }\n",
       "\n",
       "    .dataframe tbody tr th {\n",
       "        vertical-align: top;\n",
       "    }\n",
       "\n",
       "    .dataframe thead th {\n",
       "        text-align: right;\n",
       "    }\n",
       "</style>\n",
       "<table border=\"1\" class=\"dataframe\">\n",
       "  <thead>\n",
       "    <tr style=\"text-align: right;\">\n",
       "      <th></th>\n",
       "      <th>data</th>\n",
       "      <th>nominal</th>\n",
       "      <th>curs</th>\n",
       "      <th>cdx</th>\n",
       "    </tr>\n",
       "  </thead>\n",
       "  <tbody>\n",
       "    <tr>\n",
       "      <th>0</th>\n",
       "      <td>2024-01-10</td>\n",
       "      <td>100</td>\n",
       "      <td>19.9391</td>\n",
       "      <td>kzt</td>\n",
       "    </tr>\n",
       "    <tr>\n",
       "      <th>1</th>\n",
       "      <td>2024-01-11</td>\n",
       "      <td>100</td>\n",
       "      <td>19.7255</td>\n",
       "      <td>kzt</td>\n",
       "    </tr>\n",
       "    <tr>\n",
       "      <th>2</th>\n",
       "      <td>2024-01-12</td>\n",
       "      <td>100</td>\n",
       "      <td>19.5839</td>\n",
       "      <td>kzt</td>\n",
       "    </tr>\n",
       "    <tr>\n",
       "      <th>3</th>\n",
       "      <td>2024-01-13</td>\n",
       "      <td>100</td>\n",
       "      <td>19.4501</td>\n",
       "      <td>kzt</td>\n",
       "    </tr>\n",
       "    <tr>\n",
       "      <th>4</th>\n",
       "      <td>2024-01-14</td>\n",
       "      <td>100</td>\n",
       "      <td>19.4501</td>\n",
       "      <td>kzt</td>\n",
       "    </tr>\n",
       "  </tbody>\n",
       "</table>\n",
       "</div>"
      ],
      "text/plain": [
       "         data  nominal     curs  cdx\n",
       "0  2024-01-10      100  19.9391  kzt\n",
       "1  2024-01-11      100  19.7255  kzt\n",
       "2  2024-01-12      100  19.5839  kzt\n",
       "3  2024-01-13      100  19.4501  kzt\n",
       "4  2024-01-14      100  19.4501  kzt"
      ]
     },
     "execution_count": 7,
     "metadata": {},
     "output_type": "execute_result"
    }
   ],
   "source": [
    "tenge_df.head()"
   ]
  },
  {
   "cell_type": "code",
   "execution_count": 8,
   "id": "6d749f68",
   "metadata": {},
   "outputs": [
    {
     "name": "stdout",
     "output_type": "stream",
     "text": [
      "<class 'pandas.core.frame.DataFrame'>\n",
      "RangeIndex: 357 entries, 0 to 356\n",
      "Data columns (total 4 columns):\n",
      " #   Column   Non-Null Count  Dtype  \n",
      "---  ------   --------------  -----  \n",
      " 0   data     357 non-null    object \n",
      " 1   nominal  357 non-null    int64  \n",
      " 2   curs     357 non-null    float64\n",
      " 3   cdx      357 non-null    object \n",
      "dtypes: float64(1), int64(1), object(2)\n",
      "memory usage: 11.3+ KB\n"
     ]
    }
   ],
   "source": [
    "tenge_df.info()"
   ]
  },
  {
   "cell_type": "markdown",
   "id": "6c97a470",
   "metadata": {},
   "source": [
    "Ознакомившись с датасетом `tenge_df`, можно сказать, что данные соответствуют описанию. \n",
    "- У нас есть 357 строк и 4 сталбцов.\n",
    "- Типы данных float64(1), int64(1), object(2).\n",
    "- Столбец `data`, нужно привести к типу дат\n",
    "\n",
    "В остальном на первый взгляд, все хорошо."
   ]
  },
  {
   "cell_type": "markdown",
   "id": "79ab86ac",
   "metadata": {},
   "source": [
    "### Шаг 2. Предобработка данных и подготовка их к исследованию\n"
   ]
  },
  {
   "cell_type": "code",
   "execution_count": 9,
   "id": "656dc699",
   "metadata": {},
   "outputs": [
    {
     "name": "stdout",
     "output_type": "stream",
     "text": [
      "<class 'pandas.core.frame.DataFrame'>\n",
      "Int64Index: 290611 entries, 0 to 290610\n",
      "Data columns (total 28 columns):\n",
      " #   Column                  Non-Null Count   Dtype  \n",
      "---  ------                  --------------   -----  \n",
      " 0   order_id                290611 non-null  int64  \n",
      " 1   user_id                 290611 non-null  object \n",
      " 2   created_dt_msk          290611 non-null  object \n",
      " 3   created_ts_msk          290611 non-null  object \n",
      " 4   event_id                290611 non-null  int64  \n",
      " 5   cinema_circuit          290611 non-null  object \n",
      " 6   age_limit               290611 non-null  int64  \n",
      " 7   currency_code           290611 non-null  object \n",
      " 8   device_type_canonical   290611 non-null  object \n",
      " 9   revenue                 290611 non-null  float64\n",
      " 10  service_name            290611 non-null  object \n",
      " 11  tickets_count           290611 non-null  int64  \n",
      " 12  total                   290611 non-null  float64\n",
      " 13  days_since_prev         268698 non-null  float64\n",
      " 14  event_name              290611 non-null  object \n",
      " 15  event_type_description  290611 non-null  object \n",
      " 16  event_type_main         290611 non-null  object \n",
      " 17  organizers              290611 non-null  object \n",
      " 18  region_name             290611 non-null  object \n",
      " 19  city_name               290611 non-null  object \n",
      " 20  city_id                 290611 non-null  int64  \n",
      " 21  venue_id                290611 non-null  int64  \n",
      " 22  venue_name              290611 non-null  object \n",
      " 23  venue_address           290611 non-null  object \n",
      " 24  data                    290611 non-null  object \n",
      " 25  nominal                 290611 non-null  int64  \n",
      " 26  curs                    290611 non-null  float64\n",
      " 27  cdx                     290611 non-null  object \n",
      "dtypes: float64(4), int64(7), object(17)\n",
      "memory usage: 64.3+ MB\n"
     ]
    }
   ],
   "source": [
    "# Объединим данные для удобства.\n",
    "\n",
    "df = orders_df.merge(events_df, on= 'event_id') \n",
    "df = df.merge(tenge_df, left_on= 'created_dt_msk', right_on= 'data', how= 'left')\n",
    "\n",
    "df_copy = df.copy()\n",
    "\n",
    "df.info() # Успешно объединили, можно начать предобработку."
   ]
  },
  {
   "cell_type": "code",
   "execution_count": 10,
   "id": "9e076a53",
   "metadata": {},
   "outputs": [
    {
     "data": {
      "text/html": [
       "<style  type=\"text/css\" >\n",
       "#T_d9503_row0_col0,#T_d9503_row0_col1,#T_d9503_row0_col2,#T_d9503_row1_col0,#T_d9503_row1_col1,#T_d9503_row1_col2,#T_d9503_row2_col0,#T_d9503_row2_col1,#T_d9503_row2_col2,#T_d9503_row3_col0,#T_d9503_row3_col1,#T_d9503_row3_col2,#T_d9503_row4_col0,#T_d9503_row4_col1,#T_d9503_row4_col2,#T_d9503_row5_col0,#T_d9503_row5_col1,#T_d9503_row5_col2,#T_d9503_row6_col0,#T_d9503_row6_col1,#T_d9503_row6_col2,#T_d9503_row7_col0,#T_d9503_row7_col1,#T_d9503_row7_col2,#T_d9503_row8_col0,#T_d9503_row8_col1,#T_d9503_row8_col2,#T_d9503_row9_col0,#T_d9503_row9_col1,#T_d9503_row9_col2,#T_d9503_row10_col0,#T_d9503_row10_col1,#T_d9503_row10_col2,#T_d9503_row11_col0,#T_d9503_row11_col1,#T_d9503_row11_col2,#T_d9503_row12_col0,#T_d9503_row12_col1,#T_d9503_row12_col2,#T_d9503_row13_col2,#T_d9503_row14_col0,#T_d9503_row14_col1,#T_d9503_row14_col2,#T_d9503_row15_col0,#T_d9503_row15_col1,#T_d9503_row15_col2,#T_d9503_row16_col0,#T_d9503_row16_col1,#T_d9503_row16_col2,#T_d9503_row17_col0,#T_d9503_row17_col1,#T_d9503_row17_col2,#T_d9503_row18_col0,#T_d9503_row18_col1,#T_d9503_row18_col2,#T_d9503_row19_col0,#T_d9503_row19_col1,#T_d9503_row19_col2,#T_d9503_row20_col0,#T_d9503_row20_col1,#T_d9503_row20_col2,#T_d9503_row21_col0,#T_d9503_row21_col1,#T_d9503_row21_col2,#T_d9503_row22_col0,#T_d9503_row22_col1,#T_d9503_row22_col2,#T_d9503_row23_col0,#T_d9503_row23_col1,#T_d9503_row23_col2,#T_d9503_row24_col0,#T_d9503_row24_col1,#T_d9503_row24_col2,#T_d9503_row25_col0,#T_d9503_row25_col1,#T_d9503_row25_col2,#T_d9503_row26_col0,#T_d9503_row26_col1,#T_d9503_row26_col2,#T_d9503_row27_col0,#T_d9503_row27_col1,#T_d9503_row27_col2{\n",
       "            background-color:  #3b4cc0;\n",
       "            color:  #f1f1f1;\n",
       "        }#T_d9503_row13_col0,#T_d9503_row13_col1{\n",
       "            background-color:  #b40426;\n",
       "            color:  #f1f1f1;\n",
       "        }</style><table id=\"T_d9503_\" ><thead>    <tr>        <th class=\"blank level0\" ></th>        <th class=\"col_heading level0 col0\" >Количество пропусков</th>        <th class=\"col_heading level0 col1\" >Доля пропусков</th>        <th class=\"col_heading level0 col2\" >Количество дубликатов</th>    </tr></thead><tbody>\n",
       "                <tr>\n",
       "                        <th id=\"T_d9503_level0_row0\" class=\"row_heading level0 row0\" >order_id</th>\n",
       "                        <td id=\"T_d9503_row0_col0\" class=\"data row0 col0\" >0</td>\n",
       "                        <td id=\"T_d9503_row0_col1\" class=\"data row0 col1\" >0.000000</td>\n",
       "                        <td id=\"T_d9503_row0_col2\" class=\"data row0 col2\" >0</td>\n",
       "            </tr>\n",
       "            <tr>\n",
       "                        <th id=\"T_d9503_level0_row1\" class=\"row_heading level0 row1\" >user_id</th>\n",
       "                        <td id=\"T_d9503_row1_col0\" class=\"data row1 col0\" >0</td>\n",
       "                        <td id=\"T_d9503_row1_col1\" class=\"data row1 col1\" >0.000000</td>\n",
       "                        <td id=\"T_d9503_row1_col2\" class=\"data row1 col2\" >0</td>\n",
       "            </tr>\n",
       "            <tr>\n",
       "                        <th id=\"T_d9503_level0_row2\" class=\"row_heading level0 row2\" >created_dt_msk</th>\n",
       "                        <td id=\"T_d9503_row2_col0\" class=\"data row2 col0\" >0</td>\n",
       "                        <td id=\"T_d9503_row2_col1\" class=\"data row2 col1\" >0.000000</td>\n",
       "                        <td id=\"T_d9503_row2_col2\" class=\"data row2 col2\" >0</td>\n",
       "            </tr>\n",
       "            <tr>\n",
       "                        <th id=\"T_d9503_level0_row3\" class=\"row_heading level0 row3\" >created_ts_msk</th>\n",
       "                        <td id=\"T_d9503_row3_col0\" class=\"data row3 col0\" >0</td>\n",
       "                        <td id=\"T_d9503_row3_col1\" class=\"data row3 col1\" >0.000000</td>\n",
       "                        <td id=\"T_d9503_row3_col2\" class=\"data row3 col2\" >0</td>\n",
       "            </tr>\n",
       "            <tr>\n",
       "                        <th id=\"T_d9503_level0_row4\" class=\"row_heading level0 row4\" >event_id</th>\n",
       "                        <td id=\"T_d9503_row4_col0\" class=\"data row4 col0\" >0</td>\n",
       "                        <td id=\"T_d9503_row4_col1\" class=\"data row4 col1\" >0.000000</td>\n",
       "                        <td id=\"T_d9503_row4_col2\" class=\"data row4 col2\" >0</td>\n",
       "            </tr>\n",
       "            <tr>\n",
       "                        <th id=\"T_d9503_level0_row5\" class=\"row_heading level0 row5\" >cinema_circuit</th>\n",
       "                        <td id=\"T_d9503_row5_col0\" class=\"data row5 col0\" >0</td>\n",
       "                        <td id=\"T_d9503_row5_col1\" class=\"data row5 col1\" >0.000000</td>\n",
       "                        <td id=\"T_d9503_row5_col2\" class=\"data row5 col2\" >0</td>\n",
       "            </tr>\n",
       "            <tr>\n",
       "                        <th id=\"T_d9503_level0_row6\" class=\"row_heading level0 row6\" >age_limit</th>\n",
       "                        <td id=\"T_d9503_row6_col0\" class=\"data row6 col0\" >0</td>\n",
       "                        <td id=\"T_d9503_row6_col1\" class=\"data row6 col1\" >0.000000</td>\n",
       "                        <td id=\"T_d9503_row6_col2\" class=\"data row6 col2\" >0</td>\n",
       "            </tr>\n",
       "            <tr>\n",
       "                        <th id=\"T_d9503_level0_row7\" class=\"row_heading level0 row7\" >currency_code</th>\n",
       "                        <td id=\"T_d9503_row7_col0\" class=\"data row7 col0\" >0</td>\n",
       "                        <td id=\"T_d9503_row7_col1\" class=\"data row7 col1\" >0.000000</td>\n",
       "                        <td id=\"T_d9503_row7_col2\" class=\"data row7 col2\" >0</td>\n",
       "            </tr>\n",
       "            <tr>\n",
       "                        <th id=\"T_d9503_level0_row8\" class=\"row_heading level0 row8\" >device_type_canonical</th>\n",
       "                        <td id=\"T_d9503_row8_col0\" class=\"data row8 col0\" >0</td>\n",
       "                        <td id=\"T_d9503_row8_col1\" class=\"data row8 col1\" >0.000000</td>\n",
       "                        <td id=\"T_d9503_row8_col2\" class=\"data row8 col2\" >0</td>\n",
       "            </tr>\n",
       "            <tr>\n",
       "                        <th id=\"T_d9503_level0_row9\" class=\"row_heading level0 row9\" >revenue</th>\n",
       "                        <td id=\"T_d9503_row9_col0\" class=\"data row9 col0\" >0</td>\n",
       "                        <td id=\"T_d9503_row9_col1\" class=\"data row9 col1\" >0.000000</td>\n",
       "                        <td id=\"T_d9503_row9_col2\" class=\"data row9 col2\" >0</td>\n",
       "            </tr>\n",
       "            <tr>\n",
       "                        <th id=\"T_d9503_level0_row10\" class=\"row_heading level0 row10\" >service_name</th>\n",
       "                        <td id=\"T_d9503_row10_col0\" class=\"data row10 col0\" >0</td>\n",
       "                        <td id=\"T_d9503_row10_col1\" class=\"data row10 col1\" >0.000000</td>\n",
       "                        <td id=\"T_d9503_row10_col2\" class=\"data row10 col2\" >0</td>\n",
       "            </tr>\n",
       "            <tr>\n",
       "                        <th id=\"T_d9503_level0_row11\" class=\"row_heading level0 row11\" >tickets_count</th>\n",
       "                        <td id=\"T_d9503_row11_col0\" class=\"data row11 col0\" >0</td>\n",
       "                        <td id=\"T_d9503_row11_col1\" class=\"data row11 col1\" >0.000000</td>\n",
       "                        <td id=\"T_d9503_row11_col2\" class=\"data row11 col2\" >0</td>\n",
       "            </tr>\n",
       "            <tr>\n",
       "                        <th id=\"T_d9503_level0_row12\" class=\"row_heading level0 row12\" >total</th>\n",
       "                        <td id=\"T_d9503_row12_col0\" class=\"data row12 col0\" >0</td>\n",
       "                        <td id=\"T_d9503_row12_col1\" class=\"data row12 col1\" >0.000000</td>\n",
       "                        <td id=\"T_d9503_row12_col2\" class=\"data row12 col2\" >0</td>\n",
       "            </tr>\n",
       "            <tr>\n",
       "                        <th id=\"T_d9503_level0_row13\" class=\"row_heading level0 row13\" >days_since_prev</th>\n",
       "                        <td id=\"T_d9503_row13_col0\" class=\"data row13 col0\" >21913</td>\n",
       "                        <td id=\"T_d9503_row13_col1\" class=\"data row13 col1\" >0.075400</td>\n",
       "                        <td id=\"T_d9503_row13_col2\" class=\"data row13 col2\" >0</td>\n",
       "            </tr>\n",
       "            <tr>\n",
       "                        <th id=\"T_d9503_level0_row14\" class=\"row_heading level0 row14\" >event_name</th>\n",
       "                        <td id=\"T_d9503_row14_col0\" class=\"data row14 col0\" >0</td>\n",
       "                        <td id=\"T_d9503_row14_col1\" class=\"data row14 col1\" >0.000000</td>\n",
       "                        <td id=\"T_d9503_row14_col2\" class=\"data row14 col2\" >0</td>\n",
       "            </tr>\n",
       "            <tr>\n",
       "                        <th id=\"T_d9503_level0_row15\" class=\"row_heading level0 row15\" >event_type_description</th>\n",
       "                        <td id=\"T_d9503_row15_col0\" class=\"data row15 col0\" >0</td>\n",
       "                        <td id=\"T_d9503_row15_col1\" class=\"data row15 col1\" >0.000000</td>\n",
       "                        <td id=\"T_d9503_row15_col2\" class=\"data row15 col2\" >0</td>\n",
       "            </tr>\n",
       "            <tr>\n",
       "                        <th id=\"T_d9503_level0_row16\" class=\"row_heading level0 row16\" >event_type_main</th>\n",
       "                        <td id=\"T_d9503_row16_col0\" class=\"data row16 col0\" >0</td>\n",
       "                        <td id=\"T_d9503_row16_col1\" class=\"data row16 col1\" >0.000000</td>\n",
       "                        <td id=\"T_d9503_row16_col2\" class=\"data row16 col2\" >0</td>\n",
       "            </tr>\n",
       "            <tr>\n",
       "                        <th id=\"T_d9503_level0_row17\" class=\"row_heading level0 row17\" >organizers</th>\n",
       "                        <td id=\"T_d9503_row17_col0\" class=\"data row17 col0\" >0</td>\n",
       "                        <td id=\"T_d9503_row17_col1\" class=\"data row17 col1\" >0.000000</td>\n",
       "                        <td id=\"T_d9503_row17_col2\" class=\"data row17 col2\" >0</td>\n",
       "            </tr>\n",
       "            <tr>\n",
       "                        <th id=\"T_d9503_level0_row18\" class=\"row_heading level0 row18\" >region_name</th>\n",
       "                        <td id=\"T_d9503_row18_col0\" class=\"data row18 col0\" >0</td>\n",
       "                        <td id=\"T_d9503_row18_col1\" class=\"data row18 col1\" >0.000000</td>\n",
       "                        <td id=\"T_d9503_row18_col2\" class=\"data row18 col2\" >0</td>\n",
       "            </tr>\n",
       "            <tr>\n",
       "                        <th id=\"T_d9503_level0_row19\" class=\"row_heading level0 row19\" >city_name</th>\n",
       "                        <td id=\"T_d9503_row19_col0\" class=\"data row19 col0\" >0</td>\n",
       "                        <td id=\"T_d9503_row19_col1\" class=\"data row19 col1\" >0.000000</td>\n",
       "                        <td id=\"T_d9503_row19_col2\" class=\"data row19 col2\" >0</td>\n",
       "            </tr>\n",
       "            <tr>\n",
       "                        <th id=\"T_d9503_level0_row20\" class=\"row_heading level0 row20\" >city_id</th>\n",
       "                        <td id=\"T_d9503_row20_col0\" class=\"data row20 col0\" >0</td>\n",
       "                        <td id=\"T_d9503_row20_col1\" class=\"data row20 col1\" >0.000000</td>\n",
       "                        <td id=\"T_d9503_row20_col2\" class=\"data row20 col2\" >0</td>\n",
       "            </tr>\n",
       "            <tr>\n",
       "                        <th id=\"T_d9503_level0_row21\" class=\"row_heading level0 row21\" >venue_id</th>\n",
       "                        <td id=\"T_d9503_row21_col0\" class=\"data row21 col0\" >0</td>\n",
       "                        <td id=\"T_d9503_row21_col1\" class=\"data row21 col1\" >0.000000</td>\n",
       "                        <td id=\"T_d9503_row21_col2\" class=\"data row21 col2\" >0</td>\n",
       "            </tr>\n",
       "            <tr>\n",
       "                        <th id=\"T_d9503_level0_row22\" class=\"row_heading level0 row22\" >venue_name</th>\n",
       "                        <td id=\"T_d9503_row22_col0\" class=\"data row22 col0\" >0</td>\n",
       "                        <td id=\"T_d9503_row22_col1\" class=\"data row22 col1\" >0.000000</td>\n",
       "                        <td id=\"T_d9503_row22_col2\" class=\"data row22 col2\" >0</td>\n",
       "            </tr>\n",
       "            <tr>\n",
       "                        <th id=\"T_d9503_level0_row23\" class=\"row_heading level0 row23\" >venue_address</th>\n",
       "                        <td id=\"T_d9503_row23_col0\" class=\"data row23 col0\" >0</td>\n",
       "                        <td id=\"T_d9503_row23_col1\" class=\"data row23 col1\" >0.000000</td>\n",
       "                        <td id=\"T_d9503_row23_col2\" class=\"data row23 col2\" >0</td>\n",
       "            </tr>\n",
       "            <tr>\n",
       "                        <th id=\"T_d9503_level0_row24\" class=\"row_heading level0 row24\" >data</th>\n",
       "                        <td id=\"T_d9503_row24_col0\" class=\"data row24 col0\" >0</td>\n",
       "                        <td id=\"T_d9503_row24_col1\" class=\"data row24 col1\" >0.000000</td>\n",
       "                        <td id=\"T_d9503_row24_col2\" class=\"data row24 col2\" >0</td>\n",
       "            </tr>\n",
       "            <tr>\n",
       "                        <th id=\"T_d9503_level0_row25\" class=\"row_heading level0 row25\" >nominal</th>\n",
       "                        <td id=\"T_d9503_row25_col0\" class=\"data row25 col0\" >0</td>\n",
       "                        <td id=\"T_d9503_row25_col1\" class=\"data row25 col1\" >0.000000</td>\n",
       "                        <td id=\"T_d9503_row25_col2\" class=\"data row25 col2\" >0</td>\n",
       "            </tr>\n",
       "            <tr>\n",
       "                        <th id=\"T_d9503_level0_row26\" class=\"row_heading level0 row26\" >curs</th>\n",
       "                        <td id=\"T_d9503_row26_col0\" class=\"data row26 col0\" >0</td>\n",
       "                        <td id=\"T_d9503_row26_col1\" class=\"data row26 col1\" >0.000000</td>\n",
       "                        <td id=\"T_d9503_row26_col2\" class=\"data row26 col2\" >0</td>\n",
       "            </tr>\n",
       "            <tr>\n",
       "                        <th id=\"T_d9503_level0_row27\" class=\"row_heading level0 row27\" >cdx</th>\n",
       "                        <td id=\"T_d9503_row27_col0\" class=\"data row27 col0\" >0</td>\n",
       "                        <td id=\"T_d9503_row27_col1\" class=\"data row27 col1\" >0.000000</td>\n",
       "                        <td id=\"T_d9503_row27_col2\" class=\"data row27 col2\" >0</td>\n",
       "            </tr>\n",
       "    </tbody></table>"
      ],
      "text/plain": [
       "<pandas.io.formats.style.Styler at 0x7f4eefe1ca90>"
      ]
     },
     "execution_count": 10,
     "metadata": {},
     "output_type": "execute_result"
    }
   ],
   "source": [
    "(pd.DataFrame({'Количество пропусков': df.isnull().sum(), \n",
    "               'Доля пропусков': df.isnull().mean().round(4), \n",
    "               'Количество дубликатов': df.duplicated().sum()}).style.background_gradient(cmap='coolwarm'))\n",
    "# Проверим датасет на пропуски и дубликаты."
   ]
  },
  {
   "cell_type": "markdown",
   "id": "df263656",
   "metadata": {},
   "source": [
    "Выгрузка данных из SQL была успешной. Кроме столбца `days_since_prev`, данные не должны содержать пропусков. Также нет явных дубликатов."
   ]
  },
  {
   "cell_type": "code",
   "execution_count": 11,
   "id": "358736a3",
   "metadata": {},
   "outputs": [
    {
     "name": "stdout",
     "output_type": "stream",
     "text": [
      "['нет' 'Другое' 'КиноСити' 'Киномакс' 'Москино' 'ЦентрФильм']\n",
      "[16  0 18 12  6] 5\n",
      "['rub' 'kzt']\n",
      "['mobile' 'desktop']\n",
      "['спектакль' 'событие' 'цирковое шоу' 'выставка' 'шоу' 'концерт' 'спорт'\n",
      " 'мюзикл' 'фестиваль' 'ёлка' 'балет' 'спортивное мероприятие' 'опера'\n",
      " 'музыкальный спектакль' 'кукольный спектакль' 'оперетта' 'снегурочка'\n",
      " 'рок-мюзикл' 'экскурсия' 'подарок']\n",
      "['театр' 'выставки' 'другое' 'стендап' 'концерты' 'спорт' 'ёлки']\n",
      "['Каменевский регион' 'Североярская область' 'Озернинский край'\n",
      " 'Лугоградская область' 'Поленовский край' 'Широковская область'\n",
      " 'Медовская область' 'Златопольский округ' 'Малиновоярский округ'\n",
      " 'Яблоневская область' 'Ветренский регион' 'Боровлянский край'\n",
      " 'Крутоводская область' 'Ягодиновская область' 'Серебряноярский округ'\n",
      " 'Лесодальний край' 'Верхоречная область' 'Горицветская область'\n",
      " 'Речиновская область' 'Травиницкий округ' 'Сосновская область'\n",
      " 'Серебринская область' 'Травяная область' 'Каменноярский край'\n",
      " 'Солнечноземская область' 'Светополянский округ' 'Заречная область'\n",
      " 'Ручейковский край' 'Глиногорская область' 'Тепляковская область'\n",
      " 'Каменноозёрный край' 'Солнечнореченская область' 'Зоринский регион'\n",
      " 'Берёзовская область' 'Лесостепной край' 'Малиновая область'\n",
      " 'Синегорский регион' 'Луговая область' 'Шанырский регион'\n",
      " 'Каменополянский округ' 'Речицкая область' 'Горностепной регион'\n",
      " 'Речицкий регион' 'Золотоключевской край' 'Лесоярская область'\n",
      " 'Зеленоградский округ' 'Миропольская область' 'Дальнеземская область'\n",
      " 'Озернопольская область' 'Берестовский округ' 'Ключеводский округ'\n",
      " 'Нежинская область' 'Дальнезорский край' 'Вишнёвский край'\n",
      " 'Каменичская область' 'Голубевский округ' 'Тихогорская область'\n",
      " 'Крутоводский регион' 'Чистогорская область' 'Североозёрский округ'\n",
      " 'Тихолесский край' 'Кристальная область' 'Горноземский регион'\n",
      " 'Радужнопольский край' 'Белоярская область' 'Островная область'\n",
      " 'Тихореченская область' 'Кристаловская область' 'Яснопольский округ'\n",
      " 'Островогорский округ' 'Радужногорская область' 'Дубравная область'\n",
      " 'Залесский край' 'Североключевской округ' 'Верховинская область'\n",
      " 'Светолесский край' 'Сосноводолинская область' 'Верхозёрский край'\n",
      " 'Лесноярский край' 'Теплоозёрский округ' 'Лесополянская область']\n",
      "['Край билетов' 'Мой билет' 'За билетом!' 'Лови билет!'\n",
      " 'Билеты без проблем' 'Билеты в руки' 'Облачко' 'Дом культуры'\n",
      " 'Весь в билетах' 'Лучшие билеты' 'Прачечная' 'Выступления.ру' 'Мир касс'\n",
      " 'Тебе билет!' 'Быстробилет' 'Яблоко' 'Show_ticket'\n",
      " 'Городской дом культуры' 'Билет по телефону' 'Crazy ticket!' 'Росбилет'\n",
      " 'Шоу начинается!' 'Цвет и билет' 'Быстрый кассир' 'Восьмёрка' 'Телебилет'\n",
      " 'Реестр' 'КарандашРУ' 'Радио ticket' 'Дырокол' 'Вперёд!' 'Кино билет'\n",
      " 'Зе Бест!' 'Тех билет' 'Лимоны' 'Билеты в интернете']\n",
      "['№3322' '№4850' '№1540' ... '№1161' '№3497' '№1904'] 4293\n"
     ]
    }
   ],
   "source": [
    "print(df['cinema_circuit'].unique())\n",
    "print(df['age_limit'].unique(), df['age_limit'].nunique())\n",
    "print(df['currency_code'].unique())\n",
    "print(df['device_type_canonical'].unique())\n",
    "print(df['event_type_description'].unique())\n",
    "print(df['event_type_main'].unique())\n",
    "print(df['region_name'].unique())\n",
    "#print(df['city_name'].unique())\n",
    "print(df['service_name'].unique())\n",
    "print(df['organizers'].unique(), df['organizers'].nunique())"
   ]
  },
  {
   "cell_type": "markdown",
   "id": "b15d26e5",
   "metadata": {},
   "source": [
    "Данные хорошо структурированы и охватывают широкий спектр категорий, что делает их полезными для глубокого анализа и сегментации аудитории. Однако стоит обратить внимание на следующие моменты:\n",
    "- Необходимо проверить наличие пропущенных или некорректных значений.\n",
    "- Географическое распределение может влиять на поведение потребителей.\n",
    "- Различные типы мероприятий привлекают разные группы населения.\n",
    "- Конкуренция между организациями может повлиять на стратегию продвижения."
   ]
  },
  {
   "cell_type": "code",
   "execution_count": 12,
   "id": "55e3eb17",
   "metadata": {},
   "outputs": [
    {
     "name": "stdout",
     "output_type": "stream",
     "text": [
      "Количество неявных дубликатов: 30\n"
     ]
    }
   ],
   "source": [
    "print(f'Количество неявных дубликатов: {df.duplicated(subset= df.columns[1:]).sum()}')"
   ]
  },
  {
   "cell_type": "code",
   "execution_count": 13,
   "id": "0dc77efe",
   "metadata": {},
   "outputs": [],
   "source": [
    "df = df.drop_duplicates(subset= df.columns[1:]).copy()"
   ]
  },
  {
   "cell_type": "markdown",
   "id": "b6866ebb",
   "metadata": {},
   "source": [
    "Удаление 30 неявных дубликатов представляется целесообразным действием, способствующим улучшению качества контента и оптимизации ресурсов."
   ]
  },
  {
   "cell_type": "markdown",
   "id": "b431ea59",
   "metadata": {},
   "source": [
    "Наши категориальные признаки готовы для дальнейшего анализа и моделирования. Неявных дубликатов нет. Важно помнить, что качество дальнейшей аналитики зависит от чистоты и правильности представленных данных.\n",
    "\n",
    "\n",
    "\n",
    "\n",
    "\n"
   ]
  },
  {
   "cell_type": "code",
   "execution_count": 14,
   "id": "d9465b65",
   "metadata": {},
   "outputs": [
    {
     "data": {
      "image/png": "[encoded data removed]",
      "text/plain": [
       "<Figure size 1080x720 with 6 Axes>"
      ]
     },
     "metadata": {
      "needs_background": "light"
     },
     "output_type": "display_data"
    }
   ],
   "source": [
    "fig, axes = plt.subplots(2, 3, figsize=(15, 10))\n",
    "\n",
    "rub = df[df['currency_code'] == 'rub'].copy()\n",
    "kzt = df[df['currency_code'] == 'kzt'].copy()\n",
    "\n",
    "rub['revenue'].hist(bins=100, ax=axes[0,0])\n",
    "\n",
    "porog_rub = rub['revenue'].quantile(0.99)\n",
    "\n",
    "axes[0,0].axvline(porog_rub, color='orange', linestyle='--', label=f'99% quantile ({porog_rub:.2f})')\n",
    "axes[0,0].set_title('Выручка в рублях (гистограмма)')\n",
    "axes[0,0].legend()\n",
    "\n",
    "rub['revenue'].plot(kind='box', ax=axes[0,1], vert=False)\n",
    "\n",
    "axes[0,1].set_title('Выручка в рублях (бокс-плот)')\n",
    "\n",
    "rub['revenue'].plot(kind='box', ax=axes[0,2], vert=False, showfliers=False)\n",
    "\n",
    "axes[0,2].set_title('Выручка в рублях (без выбросов)')\n",
    "\n",
    "kzt['revenue'].hist(bins=100, ax=axes[1,0])\n",
    "\n",
    "porog_kzt = kzt['revenue'].quantile(0.99)\n",
    "\n",
    "axes[1,0].axvline(porog_kzt, color='orange', linestyle='--', label=f'99% quantile ({porog_kzt:.2f})')\n",
    "axes[1,0].set_title('Выручка в тенге (гистограмма)')\n",
    "axes[1,0].legend()\n",
    "\n",
    "kzt['revenue'].plot(kind='box', ax=axes[1,1], vert=False)\n",
    "\n",
    "axes[1,1].set_title('Выручка в тенге (бокс-плот)')\n",
    "\n",
    "kzt['revenue'].plot(kind='box', ax=axes[1,2], vert=False, showfliers=False)\n",
    "\n",
    "axes[1,2].set_title('Выручка в тенге (без выбросов)')\n",
    "\n",
    "plt.tight_layout()\n",
    "plt.show()"
   ]
  },
  {
   "cell_type": "markdown",
   "id": "ee773f5a",
   "metadata": {},
   "source": [
    "На изображении представлены четыре графика, иллюстрирующие распределение выручки в рублях и тенге. Графики включают гистограммы, диаграммы \"ящик с усами\" и диаграммы без выбросов. \n",
    "- На гистограммах видно, что выручка в рублях имеет более широкий диапазон значений, чем выручка в тенге. \n",
    "- Диаграммы \"ящик с усами\" показывают, что присутствуют выбросы в данных по рублю и тенге. \n",
    "- Диаграммы без выбросов демонстрируют более компактное распределение данных, что может быть полезно для анализа без учета экстремальных значений.\n",
    "\n",
    "\n",
    "\n",
    "\n",
    "\n"
   ]
  },
  {
   "cell_type": "code",
   "execution_count": 15,
   "id": "b2b71fb4",
   "metadata": {},
   "outputs": [
    {
     "data": {
      "image/png": "[encoded data removed]",
      "text/plain": [
       "<Figure size 1080x360 with 3 Axes>"
      ]
     },
     "metadata": {
      "needs_background": "light"
     },
     "output_type": "display_data"
    }
   ],
   "source": [
    "fig, axes = plt.subplots(1, 3, figsize=(15, 5))\n",
    "\n",
    "df['tickets_count'].hist(bins=100, ax=axes[0])\n",
    "\n",
    "porog_rub = df['tickets_count'].quantile(0.99)\n",
    "\n",
    "axes[0].axvline(porog_rub, color='orange', linestyle='--', label=f'99% quantile ({porog_rub:.2f})')\n",
    "axes[0].set_title('Количество билетов в заказе (гистограмма)')\n",
    "axes[0].legend()\n",
    "\n",
    "df['tickets_count'].plot(kind='box', ax=axes[1], vert=False)\n",
    "\n",
    "axes[1].set_title('Количество билетов в заказе (бокс-плот)')\n",
    "\n",
    "df['tickets_count'].plot(kind='box', ax=axes[2], vert=False, showfliers=False)\n",
    "\n",
    "axes[2].set_title('Количество билетов в заказе (без выбросов)')\n",
    "\n",
    "plt.tight_layout()\n",
    "plt.show()"
   ]
  },
  {
   "cell_type": "markdown",
   "id": "17359afc",
   "metadata": {},
   "source": [
    "На изображении представлены три графика, иллюстрирующие распределение количества билетов в заказе. Графики включают гистограмму, диаграмму \"ящик с усами\" и диаграмму без выбросов. \n",
    "- На гистограмме видно, что большинство заказов содержат небольшое количество билетов, с пиком около 1-2 билетов. - Диаграмма \"ящик с усами\" показывает, что присутствуют выбросы в данных. \n",
    "- Диаграмма без выбросов демонстрирует более компактное распределение данных, что может быть полезно для анализа без учета экстремальных значений."
   ]
  },
  {
   "cell_type": "code",
   "execution_count": 16,
   "id": "40394d4f",
   "metadata": {},
   "outputs": [],
   "source": [
    "df['created_dt_msk'] = pd.to_datetime(df['created_dt_msk'])\n",
    "df['created_ts_msk'] = pd.to_datetime(df['created_ts_msk'])\n",
    "\n",
    "tenge_df['data'] = pd.to_datetime(tenge_df['data'])"
   ]
  },
  {
   "cell_type": "markdown",
   "id": "1b15bcb0",
   "metadata": {},
   "source": [
    "### Создадим несколько новых столбцов:\n",
    "\n",
    "- `revenue_rub` — приведите выручку с заказа к единой валюте — российскому рублю. Для этого используйте датасет с информацией о курсе казахстанского тенге по отношению к российскому рублю `tenge_df` за 2024 год. Значения в рублях представлены для 100 тенге.\n",
    "- `one_ticket_revenue_rub` — рассчитайте выручку с продажи одного билета на мероприятие.\n",
    "- `month` — выделите месяц оформления заказа в отдельный столбец.\n",
    "- `season` — создайте столбец с информацией о сезонности, включая такие категории, как: '`лето`', '`осень`', '`зима`', '`весна`'."
   ]
  },
  {
   "cell_type": "code",
   "execution_count": 17,
   "id": "38d05987",
   "metadata": {},
   "outputs": [],
   "source": [
    "def convert_revenue(row):\n",
    "    if row['currency_code'] == 'kzt':\n",
    "        return round((row['revenue'] / row['nominal']) * row['curs'], 2)\n",
    "    else:\n",
    "        return row['revenue']\n",
    "\n",
    "# Применение преобразования ко всему столбцу\n",
    "df['revenue_rub'] = df.apply(convert_revenue, axis=1)\n",
    "\n",
    "df = df[df['revenue_rub'] <= df['revenue_rub'].quantile(0.99)]\n",
    "df = df[df['tickets_count'] <= df['tickets_count'].quantile(0.99)]"
   ]
  },
  {
   "cell_type": "markdown",
   "id": "76ad87de",
   "metadata": {},
   "source": [
    "- Все суммы из казахских тенге были успешно переведены в рубли.\n",
    "- Значения в новом столбце 'revenue_rub' содержат итоговую выручку в российских рублях.\n",
    "- Из таблицы исключаются самые высокие значения, превышающие верхний порог в 99-м процентиле."
   ]
  },
  {
   "cell_type": "code",
   "execution_count": 18,
   "id": "2e95e3e8",
   "metadata": {},
   "outputs": [],
   "source": [
    "df['one_ticket_revenue_rub'] = round(df['revenue_rub'] / df['tickets_count'], 2)"
   ]
  },
  {
   "cell_type": "code",
   "execution_count": 19,
   "id": "74948ac3",
   "metadata": {},
   "outputs": [],
   "source": [
    "df['month'] = df['created_dt_msk'].dt.month"
   ]
  },
  {
   "cell_type": "code",
   "execution_count": 20,
   "id": "933b7429",
   "metadata": {},
   "outputs": [],
   "source": [
    "def seasons(row):\n",
    "  if row['month'] in [6, 7, 8]:\n",
    "    return 'лето'\n",
    "  if row['month'] in [12, 1, 2]:\n",
    "    return 'зима'\n",
    "  if row['month'] in [3, 4, 5]:\n",
    "    return 'весна'\n",
    "  else:\n",
    "    return 'осень'\n",
    "  \n",
    "df['season'] = df.apply(seasons, axis= 1)"
   ]
  },
  {
   "cell_type": "markdown",
   "id": "5a413a75",
   "metadata": {},
   "source": [
    "### Промежуточный вывод.\n",
    "\n",
    "Успешно завершилось объединение всех необходимых таблиц, а это значит выгрузка данных из SQL была успешной. После проверки выяснилось следующее:\n",
    "- Столбец `days_since_prev` является единственным возможным источником пропущенных данных.\n",
    "- Дублированных записей не обнаружено ни среди строк, ни среди уникальных идентификаторов.\n",
    "- Категоризованные признаки готовы для дальнейшего анализа и обработки.\n",
    "\n",
    "Был проведен визуальный анализ распределений дохода (рублей и тенге):\n",
    "- Гистограмма показала, что доход в рублях охватывает значительно больший диапазон значений по сравнению с доходом в тенге.\n",
    "- Диаграммы типа \"ящик с усами\" выявили наличие значительного числа аномалий (\"выбросов\") в обоих показателях — рубля и тенге.\n",
    "- Без учета выбросов данные становятся гораздо компактнее, облегчая дальнейший анализ.\n",
    "\n",
    "Также проанализировано распределение количества билетов в одном заказе:\n",
    "- Основная масса заказов включает всего один-два билета.\n",
    "- Присутствуют значительные выбросы в данном показателе.\n",
    "- Анализируя данные без выбросов, мы получаем более точную картину среднего размера заказа.\n",
    "\n",
    "Выполнено преобразование всех сумм из тенге в рубли:\n",
    "- Итоговая сумма в рублях теперь представлена в отдельном столбце (`revenue_rub`).\n",
    "- Экстремально большие значения (превышающие верхние 99% границ) удаляются из выборки.\n",
    "- Также, преобразовали даты к нужному типу.\n",
    "\n",
    "Расчет средней стоимости проданного билета и выделение месяца оформления заказа:\n",
    "- Создан новый столбец, отражающий стоимость отдельного билета.\n",
    "- Добавлен дополнительный столбец с категоризацией сезона («лето», «осень», «зима», «весна»).\n",
    "\n",
    "Для проверки результатов предобработки важно сравнить количество наблюдений до и после очистки данных. Вот подробный расчет:\n",
    "- Изначально было 290611 записей.\n",
    "- После удаления аномальных значений осталась 287576 записей.\n",
    "Выше отмечалось удаление значений, выходящих за пределы верхнего порога в 99-м процентиле. Также, дубликаты, пропуски и т.д.\n",
    "\n",
    "Потеря данных = 290611 − 287576 = 3035 записей\n",
    "Таким образом, в результате предобработки потеряно примерно 3035 записей (~1%), что вполне приемлемо для большинства практических задач. \n",
    "\n",
    "Это подтверждает, что действия по очистке данных оправданы и позволяют избежать влияния шумовых точек на последующие этапы анализа и моделирования. Таким образом, наши данные подготовлены для дальнейшего этапа."
   ]
  },
  {
   "cell_type": "code",
   "execution_count": 21,
   "id": "149ed2d0",
   "metadata": {},
   "outputs": [
    {
     "name": "stdout",
     "output_type": "stream",
     "text": [
      "Потеря данных = 290611 - 287576 = 3035 записей\n",
      "Таким образом, в результате предобработки потеряно примерно 3035 записей (~1.01%)\n"
     ]
    }
   ],
   "source": [
    "print(f'Потеря данных = {df_copy.shape[0]} - {df.shape[0]} = {df_copy.shape[0] - df.shape[0]} записей')\n",
    "print(f'Таким образом, в результате предобработки потеряно примерно {df_copy.shape[0] - df.shape[0]} записей (~{round(df_copy.shape[0] / df.shape[0], 2)}%)')"
   ]
  },
  {
   "cell_type": "markdown",
   "id": "35278386",
   "metadata": {},
   "source": [
    "## Шаг 3. Исследовательский анализ данных\n"
   ]
  },
  {
   "cell_type": "markdown",
   "id": "ccbfbad2",
   "metadata": {},
   "source": [
    "###  3.1. Анализ распределения заказов по сегментам и их сезонные изменения\n"
   ]
  },
  {
   "cell_type": "code",
   "execution_count": 22,
   "id": "3c6c1270",
   "metadata": {},
   "outputs": [
    {
     "data": {
      "image/png": "[encoded data removed]",
      "text/plain": [
       "<Figure size 1080x576 with 1 Axes>"
      ]
     },
     "metadata": {
      "needs_background": "light"
     },
     "output_type": "display_data"
    }
   ],
   "source": [
    "count_month = df.groupby('month', as_index= False)['order_id'].count()\n",
    "\n",
    "count_month.plot(kind= 'bar', x= 'month', y= 'order_id', figsize= (15, 8))\n",
    "\n",
    "plt.title('Количество заказов для каждого месяца')\n",
    "plt.xlabel('Месяц')\n",
    "plt.ylabel('Количество заказов')\n",
    "plt.xticks(rotation= 0)\n",
    "\n",
    "plt.show()"
   ]
  },
  {
   "cell_type": "markdown",
   "id": "84366f57",
   "metadata": {},
   "source": [
    "На графике видно, что количество заказов увеличивается от июня (6-й месяц) к ноябрю (11-й месяц) 2024 года.\n",
    "\n",
    "\n",
    "\n",
    "\n",
    "\n"
   ]
  },
  {
   "cell_type": "code",
   "execution_count": 23,
   "id": "8f7e24e4",
   "metadata": {},
   "outputs": [],
   "source": [
    "event_main = df.groupby('event_type_main', as_index= False)['order_id'].count()\n",
    "\n",
    "main_aut = df[df['season'] == 'осень'].copy()\n",
    "main_sum = df[df['season'] == 'лето'].copy()"
   ]
  },
  {
   "cell_type": "code",
   "execution_count": 24,
   "id": "b84ace18",
   "metadata": {},
   "outputs": [],
   "source": [
    "event_aut = main_aut.groupby('event_type_main', as_index= False)['order_id'].count()\n",
    "event_sum = main_sum.groupby('event_type_main', as_index= False)['order_id'].count()\n",
    "\n",
    "event_aut['shape'] = event_aut['order_id'] / event_main['order_id']\n",
    "event_sum['shape'] = event_sum['order_id'] / event_main['order_id']"
   ]
  },
  {
   "cell_type": "code",
   "execution_count": 25,
   "id": "482fde48",
   "metadata": {},
   "outputs": [
    {
     "data": {
      "image/png": "[encoded data removed]",
      "text/plain": [
       "<Figure size 1080x576 with 2 Axes>"
      ]
     },
     "metadata": {},
     "output_type": "display_data"
    }
   ],
   "source": [
    "fig, axes = plt.subplots(nrows=1, ncols=2, figsize=(15, 8))\n",
    "\n",
    "axes[0].pie(event_aut['shape'], autopct='%1.1f%%', startangle=90, labels= event_aut['event_type_main'])\n",
    "axes[0].set_title('Доля заказов билетов для мероприятий (осень)')\n",
    "\n",
    "axes[1].pie(event_sum['shape'], autopct='%1.1f%%', startangle=90, labels= event_sum['event_type_main'])\n",
    "axes[1].set_title('Доля заказов билетов для мероприятий (лето)')\n",
    "\n",
    "plt.tight_layout()\n",
    "plt.show()"
   ]
  },
  {
   "cell_type": "markdown",
   "id": "8ff51c77",
   "metadata": {},
   "source": [
    "С наступлением осени наблюдается изменение в распределении заказов билетов для различных мероприятий. \n",
    "\n",
    "\n",
    "\n",
    "\n"
   ]
  },
  {
   "cell_type": "code",
   "execution_count": 26,
   "id": "3e40a983",
   "metadata": {},
   "outputs": [],
   "source": [
    "device_aut = main_aut.groupby('device_type_canonical', as_index= False)['order_id'].count()\n",
    "device_sum = main_sum.groupby('device_type_canonical', as_index= False)['order_id'].count()\n",
    "\n",
    "device_aut['shape'] = device_aut['order_id'] / event_main['order_id']\n",
    "device_sum['shape'] = device_sum['order_id'] / event_main['order_id']"
   ]
  },
  {
   "cell_type": "code",
   "execution_count": 27,
   "id": "b114201a",
   "metadata": {},
   "outputs": [
    {
     "data": {
      "image/png": "[encoded data removed]",
      "text/plain": [
       "<Figure size 1080x576 with 2 Axes>"
      ]
     },
     "metadata": {},
     "output_type": "display_data"
    }
   ],
   "source": [
    "fig, axes = plt.subplots(nrows=1, ncols=2, figsize=(15, 8))\n",
    "\n",
    "axes[0].pie(device_aut['shape'], autopct='%1.1f%%', startangle=90, labels= device_aut['device_type_canonical'])\n",
    "axes[0].set_title('Доля заказов билетов для устройств (осень)')\n",
    "\n",
    "axes[1].pie(device_sum['shape'], autopct='%1.1f%%', startangle=90, labels= device_sum['device_type_canonical'])\n",
    "axes[1].set_title('Доля заказов билетов для устройств (лето)')\n",
    "\n",
    "plt.tight_layout()\n",
    "plt.show()"
   ]
  },
  {
   "cell_type": "markdown",
   "id": "ea8cf6ba",
   "metadata": {},
   "source": [
    "С наступлением осени наблюдается небольшое увеличение доли заказов с настольных компьютеров и соответствующее уменьшение доли заказов с мобильных устройств. Это может быть связано с тем, что осенью люди чаще работают или учатся за компьютерами, что приводит к увеличению использования настольных устройств для покупки билетов.\n",
    "\n",
    "\n",
    "\n",
    "\n",
    "\n"
   ]
  },
  {
   "cell_type": "code",
   "execution_count": 28,
   "id": "facbb7c8",
   "metadata": {},
   "outputs": [],
   "source": [
    "age_aut = main_aut.groupby('age_limit', as_index= False)['order_id'].count()\n",
    "age_sum = main_sum.groupby('age_limit', as_index= False)['order_id'].count()\n",
    "\n",
    "age_aut['shape'] = age_aut['order_id'] / event_main['order_id']\n",
    "age_sum['shape'] = age_sum['order_id'] / event_main['order_id']"
   ]
  },
  {
   "cell_type": "code",
   "execution_count": 29,
   "id": "fe8dd3dd",
   "metadata": {},
   "outputs": [
    {
     "data": {
      "image/png": "[encoded data removed]",
      "text/plain": [
       "<Figure size 1080x576 with 2 Axes>"
      ]
     },
     "metadata": {},
     "output_type": "display_data"
    }
   ],
   "source": [
    "fig, axes = plt.subplots(nrows=1, ncols=2, figsize=(15, 8))\n",
    "\n",
    "axes[0].pie(age_aut['shape'], autopct='%1.1f%%', startangle=90, labels= age_aut['age_limit'])\n",
    "axes[0].set_title('Доля заказов билетов по возрастному рейтингу (осень)')\n",
    "\n",
    "axes[1].pie(age_sum['shape'], autopct='%1.1f%%', startangle=90, labels= age_sum['age_limit'])\n",
    "axes[1].set_title('Доля заказов билетов по возрастному рейтингу (лето)')\n",
    "\n",
    "plt.tight_layout()\n",
    "plt.show()"
   ]
  },
  {
   "cell_type": "markdown",
   "id": "577a5d9c",
   "metadata": {},
   "source": [
    "С наступлением осени наблюдается значительное увеличение доли заказов в категории 0+, что может быть связано с началом учебного года и увеличением спроса на мероприятия для детей младшего возраста. В то же время, доля заказов в остальных категориях (6+, 12+, 16+, 18+) уменьшается, что может указывать на снижение интереса к мероприятиям для более старших возрастных групп в осенний период.\n",
    "\n",
    "\n",
    "\n",
    "\n",
    "\n"
   ]
  },
  {
   "cell_type": "code",
   "execution_count": 30,
   "id": "34927294",
   "metadata": {},
   "outputs": [
    {
     "data": {
      "image/png": "[encoded data removed]",
      "text/plain": [
       "<Figure size 1080x576 with 1 Axes>"
      ]
     },
     "metadata": {
      "needs_background": "light"
     },
     "output_type": "display_data"
    }
   ],
   "source": [
    "event_aut_avg = df.groupby(['season', 'event_type_main'])['one_ticket_revenue_rub'].mean().unstack()\n",
    "\n",
    "event_aut_avg.plot(kind= 'bar', figsize= (15, 8))\n",
    "\n",
    "plt.title('Среднее значение выручки с одного билета в зависимости от типа мероприятия летом и осенью')\n",
    "plt.xlabel('Период сравнения')  \n",
    "plt.ylabel('Среднее значение выручки')   \n",
    "\n",
    "plt.show()"
   ]
  },
  {
   "cell_type": "markdown",
   "id": "1d78b51d",
   "metadata": {},
   "source": [
    "С наступлением осени наблюдается небольшое снижение средней стоимости билетов на концерты и театры. Средняя стоимость билетов на другие типы мероприятий остается примерно на том же уровне.\n",
    "\n",
    "\n",
    "\n",
    "\n",
    "\n"
   ]
  },
  {
   "cell_type": "code",
   "execution_count": 31,
   "id": "c55f1a39",
   "metadata": {},
   "outputs": [
    {
     "name": "stdout",
     "output_type": "stream",
     "text": [
      "Изменение средней выручки в разрезе event_type_main между сезонами event_type_main\n",
      "выставки    0.033318\n",
      "другое     -0.020095\n",
      "концерты   -0.295771\n",
      "спорт       0.034041\n",
      "стендап     0.044368\n",
      "театр      -0.173900\n",
      "ёлки       -0.087138\n",
      "dtype: float64\n"
     ]
    }
   ],
   "source": [
    "df_seasons = df.query(\"season in ('лето', 'осень')\")\n",
    "mean_revenue = df_seasons.groupby(['event_type_main', 'season'])['revenue'].mean().reset_index()\n",
    "pivot_table = mean_revenue.pivot(index='event_type_main', columns='season', values='revenue')\n",
    "result = pivot_table['осень'] / pivot_table['лето'] - 1\n",
    "\n",
    "print(f'Изменение средней выручки в разрезе event_type_main между сезонами {result}')"
   ]
  },
  {
   "cell_type": "code",
   "execution_count": 32,
   "id": "59296a35",
   "metadata": {},
   "outputs": [
    {
     "data": {
      "image/png": "[encoded data removed]",
      "text/plain": [
       "<Figure size 1080x576 with 1 Axes>"
      ]
     },
     "metadata": {
      "needs_background": "light"
     },
     "output_type": "display_data"
    }
   ],
   "source": [
    "device_avg = df.groupby(['season', 'device_type_canonical'])['one_ticket_revenue_rub'].mean().unstack()\n",
    "\n",
    "device_avg.plot(kind= 'bar', figsize= (15, 8))\n",
    "\n",
    "plt.title('Среднее значение выручки с одного билета в зависимости от девайса, летом и осенью')\n",
    "plt.xlabel('Период сравнения')  \n",
    "plt.ylabel('Среднее значение выручки')   \n",
    "\n",
    "plt.show()"
   ]
  },
  {
   "cell_type": "markdown",
   "id": "b4570320",
   "metadata": {},
   "source": [
    "С наступлением осени наблюдается снижение средней стоимости одного билета для обоих типов устройств. Это может быть связано с различными факторами, такими как сезонные скидки, изменение спроса или предложения на билеты.\n",
    "\n",
    "\n",
    "\n",
    "\n",
    "\n"
   ]
  },
  {
   "cell_type": "code",
   "execution_count": 33,
   "id": "b4929306",
   "metadata": {},
   "outputs": [
    {
     "data": {
      "image/png": "[encoded data removed]",
      "text/plain": [
       "<Figure size 1080x576 with 1 Axes>"
      ]
     },
     "metadata": {
      "needs_background": "light"
     },
     "output_type": "display_data"
    }
   ],
   "source": [
    "age_avg = df.groupby(['season', 'age_limit'])['one_ticket_revenue_rub'].mean().unstack()\n",
    "\n",
    "age_avg.plot(kind= 'bar', figsize= (15, 8))\n",
    "\n",
    "plt.title('Среднее значение выручки с одного билета в зависимости от возрастного ограничения, летом и осенью')\n",
    "plt.xlabel('Период сравнения')  \n",
    "plt.ylabel('Среднее значение выручки')   \n",
    "\n",
    "plt.show()"
   ]
  },
  {
   "cell_type": "markdown",
   "id": "931b128e",
   "metadata": {},
   "source": [
    "С наступлением осени наблюдается общее снижение средней стоимости одного билета во всех категориях. Это может быть связано с изменением спроса на мероприятия, сезонными скидками или изменением ассортимента мероприятий.\n",
    "\n",
    "\n",
    "\n",
    "\n",
    "\n"
   ]
  },
  {
   "cell_type": "markdown",
   "id": "afb41fa5",
   "metadata": {},
   "source": [
    "Распределение заказов:\n",
    "- Наблюдается значительный рост количества заказов в категории 0+ начиная с сентября, что объясняется началом учебного года и повышенным спросом на детские мероприятия среди родителей школьников и дошкольников.\n",
    "- Доля заказов в категориях 6+, 12+, 16+ и 18+ снижается, вероятно, из-за переключения внимания аудитории на другие виды досуга и образовательных активностей.\n",
    "- Осенью растет использование компьютеров для заказа билетов, возможно, вследствие возвращения студентов и сотрудников в учебные заведения и офисы соответственно.\n",
    "- Использование мобильных устройств незначительно сокращается, что также согласуется с возвращением к привычному рабочему режиму.\n",
    "\n",
    "Средняя стоимость билетов:\n",
    "- Среднее значение цены на один билет постепенно понижается в осенний период практически во всех категориях и типах мероприятий.\n",
    "- Наиболее заметное снижение зафиксировано именно в концертной сфере и театрах, тогда как цена билетов на прочие события сохраняется почти неизменной.\n",
    "- Цена билета немного снизилась независимо от типа используемого устройства — как с мобильных телефонов, так и с настольных ПК.\n",
    "\n",
    "Осень приносит изменения в поведение потребителей при покупке билетов на культурные мероприятия:\n",
    "- Увеличение числа детских мероприятий для младших возрастов, особенно в сентябре–октябре.\n",
    "- Повышение популярности компьютеров и падение активности мобильных пользователей при заказе билетов.\n",
    "- Уменьшение средней стоимости билетов на концерты и театральные представления, вероятная причина которого кроется в снижении потребительского спроса либо целенаправленных маркетинговых акциях (например, сезонные акции).\n",
    "\n",
    "Таким образом, осень характеризуется повышенной востребованностью семейных мероприятий, падением интереса к развлекательным мероприятиям для взрослых и снижением средней стоимости билетов, преимущественно на концерты и спектакли."
   ]
  },
  {
   "cell_type": "markdown",
   "id": "d9257f14",
   "metadata": {},
   "source": [
    "### 3.2. Осенняя активность пользователей\n"
   ]
  },
  {
   "cell_type": "code",
   "execution_count": 34,
   "id": "3e57cffb",
   "metadata": {},
   "outputs": [],
   "source": [
    "main_aut_activ = main_aut.groupby('created_dt_msk', as_index= False).agg({'order_id': 'count',\n",
    "                                                                          'user_id': 'nunique',\n",
    "                                                                          'one_ticket_revenue_rub': 'mean'})\n",
    "\n",
    "main_aut_activ['avg_user'] = main_aut_activ['order_id'] / main_aut_activ['user_id']"
   ]
  },
  {
   "cell_type": "code",
   "execution_count": 35,
   "id": "444f2daf",
   "metadata": {},
   "outputs": [
    {
     "data": {
      "image/png": "[encoded data removed]",
      "text/plain": [
       "<Figure size 1080x720 with 4 Axes>"
      ]
     },
     "metadata": {
      "needs_background": "light"
     },
     "output_type": "display_data"
    }
   ],
   "source": [
    "fig, axes = plt.subplots(nrows= 2, ncols= 2, figsize= (15, 10))\n",
    "\n",
    "axes[0, 0].plot(main_aut_activ['created_dt_msk'], main_aut_activ['order_id'], marker='o', \n",
    "                                                                              linestyle='-', \n",
    "                                                                              linewidth=2)\n",
    "\n",
    "axes[0, 0].set_title('Общее число заказов по дням')\n",
    "axes[0, 0].set_ylabel('Количество заказов')\n",
    "\n",
    "axes[0, 0].grid(True)\n",
    "axes[0, 0].tick_params(axis='x', rotation=15)\n",
    "\n",
    "axes[0, 1].plot(main_aut_activ['created_dt_msk'], main_aut_activ['user_id'], marker='o', \n",
    "                                                                              linestyle='-', \n",
    "                                                                              linewidth=2)\n",
    "\n",
    "axes[0, 1].set_title('Количество активных пользователей (DAU) по дням')\n",
    "axes[0, 1].set_ylabel('Количество пользователей')\n",
    "\n",
    "axes[0, 1].grid(True)\n",
    "axes[0, 1].tick_params(axis='x', rotation=15)\n",
    "\n",
    "axes[1, 0].plot(main_aut_activ['created_dt_msk'], main_aut_activ['avg_user'], marker='o',\n",
    "                                                                              linestyle='-', \n",
    "                                                                              linewidth=2)\n",
    "\n",
    "axes[1, 0].set_title('Среднее число заказов на одного пользователя по дням')\n",
    "axes[1, 0].set_ylabel('Среднее число заказов')\n",
    "\n",
    "axes[1, 0].grid(True)\n",
    "axes[1, 0].tick_params(axis='x', rotation=15)\n",
    "\n",
    "axes[1, 1].plot(main_aut_activ['created_dt_msk'], main_aut_activ['one_ticket_revenue_rub'], marker='o',\n",
    "                                                                              linestyle='-', \n",
    "                                                                              linewidth=2)\n",
    "\n",
    "axes[1, 1].set_title('Средняя стоимости одного билета по дням')\n",
    "axes[1, 1].set_ylabel('Средняя стоимости билета')\n",
    "\n",
    "axes[1, 1].grid(True)\n",
    "axes[1, 1].tick_params(axis='x', rotation=15)\n",
    "\n",
    "plt.show()"
   ]
  },
  {
   "cell_type": "code",
   "execution_count": 36,
   "id": "86f5eb18",
   "metadata": {},
   "outputs": [],
   "source": [
    "main_aut['week'] = main_aut['created_dt_msk'].dt.day_name()\n",
    "\n",
    "main_aut_day = main_aut.groupby(main_aut['week'], as_index= False).agg({\n",
    "    'order_id': 'count',\n",
    "    'user_id': 'nunique',\n",
    "    'one_ticket_revenue_rub': 'mean'\n",
    "})\n",
    "\n",
    "main_aut_day['avg_user'] = main_aut_day['order_id'] / main_aut_day['user_id']"
   ]
  },
  {
   "cell_type": "code",
   "execution_count": 37,
   "id": "ba27e5db",
   "metadata": {},
   "outputs": [
    {
     "data": {
      "image/png": "[encoded data removed]",
      "text/plain": [
       "<Figure size 1080x720 with 4 Axes>"
      ]
     },
     "metadata": {
      "needs_background": "light"
     },
     "output_type": "display_data"
    }
   ],
   "source": [
    "fig, axes = plt.subplots(nrows= 2, ncols= 2, figsize= (15, 10))\n",
    "\n",
    "axes[0, 0].plot(main_aut_day['week'], main_aut_day['order_id'], marker='o', \n",
    "                                                                              linestyle='-', \n",
    "                                                                              linewidth=2)\n",
    "\n",
    "axes[0, 0].set_title('Общее число заказов по дням')\n",
    "axes[0, 0].set_ylabel('Количество заказов')\n",
    "\n",
    "axes[0, 0].grid(True)\n",
    "axes[0, 0].tick_params(axis='x', rotation=15)\n",
    "\n",
    "axes[0, 1].plot(main_aut_day['week'], main_aut_day['user_id'], marker='o', \n",
    "                                                                              linestyle='-', \n",
    "                                                                              linewidth=2)\n",
    "\n",
    "axes[0, 1].set_title('Количество активных пользователей (DAU) по дням')\n",
    "axes[0, 1].set_ylabel('Количество пользователей')\n",
    "\n",
    "axes[0, 1].grid(True)\n",
    "axes[0, 1].tick_params(axis='x', rotation=15)\n",
    "\n",
    "axes[1, 0].plot(main_aut_day['week'], main_aut_day['avg_user'], marker='o',\n",
    "                                                                              linestyle='-', \n",
    "                                                                              linewidth=2)\n",
    "\n",
    "axes[1, 0].set_title('Среднее число заказов на одного пользователя по дням')\n",
    "axes[1, 0].set_ylabel('Среднее число заказов')\n",
    "\n",
    "axes[1, 0].grid(True)\n",
    "axes[1, 0].tick_params(axis='x', rotation=15)\n",
    "\n",
    "axes[1, 1].plot(main_aut_day['week'], main_aut_day['one_ticket_revenue_rub'], marker='o',\n",
    "                                                                              linestyle='-', \n",
    "                                                                              linewidth=2)\n",
    "\n",
    "axes[1, 1].set_title('Средняя стоимости одного билета по дням')\n",
    "axes[1, 1].set_ylabel('Средняя стоимости билета')\n",
    "\n",
    "axes[1, 1].grid(True)\n",
    "axes[1, 1].tick_params(axis='x', rotation=15)\n",
    "\n",
    "plt.show()"
   ]
  },
  {
   "cell_type": "markdown",
   "id": "06f8de7c",
   "metadata": {},
   "source": [
    "На представленных графиках видно, что пользовательская активность имеет выраженную недельную цикличность. В будние дни наблюдается более высокая активность, чем в выходные. Это можно заметить по количеству активных пользователей (DAU), количеству заказов и средней стоимости одного билета.\n",
    "\n",
    "В частности, пик активности приходится на будние дни, что может быть связано с подготовкой к выходным и планированием поездок. В выходные дни активность снижается, что логично, так как люди чаще всего отдыхают.\n",
    "\n",
    "Таким образом, можно сделать вывод, что пользовательская активность имеет четкую недельную цикличность, с пиком в будние дни и снижением в выходные."
   ]
  },
  {
   "cell_type": "markdown",
   "id": "6eb69bf2",
   "metadata": {},
   "source": [
    "###  3.3. Популярные события и партнёры, осенний период.\n"
   ]
  },
  {
   "cell_type": "code",
   "execution_count": 38,
   "id": "c9aeb80a",
   "metadata": {},
   "outputs": [],
   "source": [
    "region_main = main_aut.groupby('region_name', as_index= False).agg({'event_id': 'nunique',\n",
    "                                             'order_id': 'count'})\n",
    "\n",
    "region_main['event_shape'] = region_main['event_id'] / df['event_id'].nunique()\n",
    "region_main['order_shape'] = region_main['order_id'] / df['order_id'].count()"
   ]
  },
  {
   "cell_type": "code",
   "execution_count": 39,
   "id": "850b401f",
   "metadata": {},
   "outputs": [],
   "source": [
    "region_main_ev = main_aut.groupby('region_name', as_index= False).agg({'event_id': 'nunique'}).sort_values(by= 'event_id', ascending= False).head(7)\n",
    "region_main_or = main_aut.groupby('region_name', as_index= False).agg({'order_id': 'count'}).sort_values(by= 'order_id', ascending= False).head(7)\n",
    "\n",
    "region_main_ev['event_shape'] = region_main['event_id'] / df['event_id'].nunique()\n",
    "region_main_or['order_shape'] = region_main['order_id'] / df['order_id'].count()\n"
   ]
  },
  {
   "cell_type": "code",
   "execution_count": 40,
   "id": "09e00dec",
   "metadata": {},
   "outputs": [
    {
     "name": "stderr",
     "output_type": "stream",
     "text": [
      "/tmp/ipykernel_89/4277260358.py:9: MatplotlibDeprecationWarning: normalize=None does not normalize if the sum is less than 1 but this behavior is deprecated since 3.3 until two minor releases later. After the deprecation period the default value will be normalize=True. To prevent normalization pass normalize=False \n",
      "  axes[0, 1].pie(region_main_ev['event_shape'], autopct='%1.1f%%', startangle=90)\n",
      "/tmp/ipykernel_89/4277260358.py:18: MatplotlibDeprecationWarning: normalize=None does not normalize if the sum is less than 1 but this behavior is deprecated since 3.3 until two minor releases later. After the deprecation period the default value will be normalize=True. To prevent normalization pass normalize=False \n",
      "  axes[1, 1].pie(region_main_or['order_shape'], autopct='%1.1f%%', startangle=90)\n"
     ]
    },
    {
     "data": {
      "image/png": "[encoded data removed]",
      "text/plain": [
       "<Figure size 1080x576 with 4 Axes>"
      ]
     },
     "metadata": {
      "needs_background": "light"
     },
     "output_type": "display_data"
    }
   ],
   "source": [
    "fig, axes = plt.subplots(nrows=2, ncols=2, figsize=(15, 8))\n",
    "\n",
    "axes[0, 0].barh(region_main_ev['region_name'], region_main_ev['event_id'].sort_values())\n",
    "axes[0, 0].set_title('Топ 7 регионов: Уникальное количество мероприятий')\n",
    "axes[0, 0].set_xlabel('Kоличество')\n",
    "axes[0, 0].set_ylabel('Регион')\n",
    "axes[0, 0].grid(True)\n",
    "\n",
    "axes[0, 1].pie(region_main_ev['event_shape'], autopct='%1.1f%%', startangle=90)\n",
    "axes[0, 1].set_title('Доля проводимых мероприятий')\n",
    "\n",
    "axes[1, 0].barh(region_main_or['region_name'], region_main_or['order_id'].sort_values())\n",
    "axes[1, 0].set_title('Топ 7 регионов: Общее число заказов')\n",
    "axes[1, 0].set_xlabel('Kоличество')\n",
    "axes[1, 0].set_ylabel('Регион')\n",
    "axes[1, 0].grid(True)\n",
    "\n",
    "axes[1, 1].pie(region_main_or['order_shape'], autopct='%1.1f%%', startangle=90)\n",
    "axes[1, 1].set_title('Доля заказов в регионе')\n",
    "\n",
    "plt.tight_layout()\n",
    "plt.show()"
   ]
  },
  {
   "cell_type": "markdown",
   "id": "ce6ee862",
   "metadata": {},
   "source": [
    "В целом, данные показывают, что Горицкая область и Малиновский округ являются ключевыми игроками в проведении мероприятий и получении заказов, в то время как остальные регионы играют менее значительную роль.\n",
    "\n",
    "\n",
    "\n",
    "\n",
    "\n",
    "\n",
    "\n",
    "\n",
    "\n",
    "\n"
   ]
  },
  {
   "cell_type": "code",
   "execution_count": 41,
   "id": "d129834b",
   "metadata": {},
   "outputs": [],
   "source": [
    "organizers_main_ev = main_aut.groupby('service_name', \n",
    "                                as_index= False)['event_id'].nunique().sort_values(by= 'event_id',\n",
    "                                                                                   ascending= False).head(7)\n",
    "organizers_main_or = main_aut.groupby('service_name', \n",
    "                                as_index= False)['order_id'].count().sort_values(by= 'order_id',\n",
    "                                                                                 ascending= False).head(7)\n",
    "organizers_main_re = main_aut.groupby('service_name', \n",
    "                                as_index= False)['revenue'].sum().sort_values(by= 'revenue',\n",
    "                                                                              ascending= False).head(7)"
   ]
  },
  {
   "cell_type": "code",
   "execution_count": 42,
   "id": "d101fdcf",
   "metadata": {},
   "outputs": [
    {
     "data": {
      "image/png": "[encoded data removed]",
      "text/plain": [
       "<Figure size 1080x576 with 1 Axes>"
      ]
     },
     "metadata": {
      "needs_background": "light"
     },
     "output_type": "display_data"
    }
   ],
   "source": [
    "plt.figure(figsize=(15, 8))\n",
    "\n",
    "plt.barh(organizers_main_ev['service_name'], organizers_main_ev['event_id'].sort_values())\n",
    "plt.title('Топ 7 организаторов: Уникальное количество мероприятий')\n",
    "plt.xlabel('Kоличество')\n",
    "plt.ylabel('Название билетного оператора')\n",
    "plt.grid(True)\n",
    "\n",
    "plt.show()"
   ]
  },
  {
   "cell_type": "markdown",
   "id": "3fee5879",
   "metadata": {},
   "source": [
    "На основе предоставленного графика можно сделать промежуточный вывод о том, что среди партнёров действительно существуют явные лидеры по количеству мероприятий. \n",
    "\n",
    "Таким образом, можно заключить, что среди партнёров есть явные лидеры, которые значительно превосходят остальных по количеству мероприятий, что может свидетельствовать о их более активной роли в организации.\n",
    "\n",
    "\n",
    "\n",
    "\n",
    "\n"
   ]
  },
  {
   "cell_type": "code",
   "execution_count": 43,
   "id": "b347a041",
   "metadata": {},
   "outputs": [
    {
     "data": {
      "image/png": "[encoded data removed]",
      "text/plain": [
       "<Figure size 1080x576 with 1 Axes>"
      ]
     },
     "metadata": {
      "needs_background": "light"
     },
     "output_type": "display_data"
    }
   ],
   "source": [
    "plt.figure(figsize=(15, 8))\n",
    "\n",
    "plt.barh(organizers_main_or['service_name'], organizers_main_or['order_id'].sort_values())\n",
    "plt.title('Топ 7 организаторов: Количество заказов')\n",
    "plt.xlabel('Kоличество')\n",
    "plt.ylabel('Название билетного оператора')\n",
    "plt.grid(True)\n",
    "\n",
    "plt.show()"
   ]
  },
  {
   "cell_type": "markdown",
   "id": "d828d88f",
   "metadata": {},
   "source": [
    "На основе предоставленного графика можно сделать вывод, что среди партнеров существует явный лидер. Партнер №5085 значительно опережает остальных по количеству заказов, что делает его явным лидером среди партнеров. Остальные партнеры имеют более близкие показатели, но значительно уступают лидеру.\n",
    "\n",
    "\n",
    "\n",
    "\n",
    "\n"
   ]
  },
  {
   "cell_type": "code",
   "execution_count": 44,
   "id": "02ba778c",
   "metadata": {},
   "outputs": [
    {
     "data": {
      "image/png": "[encoded data removed]",
      "text/plain": [
       "<Figure size 1080x576 with 1 Axes>"
      ]
     },
     "metadata": {
      "needs_background": "light"
     },
     "output_type": "display_data"
    }
   ],
   "source": [
    "plt.figure(figsize=(15, 8))\n",
    "\n",
    "plt.barh(organizers_main_re['service_name'], organizers_main_re['revenue'].sort_values())\n",
    "plt.title('Топ 7 организаторов: Выручка с заказов')\n",
    "plt.xlabel('Сумма')\n",
    "plt.ylabel('Название билетного оператора')\n",
    "\n",
    "plt.grid(True)\n",
    "\n",
    "plt.show()"
   ]
  },
  {
   "cell_type": "markdown",
   "id": "34085d9c",
   "metadata": {},
   "source": [
    "На графике видно, что среди семи организаций явно выделяется лидер — №2378, который значительно превосходит остальных по сумме выручки с заказов. Остальные организации имеют более близкие показатели, но №2378 значительно опережает их всех.\n",
    "\n",
    "\n",
    "\n",
    "\n",
    "\n"
   ]
  },
  {
   "cell_type": "markdown",
   "id": "cc2c7850",
   "metadata": {},
   "source": [
    "На основании анализа обоих графиков можно сформулировать следующие выводы:\n",
    "- Среди регионов Горицкая область и Малиновский округ занимают лидирующие позиции по числу проводимых мероприятий и полученных заказов. Это подчеркивает их ключевую роль в общей структуре региональных взаимодействий.\n",
    "- Один партнер (№2378) выступает абсолютным лидером по объёму выручки, значительно превосходя конкурентов. Несмотря на некоторое различие показателей у других партнёров, разрыв между ними и лидером особенно заметен.\n",
    "\n",
    "Таким образом, исследование подтверждает наличие значительных диспропорций как среди регионов, так и среди партнёров. Для дальнейшего исследования важно выяснить причины такой неравномерности и определить возможности выравнивания ситуации либо эффективного использования текущего расклада сил."
   ]
  },
  {
   "cell_type": "markdown",
   "id": "9a1ceb4c",
   "metadata": {},
   "source": [
    "## Шаг 4. Статистический анализ данных\n"
   ]
  },
  {
   "cell_type": "markdown",
   "id": "74d7de18",
   "metadata": {},
   "source": [
    "Гипотеза: Среднее количество заказов на одного пользователя мобильного приложения выше по сравнению с пользователями стационарных устройств.\n",
    "\n",
    "Используем t-тест для независимых выборок, чтобы проверить разницу между средними значениями двух групп. T-тест независимых выборок используется для проверки гипотезы о равенстве средних значений двух независимых групп. В данном случае мы проверяем разницу между количеством заказов (order_id) пользователей мобильных устройств (main_aut_mob) и десктопных устройств (main_aut_des). Поправка Уэлча, так как удалили выбросы при проверке.\n",
    "\n",
    "T-тест независимых выборок является одним из наиболее часто используемых статистических тестов для сравнения средних значений двух независимых групп. В нашем случае группы представляют собой пользователей мобильных и десктопных устройств. Мы хотим определить, существует ли статистически значимая разница между средним количеством заказов (order_id) для каждой из этих групп:\n",
    "\n",
    "- Нулевая гипотеза H₀: Среднее количество заказов мобильного приложения ровно или существенно не различаются, от заказов с  стационарных устройств.\n",
    "\n",
    "- Альтернативная гипотеза H₁: Среднее количество заказов на мобильных устройствах превышает среднее количество заказов на стационарных устройствах."
   ]
  },
  {
   "cell_type": "code",
   "execution_count": 45,
   "id": "a4c79e84",
   "metadata": {},
   "outputs": [],
   "source": [
    "main_aut_mob = main_aut[main_aut['device_type_canonical'] == 'mobile'].copy()\n",
    "main_aut_des = main_aut[main_aut['device_type_canonical'] == 'desktop'].copy()"
   ]
  },
  {
   "cell_type": "code",
   "execution_count": 46,
   "id": "08f1ecc8",
   "metadata": {},
   "outputs": [
    {
     "name": "stdout",
     "output_type": "stream",
     "text": [
      "Пользователи из обоих групп: 3249\n"
     ]
    }
   ],
   "source": [
    "main_set = list(set(main_aut_mob['user_id']) & set(main_aut_des['user_id']))\n",
    "\n",
    "print(f'Пользователи из обоих групп: {len(main_set)}')"
   ]
  },
  {
   "cell_type": "code",
   "execution_count": 47,
   "id": "259ec99b",
   "metadata": {},
   "outputs": [
    {
     "name": "stdout",
     "output_type": "stream",
     "text": [
      "Пользователи из обоих групп: 0\n"
     ]
    }
   ],
   "source": [
    "main_aut_mob_filter = main_aut_mob[~main_aut_mob['user_id'].isin(main_set)]\n",
    "main_aut_des_filter = main_aut_des[~main_aut_des['user_id'].isin(main_set)]\n",
    "\n",
    "main_set_filter = list(set(main_aut_mob_filter['user_id']) & set(main_aut_des_filter['user_id']))\n",
    "\n",
    "print(f'Пользователи из обоих групп: {len(main_set_filter)}')"
   ]
  },
  {
   "cell_type": "code",
   "execution_count": 48,
   "id": "ae2536f2",
   "metadata": {},
   "outputs": [
    {
     "name": "stdout",
     "output_type": "stream",
     "text": [
      "p-значение: 0.6902\n",
      "Средние количество заказов в двух выборках существенно не различаются.\n"
     ]
    }
   ],
   "source": [
    "statistic, p_value = ttest_ind(main_aut_mob_filter['order_id'], \n",
    "                               main_aut_des_filter['order_id'],alternative= 'greater', equal_var=False)\n",
    "\n",
    "print(f'p-значение: {p_value:.4f}')\n",
    "\n",
    "if p_value > 0.05:\n",
    "    print(\"Средние количество заказов в двух выборках существенно не различаются.\")\n",
    "else:\n",
    "    print(\"Есть основания считать, что средние количество заказов в двух выборках различаются.\")"
   ]
  },
  {
   "cell_type": "markdown",
   "id": "c798fd77",
   "metadata": {},
   "source": [
    "Гипотеза: Среднее время между заказами пользователей мобильных приложений выше по сравнению с пользователями стационарных устройств.\n",
    "\n",
    "Используем t-тест для независимых выборок, чтобы проверить разницу между средними значениями двух групп. T-тест независимых выборок используется для проверки гипотезы о равенстве средних значений двух независимых групп. В данном случае мы проверяем разницу между средним времемем заказов (days_since_prev) пользователей мобильных устройств (main_aut_mob) и десктопных устройств (main_aut_des).  Поправка Уэлча, так как удалили выбросы при проверке.\n",
    "\n",
    "T-тест независимых выборок является одним из наиболее часто используемых статистических тестов для сравнения средних значений двух независимых групп. В нашем случае группы представляют собой пользователей мобильных и десктопных устройств. Мы хотим определить, существует ли статистически значимая разница между средним временем заказов (days_since_prev) для каждой из этих групп:\n",
    "\n",
    "- Нулевая гипотеза H₀: Среднее время между заказами мобильного приложения ровно или существенно не различаются, от среднего времени между заказами с  стационарных устройств.\n",
    "\n",
    "- Альтернативная гипотеза H₁: Среднее  время между заказами  на мобильных устройствах превышает среднее  время между заказами  на стационарных устройствах."
   ]
  },
  {
   "cell_type": "code",
   "execution_count": 49,
   "id": "bdd40b63",
   "metadata": {},
   "outputs": [
    {
     "name": "stdout",
     "output_type": "stream",
     "text": [
      "18.17158047365877\n",
      "13.778630916108064\n"
     ]
    }
   ],
   "source": [
    "print(main_aut_des_filter['days_since_prev'].mean())\n",
    "print(main_aut_mob_filter['days_since_prev'].mean())"
   ]
  },
  {
   "cell_type": "code",
   "execution_count": 50,
   "id": "0e4b7603",
   "metadata": {},
   "outputs": [
    {
     "name": "stdout",
     "output_type": "stream",
     "text": [
      "p-значение: nan\n",
      "Есть основания считать, что время между заказами в двух выборках различаются.\n"
     ]
    }
   ],
   "source": [
    "statistic, p_value = ttest_ind(main_aut_mob_filter['days_since_prev'], \n",
    "                               main_aut_des_filter['days_since_prev'],alternative= 'greater', equal_var=False )\n",
    "\n",
    "print(f'p-значение: {p_value:.4f}')\n",
    "\n",
    "if p_value > 0.05:\n",
    "    print(\"Средние время между заказами в двух выборках существенно не различаются.\")\n",
    "else:\n",
    "    print(\"Есть основания считать, что время между заказами в двух выборках различаются.\")"
   ]
  },
  {
   "cell_type": "code",
   "execution_count": 51,
   "id": "f28b2959",
   "metadata": {},
   "outputs": [],
   "source": [
    "test_mob = main_aut_mob_filter.copy()\n",
    "test_des = main_aut_des_filter.copy()"
   ]
  },
  {
   "cell_type": "code",
   "execution_count": 52,
   "id": "5db0de0e",
   "metadata": {},
   "outputs": [],
   "source": [
    "test_mob = test_mob.dropna()\n",
    "test_des = test_des.dropna()"
   ]
  },
  {
   "cell_type": "code",
   "execution_count": 53,
   "id": "12f3cbf4",
   "metadata": {},
   "outputs": [
    {
     "name": "stdout",
     "output_type": "stream",
     "text": [
      "18.17158047365877\n",
      "13.778630916108064\n"
     ]
    }
   ],
   "source": [
    "print(test_des['days_since_prev'].mean())\n",
    "print(test_mob['days_since_prev'].mean())"
   ]
  },
  {
   "cell_type": "code",
   "execution_count": 54,
   "id": "7893a0df",
   "metadata": {},
   "outputs": [
    {
     "name": "stdout",
     "output_type": "stream",
     "text": [
      "p-значение: 1.0000\n",
      "Средние время между заказами в двух выборках существенно не различаются.\n"
     ]
    }
   ],
   "source": [
    "statistic, p_value = ttest_ind(test_mob['days_since_prev'], \n",
    "                               test_des['days_since_prev'], alternative= 'greater', equal_var=False )\n",
    "\n",
    "print(f'p-значение: {p_value:.4f}')\n",
    "\n",
    "if p_value > 0.05:\n",
    "    print(\"Средние время между заказами в двух выборках существенно не различаются.\")\n",
    "else:\n",
    "    print(\"Есть основания считать, что время между заказами в двух выборках различаются.\")"
   ]
  },
  {
   "cell_type": "markdown",
   "id": "24ee9106",
   "metadata": {},
   "source": [
    "## Шаг 5. Общий вывод и рекомендации\n"
   ]
  },
  {
   "cell_type": "markdown",
   "id": "090e70bf",
   "metadata": {},
   "source": [
    "Данные и их подготовка.\n",
    "\n",
    "Исходные данные были успешно загружены и объединены из трех источников (orders_df, events_df, tenge_df), содержащие порядка 290 тысяч записей. Проведенная очистка данных позволила устранить аномальные значения и подготовить набор для дальнейшей аналитики, потеряв лишь около 1% исходных записей (около 3 тыс.). Важнейшие шаги включали приведение типов данных к нужным формам, устранение редких выбросов и конвертацию денежных единиц.\n",
    "\n",
    "Основные результаты анализа:\n",
    "- Осенью резко возрастает спрос на семейные мероприятия для детей младшего возраста (категория 0+) благодаря началу учебного года. Популярность взрослой аудитории падает, поскольку зрители сосредотачиваются на других формах досуга вне культурных событий.\n",
    "- Средняя стоимость заметно снижается осенью, особенно на концерты и театр, что свидетельствует о возможных маркетинговых акциях или уменьшении спроса.\n",
    "- Пользовательская активность носит ярко выраженный недельный характер: наибольшее число заказов и посещаемость фиксируется в рабочие дни, что отражает тенденцию подготовки ко встречам и поездкам на выходные.\n",
    "- Лидером по числу мероприятий и заказов являются Горицкая область и Малиновский округ, демонстрируя значительное преимущество перед остальными регионами. Подобная ситуация сложилась и среди партнеров, где лидерство одного партнера (партнер №2378) очевидно выделяется.\n",
    "\n",
    "Проверка гипотез.\n",
    "\n",
    "Гипотеза: Среднее количество заказов на одного пользователя мобильного приложения выше по сравнению с пользователями стационарных устройств.\n",
    "\n",
    "Используем t-тест для независимых выборок, чтобы проверить разницу между средними значениями двух групп:\n",
    "\n",
    "- Нулевая гипотеза H₀: Среднее количество заказов мобильного приложения ровно или существенно не различаются, от заказов с  стационарных устройств.\n",
    "- Альтернативная гипотеза H₁: Среднее количество заказов на мобильных устройствах превышает среднее количество заказов на стационарных устройствах.\n",
    "\n",
    "Гипотеза о различии средних значений количества заказов подтвердилась отсутствием статистически значимых отличий (p-value = 0.6901). \n",
    "\n",
    "Гипотеза: Среднее время между заказами пользователей мобильных приложений выше по сравнению с пользователями стационарных устройств.\n",
    "\n",
    "Используем t-тест для независимых выборок, чтобы проверить разницу между средними значениями двух групп:\n",
    "\n",
    "- Нулевая гипотеза H₀: Среднее время между заказами мобильного приложения ровно или существенно не различаются, от среднего времени между заказами с  стационарных устройств.\n",
    "- Альтернативная гипотеза H₁: Среднее  время между заказами  на мобильных устройствах превышает среднее  время между заказами  на стационарных устройствах.\n",
    "\n",
    "Однако проверка на разницу во времени между заказами выявила отсутствие достаточной статистики для принятия решения (p-value = NaN).\n",
    "\n",
    "Рекомендации.\n",
    "- Необходимо углубленно изучить особенности поведения клиентов осенью, учитывая изменение спроса на различные типы мероприятий. Возможно, дополнительные промоакции для привлечения взрослого населения могли бы повысить доходы.\n",
    "- Изучение факторов, влияющих на популярность различных способов оплаты и покупку билетов (компьютер vs мобильный телефон), позволит лучше адаптироваться к предпочтениям аудитории и предложить удобные условия приобретения билетов.\n",
    "- Рекомендовано провести дополнительное изучение рынка в регионах-лидерах и партнерах, выделяя факторы успеха и применяя успешные практики на менее развитых территориях.\n",
    "- Следует уделить особое внимание результатам тестирования гипотез относительно времени между заказами, улучшив качество данных для последующих исследований.\n",
    "\n",
    "Итоги проведенного анализа показали высокую значимость понимания региональной специфики и особенностей потребительских предпочтений разных групп зрителей. Дальнейшая работа должна сосредоточиться на оптимизации стратегии маркетинга и развитии регионального присутствия, принимая во внимание выявленные закономерности покупательского поведения."
   ]
  }
 ],
 "metadata": {
  "ExecuteTimeLog": [
   {
    "duration": 1036,
    "start_time": "2025-06-14T20:06:47.779Z"
   },
   {
    "duration": 1893,
    "start_time": "2025-06-14T20:06:48.816Z"
   },
   {
    "duration": 18,
    "start_time": "2025-06-14T20:06:50.711Z"
   },
   {
    "duration": 118,
    "start_time": "2025-06-14T20:06:50.731Z"
   },
   {
    "duration": 12,
    "start_time": "2025-06-14T20:06:50.852Z"
   },
   {
    "duration": 17,
    "start_time": "2025-06-14T20:06:50.865Z"
   },
   {
    "duration": 8,
    "start_time": "2025-06-14T20:06:50.884Z"
   },
   {
    "duration": 11,
    "start_time": "2025-06-14T20:06:50.893Z"
   },
   {
    "duration": 893,
    "start_time": "2025-06-14T20:06:50.906Z"
   },
   {
    "duration": 1170,
    "start_time": "2025-06-14T20:06:51.800Z"
   },
   {
    "duration": 147,
    "start_time": "2025-06-14T20:06:52.971Z"
   },
   {
    "duration": 826,
    "start_time": "2025-06-14T20:06:53.120Z"
   },
   {
    "duration": 1475,
    "start_time": "2025-06-14T20:06:53.949Z"
   },
   {
    "duration": 789,
    "start_time": "2025-06-14T20:06:55.427Z"
   },
   {
    "duration": 278,
    "start_time": "2025-06-14T20:06:56.217Z"
   },
   {
    "duration": 4814,
    "start_time": "2025-06-14T20:06:56.497Z"
   },
   {
    "duration": 6,
    "start_time": "2025-06-14T20:07:01.313Z"
   },
   {
    "duration": 39,
    "start_time": "2025-06-14T20:07:01.320Z"
   },
   {
    "duration": 4454,
    "start_time": "2025-06-14T20:07:01.361Z"
   },
   {
    "duration": 314,
    "start_time": "2025-06-14T20:07:05.817Z"
   },
   {
    "duration": 144,
    "start_time": "2025-06-14T20:07:06.136Z"
   },
   {
    "duration": 421,
    "start_time": "2025-06-14T20:07:06.282Z"
   },
   {
    "duration": 38,
    "start_time": "2025-06-14T20:07:06.704Z"
   },
   {
    "duration": 310,
    "start_time": "2025-06-14T20:07:06.744Z"
   },
   {
    "duration": 14,
    "start_time": "2025-06-14T20:07:07.056Z"
   },
   {
    "duration": 396,
    "start_time": "2025-06-14T20:07:07.071Z"
   },
   {
    "duration": 281,
    "start_time": "2025-06-14T20:07:07.469Z"
   },
   {
    "duration": 201,
    "start_time": "2025-06-14T20:07:07.752Z"
   },
   {
    "duration": 221,
    "start_time": "2025-06-14T20:07:07.955Z"
   },
   {
    "duration": 42,
    "start_time": "2025-06-14T20:07:08.177Z"
   },
   {
    "duration": 752,
    "start_time": "2025-06-14T20:07:08.221Z"
   },
   {
    "duration": 45,
    "start_time": "2025-06-14T20:07:08.975Z"
   },
   {
    "duration": 88,
    "start_time": "2025-06-14T20:07:09.021Z"
   },
   {
    "duration": 617,
    "start_time": "2025-06-14T20:07:09.110Z"
   },
   {
    "duration": 90,
    "start_time": "2025-06-14T20:07:09.729Z"
   },
   {
    "duration": 164,
    "start_time": "2025-06-14T20:07:09.821Z"
   },
   {
    "duration": 164,
    "start_time": "2025-06-14T20:07:09.986Z"
   },
   {
    "duration": 160,
    "start_time": "2025-06-14T20:07:10.152Z"
   },
   {
    "duration": 78,
    "start_time": "2025-06-14T20:07:10.313Z"
   },
   {
    "duration": 28,
    "start_time": "2025-06-14T20:07:10.393Z"
   },
   {
    "duration": 16,
    "start_time": "2025-06-14T20:07:10.438Z"
   },
   {
    "duration": 34,
    "start_time": "2025-06-14T20:07:10.455Z"
   },
   {
    "duration": 40,
    "start_time": "2025-06-14T20:07:10.490Z"
   },
   {
    "duration": 16,
    "start_time": "2025-06-14T20:07:10.532Z"
   },
   {
    "duration": 43,
    "start_time": "2025-06-14T20:07:10.549Z"
   },
   {
    "duration": 4,
    "start_time": "2025-06-14T20:07:10.594Z"
   },
   {
    "duration": 91,
    "start_time": "2025-06-14T20:07:10.600Z"
   },
   {
    "duration": 1131,
    "start_time": "2025-06-14T21:18:27.986Z"
   },
   {
    "duration": 1961,
    "start_time": "2025-06-14T21:18:29.119Z"
   },
   {
    "duration": 19,
    "start_time": "2025-06-14T21:18:31.081Z"
   },
   {
    "duration": 106,
    "start_time": "2025-06-14T21:18:31.101Z"
   },
   {
    "duration": 10,
    "start_time": "2025-06-14T21:18:31.210Z"
   },
   {
    "duration": 29,
    "start_time": "2025-06-14T21:18:31.222Z"
   },
   {
    "duration": 8,
    "start_time": "2025-06-14T21:18:31.252Z"
   },
   {
    "duration": 95,
    "start_time": "2025-06-14T21:18:31.262Z"
   },
   {
    "duration": 792,
    "start_time": "2025-06-14T21:18:31.359Z"
   },
   {
    "duration": 1130,
    "start_time": "2025-06-14T21:18:32.153Z"
   },
   {
    "duration": 140,
    "start_time": "2025-06-14T21:18:33.285Z"
   },
   {
    "duration": 820,
    "start_time": "2025-06-14T21:18:33.435Z"
   },
   {
    "duration": 515,
    "start_time": "2025-06-14T21:18:34.257Z"
   },
   {
    "duration": 110,
    "start_time": "2025-06-14T21:18:34.775Z"
   },
   {
    "duration": 0,
    "start_time": "2025-06-14T21:18:34.887Z"
   },
   {
    "duration": 0,
    "start_time": "2025-06-14T21:18:34.888Z"
   },
   {
    "duration": 0,
    "start_time": "2025-06-14T21:18:34.890Z"
   },
   {
    "duration": 0,
    "start_time": "2025-06-14T21:18:34.891Z"
   },
   {
    "duration": 0,
    "start_time": "2025-06-14T21:18:34.892Z"
   },
   {
    "duration": 0,
    "start_time": "2025-06-14T21:18:34.892Z"
   },
   {
    "duration": 0,
    "start_time": "2025-06-14T21:18:34.893Z"
   },
   {
    "duration": 0,
    "start_time": "2025-06-14T21:18:34.894Z"
   },
   {
    "duration": 0,
    "start_time": "2025-06-14T21:18:34.895Z"
   },
   {
    "duration": 0,
    "start_time": "2025-06-14T21:18:34.896Z"
   },
   {
    "duration": 0,
    "start_time": "2025-06-14T21:18:34.897Z"
   },
   {
    "duration": 0,
    "start_time": "2025-06-14T21:18:34.898Z"
   },
   {
    "duration": 0,
    "start_time": "2025-06-14T21:18:34.899Z"
   },
   {
    "duration": 0,
    "start_time": "2025-06-14T21:18:34.900Z"
   },
   {
    "duration": 1,
    "start_time": "2025-06-14T21:18:34.901Z"
   },
   {
    "duration": 0,
    "start_time": "2025-06-14T21:18:34.902Z"
   },
   {
    "duration": 0,
    "start_time": "2025-06-14T21:18:34.903Z"
   },
   {
    "duration": 0,
    "start_time": "2025-06-14T21:18:34.935Z"
   },
   {
    "duration": 0,
    "start_time": "2025-06-14T21:18:34.936Z"
   },
   {
    "duration": 0,
    "start_time": "2025-06-14T21:18:34.937Z"
   },
   {
    "duration": 0,
    "start_time": "2025-06-14T21:18:34.938Z"
   },
   {
    "duration": 0,
    "start_time": "2025-06-14T21:18:34.939Z"
   },
   {
    "duration": 0,
    "start_time": "2025-06-14T21:18:34.940Z"
   },
   {
    "duration": 0,
    "start_time": "2025-06-14T21:18:34.941Z"
   },
   {
    "duration": 0,
    "start_time": "2025-06-14T21:18:34.942Z"
   },
   {
    "duration": 0,
    "start_time": "2025-06-14T21:18:34.943Z"
   },
   {
    "duration": 0,
    "start_time": "2025-06-14T21:18:34.944Z"
   },
   {
    "duration": 0,
    "start_time": "2025-06-14T21:18:34.945Z"
   },
   {
    "duration": 0,
    "start_time": "2025-06-14T21:18:34.946Z"
   },
   {
    "duration": 0,
    "start_time": "2025-06-14T21:18:34.947Z"
   },
   {
    "duration": 0,
    "start_time": "2025-06-14T21:18:34.948Z"
   },
   {
    "duration": 0,
    "start_time": "2025-06-14T21:18:34.949Z"
   },
   {
    "duration": 0,
    "start_time": "2025-06-14T21:18:34.950Z"
   },
   {
    "duration": 0,
    "start_time": "2025-06-14T21:18:34.951Z"
   },
   {
    "duration": 0,
    "start_time": "2025-06-14T21:18:34.952Z"
   },
   {
    "duration": 0,
    "start_time": "2025-06-14T21:18:34.953Z"
   },
   {
    "duration": 0,
    "start_time": "2025-06-14T21:18:34.953Z"
   },
   {
    "duration": 20,
    "start_time": "2025-06-14T21:18:42.596Z"
   },
   {
    "duration": 14,
    "start_time": "2025-06-14T21:18:42.848Z"
   },
   {
    "duration": 15,
    "start_time": "2025-06-14T21:18:48.386Z"
   },
   {
    "duration": 813,
    "start_time": "2025-06-14T21:18:50.936Z"
   },
   {
    "duration": 237,
    "start_time": "2025-06-14T21:18:54.734Z"
   },
   {
    "duration": 4470,
    "start_time": "2025-06-14T21:18:54.973Z"
   },
   {
    "duration": 5,
    "start_time": "2025-06-14T21:18:59.445Z"
   },
   {
    "duration": 24,
    "start_time": "2025-06-14T21:18:59.452Z"
   },
   {
    "duration": 4339,
    "start_time": "2025-06-14T21:18:59.479Z"
   },
   {
    "duration": 299,
    "start_time": "2025-06-14T21:19:03.819Z"
   },
   {
    "duration": 130,
    "start_time": "2025-06-14T21:19:04.120Z"
   },
   {
    "duration": 27,
    "start_time": "2025-06-14T21:19:04.251Z"
   },
   {
    "duration": 392,
    "start_time": "2025-06-14T21:19:04.280Z"
   },
   {
    "duration": 26,
    "start_time": "2025-06-14T21:19:04.674Z"
   },
   {
    "duration": 328,
    "start_time": "2025-06-14T21:19:04.701Z"
   },
   {
    "duration": 13,
    "start_time": "2025-06-14T21:19:05.034Z"
   },
   {
    "duration": 418,
    "start_time": "2025-06-14T21:19:05.049Z"
   },
   {
    "duration": 273,
    "start_time": "2025-06-14T21:19:05.469Z"
   },
   {
    "duration": 212,
    "start_time": "2025-06-14T21:19:05.743Z"
   },
   {
    "duration": 223,
    "start_time": "2025-06-14T21:19:05.957Z"
   },
   {
    "duration": 53,
    "start_time": "2025-06-14T21:19:06.182Z"
   },
   {
    "duration": 764,
    "start_time": "2025-06-14T21:19:06.237Z"
   },
   {
    "duration": 59,
    "start_time": "2025-06-14T21:19:07.002Z"
   },
   {
    "duration": 108,
    "start_time": "2025-06-14T21:19:07.063Z"
   },
   {
    "duration": 575,
    "start_time": "2025-06-14T21:19:07.173Z"
   },
   {
    "duration": 89,
    "start_time": "2025-06-14T21:19:07.749Z"
   },
   {
    "duration": 164,
    "start_time": "2025-06-14T21:19:07.839Z"
   },
   {
    "duration": 161,
    "start_time": "2025-06-14T21:19:08.005Z"
   },
   {
    "duration": 177,
    "start_time": "2025-06-14T21:19:08.167Z"
   },
   {
    "duration": 57,
    "start_time": "2025-06-14T21:19:08.346Z"
   },
   {
    "duration": 31,
    "start_time": "2025-06-14T21:19:08.404Z"
   },
   {
    "duration": 41,
    "start_time": "2025-06-14T21:19:08.437Z"
   },
   {
    "duration": 5,
    "start_time": "2025-06-14T21:19:08.479Z"
   },
   {
    "duration": 7,
    "start_time": "2025-06-14T21:19:08.485Z"
   },
   {
    "duration": 4,
    "start_time": "2025-06-14T21:19:08.493Z"
   },
   {
    "duration": 21,
    "start_time": "2025-06-14T21:19:08.499Z"
   },
   {
    "duration": 39,
    "start_time": "2025-06-14T21:19:08.535Z"
   },
   {
    "duration": 4,
    "start_time": "2025-06-14T21:19:08.576Z"
   },
   {
    "duration": 5,
    "start_time": "2025-06-14T21:19:08.581Z"
   },
   {
    "duration": 6,
    "start_time": "2025-06-14T21:19:14.775Z"
   },
   {
    "duration": 1414,
    "start_time": "2025-06-14T21:53:02.876Z"
   },
   {
    "duration": 2271,
    "start_time": "2025-06-14T21:53:04.292Z"
   },
   {
    "duration": 21,
    "start_time": "2025-06-14T21:53:06.565Z"
   },
   {
    "duration": 117,
    "start_time": "2025-06-14T21:53:06.588Z"
   },
   {
    "duration": 13,
    "start_time": "2025-06-14T21:53:06.707Z"
   },
   {
    "duration": 19,
    "start_time": "2025-06-14T21:53:06.722Z"
   },
   {
    "duration": 30,
    "start_time": "2025-06-14T21:53:06.743Z"
   },
   {
    "duration": 13,
    "start_time": "2025-06-14T21:53:06.774Z"
   },
   {
    "duration": 900,
    "start_time": "2025-06-14T21:53:06.789Z"
   },
   {
    "duration": 1346,
    "start_time": "2025-06-14T21:53:07.691Z"
   },
   {
    "duration": 177,
    "start_time": "2025-06-14T21:53:09.039Z"
   },
   {
    "duration": 960,
    "start_time": "2025-06-14T21:53:09.218Z"
   },
   {
    "duration": 1685,
    "start_time": "2025-06-14T21:53:10.180Z"
   },
   {
    "duration": 818,
    "start_time": "2025-06-14T21:53:11.867Z"
   },
   {
    "duration": 259,
    "start_time": "2025-06-14T21:53:12.686Z"
   },
   {
    "duration": 4962,
    "start_time": "2025-06-14T21:53:12.948Z"
   },
   {
    "duration": 7,
    "start_time": "2025-06-14T21:53:17.912Z"
   },
   {
    "duration": 29,
    "start_time": "2025-06-14T21:53:17.921Z"
   },
   {
    "duration": 4734,
    "start_time": "2025-06-14T21:53:17.952Z"
   },
   {
    "duration": 288,
    "start_time": "2025-06-14T21:53:22.688Z"
   },
   {
    "duration": 124,
    "start_time": "2025-06-14T21:53:22.978Z"
   },
   {
    "duration": 28,
    "start_time": "2025-06-14T21:53:23.104Z"
   },
   {
    "duration": 434,
    "start_time": "2025-06-14T21:53:23.134Z"
   },
   {
    "duration": 29,
    "start_time": "2025-06-14T21:53:23.570Z"
   },
   {
    "duration": 388,
    "start_time": "2025-06-14T21:53:23.601Z"
   },
   {
    "duration": 15,
    "start_time": "2025-06-14T21:53:23.991Z"
   },
   {
    "duration": 416,
    "start_time": "2025-06-14T21:53:24.007Z"
   },
   {
    "duration": 300,
    "start_time": "2025-06-14T21:53:24.427Z"
   },
   {
    "duration": 235,
    "start_time": "2025-06-14T21:53:24.729Z"
   },
   {
    "duration": 256,
    "start_time": "2025-06-14T21:53:24.966Z"
   },
   {
    "duration": 58,
    "start_time": "2025-06-14T21:53:25.224Z"
   },
   {
    "duration": 849,
    "start_time": "2025-06-14T21:53:25.284Z"
   },
   {
    "duration": 67,
    "start_time": "2025-06-14T21:53:26.135Z"
   },
   {
    "duration": 91,
    "start_time": "2025-06-14T21:53:26.205Z"
   },
   {
    "duration": 640,
    "start_time": "2025-06-14T21:53:26.298Z"
   },
   {
    "duration": 104,
    "start_time": "2025-06-14T21:53:26.940Z"
   },
   {
    "duration": 182,
    "start_time": "2025-06-14T21:53:27.046Z"
   },
   {
    "duration": 178,
    "start_time": "2025-06-14T21:53:27.229Z"
   },
   {
    "duration": 188,
    "start_time": "2025-06-14T21:53:27.409Z"
   },
   {
    "duration": 54,
    "start_time": "2025-06-14T21:53:27.599Z"
   },
   {
    "duration": 35,
    "start_time": "2025-06-14T21:53:27.655Z"
   },
   {
    "duration": 32,
    "start_time": "2025-06-14T21:53:27.692Z"
   },
   {
    "duration": 6,
    "start_time": "2025-06-14T21:53:27.725Z"
   },
   {
    "duration": 4,
    "start_time": "2025-06-14T21:53:27.733Z"
   },
   {
    "duration": 34,
    "start_time": "2025-06-14T21:53:27.739Z"
   },
   {
    "duration": 14,
    "start_time": "2025-06-14T21:53:27.774Z"
   },
   {
    "duration": 45,
    "start_time": "2025-06-14T21:53:27.789Z"
   },
   {
    "duration": 43,
    "start_time": "2025-06-14T21:53:27.836Z"
   },
   {
    "duration": 6,
    "start_time": "2025-06-14T21:53:27.880Z"
   },
   {
    "duration": 238,
    "start_time": "2025-06-14T21:57:03.515Z"
   },
   {
    "duration": 107,
    "start_time": "2025-06-14T22:00:43.207Z"
   },
   {
    "duration": 693,
    "start_time": "2025-06-14T22:06:38.610Z"
   },
   {
    "duration": 110,
    "start_time": "2025-06-14T22:09:19.135Z"
   },
   {
    "duration": 546,
    "start_time": "2025-06-14T22:10:36.502Z"
   },
   {
    "duration": 523,
    "start_time": "2025-06-14T22:10:58.670Z"
   },
   {
    "duration": 1146,
    "start_time": "2025-06-14T22:13:26.921Z"
   },
   {
    "duration": 2138,
    "start_time": "2025-06-14T22:13:28.070Z"
   },
   {
    "duration": 19,
    "start_time": "2025-06-14T22:13:30.210Z"
   },
   {
    "duration": 106,
    "start_time": "2025-06-14T22:13:30.231Z"
   },
   {
    "duration": 12,
    "start_time": "2025-06-14T22:13:30.339Z"
   },
   {
    "duration": 30,
    "start_time": "2025-06-14T22:13:30.353Z"
   },
   {
    "duration": 8,
    "start_time": "2025-06-14T22:13:30.385Z"
   },
   {
    "duration": 16,
    "start_time": "2025-06-14T22:13:30.395Z"
   },
   {
    "duration": 888,
    "start_time": "2025-06-14T22:13:30.412Z"
   },
   {
    "duration": 1310,
    "start_time": "2025-06-14T22:13:31.301Z"
   },
   {
    "duration": 168,
    "start_time": "2025-06-14T22:13:32.613Z"
   },
   {
    "duration": 718,
    "start_time": "2025-06-14T22:13:32.783Z"
   },
   {
    "duration": 1032,
    "start_time": "2025-06-14T22:13:33.502Z"
   },
   {
    "duration": 1605,
    "start_time": "2025-06-14T22:13:34.537Z"
   },
   {
    "duration": 908,
    "start_time": "2025-06-14T22:13:36.144Z"
   },
   {
    "duration": 296,
    "start_time": "2025-06-14T22:13:37.054Z"
   },
   {
    "duration": 4920,
    "start_time": "2025-06-14T22:13:37.352Z"
   },
   {
    "duration": 8,
    "start_time": "2025-06-14T22:13:42.274Z"
   },
   {
    "duration": 29,
    "start_time": "2025-06-14T22:13:42.284Z"
   },
   {
    "duration": 4928,
    "start_time": "2025-06-14T22:13:42.315Z"
   },
   {
    "duration": 300,
    "start_time": "2025-06-14T22:13:47.245Z"
   },
   {
    "duration": 211,
    "start_time": "2025-06-14T22:13:47.548Z"
   },
   {
    "duration": 33,
    "start_time": "2025-06-14T22:13:47.761Z"
   },
   {
    "duration": 464,
    "start_time": "2025-06-14T22:13:47.796Z"
   },
   {
    "duration": 32,
    "start_time": "2025-06-14T22:13:48.262Z"
   },
   {
    "duration": 331,
    "start_time": "2025-06-14T22:13:48.296Z"
   },
   {
    "duration": 16,
    "start_time": "2025-06-14T22:13:48.630Z"
   },
   {
    "duration": 387,
    "start_time": "2025-06-14T22:13:48.648Z"
   },
   {
    "duration": 307,
    "start_time": "2025-06-14T22:13:49.038Z"
   },
   {
    "duration": 235,
    "start_time": "2025-06-14T22:13:49.346Z"
   },
   {
    "duration": 268,
    "start_time": "2025-06-14T22:13:49.583Z"
   },
   {
    "duration": 57,
    "start_time": "2025-06-14T22:13:49.854Z"
   },
   {
    "duration": 769,
    "start_time": "2025-06-14T22:13:49.913Z"
   },
   {
    "duration": 60,
    "start_time": "2025-06-14T22:13:50.685Z"
   },
   {
    "duration": 102,
    "start_time": "2025-06-14T22:13:50.747Z"
   },
   {
    "duration": 672,
    "start_time": "2025-06-14T22:13:50.851Z"
   },
   {
    "duration": 109,
    "start_time": "2025-06-14T22:13:51.524Z"
   },
   {
    "duration": 185,
    "start_time": "2025-06-14T22:13:51.635Z"
   },
   {
    "duration": 190,
    "start_time": "2025-06-14T22:13:51.822Z"
   },
   {
    "duration": 206,
    "start_time": "2025-06-14T22:13:52.013Z"
   },
   {
    "duration": 137,
    "start_time": "2025-06-14T22:13:52.225Z"
   },
   {
    "duration": 22,
    "start_time": "2025-06-14T22:13:52.363Z"
   },
   {
    "duration": 32,
    "start_time": "2025-06-14T22:13:52.387Z"
   },
   {
    "duration": 19,
    "start_time": "2025-06-14T22:13:52.420Z"
   },
   {
    "duration": 15,
    "start_time": "2025-06-14T22:13:52.440Z"
   },
   {
    "duration": 19,
    "start_time": "2025-06-14T22:13:52.457Z"
   },
   {
    "duration": 7,
    "start_time": "2025-06-14T22:13:52.478Z"
   },
   {
    "duration": 43,
    "start_time": "2025-06-14T22:13:52.486Z"
   },
   {
    "duration": 6,
    "start_time": "2025-06-14T22:13:52.531Z"
   },
   {
    "duration": 53,
    "start_time": "2025-06-14T22:13:52.538Z"
   },
   {
    "duration": 641,
    "start_time": "2025-06-14T22:14:00.930Z"
   },
   {
    "duration": 1176,
    "start_time": "2025-06-14T22:14:17.599Z"
   },
   {
    "duration": 1843,
    "start_time": "2025-06-14T22:14:18.778Z"
   },
   {
    "duration": 20,
    "start_time": "2025-06-14T22:14:20.623Z"
   },
   {
    "duration": 125,
    "start_time": "2025-06-14T22:14:20.645Z"
   },
   {
    "duration": 13,
    "start_time": "2025-06-14T22:14:20.771Z"
   },
   {
    "duration": 20,
    "start_time": "2025-06-14T22:14:20.786Z"
   },
   {
    "duration": 9,
    "start_time": "2025-06-14T22:14:20.808Z"
   },
   {
    "duration": 13,
    "start_time": "2025-06-14T22:14:20.819Z"
   },
   {
    "duration": 909,
    "start_time": "2025-06-14T22:14:20.834Z"
   },
   {
    "duration": 1286,
    "start_time": "2025-06-14T22:14:21.746Z"
   },
   {
    "duration": 172,
    "start_time": "2025-06-14T22:14:23.034Z"
   },
   {
    "duration": 689,
    "start_time": "2025-06-14T22:14:23.208Z"
   },
   {
    "duration": 1045,
    "start_time": "2025-06-14T22:14:23.899Z"
   },
   {
    "duration": 1636,
    "start_time": "2025-06-14T22:14:24.946Z"
   },
   {
    "duration": 809,
    "start_time": "2025-06-14T22:14:26.584Z"
   },
   {
    "duration": 296,
    "start_time": "2025-06-14T22:14:27.395Z"
   },
   {
    "duration": 5134,
    "start_time": "2025-06-14T22:14:27.693Z"
   },
   {
    "duration": 7,
    "start_time": "2025-06-14T22:14:32.830Z"
   },
   {
    "duration": 44,
    "start_time": "2025-06-14T22:14:32.838Z"
   },
   {
    "duration": 4821,
    "start_time": "2025-06-14T22:14:32.884Z"
   },
   {
    "duration": 342,
    "start_time": "2025-06-14T22:14:37.707Z"
   },
   {
    "duration": 203,
    "start_time": "2025-06-14T22:14:38.051Z"
   },
   {
    "duration": 33,
    "start_time": "2025-06-14T22:14:38.255Z"
   },
   {
    "duration": 454,
    "start_time": "2025-06-14T22:14:38.290Z"
   },
   {
    "duration": 29,
    "start_time": "2025-06-14T22:14:38.745Z"
   },
   {
    "duration": 322,
    "start_time": "2025-06-14T22:14:38.776Z"
   },
   {
    "duration": 14,
    "start_time": "2025-06-14T22:14:39.099Z"
   },
   {
    "duration": 398,
    "start_time": "2025-06-14T22:14:39.117Z"
   },
   {
    "duration": 293,
    "start_time": "2025-06-14T22:14:39.517Z"
   },
   {
    "duration": 232,
    "start_time": "2025-06-14T22:14:39.811Z"
   },
   {
    "duration": 253,
    "start_time": "2025-06-14T22:14:40.045Z"
   },
   {
    "duration": 50,
    "start_time": "2025-06-14T22:14:40.299Z"
   },
   {
    "duration": 867,
    "start_time": "2025-06-14T22:14:40.351Z"
   },
   {
    "duration": 64,
    "start_time": "2025-06-14T22:14:41.220Z"
   },
   {
    "duration": 86,
    "start_time": "2025-06-14T22:14:41.286Z"
   },
   {
    "duration": 636,
    "start_time": "2025-06-14T22:14:41.374Z"
   },
   {
    "duration": 108,
    "start_time": "2025-06-14T22:14:42.011Z"
   },
   {
    "duration": 206,
    "start_time": "2025-06-14T22:14:42.121Z"
   },
   {
    "duration": 183,
    "start_time": "2025-06-14T22:14:42.329Z"
   },
   {
    "duration": 193,
    "start_time": "2025-06-14T22:14:42.514Z"
   },
   {
    "duration": 121,
    "start_time": "2025-06-14T22:14:42.709Z"
   },
   {
    "duration": 23,
    "start_time": "2025-06-14T22:14:42.832Z"
   },
   {
    "duration": 42,
    "start_time": "2025-06-14T22:14:42.857Z"
   },
   {
    "duration": 6,
    "start_time": "2025-06-14T22:14:42.901Z"
   },
   {
    "duration": 21,
    "start_time": "2025-06-14T22:14:42.909Z"
   },
   {
    "duration": 54,
    "start_time": "2025-06-14T22:14:42.932Z"
   },
   {
    "duration": 7,
    "start_time": "2025-06-14T22:14:42.989Z"
   },
   {
    "duration": 45,
    "start_time": "2025-06-14T22:14:42.998Z"
   },
   {
    "duration": 5,
    "start_time": "2025-06-14T22:14:43.045Z"
   },
   {
    "duration": 22,
    "start_time": "2025-06-14T22:14:43.053Z"
   },
   {
    "duration": 1318,
    "start_time": "2025-06-14T22:18:32.286Z"
   },
   {
    "duration": 1733,
    "start_time": "2025-06-14T22:18:33.606Z"
   },
   {
    "duration": 22,
    "start_time": "2025-06-14T22:18:35.340Z"
   },
   {
    "duration": 116,
    "start_time": "2025-06-14T22:18:35.364Z"
   },
   {
    "duration": 13,
    "start_time": "2025-06-14T22:18:35.482Z"
   },
   {
    "duration": 19,
    "start_time": "2025-06-14T22:18:35.497Z"
   },
   {
    "duration": 27,
    "start_time": "2025-06-14T22:18:35.517Z"
   },
   {
    "duration": 38,
    "start_time": "2025-06-14T22:18:35.546Z"
   },
   {
    "duration": 918,
    "start_time": "2025-06-14T22:18:35.586Z"
   },
   {
    "duration": 1307,
    "start_time": "2025-06-14T22:18:36.507Z"
   },
   {
    "duration": 167,
    "start_time": "2025-06-14T22:18:37.816Z"
   },
   {
    "duration": 701,
    "start_time": "2025-06-14T22:18:37.985Z"
   },
   {
    "duration": 1077,
    "start_time": "2025-06-14T22:18:38.688Z"
   },
   {
    "duration": 1605,
    "start_time": "2025-06-14T22:18:39.767Z"
   },
   {
    "duration": 800,
    "start_time": "2025-06-14T22:18:41.374Z"
   },
   {
    "duration": 322,
    "start_time": "2025-06-14T22:18:42.176Z"
   },
   {
    "duration": 4972,
    "start_time": "2025-06-14T22:18:42.500Z"
   },
   {
    "duration": 7,
    "start_time": "2025-06-14T22:18:47.474Z"
   },
   {
    "duration": 29,
    "start_time": "2025-06-14T22:18:47.483Z"
   },
   {
    "duration": 4705,
    "start_time": "2025-06-14T22:18:47.514Z"
   },
   {
    "duration": 361,
    "start_time": "2025-06-14T22:18:52.222Z"
   },
   {
    "duration": 207,
    "start_time": "2025-06-14T22:18:52.585Z"
   },
   {
    "duration": 31,
    "start_time": "2025-06-14T22:18:52.794Z"
   },
   {
    "duration": 442,
    "start_time": "2025-06-14T22:18:52.826Z"
   },
   {
    "duration": 30,
    "start_time": "2025-06-14T22:18:53.270Z"
   },
   {
    "duration": 381,
    "start_time": "2025-06-14T22:18:53.301Z"
   },
   {
    "duration": 16,
    "start_time": "2025-06-14T22:18:53.684Z"
   },
   {
    "duration": 409,
    "start_time": "2025-06-14T22:18:53.704Z"
   },
   {
    "duration": 302,
    "start_time": "2025-06-14T22:18:54.114Z"
   },
   {
    "duration": 235,
    "start_time": "2025-06-14T22:18:54.418Z"
   },
   {
    "duration": 261,
    "start_time": "2025-06-14T22:18:54.654Z"
   },
   {
    "duration": 58,
    "start_time": "2025-06-14T22:18:54.917Z"
   },
   {
    "duration": 842,
    "start_time": "2025-06-14T22:18:54.976Z"
   },
   {
    "duration": 67,
    "start_time": "2025-06-14T22:18:55.819Z"
   },
   {
    "duration": 90,
    "start_time": "2025-06-14T22:18:55.888Z"
   },
   {
    "duration": 654,
    "start_time": "2025-06-14T22:18:55.980Z"
   },
   {
    "duration": 108,
    "start_time": "2025-06-14T22:18:56.635Z"
   },
   {
    "duration": 1510,
    "start_time": "2025-06-14T22:18:56.745Z"
   },
   {
    "duration": 0,
    "start_time": "2025-06-14T22:18:58.258Z"
   },
   {
    "duration": 1,
    "start_time": "2025-06-14T22:18:58.259Z"
   },
   {
    "duration": 0,
    "start_time": "2025-06-14T22:18:58.261Z"
   },
   {
    "duration": 0,
    "start_time": "2025-06-14T22:18:58.263Z"
   },
   {
    "duration": 0,
    "start_time": "2025-06-14T22:18:58.264Z"
   },
   {
    "duration": 0,
    "start_time": "2025-06-14T22:18:58.266Z"
   },
   {
    "duration": 0,
    "start_time": "2025-06-14T22:18:58.268Z"
   },
   {
    "duration": 0,
    "start_time": "2025-06-14T22:18:58.269Z"
   },
   {
    "duration": 0,
    "start_time": "2025-06-14T22:18:58.271Z"
   },
   {
    "duration": 0,
    "start_time": "2025-06-14T22:18:58.272Z"
   },
   {
    "duration": 0,
    "start_time": "2025-06-14T22:18:58.274Z"
   },
   {
    "duration": 0,
    "start_time": "2025-06-14T22:18:58.276Z"
   },
   {
    "duration": 177,
    "start_time": "2025-06-14T22:19:14.109Z"
   },
   {
    "duration": 1191,
    "start_time": "2025-06-14T22:19:41.696Z"
   },
   {
    "duration": 1708,
    "start_time": "2025-06-14T22:19:42.889Z"
   },
   {
    "duration": 19,
    "start_time": "2025-06-14T22:19:44.599Z"
   },
   {
    "duration": 111,
    "start_time": "2025-06-14T22:19:44.621Z"
   },
   {
    "duration": 12,
    "start_time": "2025-06-14T22:19:44.734Z"
   },
   {
    "duration": 33,
    "start_time": "2025-06-14T22:19:44.748Z"
   },
   {
    "duration": 9,
    "start_time": "2025-06-14T22:19:44.782Z"
   },
   {
    "duration": 12,
    "start_time": "2025-06-14T22:19:44.794Z"
   },
   {
    "duration": 937,
    "start_time": "2025-06-14T22:19:44.808Z"
   },
   {
    "duration": 1333,
    "start_time": "2025-06-14T22:19:45.749Z"
   },
   {
    "duration": 172,
    "start_time": "2025-06-14T22:19:47.084Z"
   },
   {
    "duration": 707,
    "start_time": "2025-06-14T22:19:47.258Z"
   },
   {
    "duration": 1086,
    "start_time": "2025-06-14T22:19:47.967Z"
   },
   {
    "duration": 1583,
    "start_time": "2025-06-14T22:19:49.055Z"
   },
   {
    "duration": 822,
    "start_time": "2025-06-14T22:19:50.640Z"
   },
   {
    "duration": 311,
    "start_time": "2025-06-14T22:19:51.472Z"
   },
   {
    "duration": 5147,
    "start_time": "2025-06-14T22:19:51.785Z"
   },
   {
    "duration": 6,
    "start_time": "2025-06-14T22:19:56.935Z"
   },
   {
    "duration": 72,
    "start_time": "2025-06-14T22:19:56.943Z"
   },
   {
    "duration": 4754,
    "start_time": "2025-06-14T22:19:57.017Z"
   },
   {
    "duration": 346,
    "start_time": "2025-06-14T22:20:01.773Z"
   },
   {
    "duration": 219,
    "start_time": "2025-06-14T22:20:02.121Z"
   },
   {
    "duration": 37,
    "start_time": "2025-06-14T22:20:02.342Z"
   },
   {
    "duration": 431,
    "start_time": "2025-06-14T22:20:02.381Z"
   },
   {
    "duration": 31,
    "start_time": "2025-06-14T22:20:02.814Z"
   },
   {
    "duration": 360,
    "start_time": "2025-06-14T22:20:02.846Z"
   },
   {
    "duration": 15,
    "start_time": "2025-06-14T22:20:03.208Z"
   },
   {
    "duration": 398,
    "start_time": "2025-06-14T22:20:03.227Z"
   },
   {
    "duration": 302,
    "start_time": "2025-06-14T22:20:03.626Z"
   },
   {
    "duration": 235,
    "start_time": "2025-06-14T22:20:03.930Z"
   },
   {
    "duration": 248,
    "start_time": "2025-06-14T22:20:04.166Z"
   },
   {
    "duration": 60,
    "start_time": "2025-06-14T22:20:04.416Z"
   },
   {
    "duration": 858,
    "start_time": "2025-06-14T22:20:04.478Z"
   },
   {
    "duration": 62,
    "start_time": "2025-06-14T22:20:05.338Z"
   },
   {
    "duration": 90,
    "start_time": "2025-06-14T22:20:05.402Z"
   },
   {
    "duration": 634,
    "start_time": "2025-06-14T22:20:05.494Z"
   },
   {
    "duration": 110,
    "start_time": "2025-06-14T22:20:06.131Z"
   },
   {
    "duration": 190,
    "start_time": "2025-06-14T22:20:06.243Z"
   },
   {
    "duration": 193,
    "start_time": "2025-06-14T22:20:06.434Z"
   },
   {
    "duration": 196,
    "start_time": "2025-06-14T22:20:06.629Z"
   },
   {
    "duration": 121,
    "start_time": "2025-06-14T22:20:06.827Z"
   },
   {
    "duration": 26,
    "start_time": "2025-06-14T22:20:06.950Z"
   },
   {
    "duration": 43,
    "start_time": "2025-06-14T22:20:06.978Z"
   },
   {
    "duration": 7,
    "start_time": "2025-06-14T22:20:07.023Z"
   },
   {
    "duration": 11,
    "start_time": "2025-06-14T22:20:07.032Z"
   },
   {
    "duration": 84,
    "start_time": "2025-06-14T22:20:07.045Z"
   },
   {
    "duration": 26,
    "start_time": "2025-06-14T22:20:07.131Z"
   },
   {
    "duration": 46,
    "start_time": "2025-06-14T22:20:07.159Z"
   },
   {
    "duration": 5,
    "start_time": "2025-06-14T22:20:07.207Z"
   },
   {
    "duration": 7,
    "start_time": "2025-06-14T22:20:07.214Z"
   },
   {
    "duration": 46,
    "start_time": "2025-06-15T07:28:59.848Z"
   },
   {
    "duration": 1346,
    "start_time": "2025-06-15T07:29:11.445Z"
   },
   {
    "duration": 1684,
    "start_time": "2025-06-15T07:29:12.793Z"
   },
   {
    "duration": 17,
    "start_time": "2025-06-15T07:29:14.478Z"
   },
   {
    "duration": 172,
    "start_time": "2025-06-15T07:29:14.497Z"
   },
   {
    "duration": 11,
    "start_time": "2025-06-15T07:29:14.671Z"
   },
   {
    "duration": 17,
    "start_time": "2025-06-15T07:29:14.684Z"
   },
   {
    "duration": 8,
    "start_time": "2025-06-15T07:29:14.702Z"
   },
   {
    "duration": 26,
    "start_time": "2025-06-15T07:29:14.711Z"
   },
   {
    "duration": 821,
    "start_time": "2025-06-15T07:29:14.739Z"
   },
   {
    "duration": 1165,
    "start_time": "2025-06-15T07:29:15.563Z"
   },
   {
    "duration": 163,
    "start_time": "2025-06-15T07:29:16.730Z"
   },
   {
    "duration": 627,
    "start_time": "2025-06-15T07:29:16.895Z"
   },
   {
    "duration": 952,
    "start_time": "2025-06-15T07:29:17.524Z"
   },
   {
    "duration": 1518,
    "start_time": "2025-06-15T07:29:18.478Z"
   },
   {
    "duration": 691,
    "start_time": "2025-06-15T07:29:19.997Z"
   },
   {
    "duration": 281,
    "start_time": "2025-06-15T07:29:20.689Z"
   },
   {
    "duration": 4465,
    "start_time": "2025-06-15T07:29:20.971Z"
   },
   {
    "duration": 6,
    "start_time": "2025-06-15T07:29:25.438Z"
   },
   {
    "duration": 40,
    "start_time": "2025-06-15T07:29:25.445Z"
   },
   {
    "duration": 4216,
    "start_time": "2025-06-15T07:29:25.486Z"
   },
   {
    "duration": 309,
    "start_time": "2025-06-15T07:29:29.704Z"
   },
   {
    "duration": 192,
    "start_time": "2025-06-15T07:29:30.015Z"
   },
   {
    "duration": 29,
    "start_time": "2025-06-15T07:29:30.209Z"
   },
   {
    "duration": 376,
    "start_time": "2025-06-15T07:29:30.240Z"
   },
   {
    "duration": 24,
    "start_time": "2025-06-15T07:29:30.617Z"
   },
   {
    "duration": 294,
    "start_time": "2025-06-15T07:29:30.642Z"
   },
   {
    "duration": 12,
    "start_time": "2025-06-15T07:29:30.938Z"
   },
   {
    "duration": 322,
    "start_time": "2025-06-15T07:29:30.954Z"
   },
   {
    "duration": 267,
    "start_time": "2025-06-15T07:29:31.278Z"
   },
   {
    "duration": 224,
    "start_time": "2025-06-15T07:29:31.547Z"
   },
   {
    "duration": 221,
    "start_time": "2025-06-15T07:29:31.772Z"
   },
   {
    "duration": 57,
    "start_time": "2025-06-15T07:29:31.994Z"
   },
   {
    "duration": 725,
    "start_time": "2025-06-15T07:29:32.052Z"
   },
   {
    "duration": 61,
    "start_time": "2025-06-15T07:29:32.779Z"
   },
   {
    "duration": 72,
    "start_time": "2025-06-15T07:29:32.842Z"
   },
   {
    "duration": 625,
    "start_time": "2025-06-15T07:29:32.915Z"
   },
   {
    "duration": 97,
    "start_time": "2025-06-15T07:29:33.541Z"
   },
   {
    "duration": 165,
    "start_time": "2025-06-15T07:29:33.639Z"
   },
   {
    "duration": 170,
    "start_time": "2025-06-15T07:29:33.805Z"
   },
   {
    "duration": 190,
    "start_time": "2025-06-15T07:29:33.977Z"
   },
   {
    "duration": 117,
    "start_time": "2025-06-15T07:29:34.169Z"
   },
   {
    "duration": 18,
    "start_time": "2025-06-15T07:29:34.287Z"
   },
   {
    "duration": 105,
    "start_time": "2025-06-15T07:29:34.307Z"
   },
   {
    "duration": 5,
    "start_time": "2025-06-15T07:29:34.413Z"
   },
   {
    "duration": 22,
    "start_time": "2025-06-15T07:29:34.420Z"
   },
   {
    "duration": 17,
    "start_time": "2025-06-15T07:29:34.443Z"
   },
   {
    "duration": 21,
    "start_time": "2025-06-15T07:29:34.462Z"
   },
   {
    "duration": 143,
    "start_time": "2025-06-15T07:29:34.484Z"
   },
   {
    "duration": 4,
    "start_time": "2025-06-15T07:29:34.629Z"
   },
   {
    "duration": 5,
    "start_time": "2025-06-15T07:29:34.634Z"
   },
   {
    "duration": 158,
    "start_time": "2025-06-15T07:30:36.657Z"
   },
   {
    "duration": 88,
    "start_time": "2025-06-15T07:50:17.890Z"
   },
   {
    "duration": 4,
    "start_time": "2025-06-15T07:54:38.925Z"
   },
   {
    "duration": 492,
    "start_time": "2025-06-15T07:55:03.160Z"
   },
   {
    "duration": 4,
    "start_time": "2025-06-15T07:55:30.732Z"
   },
   {
    "duration": 4,
    "start_time": "2025-06-15T07:59:44.354Z"
   },
   {
    "duration": 4,
    "start_time": "2025-06-15T08:01:36.833Z"
   },
   {
    "duration": 5,
    "start_time": "2025-06-15T08:02:16.512Z"
   },
   {
    "duration": 149,
    "start_time": "2025-06-15T08:59:26.491Z"
   },
   {
    "duration": 95,
    "start_time": "2025-06-15T09:01:30.922Z"
   },
   {
    "duration": 130,
    "start_time": "2025-06-15T09:05:09.787Z"
   },
   {
    "duration": 99,
    "start_time": "2025-06-15T09:06:42.669Z"
   },
   {
    "duration": 101,
    "start_time": "2025-06-15T09:22:10.857Z"
   },
   {
    "duration": 1798,
    "start_time": "2025-06-15T09:25:16.467Z"
   },
   {
    "duration": 106,
    "start_time": "2025-06-15T09:29:20.194Z"
   },
   {
    "duration": 520,
    "start_time": "2025-06-15T09:29:23.726Z"
   },
   {
    "duration": 771,
    "start_time": "2025-06-15T09:33:21.664Z"
   },
   {
    "duration": 649,
    "start_time": "2025-06-15T09:33:48.738Z"
   },
   {
    "duration": 627,
    "start_time": "2025-06-15T09:34:40.308Z"
   },
   {
    "duration": 89,
    "start_time": "2025-06-15T09:35:06.447Z"
   },
   {
    "duration": 203,
    "start_time": "2025-06-15T09:38:29.131Z"
   },
   {
    "duration": 195,
    "start_time": "2025-06-15T09:38:43.043Z"
   },
   {
    "duration": 10,
    "start_time": "2025-06-15T09:46:22.804Z"
   },
   {
    "duration": 1205,
    "start_time": "2025-06-15T09:46:30.761Z"
   },
   {
    "duration": 1826,
    "start_time": "2025-06-15T09:46:31.968Z"
   },
   {
    "duration": 19,
    "start_time": "2025-06-15T09:46:33.796Z"
   },
   {
    "duration": 137,
    "start_time": "2025-06-15T09:46:33.817Z"
   },
   {
    "duration": 13,
    "start_time": "2025-06-15T09:46:33.955Z"
   },
   {
    "duration": 45,
    "start_time": "2025-06-15T09:46:33.969Z"
   },
   {
    "duration": 10,
    "start_time": "2025-06-15T09:46:34.016Z"
   },
   {
    "duration": 33,
    "start_time": "2025-06-15T09:46:34.027Z"
   },
   {
    "duration": 923,
    "start_time": "2025-06-15T09:46:34.061Z"
   },
   {
    "duration": 1315,
    "start_time": "2025-06-15T09:46:34.986Z"
   },
   {
    "duration": 182,
    "start_time": "2025-06-15T09:46:36.302Z"
   },
   {
    "duration": 735,
    "start_time": "2025-06-15T09:46:36.485Z"
   },
   {
    "duration": 1092,
    "start_time": "2025-06-15T09:46:37.222Z"
   },
   {
    "duration": 1674,
    "start_time": "2025-06-15T09:46:38.316Z"
   },
   {
    "duration": 750,
    "start_time": "2025-06-15T09:46:39.992Z"
   },
   {
    "duration": 307,
    "start_time": "2025-06-15T09:46:40.744Z"
   },
   {
    "duration": 5018,
    "start_time": "2025-06-15T09:46:41.053Z"
   },
   {
    "duration": 6,
    "start_time": "2025-06-15T09:46:46.072Z"
   },
   {
    "duration": 34,
    "start_time": "2025-06-15T09:46:46.080Z"
   },
   {
    "duration": 4732,
    "start_time": "2025-06-15T09:46:46.116Z"
   },
   {
    "duration": 4,
    "start_time": "2025-06-15T09:46:50.850Z"
   },
   {
    "duration": 440,
    "start_time": "2025-06-15T09:46:50.856Z"
   },
   {
    "duration": 194,
    "start_time": "2025-06-15T09:46:51.297Z"
   },
   {
    "duration": 44,
    "start_time": "2025-06-15T09:46:51.492Z"
   },
   {
    "duration": 454,
    "start_time": "2025-06-15T09:46:51.538Z"
   },
   {
    "duration": 29,
    "start_time": "2025-06-15T09:46:51.994Z"
   },
   {
    "duration": 344,
    "start_time": "2025-06-15T09:46:52.024Z"
   },
   {
    "duration": 13,
    "start_time": "2025-06-15T09:46:52.372Z"
   },
   {
    "duration": 392,
    "start_time": "2025-06-15T09:46:52.387Z"
   },
   {
    "duration": 303,
    "start_time": "2025-06-15T09:46:52.780Z"
   },
   {
    "duration": 142,
    "start_time": "2025-06-15T09:46:53.085Z"
   },
   {
    "duration": 240,
    "start_time": "2025-06-15T09:46:53.229Z"
   },
   {
    "duration": 264,
    "start_time": "2025-06-15T09:46:53.472Z"
   },
   {
    "duration": 51,
    "start_time": "2025-06-15T09:46:53.739Z"
   },
   {
    "duration": 890,
    "start_time": "2025-06-15T09:46:53.792Z"
   },
   {
    "duration": 118,
    "start_time": "2025-06-15T09:46:54.684Z"
   },
   {
    "duration": 521,
    "start_time": "2025-06-15T09:46:54.804Z"
   },
   {
    "duration": 57,
    "start_time": "2025-06-15T09:46:55.327Z"
   },
   {
    "duration": 99,
    "start_time": "2025-06-15T09:46:55.386Z"
   },
   {
    "duration": 703,
    "start_time": "2025-06-15T09:46:55.487Z"
   },
   {
    "duration": 110,
    "start_time": "2025-06-15T09:46:56.192Z"
   },
   {
    "duration": 216,
    "start_time": "2025-06-15T09:46:56.303Z"
   },
   {
    "duration": 224,
    "start_time": "2025-06-15T09:46:56.522Z"
   },
   {
    "duration": 206,
    "start_time": "2025-06-15T09:46:56.748Z"
   },
   {
    "duration": 227,
    "start_time": "2025-06-15T09:46:56.955Z"
   },
   {
    "duration": 21,
    "start_time": "2025-06-15T09:46:57.184Z"
   },
   {
    "duration": 123,
    "start_time": "2025-06-15T09:46:57.208Z"
   },
   {
    "duration": 0,
    "start_time": "2025-06-15T09:46:57.335Z"
   },
   {
    "duration": 0,
    "start_time": "2025-06-15T09:46:57.336Z"
   },
   {
    "duration": 0,
    "start_time": "2025-06-15T09:46:57.337Z"
   },
   {
    "duration": 0,
    "start_time": "2025-06-15T09:46:57.338Z"
   },
   {
    "duration": 0,
    "start_time": "2025-06-15T09:46:57.340Z"
   },
   {
    "duration": 0,
    "start_time": "2025-06-15T09:46:57.341Z"
   },
   {
    "duration": 0,
    "start_time": "2025-06-15T09:46:57.342Z"
   },
   {
    "duration": 10,
    "start_time": "2025-06-15T09:48:12.497Z"
   },
   {
    "duration": 9,
    "start_time": "2025-06-15T09:48:54.110Z"
   },
   {
    "duration": 1185,
    "start_time": "2025-06-15T09:49:48.110Z"
   },
   {
    "duration": 2165,
    "start_time": "2025-06-15T09:49:49.297Z"
   },
   {
    "duration": 16,
    "start_time": "2025-06-15T09:49:51.464Z"
   },
   {
    "duration": 115,
    "start_time": "2025-06-15T09:49:51.482Z"
   },
   {
    "duration": 13,
    "start_time": "2025-06-15T09:49:51.598Z"
   },
   {
    "duration": 36,
    "start_time": "2025-06-15T09:49:51.613Z"
   },
   {
    "duration": 10,
    "start_time": "2025-06-15T09:49:51.651Z"
   },
   {
    "duration": 24,
    "start_time": "2025-06-15T09:49:51.663Z"
   },
   {
    "duration": 864,
    "start_time": "2025-06-15T09:49:51.688Z"
   },
   {
    "duration": 1305,
    "start_time": "2025-06-15T09:49:52.554Z"
   },
   {
    "duration": 182,
    "start_time": "2025-06-15T09:49:53.861Z"
   },
   {
    "duration": 673,
    "start_time": "2025-06-15T09:49:54.045Z"
   },
   {
    "duration": 1053,
    "start_time": "2025-06-15T09:49:54.719Z"
   },
   {
    "duration": 1734,
    "start_time": "2025-06-15T09:49:55.774Z"
   },
   {
    "duration": 725,
    "start_time": "2025-06-15T09:49:57.510Z"
   },
   {
    "duration": 303,
    "start_time": "2025-06-15T09:49:58.237Z"
   },
   {
    "duration": 4957,
    "start_time": "2025-06-15T09:49:58.542Z"
   },
   {
    "duration": 7,
    "start_time": "2025-06-15T09:50:03.500Z"
   },
   {
    "duration": 44,
    "start_time": "2025-06-15T09:50:03.509Z"
   },
   {
    "duration": 4521,
    "start_time": "2025-06-15T09:50:03.555Z"
   },
   {
    "duration": 5,
    "start_time": "2025-06-15T09:50:08.078Z"
   },
   {
    "duration": 353,
    "start_time": "2025-06-15T09:50:08.084Z"
   },
   {
    "duration": 185,
    "start_time": "2025-06-15T09:50:08.439Z"
   },
   {
    "duration": 31,
    "start_time": "2025-06-15T09:50:08.626Z"
   },
   {
    "duration": 477,
    "start_time": "2025-06-15T09:50:08.659Z"
   },
   {
    "duration": 27,
    "start_time": "2025-06-15T09:50:09.138Z"
   },
   {
    "duration": 371,
    "start_time": "2025-06-15T09:50:09.167Z"
   },
   {
    "duration": 14,
    "start_time": "2025-06-15T09:50:09.542Z"
   },
   {
    "duration": 367,
    "start_time": "2025-06-15T09:50:09.558Z"
   },
   {
    "duration": 302,
    "start_time": "2025-06-15T09:50:09.926Z"
   },
   {
    "duration": 143,
    "start_time": "2025-06-15T09:50:10.229Z"
   },
   {
    "duration": 238,
    "start_time": "2025-06-15T09:50:10.374Z"
   },
   {
    "duration": 250,
    "start_time": "2025-06-15T09:50:10.613Z"
   },
   {
    "duration": 48,
    "start_time": "2025-06-15T09:50:10.864Z"
   },
   {
    "duration": 889,
    "start_time": "2025-06-15T09:50:10.914Z"
   },
   {
    "duration": 112,
    "start_time": "2025-06-15T09:50:11.805Z"
   },
   {
    "duration": 502,
    "start_time": "2025-06-15T09:50:11.919Z"
   },
   {
    "duration": 53,
    "start_time": "2025-06-15T09:50:12.423Z"
   },
   {
    "duration": 84,
    "start_time": "2025-06-15T09:50:12.478Z"
   },
   {
    "duration": 702,
    "start_time": "2025-06-15T09:50:12.564Z"
   },
   {
    "duration": 106,
    "start_time": "2025-06-15T09:50:13.268Z"
   },
   {
    "duration": 192,
    "start_time": "2025-06-15T09:50:13.376Z"
   },
   {
    "duration": 191,
    "start_time": "2025-06-15T09:50:13.570Z"
   },
   {
    "duration": 203,
    "start_time": "2025-06-15T09:50:13.764Z"
   },
   {
    "duration": 241,
    "start_time": "2025-06-15T09:50:13.969Z"
   },
   {
    "duration": 28,
    "start_time": "2025-06-15T09:50:14.213Z"
   },
   {
    "duration": 30,
    "start_time": "2025-06-15T09:50:14.243Z"
   },
   {
    "duration": 6,
    "start_time": "2025-06-15T09:50:14.274Z"
   },
   {
    "duration": 11,
    "start_time": "2025-06-15T09:50:14.281Z"
   },
   {
    "duration": 5,
    "start_time": "2025-06-15T09:50:14.293Z"
   },
   {
    "duration": 40,
    "start_time": "2025-06-15T09:50:14.300Z"
   },
   {
    "duration": 46,
    "start_time": "2025-06-15T09:50:14.341Z"
   },
   {
    "duration": 4,
    "start_time": "2025-06-15T09:50:14.389Z"
   },
   {
    "duration": 6,
    "start_time": "2025-06-15T09:50:14.395Z"
   },
   {
    "duration": 84,
    "start_time": "2025-06-15T10:05:44.078Z"
   },
   {
    "duration": 1181,
    "start_time": "2025-06-15T10:06:00.456Z"
   },
   {
    "duration": 1944,
    "start_time": "2025-06-15T10:06:01.639Z"
   },
   {
    "duration": 20,
    "start_time": "2025-06-15T10:06:03.584Z"
   },
   {
    "duration": 110,
    "start_time": "2025-06-15T10:06:03.607Z"
   },
   {
    "duration": 20,
    "start_time": "2025-06-15T10:06:03.718Z"
   },
   {
    "duration": 37,
    "start_time": "2025-06-15T10:06:03.740Z"
   },
   {
    "duration": 106,
    "start_time": "2025-06-15T10:06:03.779Z"
   },
   {
    "duration": 18,
    "start_time": "2025-06-15T10:06:03.887Z"
   },
   {
    "duration": 898,
    "start_time": "2025-06-15T10:06:03.907Z"
   },
   {
    "duration": 1238,
    "start_time": "2025-06-15T10:06:04.808Z"
   },
   {
    "duration": 180,
    "start_time": "2025-06-15T10:06:06.049Z"
   },
   {
    "duration": 646,
    "start_time": "2025-06-15T10:06:06.235Z"
   },
   {
    "duration": 982,
    "start_time": "2025-06-15T10:06:06.882Z"
   },
   {
    "duration": 1564,
    "start_time": "2025-06-15T10:06:07.865Z"
   },
   {
    "duration": 785,
    "start_time": "2025-06-15T10:06:09.431Z"
   },
   {
    "duration": 294,
    "start_time": "2025-06-15T10:06:10.218Z"
   },
   {
    "duration": 4817,
    "start_time": "2025-06-15T10:06:10.514Z"
   },
   {
    "duration": 7,
    "start_time": "2025-06-15T10:06:15.332Z"
   },
   {
    "duration": 29,
    "start_time": "2025-06-15T10:06:15.341Z"
   },
   {
    "duration": 4548,
    "start_time": "2025-06-15T10:06:15.372Z"
   },
   {
    "duration": 14,
    "start_time": "2025-06-15T10:06:19.922Z"
   },
   {
    "duration": 336,
    "start_time": "2025-06-15T10:06:19.938Z"
   },
   {
    "duration": 176,
    "start_time": "2025-06-15T10:06:20.276Z"
   },
   {
    "duration": 30,
    "start_time": "2025-06-15T10:06:20.454Z"
   },
   {
    "duration": 426,
    "start_time": "2025-06-15T10:06:20.486Z"
   },
   {
    "duration": 27,
    "start_time": "2025-06-15T10:06:20.914Z"
   },
   {
    "duration": 383,
    "start_time": "2025-06-15T10:06:20.942Z"
   },
   {
    "duration": 13,
    "start_time": "2025-06-15T10:06:21.335Z"
   },
   {
    "duration": 341,
    "start_time": "2025-06-15T10:06:21.349Z"
   },
   {
    "duration": 284,
    "start_time": "2025-06-15T10:06:21.691Z"
   },
   {
    "duration": 134,
    "start_time": "2025-06-15T10:06:21.977Z"
   },
   {
    "duration": 217,
    "start_time": "2025-06-15T10:06:22.113Z"
   },
   {
    "duration": 241,
    "start_time": "2025-06-15T10:06:22.335Z"
   },
   {
    "duration": 58,
    "start_time": "2025-06-15T10:06:22.577Z"
   },
   {
    "duration": 802,
    "start_time": "2025-06-15T10:06:22.637Z"
   },
   {
    "duration": 116,
    "start_time": "2025-06-15T10:06:23.441Z"
   },
   {
    "duration": 501,
    "start_time": "2025-06-15T10:06:23.559Z"
   },
   {
    "duration": 53,
    "start_time": "2025-06-15T10:06:24.062Z"
   },
   {
    "duration": 102,
    "start_time": "2025-06-15T10:06:24.117Z"
   },
   {
    "duration": 649,
    "start_time": "2025-06-15T10:06:24.221Z"
   },
   {
    "duration": 97,
    "start_time": "2025-06-15T10:06:24.872Z"
   },
   {
    "duration": 197,
    "start_time": "2025-06-15T10:06:24.971Z"
   },
   {
    "duration": 204,
    "start_time": "2025-06-15T10:06:25.170Z"
   },
   {
    "duration": 206,
    "start_time": "2025-06-15T10:06:25.376Z"
   },
   {
    "duration": 219,
    "start_time": "2025-06-15T10:06:25.583Z"
   },
   {
    "duration": 19,
    "start_time": "2025-06-15T10:06:25.804Z"
   },
   {
    "duration": 107,
    "start_time": "2025-06-15T10:06:25.835Z"
   },
   {
    "duration": 5,
    "start_time": "2025-06-15T10:06:25.945Z"
   },
   {
    "duration": 9,
    "start_time": "2025-06-15T10:06:25.952Z"
   },
   {
    "duration": 5,
    "start_time": "2025-06-15T10:06:25.962Z"
   },
   {
    "duration": 8,
    "start_time": "2025-06-15T10:06:25.969Z"
   },
   {
    "duration": 68,
    "start_time": "2025-06-15T10:06:25.978Z"
   },
   {
    "duration": 4,
    "start_time": "2025-06-15T10:06:26.048Z"
   },
   {
    "duration": 10,
    "start_time": "2025-06-15T10:06:26.054Z"
   },
   {
    "duration": 1131,
    "start_time": "2025-06-15T10:07:08.191Z"
   },
   {
    "duration": 1814,
    "start_time": "2025-06-15T10:07:09.324Z"
   },
   {
    "duration": 18,
    "start_time": "2025-06-15T10:07:11.140Z"
   },
   {
    "duration": 127,
    "start_time": "2025-06-15T10:07:11.160Z"
   },
   {
    "duration": 12,
    "start_time": "2025-06-15T10:07:11.289Z"
   },
   {
    "duration": 40,
    "start_time": "2025-06-15T10:07:11.303Z"
   },
   {
    "duration": 10,
    "start_time": "2025-06-15T10:07:11.345Z"
   },
   {
    "duration": 10,
    "start_time": "2025-06-15T10:07:11.357Z"
   },
   {
    "duration": 877,
    "start_time": "2025-06-15T10:07:11.369Z"
   },
   {
    "duration": 1253,
    "start_time": "2025-06-15T10:07:12.249Z"
   },
   {
    "duration": 193,
    "start_time": "2025-06-15T10:07:13.503Z"
   },
   {
    "duration": 716,
    "start_time": "2025-06-15T10:07:13.698Z"
   },
   {
    "duration": 1033,
    "start_time": "2025-06-15T10:07:14.416Z"
   },
   {
    "duration": 1766,
    "start_time": "2025-06-15T10:07:15.450Z"
   },
   {
    "duration": 809,
    "start_time": "2025-06-15T10:07:17.219Z"
   },
   {
    "duration": 301,
    "start_time": "2025-06-15T10:07:18.034Z"
   },
   {
    "duration": 4794,
    "start_time": "2025-06-15T10:07:18.337Z"
   },
   {
    "duration": 7,
    "start_time": "2025-06-15T10:07:23.134Z"
   },
   {
    "duration": 35,
    "start_time": "2025-06-15T10:07:23.142Z"
   },
   {
    "duration": 4565,
    "start_time": "2025-06-15T10:07:23.179Z"
   },
   {
    "duration": 4,
    "start_time": "2025-06-15T10:07:27.746Z"
   },
   {
    "duration": 335,
    "start_time": "2025-06-15T10:07:27.751Z"
   },
   {
    "duration": 202,
    "start_time": "2025-06-15T10:07:28.088Z"
   },
   {
    "duration": 30,
    "start_time": "2025-06-15T10:07:28.292Z"
   },
   {
    "duration": 421,
    "start_time": "2025-06-15T10:07:28.335Z"
   },
   {
    "duration": 27,
    "start_time": "2025-06-15T10:07:28.758Z"
   },
   {
    "duration": 372,
    "start_time": "2025-06-15T10:07:28.787Z"
   },
   {
    "duration": 14,
    "start_time": "2025-06-15T10:07:29.163Z"
   },
   {
    "duration": 409,
    "start_time": "2025-06-15T10:07:29.179Z"
   },
   {
    "duration": 279,
    "start_time": "2025-06-15T10:07:29.589Z"
   },
   {
    "duration": 135,
    "start_time": "2025-06-15T10:07:29.870Z"
   },
   {
    "duration": 224,
    "start_time": "2025-06-15T10:07:30.007Z"
   },
   {
    "duration": 250,
    "start_time": "2025-06-15T10:07:30.235Z"
   },
   {
    "duration": 53,
    "start_time": "2025-06-15T10:07:30.486Z"
   },
   {
    "duration": 750,
    "start_time": "2025-06-15T10:07:30.541Z"
   },
   {
    "duration": 118,
    "start_time": "2025-06-15T10:07:31.292Z"
   },
   {
    "duration": 516,
    "start_time": "2025-06-15T10:07:31.412Z"
   },
   {
    "duration": 57,
    "start_time": "2025-06-15T10:07:31.929Z"
   },
   {
    "duration": 94,
    "start_time": "2025-06-15T10:07:31.987Z"
   },
   {
    "duration": 598,
    "start_time": "2025-06-15T10:07:32.082Z"
   },
   {
    "duration": 99,
    "start_time": "2025-06-15T10:07:32.682Z"
   },
   {
    "duration": 190,
    "start_time": "2025-06-15T10:07:32.783Z"
   },
   {
    "duration": 197,
    "start_time": "2025-06-15T10:07:32.975Z"
   },
   {
    "duration": 204,
    "start_time": "2025-06-15T10:07:33.173Z"
   },
   {
    "duration": 227,
    "start_time": "2025-06-15T10:07:33.378Z"
   },
   {
    "duration": 30,
    "start_time": "2025-06-15T10:07:33.607Z"
   },
   {
    "duration": 45,
    "start_time": "2025-06-15T10:07:33.639Z"
   },
   {
    "duration": 5,
    "start_time": "2025-06-15T10:07:33.686Z"
   },
   {
    "duration": 25,
    "start_time": "2025-06-15T10:07:33.693Z"
   },
   {
    "duration": 17,
    "start_time": "2025-06-15T10:07:33.720Z"
   },
   {
    "duration": 8,
    "start_time": "2025-06-15T10:07:33.738Z"
   },
   {
    "duration": 46,
    "start_time": "2025-06-15T10:07:33.748Z"
   },
   {
    "duration": 4,
    "start_time": "2025-06-15T10:07:33.796Z"
   },
   {
    "duration": 88,
    "start_time": "2025-06-15T10:07:33.801Z"
   },
   {
    "duration": 80,
    "start_time": "2025-06-15T10:08:11.550Z"
   },
   {
    "duration": 95,
    "start_time": "2025-06-15T10:13:42.898Z"
   },
   {
    "duration": 1166,
    "start_time": "2025-06-15T10:13:55.402Z"
   },
   {
    "duration": 1879,
    "start_time": "2025-06-15T10:13:56.571Z"
   },
   {
    "duration": 19,
    "start_time": "2025-06-15T10:13:58.452Z"
   },
   {
    "duration": 104,
    "start_time": "2025-06-15T10:13:58.473Z"
   },
   {
    "duration": 13,
    "start_time": "2025-06-15T10:13:58.579Z"
   },
   {
    "duration": 81,
    "start_time": "2025-06-15T10:13:58.593Z"
   },
   {
    "duration": 8,
    "start_time": "2025-06-15T10:13:58.676Z"
   },
   {
    "duration": 16,
    "start_time": "2025-06-15T10:13:58.686Z"
   },
   {
    "duration": 843,
    "start_time": "2025-06-15T10:13:58.704Z"
   },
   {
    "duration": 1254,
    "start_time": "2025-06-15T10:13:59.550Z"
   },
   {
    "duration": 186,
    "start_time": "2025-06-15T10:14:00.805Z"
   },
   {
    "duration": 717,
    "start_time": "2025-06-15T10:14:00.993Z"
   },
   {
    "duration": 1066,
    "start_time": "2025-06-15T10:14:01.712Z"
   },
   {
    "duration": 1736,
    "start_time": "2025-06-15T10:14:02.780Z"
   },
   {
    "duration": 811,
    "start_time": "2025-06-15T10:14:04.518Z"
   },
   {
    "duration": 310,
    "start_time": "2025-06-15T10:14:05.331Z"
   },
   {
    "duration": 4925,
    "start_time": "2025-06-15T10:14:05.643Z"
   },
   {
    "duration": 7,
    "start_time": "2025-06-15T10:14:10.569Z"
   },
   {
    "duration": 37,
    "start_time": "2025-06-15T10:14:10.577Z"
   },
   {
    "duration": 4401,
    "start_time": "2025-06-15T10:14:10.616Z"
   },
   {
    "duration": 3,
    "start_time": "2025-06-15T10:14:15.019Z"
   },
   {
    "duration": 325,
    "start_time": "2025-06-15T10:14:15.035Z"
   },
   {
    "duration": 189,
    "start_time": "2025-06-15T10:14:15.362Z"
   },
   {
    "duration": 27,
    "start_time": "2025-06-15T10:14:15.553Z"
   },
   {
    "duration": 423,
    "start_time": "2025-06-15T10:14:15.581Z"
   },
   {
    "duration": 25,
    "start_time": "2025-06-15T10:14:16.005Z"
   },
   {
    "duration": 312,
    "start_time": "2025-06-15T10:14:16.031Z"
   },
   {
    "duration": 15,
    "start_time": "2025-06-15T10:14:16.346Z"
   },
   {
    "duration": 408,
    "start_time": "2025-06-15T10:14:16.362Z"
   },
   {
    "duration": 277,
    "start_time": "2025-06-15T10:14:16.772Z"
   },
   {
    "duration": 135,
    "start_time": "2025-06-15T10:14:17.050Z"
   },
   {
    "duration": 212,
    "start_time": "2025-06-15T10:14:17.187Z"
   },
   {
    "duration": 232,
    "start_time": "2025-06-15T10:14:17.401Z"
   },
   {
    "duration": 44,
    "start_time": "2025-06-15T10:14:17.635Z"
   },
   {
    "duration": 771,
    "start_time": "2025-06-15T10:14:17.681Z"
   },
   {
    "duration": 117,
    "start_time": "2025-06-15T10:14:18.454Z"
   },
   {
    "duration": 465,
    "start_time": "2025-06-15T10:14:18.573Z"
   },
   {
    "duration": 51,
    "start_time": "2025-06-15T10:14:19.040Z"
   },
   {
    "duration": 94,
    "start_time": "2025-06-15T10:14:19.092Z"
   },
   {
    "duration": 594,
    "start_time": "2025-06-15T10:14:19.188Z"
   },
   {
    "duration": 96,
    "start_time": "2025-06-15T10:14:19.784Z"
   },
   {
    "duration": 172,
    "start_time": "2025-06-15T10:14:19.881Z"
   },
   {
    "duration": 182,
    "start_time": "2025-06-15T10:14:20.055Z"
   },
   {
    "duration": 194,
    "start_time": "2025-06-15T10:14:20.239Z"
   },
   {
    "duration": 214,
    "start_time": "2025-06-15T10:14:20.435Z"
   },
   {
    "duration": 19,
    "start_time": "2025-06-15T10:14:20.651Z"
   },
   {
    "duration": 29,
    "start_time": "2025-06-15T10:14:20.672Z"
   },
   {
    "duration": 5,
    "start_time": "2025-06-15T10:14:20.703Z"
   },
   {
    "duration": 6,
    "start_time": "2025-06-15T10:14:20.709Z"
   },
   {
    "duration": 5,
    "start_time": "2025-06-15T10:14:20.736Z"
   },
   {
    "duration": 7,
    "start_time": "2025-06-15T10:14:20.743Z"
   },
   {
    "duration": 45,
    "start_time": "2025-06-15T10:14:20.752Z"
   },
   {
    "duration": 5,
    "start_time": "2025-06-15T10:14:20.799Z"
   },
   {
    "duration": 33,
    "start_time": "2025-06-15T10:14:20.805Z"
   },
   {
    "duration": 1269,
    "start_time": "2025-06-15T12:45:21.260Z"
   },
   {
    "duration": 1992,
    "start_time": "2025-06-15T12:45:22.531Z"
   },
   {
    "duration": 18,
    "start_time": "2025-06-15T12:45:24.525Z"
   },
   {
    "duration": 111,
    "start_time": "2025-06-15T12:45:24.545Z"
   },
   {
    "duration": 11,
    "start_time": "2025-06-15T12:45:24.658Z"
   },
   {
    "duration": 73,
    "start_time": "2025-06-15T12:45:24.670Z"
   },
   {
    "duration": 110,
    "start_time": "2025-06-15T12:45:24.745Z"
   },
   {
    "duration": 11,
    "start_time": "2025-06-15T12:45:24.857Z"
   },
   {
    "duration": 853,
    "start_time": "2025-06-15T12:45:24.870Z"
   },
   {
    "duration": 1189,
    "start_time": "2025-06-15T12:45:25.727Z"
   },
   {
    "duration": 179,
    "start_time": "2025-06-15T12:45:26.918Z"
   },
   {
    "duration": 658,
    "start_time": "2025-06-15T12:45:27.100Z"
   },
   {
    "duration": 1009,
    "start_time": "2025-06-15T12:45:27.760Z"
   },
   {
    "duration": 1800,
    "start_time": "2025-06-15T12:45:28.771Z"
   },
   {
    "duration": 746,
    "start_time": "2025-06-15T12:45:30.573Z"
   },
   {
    "duration": 307,
    "start_time": "2025-06-15T12:45:31.321Z"
   },
   {
    "duration": 4792,
    "start_time": "2025-06-15T12:45:31.630Z"
   },
   {
    "duration": 11,
    "start_time": "2025-06-15T12:45:36.425Z"
   },
   {
    "duration": 41,
    "start_time": "2025-06-15T12:45:36.438Z"
   },
   {
    "duration": 4602,
    "start_time": "2025-06-15T12:45:36.481Z"
   },
   {
    "duration": 4,
    "start_time": "2025-06-15T12:45:41.085Z"
   },
   {
    "duration": 374,
    "start_time": "2025-06-15T12:45:41.090Z"
   },
   {
    "duration": 195,
    "start_time": "2025-06-15T12:45:41.466Z"
   },
   {
    "duration": 29,
    "start_time": "2025-06-15T12:45:41.663Z"
   },
   {
    "duration": 420,
    "start_time": "2025-06-15T12:45:41.693Z"
   },
   {
    "duration": 29,
    "start_time": "2025-06-15T12:45:42.115Z"
   },
   {
    "duration": 316,
    "start_time": "2025-06-15T12:45:42.146Z"
   },
   {
    "duration": 13,
    "start_time": "2025-06-15T12:45:42.466Z"
   },
   {
    "duration": 416,
    "start_time": "2025-06-15T12:45:42.481Z"
   },
   {
    "duration": 302,
    "start_time": "2025-06-15T12:45:42.899Z"
   },
   {
    "duration": 143,
    "start_time": "2025-06-15T12:45:43.203Z"
   },
   {
    "duration": 227,
    "start_time": "2025-06-15T12:45:43.348Z"
   },
   {
    "duration": 246,
    "start_time": "2025-06-15T12:45:43.577Z"
   },
   {
    "duration": 54,
    "start_time": "2025-06-15T12:45:43.826Z"
   },
   {
    "duration": 821,
    "start_time": "2025-06-15T12:45:43.882Z"
   },
   {
    "duration": 115,
    "start_time": "2025-06-15T12:45:44.705Z"
   },
   {
    "duration": 545,
    "start_time": "2025-06-15T12:45:44.822Z"
   },
   {
    "duration": 37,
    "start_time": "2025-06-15T12:45:45.369Z"
   },
   {
    "duration": 73,
    "start_time": "2025-06-15T12:45:45.408Z"
   },
   {
    "duration": 660,
    "start_time": "2025-06-15T12:45:45.483Z"
   },
   {
    "duration": 165,
    "start_time": "2025-06-15T12:45:46.145Z"
   },
   {
    "duration": 204,
    "start_time": "2025-06-15T12:45:46.311Z"
   },
   {
    "duration": 192,
    "start_time": "2025-06-15T12:45:46.516Z"
   },
   {
    "duration": 197,
    "start_time": "2025-06-15T12:45:46.709Z"
   },
   {
    "duration": 132,
    "start_time": "2025-06-15T12:45:46.908Z"
   },
   {
    "duration": 21,
    "start_time": "2025-06-15T12:45:47.042Z"
   },
   {
    "duration": 32,
    "start_time": "2025-06-15T12:45:47.064Z"
   },
   {
    "duration": 6,
    "start_time": "2025-06-15T12:45:47.097Z"
   },
   {
    "duration": 18,
    "start_time": "2025-06-15T12:45:47.104Z"
   },
   {
    "duration": 6,
    "start_time": "2025-06-15T12:45:47.136Z"
   },
   {
    "duration": 15,
    "start_time": "2025-06-15T12:45:47.143Z"
   },
   {
    "duration": 46,
    "start_time": "2025-06-15T12:45:47.160Z"
   },
   {
    "duration": 4,
    "start_time": "2025-06-15T12:45:47.208Z"
   },
   {
    "duration": 26,
    "start_time": "2025-06-15T12:45:47.213Z"
   },
   {
    "duration": 1158,
    "start_time": "2025-06-15T12:52:21.561Z"
   },
   {
    "duration": 2269,
    "start_time": "2025-06-15T12:52:22.721Z"
   },
   {
    "duration": 18,
    "start_time": "2025-06-15T12:52:24.992Z"
   },
   {
    "duration": 135,
    "start_time": "2025-06-15T12:52:25.012Z"
   },
   {
    "duration": 12,
    "start_time": "2025-06-15T12:52:25.149Z"
   },
   {
    "duration": 24,
    "start_time": "2025-06-15T12:52:25.162Z"
   },
   {
    "duration": 10,
    "start_time": "2025-06-15T12:52:25.188Z"
   },
   {
    "duration": 32,
    "start_time": "2025-06-15T12:52:25.200Z"
   },
   {
    "duration": 905,
    "start_time": "2025-06-15T12:52:25.236Z"
   },
   {
    "duration": 1286,
    "start_time": "2025-06-15T12:52:26.145Z"
   },
   {
    "duration": 194,
    "start_time": "2025-06-15T12:52:27.436Z"
   },
   {
    "duration": 664,
    "start_time": "2025-06-15T12:52:27.632Z"
   },
   {
    "duration": 1038,
    "start_time": "2025-06-15T12:52:28.298Z"
   },
   {
    "duration": 1673,
    "start_time": "2025-06-15T12:52:29.338Z"
   },
   {
    "duration": 836,
    "start_time": "2025-06-15T12:52:31.013Z"
   },
   {
    "duration": 298,
    "start_time": "2025-06-15T12:52:31.851Z"
   },
   {
    "duration": 4937,
    "start_time": "2025-06-15T12:52:32.151Z"
   },
   {
    "duration": 6,
    "start_time": "2025-06-15T12:52:37.089Z"
   },
   {
    "duration": 40,
    "start_time": "2025-06-15T12:52:37.097Z"
   },
   {
    "duration": 4683,
    "start_time": "2025-06-15T12:52:37.139Z"
   },
   {
    "duration": 4,
    "start_time": "2025-06-15T12:52:41.824Z"
   },
   {
    "duration": 351,
    "start_time": "2025-06-15T12:52:41.829Z"
   },
   {
    "duration": 207,
    "start_time": "2025-06-15T12:52:42.182Z"
   },
   {
    "duration": 29,
    "start_time": "2025-06-15T12:52:42.391Z"
   },
   {
    "duration": 416,
    "start_time": "2025-06-15T12:52:42.421Z"
   },
   {
    "duration": 28,
    "start_time": "2025-06-15T12:52:42.838Z"
   },
   {
    "duration": 371,
    "start_time": "2025-06-15T12:52:42.868Z"
   },
   {
    "duration": 14,
    "start_time": "2025-06-15T12:52:43.242Z"
   },
   {
    "duration": 417,
    "start_time": "2025-06-15T12:52:43.258Z"
   },
   {
    "duration": 295,
    "start_time": "2025-06-15T12:52:43.677Z"
   },
   {
    "duration": 141,
    "start_time": "2025-06-15T12:52:43.973Z"
   },
   {
    "duration": 226,
    "start_time": "2025-06-15T12:52:44.116Z"
   },
   {
    "duration": 274,
    "start_time": "2025-06-15T12:52:44.344Z"
   },
   {
    "duration": 51,
    "start_time": "2025-06-15T12:52:44.619Z"
   },
   {
    "duration": 836,
    "start_time": "2025-06-15T12:52:44.672Z"
   },
   {
    "duration": 125,
    "start_time": "2025-06-15T12:52:45.511Z"
   },
   {
    "duration": 516,
    "start_time": "2025-06-15T12:52:45.638Z"
   },
   {
    "duration": 34,
    "start_time": "2025-06-15T12:52:46.156Z"
   },
   {
    "duration": 70,
    "start_time": "2025-06-15T12:52:46.192Z"
   },
   {
    "duration": 647,
    "start_time": "2025-06-15T12:52:46.264Z"
   },
   {
    "duration": 178,
    "start_time": "2025-06-15T12:52:46.914Z"
   },
   {
    "duration": 209,
    "start_time": "2025-06-15T12:52:47.094Z"
   },
   {
    "duration": 205,
    "start_time": "2025-06-15T12:52:47.305Z"
   },
   {
    "duration": 211,
    "start_time": "2025-06-15T12:52:47.513Z"
   },
   {
    "duration": 133,
    "start_time": "2025-06-15T12:52:47.726Z"
   },
   {
    "duration": 21,
    "start_time": "2025-06-15T12:52:47.861Z"
   },
   {
    "duration": 123,
    "start_time": "2025-06-15T12:52:47.884Z"
   },
   {
    "duration": 0,
    "start_time": "2025-06-15T12:52:48.009Z"
   },
   {
    "duration": 0,
    "start_time": "2025-06-15T12:52:48.011Z"
   },
   {
    "duration": 0,
    "start_time": "2025-06-15T12:52:48.013Z"
   },
   {
    "duration": 0,
    "start_time": "2025-06-15T12:52:48.014Z"
   },
   {
    "duration": 0,
    "start_time": "2025-06-15T12:52:48.016Z"
   },
   {
    "duration": 0,
    "start_time": "2025-06-15T12:52:48.017Z"
   },
   {
    "duration": 0,
    "start_time": "2025-06-15T12:52:48.019Z"
   },
   {
    "duration": 0,
    "start_time": "2025-06-15T12:52:48.037Z"
   },
   {
    "duration": 1175,
    "start_time": "2025-06-15T12:53:19.330Z"
   },
   {
    "duration": 1512,
    "start_time": "2025-06-15T12:53:20.507Z"
   },
   {
    "duration": 20,
    "start_time": "2025-06-15T12:53:22.021Z"
   },
   {
    "duration": 117,
    "start_time": "2025-06-15T12:53:22.043Z"
   },
   {
    "duration": 13,
    "start_time": "2025-06-15T12:53:22.162Z"
   },
   {
    "duration": 26,
    "start_time": "2025-06-15T12:53:22.177Z"
   },
   {
    "duration": 9,
    "start_time": "2025-06-15T12:53:22.205Z"
   },
   {
    "duration": 11,
    "start_time": "2025-06-15T12:53:22.236Z"
   },
   {
    "duration": 849,
    "start_time": "2025-06-15T12:53:22.249Z"
   },
   {
    "duration": 1209,
    "start_time": "2025-06-15T12:53:23.101Z"
   },
   {
    "duration": 205,
    "start_time": "2025-06-15T12:53:24.312Z"
   },
   {
    "duration": 655,
    "start_time": "2025-06-15T12:53:24.518Z"
   },
   {
    "duration": 1037,
    "start_time": "2025-06-15T12:53:25.175Z"
   },
   {
    "duration": 1699,
    "start_time": "2025-06-15T12:53:26.214Z"
   },
   {
    "duration": 841,
    "start_time": "2025-06-15T12:53:27.916Z"
   },
   {
    "duration": 315,
    "start_time": "2025-06-15T12:53:28.759Z"
   },
   {
    "duration": 5162,
    "start_time": "2025-06-15T12:53:29.076Z"
   },
   {
    "duration": 8,
    "start_time": "2025-06-15T12:53:34.239Z"
   },
   {
    "duration": 37,
    "start_time": "2025-06-15T12:53:34.249Z"
   },
   {
    "duration": 4814,
    "start_time": "2025-06-15T12:53:34.288Z"
   },
   {
    "duration": 4,
    "start_time": "2025-06-15T12:53:39.103Z"
   },
   {
    "duration": 341,
    "start_time": "2025-06-15T12:53:39.109Z"
   },
   {
    "duration": 189,
    "start_time": "2025-06-15T12:53:39.452Z"
   },
   {
    "duration": 28,
    "start_time": "2025-06-15T12:53:39.643Z"
   },
   {
    "duration": 476,
    "start_time": "2025-06-15T12:53:39.673Z"
   },
   {
    "duration": 28,
    "start_time": "2025-06-15T12:53:40.151Z"
   },
   {
    "duration": 357,
    "start_time": "2025-06-15T12:53:40.181Z"
   },
   {
    "duration": 14,
    "start_time": "2025-06-15T12:53:40.542Z"
   },
   {
    "duration": 378,
    "start_time": "2025-06-15T12:53:40.558Z"
   },
   {
    "duration": 284,
    "start_time": "2025-06-15T12:53:40.938Z"
   },
   {
    "duration": 140,
    "start_time": "2025-06-15T12:53:41.224Z"
   },
   {
    "duration": 222,
    "start_time": "2025-06-15T12:53:41.366Z"
   },
   {
    "duration": 249,
    "start_time": "2025-06-15T12:53:41.589Z"
   },
   {
    "duration": 49,
    "start_time": "2025-06-15T12:53:41.840Z"
   },
   {
    "duration": 821,
    "start_time": "2025-06-15T12:53:41.891Z"
   },
   {
    "duration": 129,
    "start_time": "2025-06-15T12:53:42.713Z"
   },
   {
    "duration": 579,
    "start_time": "2025-06-15T12:53:42.843Z"
   },
   {
    "duration": 40,
    "start_time": "2025-06-15T12:53:43.424Z"
   },
   {
    "duration": 51,
    "start_time": "2025-06-15T12:53:43.466Z"
   },
   {
    "duration": 662,
    "start_time": "2025-06-15T12:53:43.519Z"
   },
   {
    "duration": 172,
    "start_time": "2025-06-15T12:53:44.183Z"
   },
   {
    "duration": 216,
    "start_time": "2025-06-15T12:53:44.356Z"
   },
   {
    "duration": 199,
    "start_time": "2025-06-15T12:53:44.574Z"
   },
   {
    "duration": 200,
    "start_time": "2025-06-15T12:53:44.775Z"
   },
   {
    "duration": 128,
    "start_time": "2025-06-15T12:53:44.977Z"
   },
   {
    "duration": 19,
    "start_time": "2025-06-15T12:53:45.107Z"
   },
   {
    "duration": 37,
    "start_time": "2025-06-15T12:53:45.127Z"
   },
   {
    "duration": 117,
    "start_time": "2025-06-15T12:53:45.166Z"
   },
   {
    "duration": 0,
    "start_time": "2025-06-15T12:53:45.285Z"
   },
   {
    "duration": 0,
    "start_time": "2025-06-15T12:53:45.286Z"
   },
   {
    "duration": 0,
    "start_time": "2025-06-15T12:53:45.287Z"
   },
   {
    "duration": 0,
    "start_time": "2025-06-15T12:53:45.289Z"
   },
   {
    "duration": 0,
    "start_time": "2025-06-15T12:53:45.290Z"
   },
   {
    "duration": 0,
    "start_time": "2025-06-15T12:53:45.292Z"
   },
   {
    "duration": 0,
    "start_time": "2025-06-15T12:53:45.294Z"
   },
   {
    "duration": 1138,
    "start_time": "2025-06-15T12:54:22.633Z"
   },
   {
    "duration": 1706,
    "start_time": "2025-06-15T12:54:23.773Z"
   },
   {
    "duration": 18,
    "start_time": "2025-06-15T12:54:25.481Z"
   },
   {
    "duration": 101,
    "start_time": "2025-06-15T12:54:25.501Z"
   },
   {
    "duration": 12,
    "start_time": "2025-06-15T12:54:25.604Z"
   },
   {
    "duration": 35,
    "start_time": "2025-06-15T12:54:25.617Z"
   },
   {
    "duration": 9,
    "start_time": "2025-06-15T12:54:25.654Z"
   },
   {
    "duration": 18,
    "start_time": "2025-06-15T12:54:25.665Z"
   },
   {
    "duration": 855,
    "start_time": "2025-06-15T12:54:25.685Z"
   },
   {
    "duration": 1174,
    "start_time": "2025-06-15T12:54:26.543Z"
   },
   {
    "duration": 183,
    "start_time": "2025-06-15T12:54:27.718Z"
   },
   {
    "duration": 647,
    "start_time": "2025-06-15T12:54:27.903Z"
   },
   {
    "duration": 1014,
    "start_time": "2025-06-15T12:54:28.551Z"
   },
   {
    "duration": 1607,
    "start_time": "2025-06-15T12:54:29.567Z"
   },
   {
    "duration": 738,
    "start_time": "2025-06-15T12:54:31.175Z"
   },
   {
    "duration": 303,
    "start_time": "2025-06-15T12:54:31.914Z"
   },
   {
    "duration": 4770,
    "start_time": "2025-06-15T12:54:32.218Z"
   },
   {
    "duration": 6,
    "start_time": "2025-06-15T12:54:36.990Z"
   },
   {
    "duration": 41,
    "start_time": "2025-06-15T12:54:36.997Z"
   },
   {
    "duration": 4467,
    "start_time": "2025-06-15T12:54:37.040Z"
   },
   {
    "duration": 3,
    "start_time": "2025-06-15T12:54:41.509Z"
   },
   {
    "duration": 339,
    "start_time": "2025-06-15T12:54:41.514Z"
   },
   {
    "duration": 185,
    "start_time": "2025-06-15T12:54:41.855Z"
   },
   {
    "duration": 29,
    "start_time": "2025-06-15T12:54:42.042Z"
   },
   {
    "duration": 445,
    "start_time": "2025-06-15T12:54:42.072Z"
   },
   {
    "duration": 27,
    "start_time": "2025-06-15T12:54:42.519Z"
   },
   {
    "duration": 373,
    "start_time": "2025-06-15T12:54:42.548Z"
   },
   {
    "duration": 20,
    "start_time": "2025-06-15T12:54:42.925Z"
   },
   {
    "duration": 349,
    "start_time": "2025-06-15T12:54:42.947Z"
   },
   {
    "duration": 273,
    "start_time": "2025-06-15T12:54:43.298Z"
   },
   {
    "duration": 140,
    "start_time": "2025-06-15T12:54:43.572Z"
   },
   {
    "duration": 224,
    "start_time": "2025-06-15T12:54:43.713Z"
   },
   {
    "duration": 245,
    "start_time": "2025-06-15T12:54:43.939Z"
   },
   {
    "duration": 62,
    "start_time": "2025-06-15T12:54:44.185Z"
   },
   {
    "duration": 811,
    "start_time": "2025-06-15T12:54:44.249Z"
   },
   {
    "duration": 120,
    "start_time": "2025-06-15T12:54:45.062Z"
   },
   {
    "duration": 489,
    "start_time": "2025-06-15T12:54:45.184Z"
   },
   {
    "duration": 35,
    "start_time": "2025-06-15T12:54:45.675Z"
   },
   {
    "duration": 67,
    "start_time": "2025-06-15T12:54:45.712Z"
   },
   {
    "duration": 659,
    "start_time": "2025-06-15T12:54:45.781Z"
   },
   {
    "duration": 165,
    "start_time": "2025-06-15T12:54:46.441Z"
   },
   {
    "duration": 196,
    "start_time": "2025-06-15T12:54:46.608Z"
   },
   {
    "duration": 190,
    "start_time": "2025-06-15T12:54:46.806Z"
   },
   {
    "duration": 197,
    "start_time": "2025-06-15T12:54:46.997Z"
   },
   {
    "duration": 126,
    "start_time": "2025-06-15T12:54:47.195Z"
   },
   {
    "duration": 23,
    "start_time": "2025-06-15T12:54:47.323Z"
   },
   {
    "duration": 89,
    "start_time": "2025-06-15T12:54:47.348Z"
   },
   {
    "duration": 22,
    "start_time": "2025-06-15T12:54:47.439Z"
   },
   {
    "duration": 112,
    "start_time": "2025-06-15T12:54:47.463Z"
   },
   {
    "duration": 0,
    "start_time": "2025-06-15T12:54:47.577Z"
   },
   {
    "duration": 0,
    "start_time": "2025-06-15T12:54:47.578Z"
   },
   {
    "duration": 0,
    "start_time": "2025-06-15T12:54:47.580Z"
   },
   {
    "duration": 0,
    "start_time": "2025-06-15T12:54:47.581Z"
   },
   {
    "duration": 1,
    "start_time": "2025-06-15T12:54:47.582Z"
   },
   {
    "duration": 0,
    "start_time": "2025-06-15T12:54:47.584Z"
   },
   {
    "duration": 1193,
    "start_time": "2025-06-15T12:56:14.526Z"
   },
   {
    "duration": 1683,
    "start_time": "2025-06-15T12:56:15.721Z"
   },
   {
    "duration": 18,
    "start_time": "2025-06-15T12:56:17.405Z"
   },
   {
    "duration": 108,
    "start_time": "2025-06-15T12:56:17.426Z"
   },
   {
    "duration": 12,
    "start_time": "2025-06-15T12:56:17.536Z"
   },
   {
    "duration": 18,
    "start_time": "2025-06-15T12:56:17.550Z"
   },
   {
    "duration": 11,
    "start_time": "2025-06-15T12:56:17.570Z"
   },
   {
    "duration": 13,
    "start_time": "2025-06-15T12:56:17.583Z"
   },
   {
    "duration": 845,
    "start_time": "2025-06-15T12:56:17.598Z"
   },
   {
    "duration": 1237,
    "start_time": "2025-06-15T12:56:18.446Z"
   },
   {
    "duration": 186,
    "start_time": "2025-06-15T12:56:19.685Z"
   },
   {
    "duration": 643,
    "start_time": "2025-06-15T12:56:19.873Z"
   },
   {
    "duration": 1001,
    "start_time": "2025-06-15T12:56:20.518Z"
   },
   {
    "duration": 1656,
    "start_time": "2025-06-15T12:56:21.521Z"
   },
   {
    "duration": 749,
    "start_time": "2025-06-15T12:56:23.179Z"
   },
   {
    "duration": 307,
    "start_time": "2025-06-15T12:56:23.929Z"
   },
   {
    "duration": 4903,
    "start_time": "2025-06-15T12:56:24.238Z"
   },
   {
    "duration": 6,
    "start_time": "2025-06-15T12:56:29.142Z"
   },
   {
    "duration": 36,
    "start_time": "2025-06-15T12:56:29.150Z"
   },
   {
    "duration": 4619,
    "start_time": "2025-06-15T12:56:29.188Z"
   },
   {
    "duration": 4,
    "start_time": "2025-06-15T12:56:33.809Z"
   },
   {
    "duration": 339,
    "start_time": "2025-06-15T12:56:33.815Z"
   },
   {
    "duration": 184,
    "start_time": "2025-06-15T12:56:34.155Z"
   },
   {
    "duration": 27,
    "start_time": "2025-06-15T12:56:34.340Z"
   },
   {
    "duration": 440,
    "start_time": "2025-06-15T12:56:34.369Z"
   },
   {
    "duration": 27,
    "start_time": "2025-06-15T12:56:34.811Z"
   },
   {
    "duration": 401,
    "start_time": "2025-06-15T12:56:34.839Z"
   },
   {
    "duration": 15,
    "start_time": "2025-06-15T12:56:35.243Z"
   },
   {
    "duration": 407,
    "start_time": "2025-06-15T12:56:35.259Z"
   },
   {
    "duration": 303,
    "start_time": "2025-06-15T12:56:35.667Z"
   },
   {
    "duration": 139,
    "start_time": "2025-06-15T12:56:35.971Z"
   },
   {
    "duration": 225,
    "start_time": "2025-06-15T12:56:36.112Z"
   },
   {
    "duration": 243,
    "start_time": "2025-06-15T12:56:36.339Z"
   },
   {
    "duration": 57,
    "start_time": "2025-06-15T12:56:36.584Z"
   },
   {
    "duration": 800,
    "start_time": "2025-06-15T12:56:36.643Z"
   },
   {
    "duration": 120,
    "start_time": "2025-06-15T12:56:37.445Z"
   },
   {
    "duration": 489,
    "start_time": "2025-06-15T12:56:37.567Z"
   },
   {
    "duration": 35,
    "start_time": "2025-06-15T12:56:38.058Z"
   },
   {
    "duration": 75,
    "start_time": "2025-06-15T12:56:38.095Z"
   },
   {
    "duration": 649,
    "start_time": "2025-06-15T12:56:38.172Z"
   },
   {
    "duration": 177,
    "start_time": "2025-06-15T12:56:38.823Z"
   },
   {
    "duration": 203,
    "start_time": "2025-06-15T12:56:39.003Z"
   },
   {
    "duration": 196,
    "start_time": "2025-06-15T12:56:39.207Z"
   },
   {
    "duration": 201,
    "start_time": "2025-06-15T12:56:39.405Z"
   },
   {
    "duration": 129,
    "start_time": "2025-06-15T12:56:39.608Z"
   },
   {
    "duration": 20,
    "start_time": "2025-06-15T12:56:39.739Z"
   },
   {
    "duration": 11,
    "start_time": "2025-06-15T12:56:39.761Z"
   },
   {
    "duration": 8,
    "start_time": "2025-06-15T12:56:39.774Z"
   },
   {
    "duration": 115,
    "start_time": "2025-06-15T12:56:39.784Z"
   },
   {
    "duration": 0,
    "start_time": "2025-06-15T12:56:39.900Z"
   },
   {
    "duration": 0,
    "start_time": "2025-06-15T12:56:39.901Z"
   },
   {
    "duration": 0,
    "start_time": "2025-06-15T12:56:39.902Z"
   },
   {
    "duration": 0,
    "start_time": "2025-06-15T12:56:39.903Z"
   },
   {
    "duration": 0,
    "start_time": "2025-06-15T12:56:39.904Z"
   },
   {
    "duration": 0,
    "start_time": "2025-06-15T12:56:39.905Z"
   },
   {
    "duration": 15,
    "start_time": "2025-06-15T12:59:25.597Z"
   },
   {
    "duration": 87,
    "start_time": "2025-06-15T13:03:47.975Z"
   },
   {
    "duration": 72,
    "start_time": "2025-06-15T13:20:40.091Z"
   },
   {
    "duration": 1172,
    "start_time": "2025-06-15T13:22:04.429Z"
   },
   {
    "duration": 1188,
    "start_time": "2025-06-15T13:28:09.414Z"
   },
   {
    "duration": 431,
    "start_time": "2025-06-15T13:55:12.945Z"
   },
   {
    "duration": 1100,
    "start_time": "2025-06-15T13:55:26.660Z"
   },
   {
    "duration": 1858,
    "start_time": "2025-06-15T13:55:27.762Z"
   },
   {
    "duration": 17,
    "start_time": "2025-06-15T13:55:29.621Z"
   },
   {
    "duration": 121,
    "start_time": "2025-06-15T13:55:29.640Z"
   },
   {
    "duration": 10,
    "start_time": "2025-06-15T13:55:29.763Z"
   },
   {
    "duration": 18,
    "start_time": "2025-06-15T13:55:29.774Z"
   },
   {
    "duration": 7,
    "start_time": "2025-06-15T13:55:29.794Z"
   },
   {
    "duration": 10,
    "start_time": "2025-06-15T13:55:29.802Z"
   },
   {
    "duration": 829,
    "start_time": "2025-06-15T13:55:29.837Z"
   },
   {
    "duration": 1208,
    "start_time": "2025-06-15T13:55:30.669Z"
   },
   {
    "duration": 180,
    "start_time": "2025-06-15T13:55:31.879Z"
   },
   {
    "duration": 640,
    "start_time": "2025-06-15T13:55:32.061Z"
   },
   {
    "duration": 996,
    "start_time": "2025-06-15T13:55:32.703Z"
   },
   {
    "duration": 1654,
    "start_time": "2025-06-15T13:55:33.701Z"
   },
   {
    "duration": 774,
    "start_time": "2025-06-15T13:55:35.357Z"
   },
   {
    "duration": 297,
    "start_time": "2025-06-15T13:55:36.136Z"
   },
   {
    "duration": 4872,
    "start_time": "2025-06-15T13:55:36.434Z"
   },
   {
    "duration": 7,
    "start_time": "2025-06-15T13:55:41.307Z"
   },
   {
    "duration": 41,
    "start_time": "2025-06-15T13:55:41.315Z"
   },
   {
    "duration": 4566,
    "start_time": "2025-06-15T13:55:41.357Z"
   },
   {
    "duration": 4,
    "start_time": "2025-06-15T13:55:45.926Z"
   },
   {
    "duration": 340,
    "start_time": "2025-06-15T13:55:45.931Z"
   },
   {
    "duration": 184,
    "start_time": "2025-06-15T13:55:46.273Z"
   },
   {
    "duration": 28,
    "start_time": "2025-06-15T13:55:46.459Z"
   },
   {
    "duration": 444,
    "start_time": "2025-06-15T13:55:46.489Z"
   },
   {
    "duration": 28,
    "start_time": "2025-06-15T13:55:46.934Z"
   },
   {
    "duration": 312,
    "start_time": "2025-06-15T13:55:46.964Z"
   },
   {
    "duration": 14,
    "start_time": "2025-06-15T13:55:47.279Z"
   },
   {
    "duration": 380,
    "start_time": "2025-06-15T13:55:47.294Z"
   },
   {
    "duration": 282,
    "start_time": "2025-06-15T13:55:47.675Z"
   },
   {
    "duration": 138,
    "start_time": "2025-06-15T13:55:47.959Z"
   },
   {
    "duration": 221,
    "start_time": "2025-06-15T13:55:48.099Z"
   },
   {
    "duration": 238,
    "start_time": "2025-06-15T13:55:48.322Z"
   },
   {
    "duration": 49,
    "start_time": "2025-06-15T13:55:48.562Z"
   },
   {
    "duration": 845,
    "start_time": "2025-06-15T13:55:48.613Z"
   },
   {
    "duration": 124,
    "start_time": "2025-06-15T13:55:49.459Z"
   },
   {
    "duration": 501,
    "start_time": "2025-06-15T13:55:49.585Z"
   },
   {
    "duration": 49,
    "start_time": "2025-06-15T13:55:50.088Z"
   },
   {
    "duration": 53,
    "start_time": "2025-06-15T13:55:50.138Z"
   },
   {
    "duration": 656,
    "start_time": "2025-06-15T13:55:50.193Z"
   },
   {
    "duration": 173,
    "start_time": "2025-06-15T13:55:50.851Z"
   },
   {
    "duration": 207,
    "start_time": "2025-06-15T13:55:51.025Z"
   },
   {
    "duration": 203,
    "start_time": "2025-06-15T13:55:51.235Z"
   },
   {
    "duration": 206,
    "start_time": "2025-06-15T13:55:51.440Z"
   },
   {
    "duration": 128,
    "start_time": "2025-06-15T13:55:51.648Z"
   },
   {
    "duration": 19,
    "start_time": "2025-06-15T13:55:51.778Z"
   },
   {
    "duration": 42,
    "start_time": "2025-06-15T13:55:51.798Z"
   },
   {
    "duration": 6,
    "start_time": "2025-06-15T13:55:51.842Z"
   },
   {
    "duration": 26,
    "start_time": "2025-06-15T13:55:51.850Z"
   },
   {
    "duration": 5,
    "start_time": "2025-06-15T13:55:51.878Z"
   },
   {
    "duration": 13,
    "start_time": "2025-06-15T13:55:51.885Z"
   },
   {
    "duration": 51,
    "start_time": "2025-06-15T13:55:51.899Z"
   },
   {
    "duration": 4,
    "start_time": "2025-06-15T13:55:51.952Z"
   },
   {
    "duration": 13,
    "start_time": "2025-06-15T13:55:51.958Z"
   },
   {
    "duration": 51,
    "start_time": "2025-06-16T06:17:52.100Z"
   },
   {
    "duration": 1430,
    "start_time": "2025-06-16T06:18:00.403Z"
   },
   {
    "duration": 2112,
    "start_time": "2025-06-16T06:18:01.835Z"
   },
   {
    "duration": 18,
    "start_time": "2025-06-16T06:18:03.949Z"
   },
   {
    "duration": 193,
    "start_time": "2025-06-16T06:18:03.970Z"
   },
   {
    "duration": 12,
    "start_time": "2025-06-16T06:18:04.165Z"
   },
   {
    "duration": 34,
    "start_time": "2025-06-16T06:18:04.179Z"
   },
   {
    "duration": 9,
    "start_time": "2025-06-16T06:18:04.215Z"
   },
   {
    "duration": 35,
    "start_time": "2025-06-16T06:18:04.225Z"
   },
   {
    "duration": 884,
    "start_time": "2025-06-16T06:18:04.262Z"
   },
   {
    "duration": 1257,
    "start_time": "2025-06-16T06:18:05.149Z"
   },
   {
    "duration": 187,
    "start_time": "2025-06-16T06:18:06.408Z"
   },
   {
    "duration": 635,
    "start_time": "2025-06-16T06:18:06.597Z"
   },
   {
    "duration": 982,
    "start_time": "2025-06-16T06:18:07.234Z"
   },
   {
    "duration": 1762,
    "start_time": "2025-06-16T06:18:08.218Z"
   },
   {
    "duration": 825,
    "start_time": "2025-06-16T06:18:09.981Z"
   },
   {
    "duration": 298,
    "start_time": "2025-06-16T06:18:10.807Z"
   },
   {
    "duration": 5146,
    "start_time": "2025-06-16T06:18:11.107Z"
   },
   {
    "duration": 6,
    "start_time": "2025-06-16T06:18:16.255Z"
   },
   {
    "duration": 50,
    "start_time": "2025-06-16T06:18:16.263Z"
   },
   {
    "duration": 4719,
    "start_time": "2025-06-16T06:18:16.314Z"
   },
   {
    "duration": 5,
    "start_time": "2025-06-16T06:18:21.035Z"
   },
   {
    "duration": 386,
    "start_time": "2025-06-16T06:18:21.041Z"
   },
   {
    "duration": 195,
    "start_time": "2025-06-16T06:18:21.429Z"
   },
   {
    "duration": 29,
    "start_time": "2025-06-16T06:18:21.627Z"
   },
   {
    "duration": 436,
    "start_time": "2025-06-16T06:18:21.658Z"
   },
   {
    "duration": 30,
    "start_time": "2025-06-16T06:18:22.096Z"
   },
   {
    "duration": 333,
    "start_time": "2025-06-16T06:18:22.128Z"
   },
   {
    "duration": 14,
    "start_time": "2025-06-16T06:18:22.466Z"
   },
   {
    "duration": 381,
    "start_time": "2025-06-16T06:18:22.481Z"
   },
   {
    "duration": 298,
    "start_time": "2025-06-16T06:18:22.864Z"
   },
   {
    "duration": 139,
    "start_time": "2025-06-16T06:18:23.164Z"
   },
   {
    "duration": 226,
    "start_time": "2025-06-16T06:18:23.305Z"
   },
   {
    "duration": 250,
    "start_time": "2025-06-16T06:18:23.533Z"
   },
   {
    "duration": 57,
    "start_time": "2025-06-16T06:18:23.785Z"
   },
   {
    "duration": 840,
    "start_time": "2025-06-16T06:18:23.843Z"
   },
   {
    "duration": 113,
    "start_time": "2025-06-16T06:18:24.685Z"
   },
   {
    "duration": 538,
    "start_time": "2025-06-16T06:18:24.800Z"
   },
   {
    "duration": 40,
    "start_time": "2025-06-16T06:18:25.340Z"
   },
   {
    "duration": 104,
    "start_time": "2025-06-16T06:18:25.381Z"
   },
   {
    "duration": 720,
    "start_time": "2025-06-16T06:18:25.487Z"
   },
   {
    "duration": 165,
    "start_time": "2025-06-16T06:18:26.209Z"
   },
   {
    "duration": 208,
    "start_time": "2025-06-16T06:18:26.376Z"
   },
   {
    "duration": 194,
    "start_time": "2025-06-16T06:18:26.586Z"
   },
   {
    "duration": 205,
    "start_time": "2025-06-16T06:18:26.781Z"
   },
   {
    "duration": 124,
    "start_time": "2025-06-16T06:18:26.987Z"
   },
   {
    "duration": 21,
    "start_time": "2025-06-16T06:18:27.112Z"
   },
   {
    "duration": 33,
    "start_time": "2025-06-16T06:18:27.134Z"
   },
   {
    "duration": 7,
    "start_time": "2025-06-16T06:18:27.169Z"
   },
   {
    "duration": 93,
    "start_time": "2025-06-16T06:18:27.177Z"
   },
   {
    "duration": 5,
    "start_time": "2025-06-16T06:18:27.272Z"
   },
   {
    "duration": 7,
    "start_time": "2025-06-16T06:18:27.279Z"
   },
   {
    "duration": 53,
    "start_time": "2025-06-16T06:18:27.287Z"
   },
   {
    "duration": 74,
    "start_time": "2025-06-16T06:18:27.342Z"
   },
   {
    "duration": 19,
    "start_time": "2025-06-16T06:18:27.418Z"
   },
   {
    "duration": 6,
    "start_time": "2025-06-16T06:27:28.944Z"
   },
   {
    "duration": 6,
    "start_time": "2025-06-16T06:27:53.082Z"
   },
   {
    "duration": 107,
    "start_time": "2025-06-16T06:28:24.103Z"
   },
   {
    "duration": 5,
    "start_time": "2025-06-16T06:28:50.979Z"
   },
   {
    "duration": 5,
    "start_time": "2025-06-16T06:29:08.447Z"
   },
   {
    "duration": 1141,
    "start_time": "2025-06-16T06:48:26.740Z"
   },
   {
    "duration": 1769,
    "start_time": "2025-06-16T06:48:27.884Z"
   },
   {
    "duration": 19,
    "start_time": "2025-06-16T06:48:29.655Z"
   },
   {
    "duration": 112,
    "start_time": "2025-06-16T06:48:29.676Z"
   },
   {
    "duration": 16,
    "start_time": "2025-06-16T06:48:29.791Z"
   },
   {
    "duration": 22,
    "start_time": "2025-06-16T06:48:29.809Z"
   },
   {
    "duration": 9,
    "start_time": "2025-06-16T06:48:29.833Z"
   },
   {
    "duration": 19,
    "start_time": "2025-06-16T06:48:29.844Z"
   },
   {
    "duration": 897,
    "start_time": "2025-06-16T06:48:29.865Z"
   },
   {
    "duration": 1277,
    "start_time": "2025-06-16T06:48:30.766Z"
   },
   {
    "duration": 187,
    "start_time": "2025-06-16T06:48:32.045Z"
   },
   {
    "duration": 689,
    "start_time": "2025-06-16T06:48:32.233Z"
   },
   {
    "duration": 1036,
    "start_time": "2025-06-16T06:48:32.924Z"
   },
   {
    "duration": 1724,
    "start_time": "2025-06-16T06:48:33.962Z"
   },
   {
    "duration": 822,
    "start_time": "2025-06-16T06:48:35.688Z"
   },
   {
    "duration": 303,
    "start_time": "2025-06-16T06:48:36.512Z"
   },
   {
    "duration": 4893,
    "start_time": "2025-06-16T06:48:36.817Z"
   },
   {
    "duration": 6,
    "start_time": "2025-06-16T06:48:41.712Z"
   },
   {
    "duration": 28,
    "start_time": "2025-06-16T06:48:41.719Z"
   },
   {
    "duration": 4680,
    "start_time": "2025-06-16T06:48:41.749Z"
   },
   {
    "duration": 4,
    "start_time": "2025-06-16T06:48:46.431Z"
   },
   {
    "duration": 345,
    "start_time": "2025-06-16T06:48:46.436Z"
   },
   {
    "duration": 185,
    "start_time": "2025-06-16T06:48:46.783Z"
   },
   {
    "duration": 37,
    "start_time": "2025-06-16T06:48:46.970Z"
   },
   {
    "duration": 430,
    "start_time": "2025-06-16T06:48:47.009Z"
   },
   {
    "duration": 28,
    "start_time": "2025-06-16T06:48:47.440Z"
   },
   {
    "duration": 348,
    "start_time": "2025-06-16T06:48:47.470Z"
   },
   {
    "duration": 13,
    "start_time": "2025-06-16T06:48:47.822Z"
   },
   {
    "duration": 408,
    "start_time": "2025-06-16T06:48:47.836Z"
   },
   {
    "duration": 294,
    "start_time": "2025-06-16T06:48:48.246Z"
   },
   {
    "duration": 143,
    "start_time": "2025-06-16T06:48:48.542Z"
   },
   {
    "duration": 225,
    "start_time": "2025-06-16T06:48:48.687Z"
   },
   {
    "duration": 254,
    "start_time": "2025-06-16T06:48:48.914Z"
   },
   {
    "duration": 64,
    "start_time": "2025-06-16T06:48:49.170Z"
   },
   {
    "duration": 820,
    "start_time": "2025-06-16T06:48:49.236Z"
   },
   {
    "duration": 116,
    "start_time": "2025-06-16T06:48:50.058Z"
   },
   {
    "duration": 531,
    "start_time": "2025-06-16T06:48:50.176Z"
   },
   {
    "duration": 39,
    "start_time": "2025-06-16T06:48:50.709Z"
   },
   {
    "duration": 73,
    "start_time": "2025-06-16T06:48:50.750Z"
   },
   {
    "duration": 637,
    "start_time": "2025-06-16T06:48:50.825Z"
   },
   {
    "duration": 177,
    "start_time": "2025-06-16T06:48:51.464Z"
   },
   {
    "duration": 202,
    "start_time": "2025-06-16T06:48:51.642Z"
   },
   {
    "duration": 205,
    "start_time": "2025-06-16T06:48:51.846Z"
   },
   {
    "duration": 215,
    "start_time": "2025-06-16T06:48:52.053Z"
   },
   {
    "duration": 128,
    "start_time": "2025-06-16T06:48:52.269Z"
   },
   {
    "duration": 20,
    "start_time": "2025-06-16T06:48:52.399Z"
   },
   {
    "duration": 50,
    "start_time": "2025-06-16T06:48:52.421Z"
   },
   {
    "duration": 5,
    "start_time": "2025-06-16T06:48:52.473Z"
   },
   {
    "duration": 31,
    "start_time": "2025-06-16T06:48:52.480Z"
   },
   {
    "duration": 9,
    "start_time": "2025-06-16T06:48:52.513Z"
   },
   {
    "duration": 13,
    "start_time": "2025-06-16T06:48:52.523Z"
   },
   {
    "duration": 46,
    "start_time": "2025-06-16T06:48:52.538Z"
   },
   {
    "duration": 4,
    "start_time": "2025-06-16T06:48:52.586Z"
   },
   {
    "duration": 17,
    "start_time": "2025-06-16T06:48:52.592Z"
   }
  ],
  "kernelspec": {
   "display_name": "Python 3 (ipykernel)",
   "language": "python",
   "name": "python3"
  },
  "language_info": {
   "codemirror_mode": {
    "name": "ipython",
    "version": 3
   },
   "file_extension": ".py",
   "mimetype": "text/x-python",
   "name": "python",
   "nbconvert_exporter": "python",
   "pygments_lexer": "ipython3",
   "version": "3.9.5"
  },
  "toc": {
   "base_numbering": 1,
   "nav_menu": {},
   "number_sections": true,
   "sideBar": true,
   "skip_h1_title": true,
   "title_cell": "Table of Contents",
   "title_sidebar": "Contents",
   "toc_cell": false,
   "toc_position": {},
   "toc_section_display": true,
   "toc_window_display": false
  }
 },
 "nbformat": 4,
 "nbformat_minor": 5
}

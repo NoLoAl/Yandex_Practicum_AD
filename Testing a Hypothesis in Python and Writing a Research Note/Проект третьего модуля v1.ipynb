{
 "cells": [
  {
   "cell_type": "markdown",
   "id": "Z5_6nf-FrY7o",
   "metadata": {
    "id": "Z5_6nf-FrY7o"
   },
   "source": [
    "Вы предобработали данные в SQL, и теперь они готовы для проверки гипотезы в Python. Загрузите данные пользователей из Москвы и Санкт-Петербурга c суммой часов их активности из файла yandex_knigi_data.csv. Если работаете локально, скачать файл можно по ссылке.\n",
    "\n",
    "Проверьте наличие дубликатов в идентификаторах пользователей. Сравните размеры групп, их статистики и распределение.\n",
    "\n",
    "Напомним, как выглядит гипотеза: пользователи из Санкт-Петербурга проводят в среднем больше времени за чтением и прослушиванием книг в приложении, чем пользователи из Москвы. Попробуйте статистически это доказать, используя одностороннюю проверку гипотезы с двумя выборками:\n",
    "\n",
    "Нулевая гипотеза $H_0: \\mu_{\\text{СПб}} \\leq \\mu_{\\text{Москва}}$ <br> Среднее время активности пользователей в Санкт-Петербурге не больше, чем в Москве.\n",
    "\n",
    "Альтернативная гипотеза $H_1: \\mu_{\\text{СПб}} > \\mu_{\\text{Москва}}$ <br> Среднее время активности пользователей в Санкт-Петербурге больше, и это различие статистически значимо.\n",
    "\n",
    "По результатам анализа данных подготовьте аналитическую записку, в которой опишите:\n",
    "\n",
    "Выбранный тип t-теста и уровень статистической значимости.\n",
    "\n",
    "Результат теста, или p-value.\n",
    "\n",
    "Вывод на основе полученного p-value, то есть интерпретацию результатов.\n",
    "\n",
    "Одну или две возможные причины, объясняющие полученные результаты."
   ]
  },
  {
   "cell_type": "markdown",
   "id": "e06910dd",
   "metadata": {
    "id": "e06910dd"
   },
   "source": [
    "## Проверка гипотезы в Python и составление аналитической записки\n",
    " \n",
    "- Автор: Смирнов Александр Викторович\n",
    "- Дата: 27.05.2025"
   ]
  },
  {
   "cell_type": "markdown",
   "id": "4149134c",
   "metadata": {
    "id": "4149134c"
   },
   "source": [
    "## Цели и задачи проекта\n",
    "\n",
    "Оценка различия среднего времени активности пользователей приложения из двух крупнейших городов России — Санкт-Петербурга и Москвы. Основной целью является проверка предположения о том, что пользователи из Санкт-Петербурга тратят больше времени на чтение и прослушивание книг в приложении, чем пользователи из Москвы.\n",
    "\n"
   ]
  },
  {
   "cell_type": "markdown",
   "id": "728986ea",
   "metadata": {
    "id": "728986ea"
   },
   "source": [
    "## Описание данных\n",
    "Используются данные по активности пользователей мобильного приложения чтения и прослушивания аудиокниг. Основные характеристики набора данных включают:\n",
    "\n",
    "- Уникальные идентификаторы пользователей.\n",
    "- Город проживания пользователя («Санкт-Петербург», «Москва»).\n",
    "- Время активности пользователя в приложении (например, количество минут)."
   ]
  },
  {
   "cell_type": "markdown",
   "id": "4fecaf95",
   "metadata": {
    "id": "4fecaf95"
   },
   "source": [
    "## Содержимое проекта\n",
    "\n",
    "<font color='#777778'>Перечислите основные шаги проекта или напишите оглавление. Используйте описание проекта, чтобы зафиксировать основные шаги.</font>\n",
    "\n",
    "---"
   ]
  },
  {
   "cell_type": "markdown",
   "id": "6f7d21d6",
   "metadata": {
    "id": "6f7d21d6"
   },
   "source": [
    "## 1. Загрузка данных и знакомство с ними\n",
    "\n",
    "Загрузите данные пользователей из Москвы и Санкт-Петербурга c их активностью (суммой часов чтения и прослушивания) из файла `yandex_knigi_data`."
   ]
  },
  {
   "cell_type": "code",
   "execution_count": 1,
   "id": "8ff479fe",
   "metadata": {},
   "outputs": [],
   "source": [
    "import pandas as pd\n",
    "import matplotlib.pyplot as plt\n",
    "\n",
    "from scipy.stats import mannwhitneyu, ttest_ind\n",
    "from statsmodels.stats.proportion import proportions_ztest\n",
    "\n"
   ]
  },
  {
   "cell_type": "code",
   "execution_count": null,
   "id": "ce87c1db",
   "metadata": {
    "id": "ce87c1db"
   },
   "outputs": [],
   "source": [
    "df = pd.read_csv(\"yandex_knigi_data\")\n",
    "\n",
    "df = df.drop(columns= 'Unnamed: 0')"
   ]
  },
  {
   "cell_type": "code",
   "execution_count": 3,
   "id": "f68a7419",
   "metadata": {
    "id": "f68a7419"
   },
   "outputs": [
    {
     "data": {
      "text/html": [
       "<div>\n",
       "<style scoped>\n",
       "    .dataframe tbody tr th:only-of-type {\n",
       "        vertical-align: middle;\n",
       "    }\n",
       "\n",
       "    .dataframe tbody tr th {\n",
       "        vertical-align: top;\n",
       "    }\n",
       "\n",
       "    .dataframe thead th {\n",
       "        text-align: right;\n",
       "    }\n",
       "</style>\n",
       "<table border=\"1\" class=\"dataframe\">\n",
       "  <thead>\n",
       "    <tr style=\"text-align: right;\">\n",
       "      <th></th>\n",
       "      <th>city</th>\n",
       "      <th>puid</th>\n",
       "      <th>hours</th>\n",
       "    </tr>\n",
       "  </thead>\n",
       "  <tbody>\n",
       "    <tr>\n",
       "      <th>0</th>\n",
       "      <td>Москва</td>\n",
       "      <td>9668</td>\n",
       "      <td>26.167776</td>\n",
       "    </tr>\n",
       "    <tr>\n",
       "      <th>1</th>\n",
       "      <td>Москва</td>\n",
       "      <td>16598</td>\n",
       "      <td>82.111217</td>\n",
       "    </tr>\n",
       "    <tr>\n",
       "      <th>2</th>\n",
       "      <td>Москва</td>\n",
       "      <td>80401</td>\n",
       "      <td>4.656906</td>\n",
       "    </tr>\n",
       "    <tr>\n",
       "      <th>3</th>\n",
       "      <td>Москва</td>\n",
       "      <td>140205</td>\n",
       "      <td>1.840556</td>\n",
       "    </tr>\n",
       "    <tr>\n",
       "      <th>4</th>\n",
       "      <td>Москва</td>\n",
       "      <td>248755</td>\n",
       "      <td>151.326434</td>\n",
       "    </tr>\n",
       "  </tbody>\n",
       "</table>\n",
       "</div>"
      ],
      "text/plain": [
       "     city    puid       hours\n",
       "0  Москва    9668   26.167776\n",
       "1  Москва   16598   82.111217\n",
       "2  Москва   80401    4.656906\n",
       "3  Москва  140205    1.840556\n",
       "4  Москва  248755  151.326434"
      ]
     },
     "execution_count": 3,
     "metadata": {},
     "output_type": "execute_result"
    }
   ],
   "source": [
    "df.head()"
   ]
  },
  {
   "cell_type": "code",
   "execution_count": 4,
   "id": "4db400fa",
   "metadata": {},
   "outputs": [
    {
     "name": "stdout",
     "output_type": "stream",
     "text": [
      "<class 'pandas.core.frame.DataFrame'>\n",
      "RangeIndex: 8784 entries, 0 to 8783\n",
      "Data columns (total 3 columns):\n",
      " #   Column  Non-Null Count  Dtype  \n",
      "---  ------  --------------  -----  \n",
      " 0   city    8784 non-null   object \n",
      " 1   puid    8784 non-null   int64  \n",
      " 2   hours   8784 non-null   float64\n",
      "dtypes: float64(1), int64(1), object(1)\n",
      "memory usage: 206.0+ KB\n"
     ]
    }
   ],
   "source": [
    "df.info()"
   ]
  },
  {
   "cell_type": "code",
   "execution_count": 5,
   "id": "2b16b176",
   "metadata": {},
   "outputs": [
    {
     "data": {
      "text/plain": [
       "count    8784.000000\n",
       "mean       11.087670\n",
       "std        37.701350\n",
       "min         0.000018\n",
       "25%         0.066246\n",
       "50%         0.942344\n",
       "75%         6.065151\n",
       "max       978.764775\n",
       "Name: hours, dtype: float64"
      ]
     },
     "execution_count": 5,
     "metadata": {},
     "output_type": "execute_result"
    }
   ],
   "source": [
    "df['hours'].describe()"
   ]
  },
  {
   "cell_type": "code",
   "execution_count": 6,
   "id": "ec11ea84",
   "metadata": {},
   "outputs": [
    {
     "data": {
      "text/html": [
       "<style type=\"text/css\">\n",
       "#T_e0628_row0_col0, #T_e0628_row0_col1, #T_e0628_row0_col2, #T_e0628_row1_col0, #T_e0628_row1_col1, #T_e0628_row1_col2, #T_e0628_row2_col0, #T_e0628_row2_col1, #T_e0628_row2_col2 {\n",
       "  background-color: #3b4cc0;\n",
       "  color: #f1f1f1;\n",
       "}\n",
       "</style>\n",
       "<table id=\"T_e0628\">\n",
       "  <thead>\n",
       "    <tr>\n",
       "      <th class=\"blank level0\" >&nbsp;</th>\n",
       "      <th id=\"T_e0628_level0_col0\" class=\"col_heading level0 col0\" >Количество пропусков</th>\n",
       "      <th id=\"T_e0628_level0_col1\" class=\"col_heading level0 col1\" >Доля пропусков</th>\n",
       "      <th id=\"T_e0628_level0_col2\" class=\"col_heading level0 col2\" >Количество дубликатов</th>\n",
       "    </tr>\n",
       "  </thead>\n",
       "  <tbody>\n",
       "    <tr>\n",
       "      <th id=\"T_e0628_level0_row0\" class=\"row_heading level0 row0\" >city</th>\n",
       "      <td id=\"T_e0628_row0_col0\" class=\"data row0 col0\" >0</td>\n",
       "      <td id=\"T_e0628_row0_col1\" class=\"data row0 col1\" >0.000000</td>\n",
       "      <td id=\"T_e0628_row0_col2\" class=\"data row0 col2\" >0</td>\n",
       "    </tr>\n",
       "    <tr>\n",
       "      <th id=\"T_e0628_level0_row1\" class=\"row_heading level0 row1\" >puid</th>\n",
       "      <td id=\"T_e0628_row1_col0\" class=\"data row1 col0\" >0</td>\n",
       "      <td id=\"T_e0628_row1_col1\" class=\"data row1 col1\" >0.000000</td>\n",
       "      <td id=\"T_e0628_row1_col2\" class=\"data row1 col2\" >0</td>\n",
       "    </tr>\n",
       "    <tr>\n",
       "      <th id=\"T_e0628_level0_row2\" class=\"row_heading level0 row2\" >hours</th>\n",
       "      <td id=\"T_e0628_row2_col0\" class=\"data row2 col0\" >0</td>\n",
       "      <td id=\"T_e0628_row2_col1\" class=\"data row2 col1\" >0.000000</td>\n",
       "      <td id=\"T_e0628_row2_col2\" class=\"data row2 col2\" >0</td>\n",
       "    </tr>\n",
       "  </tbody>\n",
       "</table>\n"
      ],
      "text/plain": [
       "<pandas.io.formats.style.Styler at 0x2061d1b9e80>"
      ]
     },
     "execution_count": 6,
     "metadata": {},
     "output_type": "execute_result"
    }
   ],
   "source": [
    "(pd.DataFrame({'Количество пропусков': df.isnull().sum(), 'Доля пропусков': df.isnull().mean().round(4), 'Количество дубликатов': df.duplicated().sum()}).style.background_gradient(cmap='coolwarm'))"
   ]
  },
  {
   "cell_type": "markdown",
   "id": "9d9fe862",
   "metadata": {},
   "source": [
    "По обзору данных, пропуском и дубликатов нет. Можно работать."
   ]
  },
  {
   "cell_type": "markdown",
   "id": "956e82e2",
   "metadata": {
    "id": "956e82e2"
   },
   "source": [
    "## 2. Проверка гипотезы в Python\n",
    "\n",
    "Гипотеза звучит так: пользователи из Санкт-Петербурга проводят в среднем больше времени за чтением и прослушиванием книг в приложении, чем пользователи из Москвы. Попробуйте статистически это доказать, используя одностороннюю проверку гипотезы с двумя выборками:\n",
    "\n",
    "- Нулевая гипотеза H₀: Средняя активность пользователей в часах в двух группах (Москва и Санкт-Петербург) не различается.\n",
    "\n",
    "- Альтернативная гипотеза H₁: Средняя активность пользователей в Санкт-Петербурге больше, и это различие статистически значимо."
   ]
  },
  {
   "cell_type": "code",
   "execution_count": 7,
   "id": "67956690",
   "metadata": {
    "id": "67956690"
   },
   "outputs": [],
   "source": [
    "msk_a = df[df['city'] == 'Москва']\n",
    "spb_b = df[df['city'] == 'Санкт-Петербург']\n",
    "\n",
    "msk_a_nun = msk_a.groupby('city', as_index= False)['hours'].mean()\n",
    "spb_b_nun = spb_b.groupby('city', as_index= False)['hours'].mean()"
   ]
  },
  {
   "cell_type": "code",
   "execution_count": 8,
   "id": "9ed3449d",
   "metadata": {},
   "outputs": [
    {
     "name": "stdout",
     "output_type": "stream",
     "text": [
      "Пользователи из обоих групп: 244\n"
     ]
    }
   ],
   "source": [
    "int_set = list(set(msk_a['puid']) & set(spb_b['puid']))\n",
    "\n",
    "print(f'Пользователи из обоих групп: {len(int_set)}')"
   ]
  },
  {
   "cell_type": "code",
   "execution_count": 9,
   "id": "aef81e07",
   "metadata": {},
   "outputs": [],
   "source": [
    "msk_a_cleaned = msk_a.copy()\n",
    "mask_msk = ~msk_a['puid'].astype(int).isin(int_set)\n",
    "\n",
    "msk_a_cleaned['puid'] = msk_a_cleaned['puid'][mask_msk]\n",
    "\n",
    "msk_a_cleaned = msk_a_cleaned.dropna()"
   ]
  },
  {
   "cell_type": "code",
   "execution_count": 10,
   "id": "14c90ede",
   "metadata": {},
   "outputs": [],
   "source": [
    "spb_b_cleaned = spb_b.copy()\n",
    "mask_spb = ~spb_b['puid'].astype(int).isin(int_set)\n",
    "\n",
    "spb_b_cleaned['puid'] = spb_b_cleaned['puid'][mask_spb]\n",
    "\n",
    "spb_b_cleaned = spb_b_cleaned.dropna()"
   ]
  },
  {
   "cell_type": "code",
   "execution_count": 11,
   "id": "01833f88",
   "metadata": {},
   "outputs": [],
   "source": [
    "msk_cleaned_nun = msk_a_cleaned.groupby('city', as_index= False)['hours'].mean()\n",
    "spb_cleaned_nun = spb_b_cleaned.groupby('city', as_index= False)['hours'].mean()"
   ]
  },
  {
   "cell_type": "code",
   "execution_count": 12,
   "id": "e29acaec",
   "metadata": {},
   "outputs": [
    {
     "name": "stdout",
     "output_type": "stream",
     "text": [
      "Пользователи из обоих групп: 0\n"
     ]
    }
   ],
   "source": [
    "int_set_cleaned  = list(set(msk_a_cleaned['puid']) & set(spb_b_cleaned['puid']))\n",
    "\n",
    "print(f'Пользователи из обоих групп: {len(int_set_cleaned)}')"
   ]
  },
  {
   "cell_type": "code",
   "execution_count": 13,
   "id": "f3db4ff7",
   "metadata": {},
   "outputs": [
    {
     "name": "stdout",
     "output_type": "stream",
     "text": [
      "Среднее время прослушивания группы А: 10.88\n",
      "Среднее время прослушивания группы В: 11.59\n"
     ]
    }
   ],
   "source": [
    "print(f\"Среднее время прослушивания группы А: {round(msk_a_nun.at[0, 'hours'], 2)}\")\n",
    "\n",
    "print(f\"Среднее время прослушивания группы В: {round(spb_b_nun.at[0, 'hours'], 2)}\")"
   ]
  },
  {
   "cell_type": "code",
   "execution_count": 14,
   "id": "1f787d06",
   "metadata": {},
   "outputs": [
    {
     "name": "stdout",
     "output_type": "stream",
     "text": [
      "Среднее время прослушивания группы А, без пересечений: 10.85\n",
      "Среднее время прослушивания группы В, без пересечений: 11.26\n"
     ]
    }
   ],
   "source": [
    "print(f\"Среднее время прослушивания группы А, без пересечений: {round(msk_cleaned_nun.at[0, 'hours'], 2)}\")\n",
    "\n",
    "print(f\"Среднее время прослушивания группы В, без пересечений: {round(spb_cleaned_nun.at[0, 'hours'], 2)}\")"
   ]
  },
  {
   "cell_type": "code",
   "execution_count": 15,
   "id": "39c73749",
   "metadata": {},
   "outputs": [
    {
     "data": {
      "image/png": "[encoded data removed]",
      "text/plain": [
       "<Figure size 1500x800 with 1 Axes>"
      ]
     },
     "metadata": {},
     "output_type": "display_data"
    }
   ],
   "source": [
    "daily_users = df.groupby(['city'])['puid'].nunique()\n",
    "\n",
    "daily_users.plot(kind='bar', figsize=(15, 8))\n",
    "\n",
    "plt.title('Распределение пользователей по группам')\n",
    "plt.xlabel('Город')  \n",
    "plt.ylabel('Количество уникальных пользователей')   \n",
    "\n",
    "plt.show()"
   ]
  },
  {
   "cell_type": "markdown",
   "id": "389210ec",
   "metadata": {},
   "source": [
    "\n",
    "Без учета возможных пересекающихся пользователей, среднее время прослушивания незначительно меняется:\n",
    "- Для группы A среднее время снижается до 10.85 минут.\n",
    "- Для группы B среднее время уменьшается до 11.26 минут.\n",
    "\n",
    "Таким образом, мы видим незначительное снижение средних значений, однако общее соотношение остается примерно таким же: пользователи группы B слушают музыку немного дольше, чем пользователи группы A. Данный промежуточный вывод помогает лучше понять поведение слушателей обеих групп и подготовить почву для дальнейшего анализа влияния различных факторов на продолжительность прослушивания.\n",
    "\n",
    "График  наглядно демонстрирует, что группа пользователей из Москвы значительно превосходит по количеству группу пользователей из Санкт-Петербурга. Это может быть связано с различными факторами, такими как размер города, уровень активности пользователей или другие демографические особенности."
   ]
  },
  {
   "cell_type": "markdown",
   "id": "9b9c494c",
   "metadata": {},
   "source": [
    "----"
   ]
  },
  {
   "cell_type": "markdown",
   "id": "ed27f446",
   "metadata": {},
   "source": [
    "Гипотеза звучит так: пользователи из Санкт-Петербурга проводят в среднем больше времени за чтением и прослушиванием книг в приложении, чем пользователи из Москвы. Попробуйте статистически это доказать, используя одностороннюю проверку гипотезы с двумя выборками:\n",
    "\n",
    "- Нулевая гипотеза H₀: Средняя активность пользователей в часах в двух группах (Москва и Санкт-Петербург) не различается.\n",
    "\n",
    "- Альтернативная гипотеза H₁: Средняя активность пользователей в Санкт-Петербурге больше, и это различие статистически значимо."
   ]
  },
  {
   "cell_type": "code",
   "execution_count": 16,
   "id": "b85a10b2",
   "metadata": {
    "scrolled": true
   },
   "outputs": [
    {
     "name": "stdout",
     "output_type": "stream",
     "text": [
      "p-значение: 0.6736\n",
      "Средние время активности пользователей  в двух выборках существенно не различаются.\n"
     ]
    }
   ],
   "source": [
    "statistic, p_value = ttest_ind(msk_a_cleaned['hours'], spb_b_cleaned['hours'], alternative= 'greater')\n",
    "\n",
    "print(f'p-значение: {p_value:.4f}')\n",
    "\n",
    "if p_value > 0.05:\n",
    "    print(\"Средние время активности пользователей  в двух выборках существенно не различаются.\")\n",
    "else:\n",
    "    print(\"Есть основания считать, что среднее время активности пользователей в Санкт-Петербурге действительно больше, чем в Москве.\")"
   ]
  },
  {
   "cell_type": "markdown",
   "id": "6953e84c",
   "metadata": {
    "id": "6953e84c"
   },
   "source": [
    "## 3. Аналитическая записка\n",
    "По результатам анализа данных подготовьте аналитическую записку, в которой опишете:\n",
    "\n",
    "- Выбранный тип t-теста и уровень статистической значимости.\n",
    "\n",
    "- Результат теста, или p-value.\n",
    "\n",
    "- Вывод на основе полученного p-value, то есть интерпретацию результатов.\n",
    "\n",
    "- Одну или две возможные причины, объясняющие полученные результаты.\n",
    "\n"
   ]
  },
  {
   "cell_type": "markdown",
   "id": "6f985f06",
   "metadata": {},
   "source": [
    "## Аналитическая записка\n",
    "\n",
    "### Тип выбранного t-теста и уровень статистической значимости\n",
    "Для сравнения средних значений между двумя независимыми группами (группа A и группа B), использовался независимый двусторонний t-тест. Уровень статистической значимости установлен на стандартном уровне α = 0.05. Нормальное распределение и примерно одинаковые дисперсии: Предпочтителен t-тест.\n",
    "\n",
    "### Результат теста (p-value)\n",
    "Полученное значение p-value составляет 0.7890, после удаления пересечений p-value составляет 0.6736. Если p-value значительно превышает заданный уровень значимости (обычно 0.05), мы не можем отвергнуть нулевую гипотезу.\n",
    "\n",
    "### Интерпретация результата\n",
    "Поскольку рассчитанное p-value (0.7890), после удаления пересечений p-value составляет (0.6736) значительно превышает установленный порог уровня значимости (α=0.05), мы принимаем нулевую гипотезу, согласно которой средние времена прослушивания в группах A и B равны. Другими словами, различия в среднем времени прослушивания между этими группами незначительны и не являются статистически достоверными.\n",
    "\n",
    "### Возможные объяснения полученных результатов\n",
    "- Различия в условиях эксперимента или характеристики выборок были недостаточно выражены, чтобы вызвать заметные изменения среднего времени прослушивания.\n",
    "- Используемые инструменты сбора данных могли иметь низкую точность либо ограниченную способность фиксировать мелкие различия в поведении пользователей.\n",
    "\n",
    "\n",
    "\n"
   ]
  },
  {
   "cell_type": "markdown",
   "id": "hc1d6jVISegz",
   "metadata": {
    "id": "hc1d6jVISegz"
   },
   "source": [
    "----"
   ]
  },
  {
   "cell_type": "markdown",
   "id": "NqOUIYhbrIfC",
   "metadata": {
    "id": "NqOUIYhbrIfC"
   },
   "source": [
    "# Часть 2. Анализ результатов A/B-тестирования"
   ]
  },
  {
   "cell_type": "markdown",
   "id": "tDwMKFNGsClr",
   "metadata": {
    "id": "tDwMKFNGsClr"
   },
   "source": [
    "Теперь вам нужно проанализировать другие данные. Представьте, что к вам обратились представители интернет-магазина BitMotion Kit, в котором продаются геймифицированные товары для тех, кто ведёт здоровый образ жизни. У него есть своя целевая аудитория, даже появились хиты продаж: эспандер со счётчиком и напоминанием, так и подстольный велотренажёр с Bluetooth.\n",
    "\n",
    "В будущем компания хочет расширить ассортимент товаров. Но перед этим нужно решить одну проблему. Интерфейс онлайн-магазина слишком сложен для пользователей — об этом говорят отзывы.\n",
    "\n",
    "Чтобы привлечь новых клиентов и увеличить число продаж, владельцы магазина разработали новую версию сайта и протестировали его на части пользователей. По задумке, это решение доказуемо повысит количество пользователей, которые совершат покупку.\n",
    "\n",
    "Ваша задача — провести оценку результатов A/B-теста. В вашем распоряжении:\n",
    "\n",
    "* данные о действиях пользователей и распределении их на группы,\n",
    "\n",
    "* техническое задание.\n",
    "\n",
    "Оцените корректность проведения теста и проанализируйте его результаты."
   ]
  },
  {
   "cell_type": "markdown",
   "id": "UNXAAyF5r9Rk",
   "metadata": {
    "id": "UNXAAyF5r9Rk"
   },
   "source": [
    "## 1. Опишите цели исследования.\n",
    "\n"
   ]
  },
  {
   "cell_type": "markdown",
   "id": "kHx-51yES8bd",
   "metadata": {
    "id": "kHx-51yES8bd"
   },
   "source": [
    "Цель любого A/B-теста заключается в объективном сравнении двух вариантов какого-то элемента (например, интерфейса сайта, маркетингового подхода, рекламного объявления), чтобы выявить наиболее эффективный вариант и принять обоснованное решение о дальнейших действиях."
   ]
  },
  {
   "cell_type": "markdown",
   "id": "_CZryx2OsH-s",
   "metadata": {
    "id": "_CZryx2OsH-s"
   },
   "source": [
    "## 2. Загрузите данные, оцените их целостность.\n"
   ]
  },
  {
   "cell_type": "code",
   "execution_count": null,
   "id": "DjFcJbeGsTIg",
   "metadata": {
    "id": "DjFcJbeGsTIg"
   },
   "outputs": [],
   "source": [
    "participants = pd.read_csv('ab_test_participants')\n",
    "events = pd.read_csv('ab_test_events',\n",
    "                     parse_dates=['event_dt'], low_memory=False)"
   ]
  },
  {
   "cell_type": "code",
   "execution_count": 18,
   "id": "67bac0f3",
   "metadata": {},
   "outputs": [
    {
     "data": {
      "text/html": [
       "<div>\n",
       "<style scoped>\n",
       "    .dataframe tbody tr th:only-of-type {\n",
       "        vertical-align: middle;\n",
       "    }\n",
       "\n",
       "    .dataframe tbody tr th {\n",
       "        vertical-align: top;\n",
       "    }\n",
       "\n",
       "    .dataframe thead th {\n",
       "        text-align: right;\n",
       "    }\n",
       "</style>\n",
       "<table border=\"1\" class=\"dataframe\">\n",
       "  <thead>\n",
       "    <tr style=\"text-align: right;\">\n",
       "      <th></th>\n",
       "      <th>user_id</th>\n",
       "      <th>group</th>\n",
       "      <th>ab_test</th>\n",
       "      <th>device</th>\n",
       "    </tr>\n",
       "  </thead>\n",
       "  <tbody>\n",
       "    <tr>\n",
       "      <th>0</th>\n",
       "      <td>0002CE61FF2C4011</td>\n",
       "      <td>B</td>\n",
       "      <td>interface_eu_test</td>\n",
       "      <td>Mac</td>\n",
       "    </tr>\n",
       "    <tr>\n",
       "      <th>1</th>\n",
       "      <td>001064FEAAB631A1</td>\n",
       "      <td>B</td>\n",
       "      <td>recommender_system_test</td>\n",
       "      <td>Android</td>\n",
       "    </tr>\n",
       "    <tr>\n",
       "      <th>2</th>\n",
       "      <td>001064FEAAB631A1</td>\n",
       "      <td>A</td>\n",
       "      <td>interface_eu_test</td>\n",
       "      <td>Android</td>\n",
       "    </tr>\n",
       "    <tr>\n",
       "      <th>3</th>\n",
       "      <td>0010A1C096941592</td>\n",
       "      <td>A</td>\n",
       "      <td>recommender_system_test</td>\n",
       "      <td>Android</td>\n",
       "    </tr>\n",
       "    <tr>\n",
       "      <th>4</th>\n",
       "      <td>001E72F50D1C48FA</td>\n",
       "      <td>A</td>\n",
       "      <td>interface_eu_test</td>\n",
       "      <td>Mac</td>\n",
       "    </tr>\n",
       "  </tbody>\n",
       "</table>\n",
       "</div>"
      ],
      "text/plain": [
       "            user_id group                  ab_test   device\n",
       "0  0002CE61FF2C4011     B        interface_eu_test      Mac\n",
       "1  001064FEAAB631A1     B  recommender_system_test  Android\n",
       "2  001064FEAAB631A1     A        interface_eu_test  Android\n",
       "3  0010A1C096941592     A  recommender_system_test  Android\n",
       "4  001E72F50D1C48FA     A        interface_eu_test      Mac"
      ]
     },
     "execution_count": 18,
     "metadata": {},
     "output_type": "execute_result"
    }
   ],
   "source": [
    "participants.head()"
   ]
  },
  {
   "cell_type": "code",
   "execution_count": 19,
   "id": "67ebb4dc",
   "metadata": {},
   "outputs": [
    {
     "data": {
      "text/plain": [
       "ab_test\n",
       "interface_eu_test          10850\n",
       "recommender_system_test     3675\n",
       "Name: count, dtype: int64"
      ]
     },
     "execution_count": 19,
     "metadata": {},
     "output_type": "execute_result"
    }
   ],
   "source": [
    "participants['ab_test'].value_counts()"
   ]
  },
  {
   "cell_type": "code",
   "execution_count": 20,
   "id": "9dc21867",
   "metadata": {},
   "outputs": [
    {
     "name": "stdout",
     "output_type": "stream",
     "text": [
      "<class 'pandas.core.frame.DataFrame'>\n",
      "RangeIndex: 14525 entries, 0 to 14524\n",
      "Data columns (total 4 columns):\n",
      " #   Column   Non-Null Count  Dtype \n",
      "---  ------   --------------  ----- \n",
      " 0   user_id  14525 non-null  object\n",
      " 1   group    14525 non-null  object\n",
      " 2   ab_test  14525 non-null  object\n",
      " 3   device   14525 non-null  object\n",
      "dtypes: object(4)\n",
      "memory usage: 454.0+ KB\n"
     ]
    }
   ],
   "source": [
    "participants.info()"
   ]
  },
  {
   "cell_type": "code",
   "execution_count": 21,
   "id": "b76d5bb0",
   "metadata": {},
   "outputs": [
    {
     "data": {
      "text/html": [
       "<style type=\"text/css\">\n",
       "#T_f8f69_row0_col0, #T_f8f69_row0_col1, #T_f8f69_row0_col2, #T_f8f69_row1_col0, #T_f8f69_row1_col1, #T_f8f69_row1_col2, #T_f8f69_row2_col0, #T_f8f69_row2_col1, #T_f8f69_row2_col2, #T_f8f69_row3_col0, #T_f8f69_row3_col1, #T_f8f69_row3_col2 {\n",
       "  background-color: #3b4cc0;\n",
       "  color: #f1f1f1;\n",
       "}\n",
       "</style>\n",
       "<table id=\"T_f8f69\">\n",
       "  <thead>\n",
       "    <tr>\n",
       "      <th class=\"blank level0\" >&nbsp;</th>\n",
       "      <th id=\"T_f8f69_level0_col0\" class=\"col_heading level0 col0\" >Количество пропусков</th>\n",
       "      <th id=\"T_f8f69_level0_col1\" class=\"col_heading level0 col1\" >Доля пропусков</th>\n",
       "      <th id=\"T_f8f69_level0_col2\" class=\"col_heading level0 col2\" >Количество дубликатов</th>\n",
       "    </tr>\n",
       "  </thead>\n",
       "  <tbody>\n",
       "    <tr>\n",
       "      <th id=\"T_f8f69_level0_row0\" class=\"row_heading level0 row0\" >user_id</th>\n",
       "      <td id=\"T_f8f69_row0_col0\" class=\"data row0 col0\" >0</td>\n",
       "      <td id=\"T_f8f69_row0_col1\" class=\"data row0 col1\" >0.000000</td>\n",
       "      <td id=\"T_f8f69_row0_col2\" class=\"data row0 col2\" >0</td>\n",
       "    </tr>\n",
       "    <tr>\n",
       "      <th id=\"T_f8f69_level0_row1\" class=\"row_heading level0 row1\" >group</th>\n",
       "      <td id=\"T_f8f69_row1_col0\" class=\"data row1 col0\" >0</td>\n",
       "      <td id=\"T_f8f69_row1_col1\" class=\"data row1 col1\" >0.000000</td>\n",
       "      <td id=\"T_f8f69_row1_col2\" class=\"data row1 col2\" >0</td>\n",
       "    </tr>\n",
       "    <tr>\n",
       "      <th id=\"T_f8f69_level0_row2\" class=\"row_heading level0 row2\" >ab_test</th>\n",
       "      <td id=\"T_f8f69_row2_col0\" class=\"data row2 col0\" >0</td>\n",
       "      <td id=\"T_f8f69_row2_col1\" class=\"data row2 col1\" >0.000000</td>\n",
       "      <td id=\"T_f8f69_row2_col2\" class=\"data row2 col2\" >0</td>\n",
       "    </tr>\n",
       "    <tr>\n",
       "      <th id=\"T_f8f69_level0_row3\" class=\"row_heading level0 row3\" >device</th>\n",
       "      <td id=\"T_f8f69_row3_col0\" class=\"data row3 col0\" >0</td>\n",
       "      <td id=\"T_f8f69_row3_col1\" class=\"data row3 col1\" >0.000000</td>\n",
       "      <td id=\"T_f8f69_row3_col2\" class=\"data row3 col2\" >0</td>\n",
       "    </tr>\n",
       "  </tbody>\n",
       "</table>\n"
      ],
      "text/plain": [
       "<pandas.io.formats.style.Styler at 0x2061d13d590>"
      ]
     },
     "execution_count": 21,
     "metadata": {},
     "output_type": "execute_result"
    }
   ],
   "source": [
    "(pd.DataFrame({'Количество пропусков': participants.isnull().sum(), 'Доля пропусков': participants.isnull().mean().round(4), 'Количество дубликатов': participants.duplicated().sum()}).style.background_gradient(cmap='coolwarm'))"
   ]
  },
  {
   "cell_type": "markdown",
   "id": "f56f0b88",
   "metadata": {},
   "source": [
    "По обзору данных, пропуском и дубликатов нет. Можно работать."
   ]
  },
  {
   "cell_type": "code",
   "execution_count": 22,
   "id": "28ef7cb8",
   "metadata": {},
   "outputs": [],
   "source": [
    "test_iet = participants[participants['ab_test'] == 'interface_eu_test']\n",
    "test_rst = participants[participants['ab_test'] == 'recommender_system_test']"
   ]
  },
  {
   "cell_type": "code",
   "execution_count": 23,
   "id": "35f59513",
   "metadata": {},
   "outputs": [
    {
     "name": "stdout",
     "output_type": "stream",
     "text": [
      "Пользователи из обоих групп: 887\n"
     ]
    }
   ],
   "source": [
    "set_group = list(set(test_iet['user_id']) & set(test_rst['user_id']))\n",
    "\n",
    "print(f'Пользователи из обоих групп: {len(set_group)}')"
   ]
  },
  {
   "cell_type": "code",
   "execution_count": 24,
   "id": "08825d9d",
   "metadata": {},
   "outputs": [],
   "source": [
    "participants = participants[~participants['user_id'].isin(set_group)]\n"
   ]
  },
  {
   "cell_type": "code",
   "execution_count": 25,
   "id": "0edb309d",
   "metadata": {},
   "outputs": [],
   "source": [
    "participants = participants[participants['ab_test'] == 'interface_eu_test']"
   ]
  },
  {
   "cell_type": "markdown",
   "id": "CnzA-efasUrk",
   "metadata": {
    "id": "CnzA-efasUrk"
   },
   "source": [
    "## 3. По таблице `ab_test_participants` оцените корректность проведения теста:\n",
    "\n",
    "   3\\.1 Выделите пользователей, участвующих в тесте, и проверьте:\n",
    "\n",
    "   - соответствие требованиям технического задания,\n",
    "\n",
    "   - равномерность распределения пользователей по группам теста,\n",
    "\n",
    "   - отсутствие пересечений с конкурирующим тестом (нет пользователей, участвующих одновременно в двух тестовых группах)."
   ]
  },
  {
   "cell_type": "code",
   "execution_count": 26,
   "id": "aNa3zHrKslEN",
   "metadata": {
    "id": "aNa3zHrKslEN"
   },
   "outputs": [],
   "source": [
    "group_a = participants[participants['group'] == 'A']\n",
    "group_b = participants[participants['group'] == 'B']\n",
    "\n",
    "group_a_nun = group_a.groupby('group', as_index= False)['user_id'].nunique()\n",
    "group_b_nun = group_b.groupby('group', as_index= False)['user_id'].nunique()"
   ]
  },
  {
   "cell_type": "code",
   "execution_count": 27,
   "id": "f5c4220b",
   "metadata": {},
   "outputs": [
    {
     "name": "stdout",
     "output_type": "stream",
     "text": [
      "Пользователи из обоих групп: 0\n"
     ]
    }
   ],
   "source": [
    "int_set_group = list(set(group_a['user_id']) & set(group_b['user_id']))\n",
    "\n",
    "print(f'Пользователи из обоих групп: {len(int_set_group)}')"
   ]
  },
  {
   "cell_type": "markdown",
   "id": "GjulgSrlsqUU",
   "metadata": {
    "id": "GjulgSrlsqUU"
   },
   "source": [
    "3\\.2 Проанализируйте данные о пользовательской активности по таблице `ab_test_events`:\n",
    "\n",
    "- оставьте только события, связанные с участвующими в изучаемом тесте пользователями;"
   ]
  },
  {
   "cell_type": "code",
   "execution_count": 28,
   "id": "QMt0Ybo_swDK",
   "metadata": {
    "id": "QMt0Ybo_swDK",
    "scrolled": false
   },
   "outputs": [
    {
     "data": {
      "text/html": [
       "<div>\n",
       "<style scoped>\n",
       "    .dataframe tbody tr th:only-of-type {\n",
       "        vertical-align: middle;\n",
       "    }\n",
       "\n",
       "    .dataframe tbody tr th {\n",
       "        vertical-align: top;\n",
       "    }\n",
       "\n",
       "    .dataframe thead th {\n",
       "        text-align: right;\n",
       "    }\n",
       "</style>\n",
       "<table border=\"1\" class=\"dataframe\">\n",
       "  <thead>\n",
       "    <tr style=\"text-align: right;\">\n",
       "      <th></th>\n",
       "      <th>user_id</th>\n",
       "      <th>event_dt</th>\n",
       "      <th>event_name</th>\n",
       "      <th>details</th>\n",
       "    </tr>\n",
       "  </thead>\n",
       "  <tbody>\n",
       "    <tr>\n",
       "      <th>0</th>\n",
       "      <td>GLOBAL</td>\n",
       "      <td>2020-12-01 00:00:00</td>\n",
       "      <td>End of Black Friday Ads Campaign</td>\n",
       "      <td>ZONE_CODE15</td>\n",
       "    </tr>\n",
       "    <tr>\n",
       "      <th>1</th>\n",
       "      <td>CCBE9E7E99F94A08</td>\n",
       "      <td>2020-12-01 00:00:11</td>\n",
       "      <td>registration</td>\n",
       "      <td>0.0</td>\n",
       "    </tr>\n",
       "    <tr>\n",
       "      <th>2</th>\n",
       "      <td>GLOBAL</td>\n",
       "      <td>2020-12-01 00:00:25</td>\n",
       "      <td>product_page</td>\n",
       "      <td>NaN</td>\n",
       "    </tr>\n",
       "    <tr>\n",
       "      <th>3</th>\n",
       "      <td>CCBE9E7E99F94A08</td>\n",
       "      <td>2020-12-01 00:00:33</td>\n",
       "      <td>login</td>\n",
       "      <td>NaN</td>\n",
       "    </tr>\n",
       "    <tr>\n",
       "      <th>4</th>\n",
       "      <td>CCBE9E7E99F94A08</td>\n",
       "      <td>2020-12-01 00:00:52</td>\n",
       "      <td>product_page</td>\n",
       "      <td>NaN</td>\n",
       "    </tr>\n",
       "  </tbody>\n",
       "</table>\n",
       "</div>"
      ],
      "text/plain": [
       "            user_id            event_dt                        event_name  \\\n",
       "0            GLOBAL 2020-12-01 00:00:00  End of Black Friday Ads Campaign   \n",
       "1  CCBE9E7E99F94A08 2020-12-01 00:00:11                      registration   \n",
       "2            GLOBAL 2020-12-01 00:00:25                      product_page   \n",
       "3  CCBE9E7E99F94A08 2020-12-01 00:00:33                             login   \n",
       "4  CCBE9E7E99F94A08 2020-12-01 00:00:52                      product_page   \n",
       "\n",
       "       details  \n",
       "0  ZONE_CODE15  \n",
       "1          0.0  \n",
       "2          NaN  \n",
       "3          NaN  \n",
       "4          NaN  "
      ]
     },
     "execution_count": 28,
     "metadata": {},
     "output_type": "execute_result"
    }
   ],
   "source": [
    "events.head()"
   ]
  },
  {
   "cell_type": "code",
   "execution_count": 29,
   "id": "4d876968",
   "metadata": {},
   "outputs": [
    {
     "data": {
      "text/plain": [
       "event_name\n",
       "login                                 248285\n",
       "product_page                          195606\n",
       "registration                          144183\n",
       "purchase                              104836\n",
       "product_cart                           94373\n",
       "End of Black Friday Ads Campaign           1\n",
       "Start of Christmas&New Year Promo          1\n",
       "Start of CIS New Year Gift Lottery         1\n",
       "Name: count, dtype: int64"
      ]
     },
     "execution_count": 29,
     "metadata": {},
     "output_type": "execute_result"
    }
   ],
   "source": [
    "events['event_name'].value_counts()"
   ]
  },
  {
   "cell_type": "code",
   "execution_count": 30,
   "id": "979f600f",
   "metadata": {},
   "outputs": [
    {
     "data": {
      "text/html": [
       "<div>\n",
       "<style scoped>\n",
       "    .dataframe tbody tr th:only-of-type {\n",
       "        vertical-align: middle;\n",
       "    }\n",
       "\n",
       "    .dataframe tbody tr th {\n",
       "        vertical-align: top;\n",
       "    }\n",
       "\n",
       "    .dataframe thead th {\n",
       "        text-align: right;\n",
       "    }\n",
       "</style>\n",
       "<table border=\"1\" class=\"dataframe\">\n",
       "  <thead>\n",
       "    <tr style=\"text-align: right;\">\n",
       "      <th></th>\n",
       "      <th>user_id</th>\n",
       "      <th>group</th>\n",
       "      <th>ab_test</th>\n",
       "      <th>device</th>\n",
       "      <th>event_dt</th>\n",
       "      <th>event_name</th>\n",
       "      <th>details</th>\n",
       "    </tr>\n",
       "  </thead>\n",
       "  <tbody>\n",
       "    <tr>\n",
       "      <th>0</th>\n",
       "      <td>0002CE61FF2C4011</td>\n",
       "      <td>B</td>\n",
       "      <td>interface_eu_test</td>\n",
       "      <td>Mac</td>\n",
       "      <td>2020-12-07 04:37:31</td>\n",
       "      <td>registration</td>\n",
       "      <td>-2.38</td>\n",
       "    </tr>\n",
       "    <tr>\n",
       "      <th>1</th>\n",
       "      <td>0002CE61FF2C4011</td>\n",
       "      <td>B</td>\n",
       "      <td>interface_eu_test</td>\n",
       "      <td>Mac</td>\n",
       "      <td>2020-12-07 04:37:49</td>\n",
       "      <td>login</td>\n",
       "      <td>NaN</td>\n",
       "    </tr>\n",
       "    <tr>\n",
       "      <th>2</th>\n",
       "      <td>0002CE61FF2C4011</td>\n",
       "      <td>B</td>\n",
       "      <td>interface_eu_test</td>\n",
       "      <td>Mac</td>\n",
       "      <td>2020-12-07 04:37:57</td>\n",
       "      <td>login</td>\n",
       "      <td>NaN</td>\n",
       "    </tr>\n",
       "    <tr>\n",
       "      <th>3</th>\n",
       "      <td>0002CE61FF2C4011</td>\n",
       "      <td>B</td>\n",
       "      <td>interface_eu_test</td>\n",
       "      <td>Mac</td>\n",
       "      <td>2020-12-07 04:38:54</td>\n",
       "      <td>login</td>\n",
       "      <td>NaN</td>\n",
       "    </tr>\n",
       "    <tr>\n",
       "      <th>4</th>\n",
       "      <td>0002CE61FF2C4011</td>\n",
       "      <td>B</td>\n",
       "      <td>interface_eu_test</td>\n",
       "      <td>Mac</td>\n",
       "      <td>2020-12-08 22:15:35</td>\n",
       "      <td>login</td>\n",
       "      <td>NaN</td>\n",
       "    </tr>\n",
       "  </tbody>\n",
       "</table>\n",
       "</div>"
      ],
      "text/plain": [
       "            user_id group            ab_test device            event_dt  \\\n",
       "0  0002CE61FF2C4011     B  interface_eu_test    Mac 2020-12-07 04:37:31   \n",
       "1  0002CE61FF2C4011     B  interface_eu_test    Mac 2020-12-07 04:37:49   \n",
       "2  0002CE61FF2C4011     B  interface_eu_test    Mac 2020-12-07 04:37:57   \n",
       "3  0002CE61FF2C4011     B  interface_eu_test    Mac 2020-12-07 04:38:54   \n",
       "4  0002CE61FF2C4011     B  interface_eu_test    Mac 2020-12-08 22:15:35   \n",
       "\n",
       "     event_name details  \n",
       "0  registration   -2.38  \n",
       "1         login     NaN  \n",
       "2         login     NaN  \n",
       "3         login     NaN  \n",
       "4         login     NaN  "
      ]
     },
     "execution_count": 30,
     "metadata": {},
     "output_type": "execute_result"
    }
   ],
   "source": [
    "new_df = participants.merge(events, on= 'user_id')\n",
    "new_df.head()"
   ]
  },
  {
   "cell_type": "code",
   "execution_count": 31,
   "id": "ea338bd2",
   "metadata": {},
   "outputs": [],
   "source": [
    "new_df['event_dt'] = pd.to_datetime(new_df['event_dt'])\n"
   ]
  },
  {
   "cell_type": "markdown",
   "id": "fBZ4DC2xswZJ",
   "metadata": {
    "id": "fBZ4DC2xswZJ"
   },
   "source": [
    "- определите горизонт анализа: рассчитайте время (лайфтайм) совершения события пользователем после регистрации и оставьте только те события, которые были выполнены в течение первых семи дней с момента регистрации;"
   ]
  },
  {
   "cell_type": "code",
   "execution_count": 32,
   "id": "8164bbcd",
   "metadata": {},
   "outputs": [],
   "source": [
    "registrations = new_df.groupby('user_id')['event_dt'].min().reset_index()\n",
    "registrations.rename(columns={'event_dt': 'registration'}, inplace=True)\n",
    "\n",
    "merged_df = new_df.merge(registrations, on='user_id')\n",
    "\n",
    "merged_df['lifetime'] = merged_df['event_dt'] - merged_df['registration']\n",
    "\n",
    "filtered_df = merged_df[(merged_df['lifetime'] <= pd.Timedelta(days=7))]"
   ]
  },
  {
   "cell_type": "code",
   "execution_count": 33,
   "id": "99be2759",
   "metadata": {},
   "outputs": [
    {
     "data": {
      "text/html": [
       "<div>\n",
       "<style scoped>\n",
       "    .dataframe tbody tr th:only-of-type {\n",
       "        vertical-align: middle;\n",
       "    }\n",
       "\n",
       "    .dataframe tbody tr th {\n",
       "        vertical-align: top;\n",
       "    }\n",
       "\n",
       "    .dataframe thead th {\n",
       "        text-align: right;\n",
       "    }\n",
       "</style>\n",
       "<table border=\"1\" class=\"dataframe\">\n",
       "  <thead>\n",
       "    <tr style=\"text-align: right;\">\n",
       "      <th></th>\n",
       "      <th>user_id</th>\n",
       "      <th>group</th>\n",
       "      <th>ab_test</th>\n",
       "      <th>device</th>\n",
       "      <th>event_dt</th>\n",
       "      <th>event_name</th>\n",
       "      <th>details</th>\n",
       "      <th>registration</th>\n",
       "      <th>lifetime</th>\n",
       "    </tr>\n",
       "  </thead>\n",
       "  <tbody>\n",
       "    <tr>\n",
       "      <th>0</th>\n",
       "      <td>0002CE61FF2C4011</td>\n",
       "      <td>B</td>\n",
       "      <td>interface_eu_test</td>\n",
       "      <td>Mac</td>\n",
       "      <td>2020-12-07 04:37:31</td>\n",
       "      <td>registration</td>\n",
       "      <td>-2.38</td>\n",
       "      <td>2020-12-07 04:37:31</td>\n",
       "      <td>0 days 00:00:00</td>\n",
       "    </tr>\n",
       "    <tr>\n",
       "      <th>1</th>\n",
       "      <td>0002CE61FF2C4011</td>\n",
       "      <td>B</td>\n",
       "      <td>interface_eu_test</td>\n",
       "      <td>Mac</td>\n",
       "      <td>2020-12-07 04:37:49</td>\n",
       "      <td>login</td>\n",
       "      <td>NaN</td>\n",
       "      <td>2020-12-07 04:37:31</td>\n",
       "      <td>0 days 00:00:18</td>\n",
       "    </tr>\n",
       "    <tr>\n",
       "      <th>2</th>\n",
       "      <td>0002CE61FF2C4011</td>\n",
       "      <td>B</td>\n",
       "      <td>interface_eu_test</td>\n",
       "      <td>Mac</td>\n",
       "      <td>2020-12-07 04:37:57</td>\n",
       "      <td>login</td>\n",
       "      <td>NaN</td>\n",
       "      <td>2020-12-07 04:37:31</td>\n",
       "      <td>0 days 00:00:26</td>\n",
       "    </tr>\n",
       "    <tr>\n",
       "      <th>3</th>\n",
       "      <td>0002CE61FF2C4011</td>\n",
       "      <td>B</td>\n",
       "      <td>interface_eu_test</td>\n",
       "      <td>Mac</td>\n",
       "      <td>2020-12-07 04:38:54</td>\n",
       "      <td>login</td>\n",
       "      <td>NaN</td>\n",
       "      <td>2020-12-07 04:37:31</td>\n",
       "      <td>0 days 00:01:23</td>\n",
       "    </tr>\n",
       "    <tr>\n",
       "      <th>4</th>\n",
       "      <td>0002CE61FF2C4011</td>\n",
       "      <td>B</td>\n",
       "      <td>interface_eu_test</td>\n",
       "      <td>Mac</td>\n",
       "      <td>2020-12-08 22:15:35</td>\n",
       "      <td>login</td>\n",
       "      <td>NaN</td>\n",
       "      <td>2020-12-07 04:37:31</td>\n",
       "      <td>1 days 17:38:04</td>\n",
       "    </tr>\n",
       "  </tbody>\n",
       "</table>\n",
       "</div>"
      ],
      "text/plain": [
       "            user_id group            ab_test device            event_dt  \\\n",
       "0  0002CE61FF2C4011     B  interface_eu_test    Mac 2020-12-07 04:37:31   \n",
       "1  0002CE61FF2C4011     B  interface_eu_test    Mac 2020-12-07 04:37:49   \n",
       "2  0002CE61FF2C4011     B  interface_eu_test    Mac 2020-12-07 04:37:57   \n",
       "3  0002CE61FF2C4011     B  interface_eu_test    Mac 2020-12-07 04:38:54   \n",
       "4  0002CE61FF2C4011     B  interface_eu_test    Mac 2020-12-08 22:15:35   \n",
       "\n",
       "     event_name details        registration        lifetime  \n",
       "0  registration   -2.38 2020-12-07 04:37:31 0 days 00:00:00  \n",
       "1         login     NaN 2020-12-07 04:37:31 0 days 00:00:18  \n",
       "2         login     NaN 2020-12-07 04:37:31 0 days 00:00:26  \n",
       "3         login     NaN 2020-12-07 04:37:31 0 days 00:01:23  \n",
       "4         login     NaN 2020-12-07 04:37:31 1 days 17:38:04  "
      ]
     },
     "execution_count": 33,
     "metadata": {},
     "output_type": "execute_result"
    }
   ],
   "source": [
    "filtered_df.head()"
   ]
  },
  {
   "cell_type": "markdown",
   "id": "7cf1df48",
   "metadata": {},
   "source": [
    "Оцените достаточность выборки для получения статистически значимых результатов A/B-теста. Заданные параметры:\n",
    "\n",
    "- базовый показатель конверсии — 30%,\n",
    "\n",
    "- мощность теста — 80%,\n",
    "\n",
    "- достоверность теста — 95%."
   ]
  },
  {
   "cell_type": "code",
   "execution_count": 34,
   "id": "7d97b466",
   "metadata": {},
   "outputs": [
    {
     "name": "stdout",
     "output_type": "stream",
     "text": [
      "Необходимый размер выборки для каждой группы: 174\n"
     ]
    }
   ],
   "source": [
    "from statsmodels.stats.power import NormalIndPower\n",
    "\n",
    "# Задаём параметры\n",
    "alpha = 0.05  # Уровень значимости\n",
    "beta = 0.2  # Ошибка второго рода, часто 1 - мощность\n",
    "power = 0.8  # Мощность теста\n",
    "mde = 0.3  # Минимальный детектируемый эффект\n",
    "\n",
    "# Инициализируем класс NormalIndPower\n",
    "power_analysis = NormalIndPower()\n",
    "\n",
    "# Рассчитываем размер выборки\n",
    "sample_size = power_analysis.solve_power(\n",
    "    effect_size = mde,\n",
    "    power = power,\n",
    "    alpha = alpha,\n",
    "    ratio = 1 # Равномерное распределение выборок\n",
    ")\n",
    "\n",
    "print(f\"Необходимый размер выборки для каждой группы: {int(sample_size)}\")"
   ]
  },
  {
   "cell_type": "code",
   "execution_count": null,
   "id": "da922875",
   "metadata": {},
   "outputs": [
    {
     "name": "stdout",
     "output_type": "stream",
     "text": [
      "Необходимый размер выборки для каждой группы: 3761\n"
     ]
    }
   ],
   "source": [
    "from statsmodels.stats.proportion import proportion_effectsize\n",
    "\n",
    "# Задаём параметры\n",
    "alpha = 0.05  # Уровень значимости\n",
    "power = 0.8  # Мощность теста\n",
    "conversion_rate = 0.30  # Исходный коэффициент конверсии\n",
    "expected_conversion = 0.33  # Ожидаемый коэффициент конверсии\n",
    "\n",
    "# Вычисляем размер эффекта\n",
    "effect_size = proportion_effectsize(conversion_rate, expected_conversion)\n",
    "\n",
    "# Переходим к рассчету выборки\n",
    "power_analysis = NormalIndPower()\n",
    "\n",
    "sample_size = power_analysis.solve_power(\n",
    "    effect_size=effect_size,\n",
    "    power=power,\n",
    "    alpha=alpha,\n",
    "    ratio=1  # Равномерное распределение \n",
    ")\n",
    "\n",
    "print(f\"Необходимый размер выборки для каждой группы: {int(sample_size)}\")\n"
   ]
  },
  {
   "cell_type": "markdown",
   "id": "SadyUDgZs0t3",
   "metadata": {
    "id": "SadyUDgZs0t3"
   },
   "source": [
    "- рассчитайте для каждой группы количество посетителей, сделавших покупку, и общее количество посетителей."
   ]
  },
  {
   "cell_type": "code",
   "execution_count": 36,
   "id": "7ph853Xks4sy",
   "metadata": {
    "id": "7ph853Xks4sy"
   },
   "outputs": [
    {
     "data": {
      "text/html": [
       "<div>\n",
       "<style scoped>\n",
       "    .dataframe tbody tr th:only-of-type {\n",
       "        vertical-align: middle;\n",
       "    }\n",
       "\n",
       "    .dataframe tbody tr th {\n",
       "        vertical-align: top;\n",
       "    }\n",
       "\n",
       "    .dataframe thead th {\n",
       "        text-align: right;\n",
       "    }\n",
       "</style>\n",
       "<table border=\"1\" class=\"dataframe\">\n",
       "  <thead>\n",
       "    <tr style=\"text-align: right;\">\n",
       "      <th></th>\n",
       "      <th>event_name</th>\n",
       "      <th>user_id</th>\n",
       "    </tr>\n",
       "  </thead>\n",
       "  <tbody>\n",
       "    <tr>\n",
       "      <th>0</th>\n",
       "      <td>purchase</td>\n",
       "      <td>2857</td>\n",
       "    </tr>\n",
       "  </tbody>\n",
       "</table>\n",
       "</div>"
      ],
      "text/plain": [
       "  event_name  user_id\n",
       "0   purchase     2857"
      ]
     },
     "execution_count": 36,
     "metadata": {},
     "output_type": "execute_result"
    }
   ],
   "source": [
    "purchase_df = filtered_df[filtered_df['event_name'] == 'purchase']\n",
    "\n",
    "purchase_df.groupby('event_name', as_index= False)['user_id'].nunique()"
   ]
  },
  {
   "cell_type": "code",
   "execution_count": 37,
   "id": "fac38c25",
   "metadata": {},
   "outputs": [
    {
     "data": {
      "text/html": [
       "<div>\n",
       "<style scoped>\n",
       "    .dataframe tbody tr th:only-of-type {\n",
       "        vertical-align: middle;\n",
       "    }\n",
       "\n",
       "    .dataframe tbody tr th {\n",
       "        vertical-align: top;\n",
       "    }\n",
       "\n",
       "    .dataframe thead th {\n",
       "        text-align: right;\n",
       "    }\n",
       "</style>\n",
       "<table border=\"1\" class=\"dataframe\">\n",
       "  <thead>\n",
       "    <tr style=\"text-align: right;\">\n",
       "      <th></th>\n",
       "      <th>event_name</th>\n",
       "      <th>user_id</th>\n",
       "    </tr>\n",
       "  </thead>\n",
       "  <tbody>\n",
       "    <tr>\n",
       "      <th>0</th>\n",
       "      <td>login</td>\n",
       "      <td>9962</td>\n",
       "    </tr>\n",
       "    <tr>\n",
       "      <th>1</th>\n",
       "      <td>product_cart</td>\n",
       "      <td>2722</td>\n",
       "    </tr>\n",
       "    <tr>\n",
       "      <th>2</th>\n",
       "      <td>product_page</td>\n",
       "      <td>6291</td>\n",
       "    </tr>\n",
       "    <tr>\n",
       "      <th>3</th>\n",
       "      <td>purchase</td>\n",
       "      <td>2857</td>\n",
       "    </tr>\n",
       "    <tr>\n",
       "      <th>4</th>\n",
       "      <td>registration</td>\n",
       "      <td>9963</td>\n",
       "    </tr>\n",
       "  </tbody>\n",
       "</table>\n",
       "</div>"
      ],
      "text/plain": [
       "     event_name  user_id\n",
       "0         login     9962\n",
       "1  product_cart     2722\n",
       "2  product_page     6291\n",
       "3      purchase     2857\n",
       "4  registration     9963"
      ]
     },
     "execution_count": 37,
     "metadata": {},
     "output_type": "execute_result"
    }
   ],
   "source": [
    "filtered_df.groupby('event_name', as_index= False)['user_id'].nunique()"
   ]
  },
  {
   "cell_type": "markdown",
   "id": "sh1JpGvAs5E3",
   "metadata": {
    "id": "sh1JpGvAs5E3"
   },
   "source": [
    "- сделайте предварительный общий вывод об изменении пользовательской активности в тестовой группе по сравнению с контрольной."
   ]
  },
  {
   "cell_type": "markdown",
   "id": "63864074",
   "metadata": {},
   "source": [
    "Группа A: Количество пользователей — 4952 человек.\n",
    "Из них совершили покупку — 1377 человек.\n",
    "Конверсия: Примерно 10.78%.\n",
    "\n",
    "Группа B:Количество пользователей — 5011 человека.\n",
    "Из них совершили покупку — 1480 человека.\n",
    "Конверсия: Примерно 14.74%.\n",
    "\n",
    "Таким образом, группа B демонстрирует значительно большую конверсию по сравнению с группой A (14.74% против 10.78%). Это свидетельствует о положительном влиянии изменений, применённых в группе B."
   ]
  },
  {
   "cell_type": "markdown",
   "id": "IKZ1Oo3Ws919",
   "metadata": {
    "id": "IKZ1Oo3Ws919"
   },
   "source": [
    "## 4. Проведите оценку результатов A/B-тестирования:"
   ]
  },
  {
   "cell_type": "markdown",
   "id": "dcUdBSmvtC-E",
   "metadata": {
    "id": "dcUdBSmvtC-E"
   },
   "source": [
    "- Проверьте изменение конверсии подходящим статистическим тестом, учитывая все этапы проверки гипотез."
   ]
  },
  {
   "cell_type": "markdown",
   "id": "3f31265b",
   "metadata": {},
   "source": [
    " Гипотеза заключается в следующем: упрощение интерфейса приведёт к тому, что в течение семи дней после регистрации в системе конверсия зарегистрированных пользователей в покупателей увеличится как минимум на три процентных пункта.\n",
    "\n",
    " - Нулевая гипотеза H₀: Упрощение интерфейса не приведет к увеличению конверсии зарегистрированных пользователей в покупателей на 3% в течение первых семи дней после регистрации.\n",
    "\n",
    "- Альтернативная гипотеза H₁: Упрощение интерфейса приведет к увеличению конверсии зарегистрированных пользователей в покупателей хотя бы на 3% в течение первых семи дней после регистрации."
   ]
  },
  {
   "cell_type": "code",
   "execution_count": 38,
   "id": "a4954b94",
   "metadata": {},
   "outputs": [],
   "source": [
    "new_a = filtered_df[filtered_df['group'] == 'A']\n",
    "new_b = filtered_df[filtered_df['group'] == 'B']"
   ]
  },
  {
   "cell_type": "code",
   "execution_count": 39,
   "id": "f5cc1d2d",
   "metadata": {},
   "outputs": [],
   "source": [
    "m_A = new_a[new_a['event_name'] == 'purchase']['event_name'].count()\n",
    "m_B = new_b[new_b['event_name'] == 'purchase']['event_name'].count()\n",
    "\n",
    "n_A = new_a['event_name'].shape[0]\n",
    "n_B = new_b['event_name'].shape[0]\n",
    "\n",
    "p_A, p_B = m_A / n_A, m_B / n_B"
   ]
  },
  {
   "cell_type": "code",
   "execution_count": 40,
   "id": "3abf4504",
   "metadata": {},
   "outputs": [
    {
     "name": "stdout",
     "output_type": "stream",
     "text": [
      "Kоличество успехов для группы A: 2700, Kоличество успехов для группы B: 3462\n",
      "Pазмер группы A: 31264, Pазмер группы B: 32541\n"
     ]
    }
   ],
   "source": [
    "print(f'Kоличество успехов для группы A: {m_A}, Kоличество успехов для группы B: {m_B}')\n",
    "\n",
    "print(f'Pазмер группы A: {n_A}, Pазмер группы B: {n_B}')"
   ]
  },
  {
   "cell_type": "code",
   "execution_count": 41,
   "id": "8e4ff703",
   "metadata": {
    "scrolled": true
   },
   "outputs": [
    {
     "name": "stdout",
     "output_type": "stream",
     "text": [
      "Предпосылка о достаточном количестве данных выполняется!\n"
     ]
    }
   ],
   "source": [
    "if (p_A * n_A > 10) and ((1 - p_A) * n_A > 10) and (p_B * n_B > 10) and ((1 - p_B) * n_B > 10):\n",
    "    print('Предпосылка о достаточном количестве данных выполняется!')\n",
    "else:\n",
    "    print('Предпосылка о достаточном количестве данных НЕ выполняется!')"
   ]
  },
  {
   "cell_type": "code",
   "execution_count": 42,
   "id": "631dfa5a",
   "metadata": {},
   "outputs": [
    {
     "name": "stdout",
     "output_type": "stream",
     "text": [
      "pvalue=1.11237597281198e-17\n",
      "Нулевая гипотеза не находит подтверждения!\n"
     ]
    }
   ],
   "source": [
    "stat_ztest, p_value_ztest = proportions_ztest( # проведите Z-тест пропорций\n",
    "\t[m_A, m_B],\n",
    "\t[n_A, n_B]\n",
    ")\n",
    "\n",
    "print(f'pvalue={p_value_ztest}') # выведите полученное p-value \n",
    "\n",
    "if p_value_ztest > alpha:\n",
    "    print('Нулевая гипотеза находит подтверждение!')\n",
    "else:\n",
    "    print('Нулевая гипотеза не находит подтверждения!')"
   ]
  },
  {
   "cell_type": "markdown",
   "id": "9jkyKOjgtGoc",
   "metadata": {
    "id": "9jkyKOjgtGoc"
   },
   "source": [
    "- Опишите выводы по проведённой оценке результатов A/B-тестирования. Что можно сказать про результаты A/B-тестирования? Был ли достигнут ожидаемый эффект в изменении конверсии?"
   ]
  },
  {
   "cell_type": "markdown",
   "id": "npoPPSKytKvR",
   "metadata": {
    "id": "npoPPSKytKvR"
   },
   "source": [
    "Группа A: Количество пользователей — 31264 человек.\n",
    "Из них совершили покупку — 2700 человек.\n",
    "Конверсия: Примерно 10.78%.\n",
    "\n",
    "Группа B:Количество пользователей — 32541 человека.\n",
    "Из них совершили покупку — 3462 человека.\n",
    "Конверсия: Примерно 14.74%.\n",
    "\n",
    "Таким образом, группа B демонстрирует значительно большую конверсию по сравнению с группой A (14.74% против 10.78%). Это свидетельствует о положительном влиянии изменений, применённых в группе B.\n",
    "\n",
    "Полученное значение p-value составляет примерно 1.11, что чрезвычайно малое число. Обычно критическое значение уровня значимости принимается равным 0.05. Полученный p-value гораздо меньше даже самого строгого порога, что подтверждает статистически значимое различие между группами.\n",
    "\n",
    "Поскольку нулевая гипотеза отвергается, можно утверждать, что разница в результатах двух групп не случайна и является результатом именно внесенных изменений.\n",
    "\n",
    "Изменение, которое было внедрено в группу B, оказало положительное влияние на показатель конверсии покупателей. Ожидаемый эффект от изменения достигнут и превышает первоначальные ожидания. Вероятность того, что наблюдаемый рост конверсии случаен, крайне мала.\n",
    "\n",
    "Это означает, что улучшение, использованное в тестировании группы B, действительно работает лучше варианта А."
   ]
  },
  {
   "cell_type": "code",
   "execution_count": null,
   "id": "671bd0fb",
   "metadata": {},
   "outputs": [],
   "source": []
  }
 ],
 "metadata": {
  "ExecuteTimeLog": [
   {
    "duration": 1345,
    "start_time": "2025-05-29T15:42:43.924Z"
   },
   {
    "duration": 213,
    "start_time": "2025-05-29T15:42:45.271Z"
   },
   {
    "duration": 11,
    "start_time": "2025-05-29T15:42:45.485Z"
   },
   {
    "duration": 32,
    "start_time": "2025-05-29T15:42:45.498Z"
   },
   {
    "duration": 25,
    "start_time": "2025-05-29T15:42:45.532Z"
   },
   {
    "duration": 64,
    "start_time": "2025-05-29T15:42:45.558Z"
   },
   {
    "duration": 10,
    "start_time": "2025-05-29T15:42:45.624Z"
   },
   {
    "duration": 10,
    "start_time": "2025-05-29T15:42:45.635Z"
   },
   {
    "duration": 23,
    "start_time": "2025-05-29T15:42:45.646Z"
   },
   {
    "duration": 40,
    "start_time": "2025-05-29T15:42:45.672Z"
   },
   {
    "duration": 26,
    "start_time": "2025-05-29T15:42:45.714Z"
   },
   {
    "duration": 20,
    "start_time": "2025-05-29T15:42:45.741Z"
   },
   {
    "duration": 8,
    "start_time": "2025-05-29T15:42:45.763Z"
   },
   {
    "duration": 29,
    "start_time": "2025-05-29T15:42:45.772Z"
   },
   {
    "duration": 211,
    "start_time": "2025-05-29T15:42:45.803Z"
   },
   {
    "duration": 6,
    "start_time": "2025-05-29T15:42:46.015Z"
   },
   {
    "duration": 30,
    "start_time": "2025-05-29T15:42:46.022Z"
   },
   {
    "duration": 5837,
    "start_time": "2025-05-29T15:42:46.053Z"
   },
   {
    "duration": 9,
    "start_time": "2025-05-29T15:42:51.891Z"
   },
   {
    "duration": 27,
    "start_time": "2025-05-29T15:42:51.901Z"
   },
   {
    "duration": 52,
    "start_time": "2025-05-29T15:42:51.930Z"
   },
   {
    "duration": 30,
    "start_time": "2025-05-29T15:42:51.984Z"
   },
   {
    "duration": 8,
    "start_time": "2025-05-29T15:42:52.016Z"
   },
   {
    "duration": 30,
    "start_time": "2025-05-29T15:42:52.026Z"
   },
   {
    "duration": 90,
    "start_time": "2025-05-29T15:42:52.058Z"
   },
   {
    "duration": 11,
    "start_time": "2025-05-29T15:42:52.150Z"
   },
   {
    "duration": 69,
    "start_time": "2025-05-29T15:42:52.163Z"
   },
   {
    "duration": 241,
    "start_time": "2025-05-29T15:42:52.236Z"
   },
   {
    "duration": 12,
    "start_time": "2025-05-29T15:42:52.479Z"
   },
   {
    "duration": 55,
    "start_time": "2025-05-29T15:42:52.493Z"
   },
   {
    "duration": 29,
    "start_time": "2025-05-29T15:42:52.550Z"
   },
   {
    "duration": 14,
    "start_time": "2025-05-29T15:42:52.581Z"
   },
   {
    "duration": 13,
    "start_time": "2025-05-29T15:42:52.597Z"
   },
   {
    "duration": 28,
    "start_time": "2025-05-29T15:42:52.612Z"
   },
   {
    "duration": 50,
    "start_time": "2025-05-29T15:42:52.642Z"
   },
   {
    "duration": 17,
    "start_time": "2025-05-29T15:42:52.694Z"
   },
   {
    "duration": 115,
    "start_time": "2025-05-29T15:42:52.713Z"
   },
   {
    "duration": 4,
    "start_time": "2025-05-29T15:42:52.829Z"
   },
   {
    "duration": 14,
    "start_time": "2025-05-29T15:42:52.835Z"
   },
   {
    "duration": 7,
    "start_time": "2025-05-29T15:42:52.851Z"
   },
   {
    "duration": 15,
    "start_time": "2025-05-29T15:44:43.860Z"
   },
   {
    "duration": 16,
    "start_time": "2025-05-29T15:44:53.455Z"
   },
   {
    "duration": 16,
    "start_time": "2025-05-29T15:55:17.090Z"
   },
   {
    "duration": 17,
    "start_time": "2025-05-29T15:56:29.362Z"
   },
   {
    "duration": 15,
    "start_time": "2025-05-29T15:59:11.102Z"
   },
   {
    "duration": 105,
    "start_time": "2025-05-29T16:08:32.916Z"
   },
   {
    "duration": 16,
    "start_time": "2025-05-29T16:08:54.939Z"
   }
  ],
  "colab": {
   "provenance": [],
   "toc_visible": true
  },
  "kernelspec": {
   "display_name": "Python 3",
   "language": "python",
   "name": "python3"
  },
  "language_info": {
   "codemirror_mode": {
    "name": "ipython",
    "version": 3
   },
   "file_extension": ".py",
   "mimetype": "text/x-python",
   "name": "python",
   "nbconvert_exporter": "python",
   "pygments_lexer": "ipython3",
   "version": "3.13.1"
  },
  "toc": {
   "base_numbering": 1,
   "nav_menu": {},
   "number_sections": true,
   "sideBar": true,
   "skip_h1_title": true,
   "title_cell": "Table of Contents",
   "title_sidebar": "Contents",
   "toc_cell": false,
   "toc_position": {},
   "toc_section_display": true,
   "toc_window_display": false
  }
 },
 "nbformat": 4,
 "nbformat_minor": 5
}
